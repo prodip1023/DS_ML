{
  "nbformat": 4,
  "nbformat_minor": 0,
  "metadata": {
    "colab": {
      "provenance": []
    },
    "kernelspec": {
      "name": "python3",
      "display_name": "Python 3"
    },
    "language_info": {
      "name": "python"
    }
  },
  "cells": [
    {
      "cell_type": "markdown",
      "source": [
        "# 1. What is the primary goal of Object-Oriented Programming (OOP)?"
      ],
      "metadata": {
        "id": "Q3lBG292JMCE"
      }
    },
    {
      "cell_type": "markdown",
      "source": [
        "The primary goal of Object-Oriented Programming (OOP) is to provide a programming paradigm that allows for the organization, abstraction, and modularization of code by representing real-world entities as objects. OOP emphasizes the concept of objects, which are instances of classes, and the interactions between these objects.\n",
        "\n",
        "The main objectives of OOP include:\n",
        "1. Modularity: OOP promotes the decomposition of complex systems into smaller, self-contained modules called objects. Each object encapsulates its own data and behavior, making it easier to understand, maintain, and modify.\n",
        "2. Reusability: OOP facilitates code reuse through the concept of inheritance. Classes can inherit properties and methods from other classes, allowing developers to build upon existing code and extend functionality without rewriting it from scratch.\n",
        "3. Encapsulation: OOP promotes encapsulation by hiding the internal details and implementation of an object behind a well-defined interface. Encapsulation improves code maintainability and allows for better control over data access and manipulation.\n",
        "4. Abstraction: OOP encourages the creation of abstract data types, which focus on essential characteristics and behaviors while hiding unnecessary implementation details. Abstraction simplifies complex systems by providing a high-level view and reducing complexity for the developer.\n",
        "5. Polymorphism: OOP enables polymorphism, which allows objects of different classes to be treated as instances of a common superclass. Polymorphism promotes code flexibility and extensibility by allowing the same code to be used with different types of objects, enhancing code modularity.\n"
      ],
      "metadata": {
        "id": "NGNG6xI_JZDG"
      }
    },
    {
      "cell_type": "markdown",
      "source": [
        "# 2. What is an object in Python?\n"
      ],
      "metadata": {
        "id": "GR7j1z2lJemc"
      }
    },
    {
      "cell_type": "markdown",
      "source": [
        "In Python, an object is a fundamental concept of Object-Oriented Programming (OOP). An object is an instance of a class, which is a blueprint or template that defines the properties (attributes) and behaviors (methods) that the object will possess.\n",
        "In Python, almost everything is an object, including built-in data types (such as integers, strings, lists) as well as user-defined classes. When you create an object, you are creating a unique instance of a specific class, with its own set of attributes and behaviors.\n"
      ],
      "metadata": {
        "id": "qxy1dgFVJiV0"
      }
    },
    {
      "cell_type": "code",
      "source": [
        " # Define a class\n",
        "class Person:\n",
        "    def __init__(self,name,age):\n",
        "        self.name=name\n",
        "        self.age=age\n",
        "  # Create method\n",
        "    def display(self):\n",
        "        print(f\" My name is : {self.name} and age is {self.age}\")"
      ],
      "metadata": {
        "id": "ayuJdFBfJne0"
      },
      "execution_count": null,
      "outputs": []
    },
    {
      "cell_type": "code",
      "source": [
        "# Create an object (instance) of the Person class\n",
        "person=Person(\"Prodip\",34)\n",
        "\n",
        "# # Invoking methods\n",
        "person.display()"
      ],
      "metadata": {
        "colab": {
          "base_uri": "https://localhost:8080/"
        },
        "id": "uez3uYS6Jsgs",
        "outputId": "2173c3ed-9794-4a47-cacd-505def9c7e59"
      },
      "execution_count": null,
      "outputs": [
        {
          "output_type": "stream",
          "name": "stdout",
          "text": [
            " My name is : Prodip and age is 34\n"
          ]
        }
      ]
    },
    {
      "cell_type": "markdown",
      "source": [
        "# 3. What is a class in Python?"
      ],
      "metadata": {
        "id": "wdD896kgMFic"
      }
    },
    {
      "cell_type": "markdown",
      "source": [
        "In Python, a class is a blueprint or template that defines the properties (attributes) and behaviors (methods) that objects of that class will possess. It provides a way to create objects with a specific set of attributes and behaviors, encapsulating related data and functions into a single entity.\n",
        "\n",
        "A class serves as a blueprint for creating multiple objects, each with its own unique state and behavior. It defines the structure and behavior that objects of that class should adhere to. You can think of a class as a user-defined data type.\n"
      ],
      "metadata": {
        "id": "rKbZrY4vMJYM"
      }
    },
    {
      "cell_type": "code",
      "source": [
        "# Define a class\n",
        "class Person:\n",
        "    def __init__(self,name,age):\n",
        "        self.name=name\n",
        "        self.age=age\n",
        "  # Create method\n",
        "    def display(self):\n",
        "        print(f\" My name is : {self.name} and age is {self.age}\")"
      ],
      "metadata": {
        "id": "PkxHy5FwNev2"
      },
      "execution_count": null,
      "outputs": []
    },
    {
      "cell_type": "code",
      "source": [
        "# Create an object (instance) of the Person class\n",
        "person=Person(\"Prodip\",34)\n",
        "person1=Person(\"Mou\",24)\n",
        "person2=Person(\"Ravi\",45)\n",
        "print(person2.age)\n",
        "print(person1.name)\n",
        "print(person.name,person.age)"
      ],
      "metadata": {
        "colab": {
          "base_uri": "https://localhost:8080/"
        },
        "id": "DqGsC6I5Ocm9",
        "outputId": "f34bbb15-1ab6-4033-8ae5-1018c5eb4f0d"
      },
      "execution_count": null,
      "outputs": [
        {
          "output_type": "stream",
          "name": "stdout",
          "text": [
            "45\n",
            "Mou\n",
            "Prodip 34\n"
          ]
        }
      ]
    },
    {
      "cell_type": "markdown",
      "source": [
        "# 4. What are attributes and methods in a class?"
      ],
      "metadata": {
        "id": "RiZlG6FAPKQu"
      }
    },
    {
      "cell_type": "markdown",
      "source": [
        "**Attributes**, also known as instance variables or member variables, represent the data or state associated with an object. They define the characteristics or qualities that an object possesses.\n",
        "\n",
        "For example, if we have a class called \"Car,\" attributes could include properties such as \"color,\" \"model,\" \"year,\" and \"mileage.\" Each instance of the Car class can have different values for these attributes.\n",
        "\n",
        "**Methods**, on the other hand, are functions that are defined within a class and operate on the class's objects. They define the actions or operations that an object can perform. Methods can access and modify the attributes of an object and can also interact with other objects or the outside world. In the Car class example, methods could include \"start_engine,\" \"accelerate,\" \"brake,\" and \"change_color.\" These methods define the behaviors that a car object can exhibit."
      ],
      "metadata": {
        "id": "pShYpy62POYO"
      }
    },
    {
      "cell_type": "code",
      "source": [
        "class Car:\n",
        "  def __init__(self,color,model,year,mileage):\n",
        "    self.color=color\n",
        "    self.model=model\n",
        "    self.year=year\n",
        "    self.mileage=mileage\n",
        "\n",
        "  def start_engine(self):\n",
        "    print(\"Engine started.\")\n",
        "  def accelerate(self):\n",
        "    print(\"Car is accelerating.\")\n",
        "  def brake(self):\n",
        "    print(\"Car is braking.\")\n",
        "  def change_color(self,new_color):\n",
        "    self.color=new_color\n",
        "\n"
      ],
      "metadata": {
        "id": "FQxjoSbw_5mB"
      },
      "execution_count": null,
      "outputs": []
    },
    {
      "cell_type": "code",
      "source": [
        "# Creating an instance of the Car class\n",
        "my_car = Car(\"Red\", \"Sedan\", 2022, 10000)\n",
        "my_car2 = Car(\"White\", \"xyz\", 2012, 10300)"
      ],
      "metadata": {
        "id": "yeeCt_Y9BJIw"
      },
      "execution_count": null,
      "outputs": []
    },
    {
      "cell_type": "code",
      "source": [
        "# Accessing attributes\n",
        "print(my_car.color)\n",
        "print(my_car.model)"
      ],
      "metadata": {
        "colab": {
          "base_uri": "https://localhost:8080/"
        },
        "id": "JJUEu-qwEkpA",
        "outputId": "de6a44e2-aa1d-4b35-c13b-2836d69ad36e"
      },
      "execution_count": null,
      "outputs": [
        {
          "output_type": "stream",
          "name": "stdout",
          "text": [
            "Red\n",
            "Sedan\n"
          ]
        }
      ]
    },
    {
      "cell_type": "code",
      "source": [
        "# Calling methods\n",
        "my_car.start_engine()\n",
        "my_car.accelerate()\n",
        "my_car.brake()"
      ],
      "metadata": {
        "colab": {
          "base_uri": "https://localhost:8080/"
        },
        "id": "DupwgHV5EuRo",
        "outputId": "f441251e-c2e5-41d6-a6ef-06a78c7a399f"
      },
      "execution_count": null,
      "outputs": [
        {
          "output_type": "stream",
          "name": "stdout",
          "text": [
            "Engine started.\n",
            "Car is accelerating.\n",
            "Car is braking.\n"
          ]
        }
      ]
    },
    {
      "cell_type": "code",
      "source": [
        "# Modifying an attribute through a method\n",
        "my_car.change_color(\"Blue\")\n",
        "print(my_car.color)"
      ],
      "metadata": {
        "colab": {
          "base_uri": "https://localhost:8080/"
        },
        "id": "F_fn2snKE7Mo",
        "outputId": "983209c4-54cb-4f69-8f7a-4ae94070c810"
      },
      "execution_count": null,
      "outputs": [
        {
          "output_type": "stream",
          "name": "stdout",
          "text": [
            "Blue\n"
          ]
        }
      ]
    },
    {
      "cell_type": "code",
      "source": [
        "my_car2.change_color(\"Red\")\n",
        "print(my_car2.color)"
      ],
      "metadata": {
        "colab": {
          "base_uri": "https://localhost:8080/"
        },
        "id": "xYnGr_xeFUUa",
        "outputId": "7fadea1e-4634-4169-e608-1cde54a21d9d"
      },
      "execution_count": null,
      "outputs": [
        {
          "output_type": "stream",
          "name": "stdout",
          "text": [
            "Red\n"
          ]
        }
      ]
    },
    {
      "cell_type": "markdown",
      "source": [
        "# 5. What is the difference between class variables and instance variables in Python?"
      ],
      "metadata": {
        "id": "hw7SPdnJFo0P"
      }
    },
    {
      "cell_type": "markdown",
      "source": [
        "In Python, class variables and instance variables are two types of variables used in object-oriented programming. They differ in their scope, accessibility, and how they are shared among class instances.\n",
        "\n",
        "**Class Variables:**\n",
        "  * Class variables are variables that are shared among all instances of a class.\n",
        "  * They are defined within the class but outside any method.\n",
        "  * Class variables are associated with the class itself rather than with individual instances.\n",
        "  * Any modification made to a class variable affects all instances of the class.\n",
        "  * Class variables are typically used to define attributes that are common to all instances.\n",
        "  * They can be accessed using the class name or any instance of the class.\n",
        "  * Class variables are declared outside the constructor or any instance method.\n",
        "\n",
        "**Instance Variables:**\n",
        " * Instance variables are unique to each instance of a class.\n",
        " * They are defined within the constructor or any instance method of the class.\n",
        " * Instance variables are associated with a specific instance of a class.\n",
        " * Each instance of the class has its own copy of instance variables, and modifications to these variables are independent of other instances.\n",
        " * Instance variables represent the specific state or data of an object.\n",
        " * They can be accessed and modified using the instance name.\n",
        " * Each instance of a class can have different values for instance variables."
      ],
      "metadata": {
        "id": "1IoNApDmFwQo"
      }
    },
    {
      "cell_type": "code",
      "source": [
        "class Car:\n",
        "  # class variable\n",
        "  wheel = 4\n",
        "  def __init__(self, color, model):\n",
        "    # Instance variables\n",
        "    self.color=color\n",
        "    self.model=model\n",
        "\n"
      ],
      "metadata": {
        "id": "zKtI-BsVIefQ"
      },
      "execution_count": null,
      "outputs": []
    },
    {
      "cell_type": "code",
      "source": [
        "# Accessing class variable\n",
        "print(Car.wheel)"
      ],
      "metadata": {
        "colab": {
          "base_uri": "https://localhost:8080/"
        },
        "id": "CfbjmEdpJ15J",
        "outputId": "1475e8aa-edab-4254-8bfe-3af9089a861f"
      },
      "execution_count": null,
      "outputs": [
        {
          "output_type": "stream",
          "name": "stdout",
          "text": [
            "4\n"
          ]
        }
      ]
    },
    {
      "cell_type": "code",
      "source": [
        "# Creating instances of the Car class\n",
        "car1 = Car(\"Red\", \"Sedan\")\n",
        "car2 = Car(\"Blue\", \"SUV\")"
      ],
      "metadata": {
        "id": "A51gdJn1J9aY"
      },
      "execution_count": null,
      "outputs": []
    },
    {
      "cell_type": "code",
      "source": [
        "# Accessing instance variables\n",
        "print(car1.model)\n",
        "print(car2.color)"
      ],
      "metadata": {
        "colab": {
          "base_uri": "https://localhost:8080/"
        },
        "id": "7RU_ICmLLTKy",
        "outputId": "0556527b-8326-47d8-d49b-9bc0c253e135"
      },
      "execution_count": null,
      "outputs": [
        {
          "output_type": "stream",
          "name": "stdout",
          "text": [
            "Sedan\n",
            "Blue\n"
          ]
        }
      ]
    },
    {
      "cell_type": "code",
      "source": [
        "# Modifying class variable\n",
        "Car.wheels = 6\n",
        "print(car1.wheels)\n",
        "print(car2.wheels)"
      ],
      "metadata": {
        "colab": {
          "base_uri": "https://localhost:8080/"
        },
        "id": "5j99LN-PRVYz",
        "outputId": "07e2d0fb-6e91-486f-ec04-b162814b0665"
      },
      "execution_count": null,
      "outputs": [
        {
          "output_type": "stream",
          "name": "stdout",
          "text": [
            "6\n",
            "6\n"
          ]
        }
      ]
    },
    {
      "cell_type": "code",
      "source": [
        "# Modifying instance variable\n",
        "car1.color = \"Yellow\"\n",
        "print(car1.color)\n",
        "print(car2.color)"
      ],
      "metadata": {
        "colab": {
          "base_uri": "https://localhost:8080/"
        },
        "id": "9rsQZdTVSdHL",
        "outputId": "3a97a222-9ded-419e-c0c0-f50424c3e95b"
      },
      "execution_count": null,
      "outputs": [
        {
          "output_type": "stream",
          "name": "stdout",
          "text": [
            "Yellow\n",
            "Blue\n"
          ]
        }
      ]
    },
    {
      "cell_type": "markdown",
      "source": [
        "# 6. What is the purpose of the self parameter in Python class methods?"
      ],
      "metadata": {
        "id": "yfdVSNKcUHzL"
      }
    },
    {
      "cell_type": "markdown",
      "source": [
        "In Python, the self parameter is a convention used in class methods to refer to the instance of the class itself. It is the first parameter declared in a method's definition within a class. The purpose of the self parameter is to allow methods to access and modify the attributes and other methods of the class instance.\n",
        "\n",
        "When you call a method on an instance of a class, such as my_instance.my_method(), the instance itself is automatically passed as the first argument to the method. By convention, this first parameter is named self, although you can technically choose any valid variable name.\n",
        "\n",
        "**Accessing instance variables:**\n",
        "      Within a method, you can use self to access instance variables (attributes) of the class. For example, self.color would access the color attribute of the class instance.\n",
        "\n",
        "**Modifying instance variables:**\n",
        "     You can also modify the values of instance variables using self. For example, self.color = \"Blue\" would change the value of the color attribute.\n",
        "\n",
        "**Calling other methods:**\n",
        "     The self parameter allows methods to call other methods within the same class. By using self.method_name(), you can invoke other methods of the class using the instance.\n",
        "\n",
        "**Creating new instance variables:**\n",
        "     You can create new instance variables within a method by assigning values to self. These variables will be specific to the instance on which the method is called."
      ],
      "metadata": {
        "id": "IXfw2MryUNL6"
      }
    },
    {
      "cell_type": "code",
      "source": [
        "class Car:\n",
        "    def __init__(self, color, model):\n",
        "        self.color = color\n",
        "        self.model = model\n",
        "\n",
        "    def start_engine(self):\n",
        "        print(f\"The {self.color} {self.model} car's engine is started.\")\n",
        "\n",
        "    def change_color(self, new_color):\n",
        "        self.color = new_color\n",
        "        print(f\"The car's color is changed to {self.color}.\")\n",
        "\n"
      ],
      "metadata": {
        "id": "_KiRpF6MkapP"
      },
      "execution_count": null,
      "outputs": []
    },
    {
      "cell_type": "code",
      "source": [
        "# Creating an instance of the Car class\n",
        "my_car = Car(\"Red\", \"Sedan\")"
      ],
      "metadata": {
        "id": "z2pdG5Igkyc1"
      },
      "execution_count": null,
      "outputs": []
    },
    {
      "cell_type": "code",
      "source": [
        "# Accessing instance variables\n",
        "print(my_car.color)\n",
        "print(my_car.model)"
      ],
      "metadata": {
        "colab": {
          "base_uri": "https://localhost:8080/"
        },
        "id": "o-qmiiOrk4g2",
        "outputId": "6bf1d886-7537-4606-ba2a-30aa0f1fef91"
      },
      "execution_count": null,
      "outputs": [
        {
          "output_type": "stream",
          "name": "stdout",
          "text": [
            "Red\n",
            "Sedan\n"
          ]
        }
      ]
    },
    {
      "cell_type": "code",
      "source": [
        "# Calling methods that use self\n",
        "my_car.start_engine()\n",
        "my_car.change_color(\"Blue\")"
      ],
      "metadata": {
        "colab": {
          "base_uri": "https://localhost:8080/"
        },
        "id": "c3NDMljzlAHO",
        "outputId": "d64c2e0b-c8b9-471e-e083-a44ce4c2b084"
      },
      "execution_count": null,
      "outputs": [
        {
          "output_type": "stream",
          "name": "stdout",
          "text": [
            "The Red Sedan car's engine is started.\n",
            "The car's color is changed to Blue.\n"
          ]
        }
      ]
    },
    {
      "cell_type": "markdown",
      "source": [
        "### 7. For a library management system, you have to design the \"Book\" class with OOP principles in mind. The “Book” class will have following attributes:\n",
        "* a. title: Represents the title of the book.\n",
        "* b. author: Represents the author(s) of the book.\n",
        "* c. isbn: Represents the ISBN (International Standard Book Number) of the book.\n",
        "* d. publication_year: Represents the year of publication of the book.\n",
        "* e. available_copies: Represents the number of copies available for checkout.\n",
        "\n",
        "The class will also include the following methods:\n",
        " * a. check_out(self): Decrements the available copies by one if there are copies\n",
        "available for checkout.\n",
        " *  b. return_book(self): Increments the available copies by one when a book is\n",
        "returned.\n",
        " *   c. display_book_info(self): Displays the information about the book, including its\n",
        "attributes and the number of available copies."
      ],
      "metadata": {
        "id": "ZOt2LAcYlz5-"
      }
    },
    {
      "cell_type": "code",
      "source": [
        "print(25 * '*'  )\n",
        "print(\"library management system\")\n",
        "print(25 * '*'  )\n",
        "\n",
        "\n",
        "class Book:\n",
        "  def __init__(self,title,author,isbn,publication,available_copies):\n",
        "    self.title=title\n",
        "    self.author=author\n",
        "    self.isbn=isbn\n",
        "    self.publication=publication\n",
        "    self.available_copies=available_copies\n",
        "\n",
        "  def check_out(self):\n",
        "      if self.available_copies >0:\n",
        "        self.available_copies -=1\n",
        "        print(\"Book checked out successfully.\")\n",
        "      else:\n",
        "        print(\"Sorry, no copies available for checkout.\")\n",
        "\n",
        "  def return_book(self):\n",
        "        self.available_copies +=1\n",
        "        print(\"Book returned successfully.\")\n",
        "\n",
        "  def display_book_info(self):\n",
        "      #print(f\"The book information is :Title {self.title},Author {self.author},ISBN {self.isbn},Publication {self.publication} and available copies {self.available_copies} \")\n",
        "      print(\"Title :\",self.title)\n",
        "      print(\"Author :\",self.author)\n",
        "      print(\"ISBN :\",self.isbn)\n",
        "      print(\"Publication :\",self.publication)\n",
        "      print(\"available copies: \",self.available_copies)\n"
      ],
      "metadata": {
        "colab": {
          "base_uri": "https://localhost:8080/"
        },
        "id": "fsqPTL3SmbYH",
        "outputId": "7f0463e8-53ae-4497-c2fc-c9ae430efa8a"
      },
      "execution_count": null,
      "outputs": [
        {
          "output_type": "stream",
          "name": "stdout",
          "text": [
            "*************************\n",
            "library management system\n",
            "*************************\n"
          ]
        }
      ]
    },
    {
      "cell_type": "code",
      "source": [
        "book1=Book(\"Mahabharata\",\" C.Rajagopalachari\",8172764766,\"Bharatiya Vidya Bhavan\",10)\n",
        "#book2=Book(\"Python Crash Course\",\" Eric Matthes\",1718502702,\"No Starch Press\",10)"
      ],
      "metadata": {
        "id": "NG9efrIqvQ-_"
      },
      "execution_count": null,
      "outputs": []
    },
    {
      "cell_type": "code",
      "source": [
        "book1.check_out()\n",
        "book1.return_book()\n",
        "book1.check_out()\n"
      ],
      "metadata": {
        "colab": {
          "base_uri": "https://localhost:8080/"
        },
        "id": "v_iBdW7pwf2I",
        "outputId": "9f4f95e0-3253-4078-90f1-4697ec7b03dc"
      },
      "execution_count": null,
      "outputs": [
        {
          "output_type": "stream",
          "name": "stdout",
          "text": [
            "Book checked out successfully.\n",
            "Book returned successfully.\n",
            "Book checked out successfully.\n"
          ]
        }
      ]
    },
    {
      "cell_type": "code",
      "source": [
        "book1.display_book_info()"
      ],
      "metadata": {
        "colab": {
          "base_uri": "https://localhost:8080/"
        },
        "id": "JEy70O48yhoY",
        "outputId": "bbf1a019-f730-4252-a236-2bcfb27a9338"
      },
      "execution_count": null,
      "outputs": [
        {
          "output_type": "stream",
          "name": "stdout",
          "text": [
            "Title : Mahabharata\n",
            "Author :  C.Rajagopalachari\n",
            "ISBN : 8172764766\n",
            "Publication : Bharatiya Vidya Bhavan\n",
            "available copies:  8\n"
          ]
        }
      ]
    },
    {
      "cell_type": "markdown",
      "source": [
        "#### 8. For a ticket booking system, you have to design the \"Ticket\" class with OOP principles in mind. The “Ticket” class should have the following attributes:\n",
        "* a. ticket_id: Represents the unique identifier for the ticket.\n",
        "* b. event_name: Represents the name of the event.\n",
        "* c. event_date: Represents the date of the event.\n",
        "* d. venue: Represents the venue of the event.\n",
        "* e. seat_number: Represents the seat number associated with the ticket.\n",
        "* f. price: Represents the price of the ticket.\n",
        "* g. is_reserved: Represents the reservation status of the ticket.\n",
        "\n",
        "The class also includes the following methods:\n",
        "\n",
        " *  a. reserve_ticket(self): Marks the ticket as reserved if it is not already reserved.\n",
        " *  b. cancel_reservation(self): Cancels the reservation of the ticket if it is already reserved.\n",
        " *  c. display_ticket_info(self): Displays the information about the ticket, including its attributes and reservation status."
      ],
      "metadata": {
        "id": "BjMUnazF13th"
      }
    },
    {
      "cell_type": "code",
      "source": [
        "print(25 * '*'  )\n",
        "print(\"Ticket booking system\")\n",
        "print(25 * '*'  )\n",
        "\n",
        "class Ticket:\n",
        "  def __init__(self,ticket_id,event_name,event_date,venue,seat_number,price,is_reserved=False):\n",
        "    self.ticket_id=ticket_id\n",
        "    self.event_name=event_name\n",
        "    self.event_date=event_date\n",
        "    self.venue=venue\n",
        "    self.seat_number=seat_number\n",
        "    self.price=price\n",
        "    self.is_reserved=is_reserved\n",
        "\n",
        "\n",
        "  def reserve_ticket(self):\n",
        "    if not self.is_reserved:\n",
        "      self.is_reserved = True\n",
        "      print(\"Ticket reserved successfully.\")\n",
        "    else:\n",
        "      print(\"Ticket is already reserved.\")\n",
        "\n",
        "  def cancel_reservation(self):\n",
        "    if self.is_reserved:\n",
        "      self.is_reserved = False\n",
        "      print(\"Reservation canceled successfully.\")\n",
        "    else:\n",
        "      print(\"Ticket is not reserved.\")\n",
        "\n",
        "  def display_ticket_info(self):\n",
        "    print(\"ticket_id :\",self.ticket_id)\n",
        "    print(\"event_name :\",self.event_name)\n",
        "    print(\"event_date :\",self.event_date)\n",
        "    print(\"venue :\",self.venue)\n",
        "    print(\"seat_number :\",self.seat_number)\n",
        "    print(\"price :\",self.price)\n"
      ],
      "metadata": {
        "colab": {
          "base_uri": "https://localhost:8080/"
        },
        "id": "6vsWtIfP2SGp",
        "outputId": "e174ccd6-6230-46cf-a824-004b5fdee74d"
      },
      "execution_count": null,
      "outputs": [
        {
          "output_type": "stream",
          "name": "stdout",
          "text": [
            "*************************\n",
            "Ticket booking system\n",
            "*************************\n"
          ]
        }
      ]
    },
    {
      "cell_type": "code",
      "source": [
        "ticket1=Ticket(123,\"marriage\",\"11/07/2023\",\"station road\",1234,1000)\n",
        "ticket2=Ticket(321,\"match\",\"11/07/2023\",\"eden \",456,1500)"
      ],
      "metadata": {
        "id": "8NBJ9s8F8RgC"
      },
      "execution_count": null,
      "outputs": []
    },
    {
      "cell_type": "code",
      "source": [
        "ticket1.reserve_ticket()\n",
        "#ticket1.reserve_ticket()\n"
      ],
      "metadata": {
        "colab": {
          "base_uri": "https://localhost:8080/"
        },
        "id": "XeVCgv1O8_ZR",
        "outputId": "7a0d4683-8d31-469d-8ea9-c522b8167bc1"
      },
      "execution_count": null,
      "outputs": [
        {
          "output_type": "stream",
          "name": "stdout",
          "text": [
            "Ticket reserved successfully.\n"
          ]
        }
      ]
    },
    {
      "cell_type": "code",
      "source": [
        "ticket1.cancel_reservation()"
      ],
      "metadata": {
        "colab": {
          "base_uri": "https://localhost:8080/"
        },
        "id": "Qv9xAUet9fri",
        "outputId": "6aa9b87d-d68e-4c88-b8fd-e515148debcd"
      },
      "execution_count": null,
      "outputs": [
        {
          "output_type": "stream",
          "name": "stdout",
          "text": [
            "Reservation canceled successfully.\n"
          ]
        }
      ]
    },
    {
      "cell_type": "code",
      "source": [
        "ticket1.display_ticket_info()"
      ],
      "metadata": {
        "colab": {
          "base_uri": "https://localhost:8080/"
        },
        "id": "jV-4gnvD9Vva",
        "outputId": "f856921e-0dad-4ddc-b403-441030ecf1da"
      },
      "execution_count": null,
      "outputs": [
        {
          "output_type": "stream",
          "name": "stdout",
          "text": [
            "ticket_id : 123\n",
            "event_name : marriage\n",
            "event_date : 11/07/2023\n",
            "venue : station road\n",
            "seat_number : 1234\n",
            "price : 1000\n"
          ]
        }
      ]
    },
    {
      "cell_type": "code",
      "source": [
        "print(ticket1.is_reserved)"
      ],
      "metadata": {
        "colab": {
          "base_uri": "https://localhost:8080/"
        },
        "id": "rPflVFkp90MS",
        "outputId": "07fc5175-5e7a-4df4-a228-44ad0e527bab"
      },
      "execution_count": null,
      "outputs": [
        {
          "output_type": "stream",
          "name": "stdout",
          "text": [
            "False\n"
          ]
        }
      ]
    },
    {
      "cell_type": "markdown",
      "source": [
        "#### 9. You are creating a shopping cart for an e-commerce website. Using OOP to model the \"ShoppingCart\" functionality the class should contain following attributes and methods:\n",
        "* a. items: Represents the list of items in the shopping cart.\n",
        "The class also includes the following methods:\n",
        "\n",
        " *  a. add_item(self, item): Adds an item to the shopping cart by appending it to the list of items.\n",
        " * b. remove_item(self, item): Removes an item from the shopping cart if it exists in the list.\n",
        " *  c. view_cart(self): Displays the items currently present in the shopping cart.\n",
        " *   d. clear_cart(self): Clears all items from the shopping cart by reassigning an empty list to the items attribute."
      ],
      "metadata": {
        "id": "UnLd4JO0-YQ6"
      }
    },
    {
      "cell_type": "code",
      "source": [
        "print(45 * '*'  )\n",
        "print(\"Shopping cart for an e-commerce website\")\n",
        "print(45 * '*'  )"
      ],
      "metadata": {
        "id": "cXVK5Nyz-1Mi",
        "colab": {
          "base_uri": "https://localhost:8080/"
        },
        "outputId": "d3d87453-8e03-4b11-cbde-f20c3a666ac7"
      },
      "execution_count": null,
      "outputs": [
        {
          "output_type": "stream",
          "name": "stdout",
          "text": [
            "*********************************************\n",
            "Shopping cart for an e-commerce website\n",
            "*********************************************\n"
          ]
        }
      ]
    },
    {
      "cell_type": "code",
      "source": [
        "class ShoppingCart:\n",
        "  def __init__(self):\n",
        "    self.items = []\n",
        "  def add_items(self,item):\n",
        "    self.items.append(item)\n",
        "    print(f\"{item} added to the shopping cart.\")\n",
        "  def remove_item(self,item):\n",
        "    if item in self.items:\n",
        "      self.items.remove(item)\n",
        "      print(f\"{item} removed from the shopping cart.\")\n",
        "    else:\n",
        "      print(f\"{item} is not in the shopping cart.\")\n",
        "  def view_cart(self):\n",
        "    if self.items:\n",
        "       print(\"Items in the shopping cart:\")\n",
        "       for item in self.items:\n",
        "        print(item)\n",
        "    else:\n",
        "      print(\"The shopping cart is empty.\")\n",
        "  def clear_cart(self):\n",
        "    self.items = []\n",
        "    print(\"The shopping cart is cleared.\")\n"
      ],
      "metadata": {
        "id": "ISqHfmg7dVRC"
      },
      "execution_count": null,
      "outputs": []
    },
    {
      "cell_type": "code",
      "source": [
        "cart =ShoppingCart()"
      ],
      "metadata": {
        "id": "AIT3Qer8mj4X"
      },
      "execution_count": null,
      "outputs": []
    },
    {
      "cell_type": "code",
      "source": [
        "cart.add_items(\"Fish\")\n",
        "cart.add_items(\"Egg\")\n",
        "cart.add_items(\"Mutton\")\n",
        "cart.add_items(\"Apple\")"
      ],
      "metadata": {
        "colab": {
          "base_uri": "https://localhost:8080/"
        },
        "id": "WqrkHLhjneh1",
        "outputId": "8611e86f-33bb-4609-da3c-a30f6b81be8c"
      },
      "execution_count": null,
      "outputs": [
        {
          "output_type": "stream",
          "name": "stdout",
          "text": [
            "Fish added to the shopping cart.\n",
            "Egg added to the shopping cart.\n",
            "Mutton added to the shopping cart.\n",
            "Apple added to the shopping cart.\n"
          ]
        }
      ]
    },
    {
      "cell_type": "code",
      "source": [
        "cart.remove_item(\"Apple\")"
      ],
      "metadata": {
        "colab": {
          "base_uri": "https://localhost:8080/"
        },
        "id": "Rj_z1E3qnn4k",
        "outputId": "32670933-62f5-4524-f3a3-6148fded2304"
      },
      "execution_count": null,
      "outputs": [
        {
          "output_type": "stream",
          "name": "stdout",
          "text": [
            "Apple removed from the shopping cart.\n"
          ]
        }
      ]
    },
    {
      "cell_type": "code",
      "source": [
        "cart.view_cart()\n"
      ],
      "metadata": {
        "colab": {
          "base_uri": "https://localhost:8080/"
        },
        "id": "M7tH3qGrn8gP",
        "outputId": "393f32cf-cb56-452e-e92b-d192cc762c03"
      },
      "execution_count": null,
      "outputs": [
        {
          "output_type": "stream",
          "name": "stdout",
          "text": [
            "Items in the shopping cart:\n",
            "Fish\n",
            "Fish\n",
            "Egg\n",
            "Fish\n",
            "Egg\n",
            "Mutton\n"
          ]
        }
      ]
    },
    {
      "cell_type": "code",
      "source": [
        "cart.clear_cart()"
      ],
      "metadata": {
        "colab": {
          "base_uri": "https://localhost:8080/"
        },
        "id": "w_a6OEfwn_H1",
        "outputId": "bac25699-6191-436f-ecd1-a5a7eab3a791"
      },
      "execution_count": null,
      "outputs": [
        {
          "output_type": "stream",
          "name": "stdout",
          "text": [
            "The shopping cart is cleared.\n"
          ]
        }
      ]
    },
    {
      "cell_type": "code",
      "source": [
        "cart.view_cart()"
      ],
      "metadata": {
        "colab": {
          "base_uri": "https://localhost:8080/"
        },
        "id": "pnQ_VLz3oxzl",
        "outputId": "af390c32-fc19-45b0-c4e8-651de2e94000"
      },
      "execution_count": null,
      "outputs": [
        {
          "output_type": "stream",
          "name": "stdout",
          "text": [
            "The shopping cart is empty.\n"
          ]
        }
      ]
    },
    {
      "cell_type": "markdown",
      "source": [
        "10. Imagine a school management system. You have to design the \"Student\" class using OOP concepts.The “Student” class has the following attributes:\n",
        "\n",
        "* a. name: Represents the name of the student.\n",
        "* b. age: Represents the age of the student.\n",
        "* c. grade: Represents the grade or class of the student.\n",
        "* d. student_id: Represents the unique identifier for the student.\n",
        "* e. attendance: Represents the attendance record of the student.\n",
        "\n",
        "The class should also include the following methods:\n",
        "*  a. update_attendance(self, date, status): Updates the attendance record of the student for a given date with the provided status (e.g., present or absent).\n",
        "*  b. get_attendance(self): Returns the attendance record of the student.\n",
        "*  c. get_average_attendance(self): Calculates and returns the average\n",
        "attendance percentage of the student based on their attendance record.\n"
      ],
      "metadata": {
        "id": "NaG2M-kRpsXX"
      }
    },
    {
      "cell_type": "code",
      "source": [
        "print(25 * '*'  )\n",
        "s=\"School management system\".title()\n",
        "print(s)\n",
        "print(25 * '*'  )"
      ],
      "metadata": {
        "colab": {
          "base_uri": "https://localhost:8080/"
        },
        "id": "dABsWFIQqIiF",
        "outputId": "2b667c09-64c5-4f56-a4fe-118cce674f47"
      },
      "execution_count": null,
      "outputs": [
        {
          "output_type": "stream",
          "name": "stdout",
          "text": [
            "*************************\n",
            "School Management System\n",
            "*************************\n"
          ]
        }
      ]
    },
    {
      "cell_type": "code",
      "source": [
        "class Student:\n",
        "  def __init__(self,name,age,grade,student_id,attendance):\n",
        "    self.name=name\n",
        "    self.age=age\n",
        "    self.grade=grade\n",
        "    self.student_id=student_id\n",
        "    self.attendance={}\n",
        "\n",
        "  def update_attendance(self,date,status):\n",
        "    self.attendance[date] = status\n",
        "    print(f\"Attendance record updated for {self.name} on {date}. Status: {status}\")\n",
        "\n",
        "  def get_attendance(self):\n",
        "    return self.attendance\n",
        "\n",
        "  def get_average_attendance(self):\n",
        "    if self.attendance:\n",
        "      total_days = len(self.attendance)\n",
        "      present_days = sum(value == 'Present or present' for value in self.attendance.values())\n",
        "      average_attendance = (present_days / total_days) * 100\n",
        "      return average_attendance\n",
        "    else:\n",
        "      return 0.0\n"
      ],
      "metadata": {
        "id": "R1tQnl6fsyXW"
      },
      "execution_count": null,
      "outputs": []
    },
    {
      "cell_type": "code",
      "source": [
        "student=Student(\"Prodip\",32,\"A\",1,\"Present\")"
      ],
      "metadata": {
        "id": "PdEvyToK0FFQ"
      },
      "execution_count": null,
      "outputs": []
    },
    {
      "cell_type": "code",
      "source": [
        "student.update_attendance(\"04/02/2023\",\"Absent\")"
      ],
      "metadata": {
        "colab": {
          "base_uri": "https://localhost:8080/"
        },
        "id": "QrgDFhDP0eVU",
        "outputId": "743ddf46-c3fc-44bc-9d09-5638666f5f67"
      },
      "execution_count": null,
      "outputs": [
        {
          "output_type": "stream",
          "name": "stdout",
          "text": [
            "Attendance record updated for Prodip on 04/02/2023. Status: Absent\n"
          ]
        }
      ]
    },
    {
      "cell_type": "code",
      "source": [
        "student.update_attendance(\"05/02/2023\",\"Present\")"
      ],
      "metadata": {
        "colab": {
          "base_uri": "https://localhost:8080/"
        },
        "id": "MJ21amy21P44",
        "outputId": "db7d9744-751e-4348-9065-8b6b85f2a454"
      },
      "execution_count": null,
      "outputs": [
        {
          "output_type": "stream",
          "name": "stdout",
          "text": [
            "Attendance record updated for Prodip on 05/02/2023. Status: Present\n"
          ]
        }
      ]
    },
    {
      "cell_type": "code",
      "source": [
        "student.update_attendance(\"06/02/2023\",\"Present\")"
      ],
      "metadata": {
        "colab": {
          "base_uri": "https://localhost:8080/"
        },
        "id": "jH5RWi361ebA",
        "outputId": "d3ac204a-b8e0-42ca-d9da-6aba3db103ce"
      },
      "execution_count": null,
      "outputs": [
        {
          "output_type": "stream",
          "name": "stdout",
          "text": [
            "Attendance record updated for Prodip on 06/02/2023. Status: Present\n"
          ]
        }
      ]
    },
    {
      "cell_type": "code",
      "source": [
        "student.update_attendance(\"08/02/2023\",\"present\")"
      ],
      "metadata": {
        "colab": {
          "base_uri": "https://localhost:8080/"
        },
        "id": "m_oIXUbA2yN1",
        "outputId": "828a3995-93d2-4c6d-cc1c-3fd321b8a2f7"
      },
      "execution_count": null,
      "outputs": [
        {
          "output_type": "stream",
          "name": "stdout",
          "text": [
            "Attendance record updated for Prodip on 08/02/2023. Status: present\n"
          ]
        }
      ]
    },
    {
      "cell_type": "code",
      "source": [
        "student.update_attendance(\"07/02/2023\",\"Present\")"
      ],
      "metadata": {
        "colab": {
          "base_uri": "https://localhost:8080/"
        },
        "id": "UAgV1Ty91jsQ",
        "outputId": "f329e72f-e16f-459f-8932-14cc6c4c0c3f"
      },
      "execution_count": null,
      "outputs": [
        {
          "output_type": "stream",
          "name": "stdout",
          "text": [
            "Attendance record updated for Prodip on 07/02/2023. Status: Present\n"
          ]
        }
      ]
    },
    {
      "cell_type": "code",
      "source": [
        "student.update_attendance(\"09/02/2023\",\"present\")"
      ],
      "metadata": {
        "colab": {
          "base_uri": "https://localhost:8080/"
        },
        "id": "Tl0L3QWW3CBZ",
        "outputId": "4b3f8ee4-72e3-443d-c507-362a36953ad9"
      },
      "execution_count": null,
      "outputs": [
        {
          "output_type": "stream",
          "name": "stdout",
          "text": [
            "Attendance record updated for Prodip on 09/02/2023. Status: present\n"
          ]
        }
      ]
    },
    {
      "cell_type": "code",
      "source": [
        "student.update_attendance(\"10/02/2023\",\"present\")"
      ],
      "metadata": {
        "colab": {
          "base_uri": "https://localhost:8080/"
        },
        "id": "ZHrJUS-r3HL4",
        "outputId": "bf958c7b-2b91-4357-8f6a-4bef41c91090"
      },
      "execution_count": null,
      "outputs": [
        {
          "output_type": "stream",
          "name": "stdout",
          "text": [
            "Attendance record updated for Prodip on 10/02/2023. Status: present\n"
          ]
        }
      ]
    },
    {
      "cell_type": "code",
      "source": [
        "student.update_attendance(\"08/02/2023\",\"Absent\")"
      ],
      "metadata": {
        "colab": {
          "base_uri": "https://localhost:8080/"
        },
        "id": "oDnZdrae3JvJ",
        "outputId": "d593117c-83aa-4b1c-b7e3-9c24b9b0e3ac"
      },
      "execution_count": null,
      "outputs": [
        {
          "output_type": "stream",
          "name": "stdout",
          "text": [
            "Attendance record updated for Prodip on 08/02/2023. Status: Absent\n"
          ]
        }
      ]
    },
    {
      "cell_type": "code",
      "source": [
        "student.get_attendance()"
      ],
      "metadata": {
        "colab": {
          "base_uri": "https://localhost:8080/"
        },
        "id": "TJYorzdl03aH",
        "outputId": "a7c69e72-5168-4e30-8b71-5a24621078a9"
      },
      "execution_count": null,
      "outputs": [
        {
          "output_type": "execute_result",
          "data": {
            "text/plain": [
              "{'04/02/2023': 'Absent',\n",
              " '05/02/2023': 'Present',\n",
              " '06/02/2023': 'Present',\n",
              " '07/02/2023': 'Present',\n",
              " '08/02/2023': 'Absent',\n",
              " '09/02/2023': 'present',\n",
              " '10/02/2023': 'present'}"
            ]
          },
          "metadata": {},
          "execution_count": 68
        }
      ]
    },
    {
      "cell_type": "code",
      "source": [
        "average_attendance = student.get_average_attendance()\n",
        "print(f\"Average attendance for {student.name}: {average_attendance}%\")"
      ],
      "metadata": {
        "colab": {
          "base_uri": "https://localhost:8080/"
        },
        "id": "FSmAEMJu2L_o",
        "outputId": "72b76169-1acc-4967-ae61-ba6bd9603177"
      },
      "execution_count": null,
      "outputs": [
        {
          "output_type": "stream",
          "name": "stdout",
          "text": [
            "Average attendance for Prodip: 42.857142857142854%\n"
          ]
        }
      ]
    },
    {
      "cell_type": "code",
      "source": [
        "student.get_average_attendance()"
      ],
      "metadata": {
        "colab": {
          "base_uri": "https://localhost:8080/"
        },
        "id": "8eZS8dLZ07SI",
        "outputId": "58a8a00b-b933-4b77-9d5e-2a9ef7ab378e"
      },
      "execution_count": null,
      "outputs": [
        {
          "output_type": "execute_result",
          "data": {
            "text/plain": [
              "42.857142857142854"
            ]
          },
          "metadata": {},
          "execution_count": 70
        }
      ]
    }
  ]
}