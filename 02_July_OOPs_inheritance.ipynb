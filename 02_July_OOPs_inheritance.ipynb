{
  "nbformat": 4,
  "nbformat_minor": 0,
  "metadata": {
    "colab": {
      "provenance": []
    },
    "kernelspec": {
      "name": "python3",
      "display_name": "Python 3"
    },
    "language_info": {
      "name": "python"
    }
  },
  "cells": [
    {
      "cell_type": "markdown",
      "source": [
        "**1. Explain what inheritance is in object-oriented programming and why it is used.**"
      ],
      "metadata": {
        "id": "xvrmUfYyeDQj"
      }
    },
    {
      "cell_type": "markdown",
      "source": [
        "Inheritance is a fundamental concept in object-oriented programming (OOP) that allows a class (also known as the subclass or derived class) to inherit properties and behaviors from another class (known as the superclass or base class).\n",
        "\n",
        "The subclass can reuse and extend the functionalities of the superclass, promoting code reusability and promoting a hierarchical relationship between classes.\n"
      ],
      "metadata": {
        "id": "r72tz3nYeOzl"
      }
    },
    {
      "cell_type": "code",
      "source": [
        "class Animal:  # Superclass\n",
        "    def __init__(self, name):\n",
        "        self.name = name\n",
        "\n",
        "    def make_sound(self):\n",
        "        pass\n",
        "\n",
        "\n",
        "class Dog(Animal):  # Subclass inheriting from Animal\n",
        "    def make_sound(self):\n",
        "        return \"Woof!\"\n",
        "\n",
        "\n",
        "class Cat(Animal):  # Subclass inheriting from Animal\n",
        "    def make_sound(self):\n",
        "        return \"Meow!\"\n"
      ],
      "metadata": {
        "id": "afMcYXvKeEuL"
      },
      "execution_count": null,
      "outputs": []
    },
    {
      "cell_type": "markdown",
      "source": [
        "Benefits of Inheritance:\n",
        "1. Code Reusability: Inheritance allows you to reuse existing code from a base class, reducing redundant code and promoting cleaner, more maintainable codebases.\n",
        "\n",
        "2. Modularity and Extensibility: Inheritance facilitates the creation of modular code by allowing you to extend the functionality of existing classes without modifying them directly. New subclasses can be added with additional features while keeping the original classes intact.\n",
        "\n",
        "3. Polymorphism: Inheritance is a key aspect of polymorphism, which allows objects of different classes to be treated as objects of a common base class. This enables greater flexibility and ease of use in the context of class hierarchies.\n",
        "\n",
        "4. Abstraction: Inheritance helps to model real-world relationships between objects, abstracting common properties and behaviors into higher-level classes, making the code more intuitive and easier to understand."
      ],
      "metadata": {
        "id": "OZW7Sn4If9sT"
      }
    },
    {
      "cell_type": "markdown",
      "source": [
        "**2. Discuss the concept of single inheritance and multiple inheritance, highlighting their differences and advantages.**"
      ],
      "metadata": {
        "id": "ZFIZIr9xhDmk"
      }
    },
    {
      "cell_type": "markdown",
      "source": [
        "In object-oriented programming, single inheritance and multiple inheritance are two different approaches to class inheritance.\n",
        "\n",
        "1.Single Inheritance:\n",
        "\n",
        "   Single inheritance refers to a class inheriting from only one superclass. In other words, a subclass can have only one direct parent class. This is the most common form of inheritance, and many programming languages like Java, C#, and Python support single inheritance."
      ],
      "metadata": {
        "id": "qMQpMAxwhTtS"
      }
    },
    {
      "cell_type": "code",
      "source": [
        "class Animal:\n",
        "    def make_sound(self):\n",
        "        pass\n",
        "\n",
        "\n",
        "class Dog(Animal):\n",
        "    def make_sound(self):\n",
        "        return \"Woof!\"\n"
      ],
      "metadata": {
        "id": "jhVuhuyHgcqT"
      },
      "execution_count": null,
      "outputs": []
    },
    {
      "cell_type": "markdown",
      "source": [
        "Advantages of Single Inheritance:\n",
        " * Simplicity:\n",
        "\n",
        "   Single inheritance keeps the class hierarchy straightforward, making it easier to understand and manage the relationships between classes.\n",
        " * Avoiding Diamond Problem:\n",
        "\n",
        "    The Diamond Problem is a potential issue in multiple inheritance where a subclass inherits from two or more superclasses that have a common base class. This can lead to ambiguity and conflicts in the subclass. Single inheritance eliminates this problem as a class can have only one direct parent."
      ],
      "metadata": {
        "id": "B0fE8hFyhtfb"
      }
    },
    {
      "cell_type": "markdown",
      "source": [
        "2. Multiple Inheritance:\n",
        "\n",
        "  Multiple inheritance refers to a class inheriting from two or more superclasses. In this approach, a subclass can have multiple direct parent classes, and it inherits the properties and behaviors from all of them. While powerful, multiple inheritance can be complex and needs careful handling to avoid ambiguities and maintain code clarity."
      ],
      "metadata": {
        "id": "Q3HqTrZVhtea"
      }
    },
    {
      "cell_type": "code",
      "source": [
        "class Bird:\n",
        "    def make_sound(self):\n",
        "        pass\n",
        "\n",
        "\n",
        "class CanFly:\n",
        "    def fly(self):\n",
        "        return \"I can fly!\"\n",
        "\n",
        "\n",
        "class Sparrow(Bird, CanFly):\n",
        "    def make_sound(self):\n",
        "        return \"Chirp!\"\n"
      ],
      "metadata": {
        "id": "-Pnm5deziWPb"
      },
      "execution_count": null,
      "outputs": []
    },
    {
      "cell_type": "markdown",
      "source": [
        "Advantages of Multiple Inheritance:\n",
        "\n",
        "* Code Reusability:\n",
        "\n",
        "  Multiple inheritance allows a class to inherit functionality from multiple classes, promoting code reuse and reducing the need for redundant code.\n",
        "* Modeling Complex Relationships:\n",
        "\n",
        "  In certain scenarios, objects may have relationships with multiple entities, and multiple inheritance provides a natural way to model such relationships in the code.\n",
        "\n",
        "* Mixins:\n",
        "\n",
        "  Multiple inheritance is commonly used to implement mixins, which are classes that provide additional behaviors to other classes without being instantiated themselves. Mixins can be a powerful way to add functionality to classes without altering their inheritance hierarchy."
      ],
      "metadata": {
        "id": "RmLyNVChifhs"
      }
    },
    {
      "cell_type": "markdown",
      "source": [
        "**3. Explain the terms \"base class\" and \"derived class\" in the context of inheritance.**"
      ],
      "metadata": {
        "id": "NEwhDM1ZjGFq"
      }
    },
    {
      "cell_type": "markdown",
      "source": [
        "Base Class (Superclass):\n",
        "\n",
        "* The base class, also known as the superclass or parent class, is the class that provides the initial set of properties (data members) and behaviors (methods) to be inherited by other classes. It is the starting point of inheritance and serves as a blueprint for its derived classes. The base class contains common attributes and functionalities that are shared among its subclasses.\n",
        "* In the context of code implementation, the base class is defined first, and then one or more derived classes can inherit from it. The base class defines the essential characteristics of objects within its domain, and the derived classes extend or specialize these characteristics further."
      ],
      "metadata": {
        "id": "PXN7pShcjKL6"
      }
    },
    {
      "cell_type": "code",
      "source": [
        "class Animal:  # Animal is the base class\n",
        "    def __init__(self, name):\n",
        "        self.name = name\n",
        "\n",
        "    def make_sound(self):\n",
        "        pass\n"
      ],
      "metadata": {
        "id": "grPyeFa6jJny"
      },
      "execution_count": null,
      "outputs": []
    },
    {
      "cell_type": "markdown",
      "source": [
        "Derived Class (Subclass):\n",
        "\n",
        "* The derived class, also known as the subclass or child class, is a class that inherits properties and behaviors from a base class. It extends the functionalities of the base class by adding new attributes or methods or by modifying the inherited ones. A derived class can only have one direct base class in single inheritance or multiple base classes in multiple inheritance.\n",
        "\n",
        "* In the context of code implementation, a derived class is created by specifying the base class in parentheses after the class name. The derived class can access and utilize the attributes and methods of the base class, and it can override or extend them to customize its behavior."
      ],
      "metadata": {
        "id": "hP6JNkAljysT"
      }
    },
    {
      "cell_type": "code",
      "source": [
        "class Dog(Animal):  # Dog is the derived class inheriting from Animal\n",
        "    def make_sound(self):\n",
        "        return \"Woof!\"\n"
      ],
      "metadata": {
        "id": "S1cnos8Yie5r"
      },
      "execution_count": null,
      "outputs": []
    },
    {
      "cell_type": "markdown",
      "source": [
        "**4. What is the significance of the \"protected\" access modifier in inheritance? How does it differ from \"private\" and \"public\" modifiers?**"
      ],
      "metadata": {
        "id": "IaWfE7iQkGXr"
      }
    },
    {
      "cell_type": "markdown",
      "source": [
        "In object-oriented programming, access modifiers are keywords used to control the visibility of class members (attributes and methods) from other classes. These modifiers determine which parts of a class are accessible and modifiable by code outside the class. In many programming languages like Python, Java, and C++, there are three main access modifiers: \"private,\" \"protected,\" and \"public.\" Each of these modifiers serves a specific purpose in terms of encapsulation and inheritance.\n",
        "\n",
        "**Protected Access Modifier:**\n",
        "\n",
        "  * The convention for protected members in Python is to prefix their names with a single underscore (_). By using a single leading underscore, developers signal that a particular attribute or method should be treated as protected, and it is intended for internal use within the class or its subclasses."
      ],
      "metadata": {
        "id": "fHADZPEmkKrb"
      }
    },
    {
      "cell_type": "code",
      "source": [
        "class MyBaseClass:\n",
        "    def __init__(self):\n",
        "        self._protected_var = 42  # protected attribute\n",
        "\n",
        "    def _protected_method(self):\n",
        "        return \"This is a protected method\"\n",
        "\n",
        "\n",
        "class MyDerivedClass(MyBaseClass):\n",
        "    def access_protected(self):\n",
        "        print(self._protected_var)      # Accessing the protected attribute\n",
        "        print(self._protected_method())  # Accessing the protected method\n",
        "\n",
        "\n",
        "obj = MyDerivedClass()\n",
        "obj.access_protected()\n"
      ],
      "metadata": {
        "id": "LDc07pbtlfMT"
      },
      "execution_count": null,
      "outputs": []
    },
    {
      "cell_type": "markdown",
      "source": [
        "**Private Access Modifier:**\n",
        "\n",
        "* Developers use a naming convention involving a double underscore (__) as a prefix to indicate that a particular attribute or method should be treated as private and should not be accessed from outside the class."
      ],
      "metadata": {
        "id": "vIgnK7iUmyRM"
      }
    },
    {
      "cell_type": "code",
      "source": [
        "class MyClass:\n",
        "    def __init__(self):\n",
        "        self.__private_var = 42\n",
        "\n",
        "    def __private_method(self):\n",
        "        return \"This is a private method\"\n",
        "\n",
        "\n",
        "obj = MyClass()\n",
        "print(obj.__private_var)  # This will raise an AttributeError\n",
        "print(obj.__private_method())  # This will raise an AttributeError\n"
      ],
      "metadata": {
        "id": "f7zwckMYme06"
      },
      "execution_count": null,
      "outputs": []
    },
    {
      "cell_type": "markdown",
      "source": [
        "**Public Access Modifier:**\n",
        "\n",
        "* In Python, the concept of a \"public\" access modifier is the default behavior for class members. Unlike \"protected\" and \"private,\" there is no specific naming convention or keyword required to declare members as public. Any attribute or method defined within a class without any leading underscores is considered public and can be accessed and modified from anywhere, both inside and outside the class."
      ],
      "metadata": {
        "id": "x3nkuapCnwFK"
      }
    },
    {
      "cell_type": "code",
      "source": [
        "class MyClass:\n",
        "    def __init__(self):\n",
        "        self.public_var = 42\n",
        "\n",
        "    def public_method(self):\n",
        "        return \"This is a public method\"\n",
        "\n",
        "\n",
        "obj = MyClass()\n",
        "print(obj.public_var)        # Accessing the public attribute\n",
        "print(obj.public_method())   # Accessing the public method\n"
      ],
      "metadata": {
        "id": "Ab6AMlzSoasS"
      },
      "execution_count": null,
      "outputs": []
    },
    {
      "cell_type": "markdown",
      "source": [
        "**5. What is the purpose of the \"super\" keyword in inheritance? Provide an example.**"
      ],
      "metadata": {
        "id": "pVD3QugnohbS"
      }
    },
    {
      "cell_type": "markdown",
      "source": [
        "* The **\"super\"** keyword in inheritance is used to call a method from the superclass (base class) within the context of a subclass (derived class). It allows the subclass to invoke and use the methods and constructors defined in the superclass, promoting code reuse and maintaining the functionality defined in the parent class.\n",
        "\n",
        "* The \"super\" keyword is particularly useful when overriding methods in the derived class. By calling the superclass's version of the method using \"super,\" you can extend or customize the behavior of the method while still retaining the functionality defined in the parent class."
      ],
      "metadata": {
        "id": "XB1iyHTSol9x"
      }
    },
    {
      "cell_type": "code",
      "source": [
        "class Animal:\n",
        "    def make_sound(self):\n",
        "        return \"Generic animal sound\"\n",
        "\n",
        "\n",
        "class Dog(Animal):\n",
        "    def make_sound(self):\n",
        "        # Call the 'make_sound' method from the parent class (Animal)\n",
        "        # and add specific behavior for the Dog class.\n",
        "        return super().make_sound() + \" - Woof!\"\n",
        "\n",
        "\n",
        "class Cat(Animal):\n",
        "    def make_sound(self):\n",
        "        # Call the 'make_sound' method from the parent class (Animal)\n",
        "        # and add specific behavior for the Cat class.\n",
        "        return super().make_sound() + \" - Meow!\"\n",
        "\n",
        "\n",
        "dog = Dog()\n",
        "print(dog.make_sound())\n",
        "\n",
        "cat = Cat()\n",
        "print(cat.make_sound())\n"
      ],
      "metadata": {
        "id": "OXWemHO1ogFx"
      },
      "execution_count": null,
      "outputs": []
    },
    {
      "cell_type": "markdown",
      "source": [
        "**6. Create a base class called \"Vehicle\" with attributes like \"make\", \"model\", and \"year\".**\n",
        "* **Then, create a derived class called \"Car\" that inherits from \"Vehicle\" and adds an attribute called \"fuel_type\".**\n",
        "* **Implement appropriate methods in both classes.**"
      ],
      "metadata": {
        "id": "KdvshyxhrYBh"
      }
    },
    {
      "cell_type": "code",
      "source": [
        "class Vehicle:\n",
        "  def __init__(self,make,model,year):\n",
        "    self.make=make\n",
        "    self.model=model\n",
        "    self.year=year\n",
        "\n",
        "  def display_info(self):\n",
        "        print(f\"Make: {self.make}\")\n",
        "        print(f\"Model: {self.model}\")\n",
        "        print(f\"Year: {self.year}\")\n",
        "\n",
        "class Car(Vehicle):\n",
        "  def __init__(self, make, model, year, fuel_type):\n",
        "        super().__init__(make, model, year)\n",
        "        self.fuel_type = fuel_type\n",
        "  def display_info(self):\n",
        "        super().display_info()\n",
        "        print(f\"Fuel Type: {self.fuel_type}\")"
      ],
      "metadata": {
        "id": "fTnNvkQaonYI"
      },
      "execution_count": null,
      "outputs": []
    },
    {
      "cell_type": "code",
      "source": [
        "vehicle1 = Vehicle(\"Toyota\", \"Camry\", 2021)\n",
        "vehicle1.display_info()"
      ],
      "metadata": {
        "colab": {
          "base_uri": "https://localhost:8080/"
        },
        "id": "Kzs97PBpsCdX",
        "outputId": "7cd22165-dba6-4fb3-e7f6-701aa6e63a4c"
      },
      "execution_count": null,
      "outputs": [
        {
          "output_type": "stream",
          "name": "stdout",
          "text": [
            "Make: Toyota\n",
            "Model: Camry\n",
            "Year: 2021\n"
          ]
        }
      ]
    },
    {
      "cell_type": "code",
      "source": [
        "car = Car(\"Toyota\", \"Corolla\", 2022, \"Gasoline\")\n",
        "car.display_info()"
      ],
      "metadata": {
        "colab": {
          "base_uri": "https://localhost:8080/"
        },
        "id": "i7g5tHfMsxQ3",
        "outputId": "c37a449c-42c8-4b77-facb-2ad62adb3d8b"
      },
      "execution_count": null,
      "outputs": [
        {
          "output_type": "stream",
          "name": "stdout",
          "text": [
            "Make: Toyota\n",
            "Model: Corolla\n",
            "Year: 2022\n",
            "Fuel Type: Gasoline\n"
          ]
        }
      ]
    },
    {
      "cell_type": "markdown",
      "source": [
        "**7. Create a base class called \"Employee\" with attributes like \"name\" and \"salary.\"**\n",
        "* **Derive two classes, \"Manager\" and \"Developer,\" from \"Employee.\" Add an additional attribute called \"department\" for the \"Manager\" class and \"programming_language\" for the \"Developer\" class.**"
      ],
      "metadata": {
        "id": "xFSdFlbCry3p"
      }
    },
    {
      "cell_type": "code",
      "source": [
        "class Employee:\n",
        "  def __init__(self,name,salary):\n",
        "    self.name=name\n",
        "    self.salary=salary\n",
        "\n",
        "  def emp_details(self):\n",
        "    print(f\"Name of the Employee :{self.name} and salary:{self.salary}\")\n",
        "\n",
        "class Manager(Employee):\n",
        "  def __init__(self,name,salary,department):\n",
        "    super().__init__(name,salary)\n",
        "    self.department=department\n",
        "\n",
        "  def manager_details(self):\n",
        "    super().emp_details()\n",
        "    print(f\"My department :{self.department}\")\n",
        "\n",
        "class Developer(Employee):\n",
        "  def __init__(self,name,salary,programming_language):\n",
        "    super().__init__(name,salary)\n",
        "    self.programming_language=programming_language\n",
        "  def developer_details(self):\n",
        "    super().emp_details()\n",
        "    print(f\"I know programming_language :{self.programming_language}\")\n",
        "\n"
      ],
      "metadata": {
        "id": "JLi-Ju3r3dKe"
      },
      "execution_count": null,
      "outputs": []
    },
    {
      "cell_type": "code",
      "source": [
        "manager1 = Manager(\"Prodip\",35000,\"IT\")\n",
        "manager1.manager_details()"
      ],
      "metadata": {
        "colab": {
          "base_uri": "https://localhost:8080/"
        },
        "id": "qfwh-wL57z31",
        "outputId": "1933f075-20c7-49d2-e061-0c094c474a4e"
      },
      "execution_count": null,
      "outputs": [
        {
          "output_type": "stream",
          "name": "stdout",
          "text": [
            "Name of the Employee :Prodip and salary:35000\n",
            "My department :IT\n"
          ]
        }
      ]
    },
    {
      "cell_type": "code",
      "source": [
        "developer1 = Developer(\"Rahul\",22000,[\"Python\",\"C\",\"C++\"])\n",
        "developer1.developer_details()"
      ],
      "metadata": {
        "colab": {
          "base_uri": "https://localhost:8080/"
        },
        "id": "FuRvhrgX8O4d",
        "outputId": "376e124f-21c8-48da-d601-999d623137be"
      },
      "execution_count": null,
      "outputs": [
        {
          "output_type": "stream",
          "name": "stdout",
          "text": [
            "Name of the Employee :Rahul and salary:22000\n",
            "I know programming_language :['Python', 'C', 'C++']\n"
          ]
        }
      ]
    },
    {
      "cell_type": "markdown",
      "source": [
        "**8. Design a base class called \"Shape\" with attributes like \"colour\" and \"border_width.\"**\n",
        "* **Create derived classes, \"Rectangle\" and \"Circle,\" that inherit from \"Shape\" and add specific attributes like \"length\" and \"width\" for the \"Rectangle\" class and \"radius\" for the \"Circle\" class.**"
      ],
      "metadata": {
        "id": "80uqE-KZxR0d"
      }
    },
    {
      "cell_type": "code",
      "source": [
        "class Shape:\n",
        "  def __init__(self,colour,border_width):\n",
        "    self.colour=colour\n",
        "    self.border_width=border_width\n",
        "\n",
        "class Rectangle(Shape):\n",
        "  def __init__(self,colour,border_width,length,width):\n",
        "    super().__init__(colour,border_width)\n",
        "    self.length=length\n",
        "    self.width=width\n",
        "\n",
        "class Circle(Shape):\n",
        "  def __init__(self,colour,border_width,radius):\n",
        "    super().__init__(colour,border_width)\n",
        "    self.radius=radius\n"
      ],
      "metadata": {
        "id": "i4Zx89j_9O5t"
      },
      "execution_count": null,
      "outputs": []
    },
    {
      "cell_type": "code",
      "source": [
        "rectangle1 = Rectangle(\"blue\", 2, 10, 5)\n",
        "circle1 = Circle(\"red\", 1, 7)\n",
        "print(f\"Rectangle colour: {rectangle1.colour}, border width: {rectangle1.border_width}, length: {rectangle1.length}, width: {rectangle1.width}\")\n",
        "print(f\"Circle colour: {circle1.colour}, border width: {circle1.border_width}, radius: {circle1.radius}\")"
      ],
      "metadata": {
        "colab": {
          "base_uri": "https://localhost:8080/"
        },
        "id": "NUoZ2a3yCEZw",
        "outputId": "e8bd0827-c145-4203-cac7-615092df1b11"
      },
      "execution_count": null,
      "outputs": [
        {
          "output_type": "stream",
          "name": "stdout",
          "text": [
            "Rectangle colour: blue, border width: 2, length: 10, width: 5\n",
            "Circle colour: red, border width: 1, radius: 7\n"
          ]
        }
      ]
    },
    {
      "cell_type": "markdown",
      "source": [
        "**9. Create a base class called \"Device\" with attributes like \"brand\" and \"model\".**\n",
        "* **Derive two classes, \"Phone\" and \"Tablet,\" from \"Device.\" Add specific attributes like \"screen_size\" for the \"Phone\" class and \"battery_capacity\" for the \"Tablet\" class.**"
      ],
      "metadata": {
        "id": "3mM7uDHYxkLJ"
      }
    },
    {
      "cell_type": "code",
      "source": [
        "class Device:\n",
        "  def __init__(self,brand,model):\n",
        "    self.brand=brand\n",
        "    self.model=model\n",
        "\n",
        "class Phone(Device):\n",
        "  def __init__(self,brand,model,screen_size):\n",
        "    super().__init__(brand,model)\n",
        "    self.screen_size=screen_size\n",
        "\n",
        "class Tablet(Device):\n",
        "  def __init__(self,brand,model,battery_capacity):\n",
        "    super().__init__(brand,model)\n",
        "    self.battery_capacity=battery_capacity\n",
        "\n"
      ],
      "metadata": {
        "id": "pAWLBuTyCXjn"
      },
      "execution_count": null,
      "outputs": []
    },
    {
      "cell_type": "code",
      "source": [
        "phone1 = Phone(\"Apple\", \"iPhone 13\", \"6.1 inches\")\n",
        "tablet1 = Tablet(\"Samsung\", \"Galaxy Tab S7\", \"8000 mAh\")\n",
        "print(f\"Phone brand: {phone1.brand}, model: {phone1.model}, screen size: {phone1.screen_size}\")\n",
        "print(f\"Tablet brand: {tablet1.brand}, model: {tablet1.model}, battery capacity: {tablet1.battery_capacity}\")"
      ],
      "metadata": {
        "colab": {
          "base_uri": "https://localhost:8080/"
        },
        "id": "s19MDGHFEoO_",
        "outputId": "1b59fdf1-3ac6-4f40-cade-b7d6c9e3fbda"
      },
      "execution_count": null,
      "outputs": [
        {
          "output_type": "stream",
          "name": "stdout",
          "text": [
            "Phone brand: Apple, model: iPhone 13, screen size: 6.1 inches\n",
            "Tablet brand: Samsung, model: Galaxy Tab S7, battery capacity: 8000 mAh\n"
          ]
        }
      ]
    },
    {
      "cell_type": "markdown",
      "source": [
        "**10. Create a base class called \"BankAccount\" with attributes like \"account_number\" and \"balance.\"**\n",
        "* Derive two classes, \"SavingsAccount\" and \"CheckingAccount,\" from\n",
        "\"BankAccount.\" Add specific methods like \"calculate_interest\" for the\n",
        "\"SavingsAccount\" class and \"deduct_fees\" for the \"CheckingAccount\" class."
      ],
      "metadata": {
        "id": "I4y7Ayemxv4A"
      }
    },
    {
      "cell_type": "code",
      "source": [
        "class BankAccount:\n",
        "  def __init__(self,account_number,balance):\n",
        "    self.account_number=account_number\n",
        "    self.balance=balance\n",
        "\n",
        "  def deposit(self, amount):\n",
        "        self.balance += amount\n",
        "\n",
        "  def withdraw(self, amount):\n",
        "        if amount <= self.balance:\n",
        "            self.balance -= amount\n",
        "        else:\n",
        "            print(\"Insufficient funds. Withdrawal not allowed.\")\n",
        "\n",
        "  def get_balance(self):\n",
        "        return self.balance\n",
        "\n",
        "class SavingsAccount(BankAccount):\n",
        "  def __init__(self,account_number,balance):\n",
        "    super().__init__(account_number,balance)\n",
        "\n",
        "  def calculate_interest(self, rate):\n",
        "        interest = self.balance * rate / 100\n",
        "        self.deposit(interest)\n",
        "\n",
        "\n",
        "class CheckingAccount(BankAccount):\n",
        "  def __init__(self,account_number,balance):\n",
        "    super().__init__(account_number,balance)\n",
        "\n",
        "  def deduct_fees(self, fee):\n",
        "        self.balance -= fee\n",
        "\n",
        "\n"
      ],
      "metadata": {
        "id": "GeA45Zm0rXi6"
      },
      "execution_count": null,
      "outputs": []
    },
    {
      "cell_type": "code",
      "source": [
        "savings_account1 = SavingsAccount(\"123456789\", 5000)\n",
        "checking_account1 = CheckingAccount(\"987654321\", 3000)"
      ],
      "metadata": {
        "id": "SBVvijAdGhyP"
      },
      "execution_count": null,
      "outputs": []
    },
    {
      "cell_type": "code",
      "source": [
        "print(f\"Savings account balance: {savings_account1.get_balance()}\")\n",
        "savings_account1.calculate_interest(2.5)\n",
        "print(f\"Savings account balance after interest: {savings_account1.get_balance()}\")"
      ],
      "metadata": {
        "colab": {
          "base_uri": "https://localhost:8080/"
        },
        "id": "G4GDrlc9Gm-2",
        "outputId": "63e0a426-c4c1-47f7-f1bc-c7069d101a23"
      },
      "execution_count": null,
      "outputs": [
        {
          "output_type": "stream",
          "name": "stdout",
          "text": [
            "Savings account balance: 5000\n",
            "Savings account balance after interest: 5125.0\n"
          ]
        }
      ]
    },
    {
      "cell_type": "code",
      "source": [
        "print(f\"Checking account balance: {checking_account1.get_balance()}\")\n",
        "checking_account1.deduct_fees(25)\n",
        "print(f\"Checking account balance after fee deduction: {checking_account1.get_balance()}\")"
      ],
      "metadata": {
        "colab": {
          "base_uri": "https://localhost:8080/"
        },
        "id": "N-H-ZZG-GoKe",
        "outputId": "6105262d-ac48-44b6-874a-484c32f82964"
      },
      "execution_count": null,
      "outputs": [
        {
          "output_type": "stream",
          "name": "stdout",
          "text": [
            "Checking account balance: 3000\n",
            "Checking account balance after fee deduction: 2975\n"
          ]
        }
      ]
    }
  ]
}