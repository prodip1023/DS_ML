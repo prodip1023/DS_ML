{
 "cells": [
  {
   "cell_type": "markdown",
   "metadata": {},
   "source": [
    "### 1. In Python, what is the difference between a built-in function and a user-defined function? Provide an example of each."
   ]
  },
  {
   "cell_type": "markdown",
   "metadata": {},
   "source": [
    "#### built-in function :\n",
    "   A built-in function refers to a function that is provided by the Python language itself.\n",
    "* example - print(),len(),type(),id()."
   ]
  },
  {
   "cell_type": "code",
   "execution_count": 1,
   "metadata": {},
   "outputs": [
    {
     "name": "stdout",
     "output_type": "stream",
     "text": [
      "5\n",
      "<class 'list'>\n",
      "140361683041984\n"
     ]
    }
   ],
   "source": [
    "l = [1,2,3,5,6]\n",
    "print(len(l))\n",
    "print(type(l))\n",
    "print(id(l))"
   ]
  },
  {
   "cell_type": "markdown",
   "metadata": {},
   "source": [
    "#### user-defined function : a user-defined function is created by the user to perform a specific task or set of tasks.\n",
    "start with def keyword.\n",
    "* example - add().\n",
    "\n"
   ]
  },
  {
   "cell_type": "code",
   "execution_count": 2,
   "metadata": {},
   "outputs": [
    {
     "data": {
      "text/plain": [
       "6"
      ]
     },
     "execution_count": 2,
     "metadata": {},
     "output_type": "execute_result"
    }
   ],
   "source": [
    "def add(a,b):\n",
    "    return a+b\n",
    "add(2,4)"
   ]
  },
  {
   "cell_type": "markdown",
   "metadata": {},
   "source": [
    "### 2. How can you pass arguments to a function in Python? Explain the difference between positional arguments and keyword arguments."
   ]
  },
  {
   "cell_type": "markdown",
   "metadata": {},
   "source": [
    "In Python, there are two main ways to pass arguments to a function: \n",
    "* 1. positional arguments and \n",
    "* 2. keyword arguments."
   ]
  },
  {
   "cell_type": "markdown",
   "metadata": {},
   "source": [
    "#### positional arguments:\n",
    "\n",
    "   Positional arguments are the most basic way to pass arguments to a function. The values are assigned to function parameters based on their position or order."
   ]
  },
  {
   "cell_type": "code",
   "execution_count": 3,
   "metadata": {},
   "outputs": [
    {
     "data": {
      "text/plain": [
       "6"
      ]
     },
     "execution_count": 3,
     "metadata": {},
     "output_type": "execute_result"
    }
   ],
   "source": [
    "def add(a,b):\n",
    "    return a+b\n",
    "add(2,4)"
   ]
  },
  {
   "cell_type": "markdown",
   "metadata": {},
   "source": [
    "#### keyword arguments:\n",
    "   Keyword arguments are passed with a keyword and an equal sign (=) to specify which parameter the value corresponds to. This allows arguments to be passed in any order, as the keyword specifies which parameter should receive each value."
   ]
  },
  {
   "cell_type": "code",
   "execution_count": 6,
   "metadata": {},
   "outputs": [
    {
     "data": {
      "text/plain": [
       "13"
      ]
     },
     "execution_count": 6,
     "metadata": {},
     "output_type": "execute_result"
    }
   ],
   "source": [
    "def add(a,b):\n",
    "    return a+b\n",
    "add(b=10,a=3)"
   ]
  },
  {
   "cell_type": "code",
   "execution_count": 16,
   "metadata": {},
   "outputs": [
    {
     "name": "stdout",
     "output_type": "stream",
     "text": [
      "12\n",
      "90\n"
     ]
    }
   ],
   "source": [
    "def mul(c,d=2):\n",
    "    return c*d\n",
    "Mul_1 = mul(3,4)\n",
    "Mul_2= mul(45)\n",
    "print(Mul_1)\n",
    "print(Mul_2)"
   ]
  },
  {
   "cell_type": "markdown",
   "metadata": {},
   "source": [
    "### 3. What is the purpose of the return statement in a function? Can a function have multiple return statements? Explain with an example."
   ]
  },
  {
   "cell_type": "markdown",
   "metadata": {},
   "source": [
    "The return statement in a function is used to specify the value or values that the function should return when it is called. It serves the purpose of terminating the function's execution and sending a value (or values) back to the caller.\n",
    "\n",
    "* The return statement is typically used in the body of a function to indicate the end of the function execution and provide the result or output.\n",
    "\n"
   ]
  },
  {
   "cell_type": "code",
   "execution_count": 17,
   "metadata": {},
   "outputs": [
    {
     "name": "stdout",
     "output_type": "stream",
     "text": [
      "7\n"
     ]
    }
   ],
   "source": [
    "def add_numbers(a, b):\n",
    "    result = a + b\n",
    "    return result\n",
    "\n",
    "sum = add_numbers(3, 4)\n",
    "print(sum)  \n"
   ]
  },
  {
   "cell_type": "markdown",
   "metadata": {},
   "source": [
    " #### multiple return statements:"
   ]
  },
  {
   "cell_type": "code",
   "execution_count": 18,
   "metadata": {},
   "outputs": [
    {
     "name": "stdout",
     "output_type": "stream",
     "text": [
      "B\n"
     ]
    }
   ],
   "source": [
    "def get_grade(score):\n",
    "    if score >= 90:\n",
    "        return \"A\"\n",
    "    elif score >= 80:\n",
    "        return \"B\"\n",
    "    elif score >= 70:\n",
    "        return \"C\"\n",
    "    else:\n",
    "        return \"D\"\n",
    "\n",
    "grade = get_grade(85)\n",
    "print(grade)  \n"
   ]
  },
  {
   "cell_type": "markdown",
   "metadata": {},
   "source": [
    "### 4. What are lambda functions in Python? How are they different from regular functions? Provide an example where a lambda function can be useful."
   ]
  },
  {
   "cell_type": "markdown",
   "metadata": {},
   "source": [
    "Lambda functions, also known as anonymous functions, are a way to create small, one-line functions without a formal function definition. They are defined using the lambda keyword, followed by the parameters and a single expression."
   ]
  },
  {
   "cell_type": "markdown",
   "metadata": {},
   "source": [
    "* Lambda functions differ from regular functions in a few key ways:\n",
    "1. Anonymous :Lambda functions are anonymous because they don't have a formal name like regular functions.\n",
    "2. Concise : Lambda functions are typically concise, consisting of a single expression.\n",
    "3. Expression-based:Lambda functions can only contain a single expression, not a block of statements like regular functions. The expression's result is automatically returned as the result of the lambda function.\n",
    "\n"
   ]
  },
  {
   "cell_type": "code",
   "execution_count": 19,
   "metadata": {},
   "outputs": [
    {
     "name": "stdout",
     "output_type": "stream",
     "text": [
      "12\n"
     ]
    }
   ],
   "source": [
    "# Example using a lambda function\n",
    "multiply = lambda x, y: x * y\n",
    "result = multiply(3, 4)\n",
    "print(result)  \n"
   ]
  },
  {
   "cell_type": "markdown",
   "metadata": {},
   "source": [
    "### 5. How does the concept of \"scope\" apply to functions in Python? Explain the difference between local scope and global scope."
   ]
  },
  {
   "cell_type": "markdown",
   "metadata": {},
   "source": [
    "The concept of \"scope\" in Python refers to the visibility or accessibility of variables within a program.It determines where a variable can be accessed and whether it is accessible from different parts of the code.\n",
    "\n"
   ]
  },
  {
   "cell_type": "markdown",
   "metadata": {},
   "source": [
    "#### Local Scope:\n",
    "Variables defined within a function have a local scope. They are only accessible within that function. Local variables are created when the function is called and destroyed when the function execution completes."
   ]
  },
  {
   "cell_type": "code",
   "execution_count": 22,
   "metadata": {},
   "outputs": [
    {
     "name": "stdout",
     "output_type": "stream",
     "text": [
      "30\n"
     ]
    }
   ],
   "source": [
    "def LocalFun():\n",
    "    x = 30  # Local variable\n",
    "    print(x)\n",
    "\n",
    "LocalFun()  # Output: 30\n",
    "  \n"
   ]
  },
  {
   "cell_type": "markdown",
   "metadata": {},
   "source": [
    "#### Global Scope:\n",
    "Variables defined outside any function have a global scope. They can be accessed from anywhere in the program, including within functions."
   ]
  },
  {
   "cell_type": "code",
   "execution_count": 23,
   "metadata": {},
   "outputs": [
    {
     "name": "stdout",
     "output_type": "stream",
     "text": [
      "30\n",
      "30\n"
     ]
    }
   ],
   "source": [
    "x = 30  # Global variable\n",
    "\n",
    "def my_function():\n",
    "    print(x) # inside the function\n",
    "\n",
    "my_function()  # Output: 30\n",
    "print(x)  # Outside the function,Output: 30\n"
   ]
  },
  {
   "cell_type": "markdown",
   "metadata": {},
   "source": [
    "* However, if you want to modify a global variable within a function, you need to explicitly indicate that the variable being referred to is global using the <b>global keyword</b> ."
   ]
  },
  {
   "cell_type": "code",
   "execution_count": 24,
   "metadata": {},
   "outputs": [
    {
     "name": "stdout",
     "output_type": "stream",
     "text": [
      "35\n",
      "35\n"
     ]
    }
   ],
   "source": [
    "x = 30  # Global variable\n",
    "\n",
    "def my_function():\n",
    "    global x\n",
    "    x += 5\n",
    "    print(x)\n",
    "\n",
    "my_function()  \n",
    "print(x)  \n"
   ]
  },
  {
   "cell_type": "markdown",
   "metadata": {},
   "source": [
    "### 6. How can you use the \"return\" statement in a Python function to return multiple values?"
   ]
  },
  {
   "cell_type": "code",
   "execution_count": 26,
   "metadata": {},
   "outputs": [
    {
     "name": "stdout",
     "output_type": "stream",
     "text": [
      "('prodip', 34)\n",
      "prodip\n",
      "34\n"
     ]
    }
   ],
   "source": [
    "def get_name_and_age():\n",
    "    name = \"prodip\"\n",
    "    age = 34\n",
    "    return name, age\n",
    "\n",
    "result = get_name_and_age()\n",
    "print(result)  \n",
    "name, age = get_name_and_age()  # Unpacking the tuple \n",
    "print(name)  \n",
    "print(age)  \n"
   ]
  },
  {
   "cell_type": "markdown",
   "metadata": {},
   "source": [
    "### 7. What is the difference between the \"pass by value\" and \"pass by reference\" concepts when it comes to function arguments in Python?"
   ]
  },
  {
   "cell_type": "markdown",
   "metadata": {},
   "source": [
    "#### Pass by Value:\n",
    "In a \"pass by value\" approach, the value of the variable is copied and passed to the function. Any changes made to the parameter within the function do not affect the original variable outside the function.\n",
    "\n",
    "#### Pass by Reference:\n",
    "In a \"pass by reference\" approach, the reference or memory address of the variable is passed to the function. Any modifications made to the parameter within the function directly affect the original variable outside the function.\n",
    "\n"
   ]
  },
  {
   "cell_type": "code",
   "execution_count": 27,
   "metadata": {},
   "outputs": [
    {
     "name": "stdout",
     "output_type": "stream",
     "text": [
      "Inside the function: 11\n",
      "Outside the function: 10\n"
     ]
    }
   ],
   "source": [
    "def update_value(x):\n",
    "    x += 1\n",
    "    print(\"Inside the function:\", x)\n",
    "\n",
    "value = 10\n",
    "update_value(value)\n",
    "print(\"Outside the function:\", value)\n"
   ]
  },
  {
   "cell_type": "markdown",
   "metadata": {},
   "source": [
    "## 8. Create a function that can intake integer or decimal value and do following operations:\n",
    "    a. Logarithmic function (log x)\n",
    "    b. Exponential function (exp(x))\n",
    "    c. Power function with base 2 (2^x)\n",
    "    d. Square root"
   ]
  },
  {
   "cell_type": "code",
   "execution_count": 2,
   "metadata": {},
   "outputs": [],
   "source": [
    "import math"
   ]
  },
  {
   "cell_type": "code",
   "execution_count": 6,
   "metadata": {},
   "outputs": [],
   "source": [
    "def operations(val):\n",
    "    # Logarithmic function\n",
    "    log = math.log(val)\n",
    "    # Exponential function\n",
    "    exp = math.exp(val)\n",
    "    # Power function with base 2\n",
    "    power_base_2 = math.pow(2,val)\n",
    "    # Square root\n",
    "    sq_root = math.sqrt(val)\n",
    "    return {\n",
    "        \"Logarithmic\":log,\n",
    "        \"Exponential\":exp,\n",
    "        \"Power\":power_base_2,\n",
    "        \"Square\":sq_root\n",
    "    }\n",
    "    "
   ]
  },
  {
   "cell_type": "code",
   "execution_count": 21,
   "metadata": {},
   "outputs": [
    {
     "name": "stdout",
     "output_type": "stream",
     "text": [
      "{'Logarithmic': 1.3862943611198906, 'Exponential': 54.598150033144236, 'Power': 16.0, 'Square': 2.0}\n"
     ]
    }
   ],
   "source": [
    "res = operations(4)\n",
    "print(res)"
   ]
  },
  {
   "cell_type": "markdown",
   "metadata": {},
   "source": [
    "## 9. Create a function that takes a full name as an argument and returns first name and last name."
   ]
  },
  {
   "cell_type": "code",
   "execution_count": 26,
   "metadata": {},
   "outputs": [],
   "source": [
    "def fullname(full_name):\n",
    "    t = full_name.split()\n",
    "    first_name = t[0]\n",
    "    last_name = t[-1]\n",
    "    return first_name,last_name\n"
   ]
  },
  {
   "cell_type": "code",
   "execution_count": 28,
   "metadata": {},
   "outputs": [
    {
     "name": "stdout",
     "output_type": "stream",
     "text": [
      "First Name: Prodip\n",
      "Last Name: Sarkar\n"
     ]
    }
   ],
   "source": [
    "full_name = \"Prodip Sarkar\"\n",
    "first_name,last_name = fullname(full_name)\n",
    "print(\"First Name:\",first_name)\n",
    "print(\"Last Name:\",last_name)"
   ]
  }
 ],
 "metadata": {
  "kernelspec": {
   "display_name": "Python 3",
   "language": "python",
   "name": "python3"
  },
  "language_info": {
   "codemirror_mode": {
    "name": "ipython",
    "version": 3
   },
   "file_extension": ".py",
   "mimetype": "text/x-python",
   "name": "python",
   "nbconvert_exporter": "python",
   "pygments_lexer": "ipython3",
   "version": "3.8.5"
  }
 },
 "nbformat": 4,
 "nbformat_minor": 4
}
