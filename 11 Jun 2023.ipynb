{
 "cells": [
  {
   "cell_type": "markdown",
   "metadata": {},
   "source": [
    "## 1. What is a lambda function in Python, and how does it differ from a regular function?"
   ]
  },
  {
   "cell_type": "markdown",
   "metadata": {},
   "source": [
    "Lambda functions, also known as anonymous functions, are a way to create small, one-line functions without a formal function definition. They are defined using the lambda keyword, followed by the parameters and a single expression."
   ]
  },
  {
   "cell_type": "markdown",
   "metadata": {},
   "source": [
    "* Lambda functions differ from regular functions in a few key ways:\n",
    "1. Anonymous :Lambda functions are anonymous because they don't have a formal name like regular functions.\n",
    "2. Concise : Lambda functions are typically concise, consisting of a single expression.\n",
    "3. Expression-based:Lambda functions can only contain a single expression, not a block of statements like regular functions. The expression's result is automatically returned as the result of the lambda function.\n",
    "\n"
   ]
  },
  {
   "cell_type": "code",
   "execution_count": 2,
   "metadata": {},
   "outputs": [
    {
     "name": "stdout",
     "output_type": "stream",
     "text": [
      "12\n"
     ]
    }
   ],
   "source": [
    "# Example using a lambda function\n",
    "multiply = lambda x, y: x * y\n",
    "result = multiply(3, 4)\n",
    "print(result)  \n"
   ]
  },
  {
   "cell_type": "markdown",
   "metadata": {},
   "source": [
    "## 2. Can a lambda function in Python have multiple arguments? If yes, how can you define and use them?"
   ]
  },
  {
   "cell_type": "markdown",
   "metadata": {},
   "source": [
    "Yes, a lambda function in Python can have multiple arguments. In a lambda function, you can define multiple arguments separated by commas, just like in a regular function. Here's the syntax for defining a lambda function with multiple arguments:\n",
    "\n",
    "* lambda arg1, arg2, ..., argN: expression"
   ]
  },
  {
   "cell_type": "code",
   "execution_count": 3,
   "metadata": {},
   "outputs": [
    {
     "name": "stdout",
     "output_type": "stream",
     "text": [
      "12\n"
     ]
    }
   ],
   "source": [
    "# Example using a lambda function\n",
    "multiply = lambda x, y: x * y\n",
    "result = multiply(3, 4)\n",
    "print(result)  \n"
   ]
  },
  {
   "cell_type": "markdown",
   "metadata": {},
   "source": [
    "## 3. How are lambda functions typically used in Python? Provide an example use case."
   ]
  },
  {
   "cell_type": "markdown",
   "metadata": {},
   "source": [
    "Lambda functions in Python are typically used in situations where you need a small, anonymous function for a short-lived purpose. They are often used in functional programming, as well as in scenarios where a function is needed as an argument to another function. Here's an example use case to illustrate how lambda functions can be helpful:\n",
    "\n"
   ]
  },
  {
   "cell_type": "code",
   "execution_count": 4,
   "metadata": {},
   "outputs": [
    {
     "name": "stdout",
     "output_type": "stream",
     "text": [
      "('Sourav', 31)\n",
      "('Subhankar', 32)\n",
      "('Prodip', 34)\n",
      "('Atanu', 38)\n"
     ]
    }
   ],
   "source": [
    "\n",
    "colluge = [(\"Prodip\", 34), (\"Subhankar\", 32), (\"Atanu\", 38), (\"Sourav\", 31)]\n",
    "\n",
    "\n",
    "colluge_sorted = sorted(colluge, key=lambda x: x[1])\n",
    "\n",
    "\n",
    "for colluges in colluge_sorted:\n",
    "    print(colluges)\n"
   ]
  },
  {
   "cell_type": "markdown",
   "metadata": {},
   "source": [
    "## 4. What are the advantages and limitations of lambda functions compared to regular functions in Python?"
   ]
  },
  {
   "cell_type": "markdown",
   "metadata": {},
   "source": [
    "Lambda functions in Python have several advantages and limitations compared to regular functions:\n",
    "\n",
    "Advantages of Lambda Functions:\n",
    "1. Concise Syntax: Lambda functions allow you to define simple functions in a single line of code, making them more concise and readable in situations where a full function definition is not necessary.\n",
    "2. Anonymous Functions: Lambda functions are anonymous, meaning they do not require a name. This is useful in scenarios where you need a function for a short-lived purpose and do not want to define a named function.\n",
    "3. Function Composition: Lambda functions are often used in functional programming paradigms, where they can be easily combined and composed with other functions.\n",
    "\n",
    "Limitations of Lambda Functions:\n",
    "1. Limited Functionality: Lambda functions are limited to a single expression and cannot contain multiple statements or complex logic. They are primarily meant for simple, one-line operations.\n",
    "2. No Documentation String: Lambda functions do not support documentation strings (docstrings) like regular functions do. Docstrings are important for documenting the purpose and usage of functions.\n",
    "3. Reduced Readability: While lambda functions can be concise, they can also make the code less readable if they become too complex or if meaningful variable names are not used.\n",
    "4. Lack of Reusability: Lambda functions are designed for short-lived and one-time use cases. They are not suitable for scenarios where a function needs to be reused or called multiple times throughout the code.\n",
    "\n",
    "Overall, lambda functions provide a convenient way to create small, anonymous functions for simple tasks. However, for more complex operations or when reusability and documentation are important, regular named functions are typically a better choice."
   ]
  },
  {
   "cell_type": "markdown",
   "metadata": {},
   "source": [
    "## 5. Are lambda functions in Python able to access variables defined outside of their own scope? Explain with an example."
   ]
  },
  {
   "cell_type": "markdown",
   "metadata": {},
   "source": [
    "Yes, lambda functions in Python are able to access variables defined outside of their own scope. This is because lambda functions have access to the variables in the surrounding scope, similar to regular functions. "
   ]
  },
  {
   "cell_type": "code",
   "execution_count": 5,
   "metadata": {},
   "outputs": [
    {
     "name": "stdout",
     "output_type": "stream",
     "text": [
      "15\n"
     ]
    }
   ],
   "source": [
    "def outer_function():\n",
    "    x = 10\n",
    "    lambda_function = lambda y: x + y\n",
    "    return lambda_function\n",
    "\n",
    "my_lambda = outer_function()\n",
    "result = my_lambda(5)\n",
    "print(result)\n"
   ]
  },
  {
   "cell_type": "markdown",
   "metadata": {},
   "source": [
    "## 6. Write a lambda function to calculate the square of a given number."
   ]
  },
  {
   "cell_type": "code",
   "execution_count": 8,
   "metadata": {},
   "outputs": [],
   "source": [
    "sq = lambda x : x **2"
   ]
  },
  {
   "cell_type": "code",
   "execution_count": 9,
   "metadata": {},
   "outputs": [
    {
     "name": "stdout",
     "output_type": "stream",
     "text": [
      "25\n"
     ]
    }
   ],
   "source": [
    "result = sq(5)\n",
    "print(result)"
   ]
  },
  {
   "cell_type": "markdown",
   "metadata": {},
   "source": [
    "## 7. Create a lambda function to find the maximum value in a list of integers."
   ]
  },
  {
   "cell_type": "code",
   "execution_count": 10,
   "metadata": {},
   "outputs": [],
   "source": [
    "find_max = lambda mx : max(mx)"
   ]
  },
  {
   "cell_type": "code",
   "execution_count": 11,
   "metadata": {},
   "outputs": [
    {
     "name": "stdout",
     "output_type": "stream",
     "text": [
      "98\n"
     ]
    }
   ],
   "source": [
    "num = [10,20,30,50,52,21,98,2,65]\n",
    "result = find_max(num)\n",
    "print(result)"
   ]
  },
  {
   "cell_type": "markdown",
   "metadata": {},
   "source": [
    "## 8. Implement a lambda function to filter out all the even numbers from a list of integers."
   ]
  },
  {
   "cell_type": "code",
   "execution_count": 14,
   "metadata": {},
   "outputs": [],
   "source": [
    "find_even = lambda ev : list(filter(lambda x : x %2 == 0,ev))"
   ]
  },
  {
   "cell_type": "code",
   "execution_count": 15,
   "metadata": {},
   "outputs": [
    {
     "name": "stdout",
     "output_type": "stream",
     "text": [
      "[10, 20, 30, 50, 52, 98, 2]\n"
     ]
    }
   ],
   "source": [
    "num = [10,20,30,50,52,21,98,2,65]\n",
    "result = find_even(num)\n",
    "print(result)"
   ]
  },
  {
   "cell_type": "markdown",
   "metadata": {},
   "source": [
    "## 9. Write a lambda function to sort a list of strings in ascending order based on the length of each string."
   ]
  },
  {
   "cell_type": "code",
   "execution_count": 21,
   "metadata": {},
   "outputs": [],
   "source": [
    "sort_str = lambda s : sorted(s, key = lambda x :len(x))"
   ]
  },
  {
   "cell_type": "code",
   "execution_count": 22,
   "metadata": {},
   "outputs": [
    {
     "name": "stdout",
     "output_type": "stream",
     "text": [
      "['Mou', 'Basu', 'Prodip', 'Mumbai', 'Kolkata']\n"
     ]
    }
   ],
   "source": [
    "name = [\"Prodip\",\"Basu\",\"Mou\",\"Kolkata\",\"Mumbai\"]\n",
    "res = sort_str(name)\n",
    "print(res)"
   ]
  },
  {
   "cell_type": "markdown",
   "metadata": {},
   "source": [
    "## 10. Create a lambda function that takes two lists as input and returns a new list containing the common elements between the two lists."
   ]
  },
  {
   "cell_type": "code",
   "execution_count": 2,
   "metadata": {},
   "outputs": [
    {
     "name": "stdout",
     "output_type": "stream",
     "text": [
      "[4, 5]\n"
     ]
    }
   ],
   "source": [
    "lambda_function = lambda l1, l2: list(set(l1) & set(l2))\n",
    "list1 = [1, 2, 3, 4, 5]\n",
    "list2 = [4, 5, 6, 7, 8]\n",
    "\n",
    "result = lambda_function(list1, list2)\n",
    "print(result)\n"
   ]
  },
  {
   "cell_type": "markdown",
   "metadata": {},
   "source": [
    "# 11. Write a recursive function to calculate the factorial of a given positive integer."
   ]
  },
  {
   "cell_type": "code",
   "execution_count": 6,
   "metadata": {},
   "outputs": [],
   "source": [
    "def factorial(n):\n",
    "    if n == 0 or n == 1:\n",
    "            return 1\n",
    "    else:\n",
    "        return n * factorial(n-1)"
   ]
  },
  {
   "cell_type": "code",
   "execution_count": 8,
   "metadata": {},
   "outputs": [
    {
     "name": "stdout",
     "output_type": "stream",
     "text": [
      "120\n"
     ]
    }
   ],
   "source": [
    "result=factorial(5)\n",
    "print(result)"
   ]
  },
  {
   "cell_type": "markdown",
   "metadata": {},
   "source": [
    "# 12. Implement a recursive function to compute the nth Fibonacci number."
   ]
  },
  {
   "cell_type": "code",
   "execution_count": 9,
   "metadata": {},
   "outputs": [],
   "source": [
    "def fibo(n):\n",
    "    a,b = 0,1\n",
    "    for i in range(n):\n",
    "        print(a)\n",
    "        a,b = b,a + b"
   ]
  },
  {
   "cell_type": "code",
   "execution_count": 10,
   "metadata": {},
   "outputs": [
    {
     "name": "stdout",
     "output_type": "stream",
     "text": [
      "0\n",
      "1\n",
      "1\n",
      "2\n",
      "3\n",
      "5\n"
     ]
    }
   ],
   "source": [
    "fibo(6)"
   ]
  },
  {
   "cell_type": "markdown",
   "metadata": {},
   "source": [
    "# 13. Create a recursive function to find the sum of all the elements in a given list."
   ]
  },
  {
   "cell_type": "code",
   "execution_count": 19,
   "metadata": {},
   "outputs": [],
   "source": [
    "def sum_of_elements(lst):\n",
    "    if len(lst) == 0:\n",
    "        return 0\n",
    "    else:\n",
    "        return lst[0] + sum_of_elements(lst[1:])"
   ]
  },
  {
   "cell_type": "code",
   "execution_count": 20,
   "metadata": {},
   "outputs": [
    {
     "name": "stdout",
     "output_type": "stream",
     "text": [
      "14\n"
     ]
    }
   ],
   "source": [
    "l = [2,3,4,5]\n",
    "print(sum_of_elements(l))\n"
   ]
  },
  {
   "cell_type": "markdown",
   "metadata": {},
   "source": [
    "# 14. Write a recursive function to determine whether a given string is a palindrome."
   ]
  },
  {
   "cell_type": "code",
   "execution_count": 22,
   "metadata": {},
   "outputs": [],
   "source": [
    "def is_palindrom(s):\n",
    "    if len(s)<=1:\n",
    "        return True\n",
    "    elif s[0] != s[-1]:\n",
    "        return False\n",
    "    else:\n",
    "        return is_palindrom(s[1:-1])"
   ]
  },
  {
   "cell_type": "code",
   "execution_count": 23,
   "metadata": {},
   "outputs": [
    {
     "name": "stdout",
     "output_type": "stream",
     "text": [
      "True\n"
     ]
    }
   ],
   "source": [
    "print(is_palindrom(\"radar\"))"
   ]
  },
  {
   "cell_type": "code",
   "execution_count": 26,
   "metadata": {},
   "outputs": [
    {
     "name": "stdout",
     "output_type": "stream",
     "text": [
      "False\n"
     ]
    }
   ],
   "source": [
    "print(is_palindrom(\"abcaba\"))"
   ]
  },
  {
   "cell_type": "markdown",
   "metadata": {},
   "source": [
    "# 15. Implement a recursive function to find the greatest common divisor (GCD) of two positive integers."
   ]
  },
  {
   "cell_type": "markdown",
   "metadata": {},
   "source": [
    "gcd = greatest common divisior\n",
    "\n",
    "(10,15)\n",
    "\n",
    "         10)15(1\n",
    "           -10\n",
    "           -------\n",
    "              5)10(2\n",
    "               -10\n",
    "               ------\n",
    "                 0\n",
    "            Ans: 5"
   ]
  },
  {
   "cell_type": "code",
   "execution_count": 27,
   "metadata": {},
   "outputs": [],
   "source": [
    "def gcd(a,b):\n",
    "    if b == 0:\n",
    "        return a\n",
    "    else:\n",
    "        return gcd(b,a % b)"
   ]
  },
  {
   "cell_type": "code",
   "execution_count": 28,
   "metadata": {},
   "outputs": [
    {
     "name": "stdout",
     "output_type": "stream",
     "text": [
      "5\n"
     ]
    }
   ],
   "source": [
    "print(gcd(10,15))"
   ]
  }
 ],
 "metadata": {
  "kernelspec": {
   "display_name": "Python 3",
   "language": "python",
   "name": "python3"
  },
  "language_info": {
   "codemirror_mode": {
    "name": "ipython",
    "version": 3
   },
   "file_extension": ".py",
   "mimetype": "text/x-python",
   "name": "python",
   "nbconvert_exporter": "python",
   "pygments_lexer": "ipython3",
   "version": "3.8.5"
  }
 },
 "nbformat": 4,
 "nbformat_minor": 4
}
