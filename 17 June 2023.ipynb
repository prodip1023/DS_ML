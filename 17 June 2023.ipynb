{
 "cells": [
  {
   "cell_type": "markdown",
   "metadata": {},
   "source": [
    "# 1. What is the role of try and exception block?"
   ]
  },
  {
   "cell_type": "markdown",
   "metadata": {},
   "source": [
    "The try and except blocks in Python are used for exception handling.\n",
    "\n",
    "When you anticipate that a particular section of your code may raise an exception (an error), you can enclose that section of code within a try block. The purpose of the try block is to identify any potential exceptions that may occur during the execution of the code within it.\n",
    "\n",
    "If an exception occurs within the try block, the execution of the try block is immediately stopped, and the program flow is transferred to the corresponding except block. The except block is responsible for handling the raised exception. It allows you to define how your program should respond to the exception, whether it be logging an error, displaying a message, or taking corrective action."
   ]
  },
  {
   "cell_type": "code",
   "execution_count": null,
   "metadata": {},
   "outputs": [],
   "source": [
    "try:\n",
    "    # Code that may raise an exception\n",
    "    # ...\n",
    "except ExceptionType:\n",
    "    # Code to handle the exception\n",
    "    # ..."
   ]
  },
  {
   "cell_type": "markdown",
   "metadata": {},
   "source": [
    "# 2. What is the syntax for a basic try-except block?"
   ]
  },
  {
   "cell_type": "code",
   "execution_count": null,
   "metadata": {},
   "outputs": [],
   "source": [
    "try:\n",
    "    # Code that may raise an exception\n",
    "    # ...\n",
    "except ExceptionType:\n",
    "    # Code to handle the exception\n",
    "    # ...\n"
   ]
  },
  {
   "cell_type": "markdown",
   "metadata": {},
   "source": [
    "# 3. What happens if an exception occurs inside a try block and there is no matching except block?"
   ]
  },
  {
   "cell_type": "markdown",
   "metadata": {},
   "source": [
    "If an exception occurs inside a try block and there is no matching except block to handle that specific exception type, the exception will not be caught and the program will terminate abruptly. This is known as an \"unhandled exception.\""
   ]
  },
  {
   "cell_type": "code",
   "execution_count": 3,
   "metadata": {},
   "outputs": [
    {
     "ename": "ZeroDivisionError",
     "evalue": "division by zero",
     "output_type": "error",
     "traceback": [
      "\u001b[0;31m---------------------------------------------------------------------------\u001b[0m",
      "\u001b[0;31mZeroDivisionError\u001b[0m                         Traceback (most recent call last)",
      "\u001b[0;32m<ipython-input-3-8b0f49cb6562>\u001b[0m in \u001b[0;36m<module>\u001b[0;34m\u001b[0m\n\u001b[1;32m      1\u001b[0m \u001b[0;32mtry\u001b[0m\u001b[0;34m:\u001b[0m\u001b[0;34m\u001b[0m\u001b[0;34m\u001b[0m\u001b[0m\n\u001b[1;32m      2\u001b[0m     \u001b[0;31m# Code that may raise an exception\u001b[0m\u001b[0;34m\u001b[0m\u001b[0;34m\u001b[0m\u001b[0;34m\u001b[0m\u001b[0m\n\u001b[0;32m----> 3\u001b[0;31m     \u001b[0mx\u001b[0m \u001b[0;34m=\u001b[0m \u001b[0;36m10\u001b[0m \u001b[0;34m/\u001b[0m \u001b[0;36m0\u001b[0m  \u001b[0;31m# Raises a ZeroDivisionError\u001b[0m\u001b[0;34m\u001b[0m\u001b[0;34m\u001b[0m\u001b[0m\n\u001b[0m\u001b[1;32m      4\u001b[0m \u001b[0;32mexcept\u001b[0m \u001b[0mValueError\u001b[0m\u001b[0;34m:\u001b[0m\u001b[0;34m\u001b[0m\u001b[0;34m\u001b[0m\u001b[0m\n\u001b[1;32m      5\u001b[0m     \u001b[0;31m# This except block will not handle the ZeroDivisionError\u001b[0m\u001b[0;34m\u001b[0m\u001b[0;34m\u001b[0m\u001b[0;34m\u001b[0m\u001b[0m\n",
      "\u001b[0;31mZeroDivisionError\u001b[0m: division by zero"
     ]
    }
   ],
   "source": [
    "try:\n",
    "    # Code that may raise an exception\n",
    "    x = 10 / 0  # Raises a ZeroDivisionError\n",
    "except ValueError:\n",
    "    # This except block will not handle the ZeroDivisionError\n",
    "    print(\"Caught ValueError\")\n"
   ]
  },
  {
   "cell_type": "markdown",
   "metadata": {},
   "source": [
    "# 4. What is the difference between using a bare except block and specifying a specific exception type?"
   ]
  },
  {
   "cell_type": "markdown",
   "metadata": {},
   "source": [
    "<b>bare except block:</b>\n",
    "\n",
    "A bare except block is written as except: without specifying any exception type. It acts as a catch-all for any type of exception that may occur.\n",
    "\n",
    "When an exception occurs and there is a bare except block, it will catch all exceptions, including built-in exceptions, user-defined exceptions, and even system-level exceptions like KeyboardInterrupt and SystemExit.\n",
    "\n",
    "\n",
    "<b>Specific exception type:</b>\n",
    "\n",
    "  Specifying a specific exception type in an except block, such as except ValueError: or except FileNotFoundError:, allows you to handle a particular type of exception explicitly."
   ]
  },
  {
   "cell_type": "markdown",
   "metadata": {},
   "source": [
    "# 5. Can you have nested try-except blocks in Python? If yes, then give an example."
   ]
  },
  {
   "cell_type": "markdown",
   "metadata": {},
   "source": [
    "Yes, a try-except block can be nested inside another try-except block. This is known as <b> nested exception handling</b>. It allows for more granular error handling and enables handling different types of exceptions at different levels of the code."
   ]
  },
  {
   "cell_type": "code",
   "execution_count": 4,
   "metadata": {},
   "outputs": [
    {
     "name": "stdout",
     "output_type": "stream",
     "text": [
      "Division successful.\n",
      "35.0\n",
      "Error: Cannot divide by zero!\n",
      "None\n",
      "Error: Invalid operand type!\n",
      "None\n"
     ]
    }
   ],
   "source": [
    "def divide_numbers(a, b):\n",
    "    try:\n",
    "        try:\n",
    "            result = a / b\n",
    "        except ZeroDivisionError:\n",
    "            print(\"Error: Cannot divide by zero!\")\n",
    "            return None\n",
    "    except TypeError:\n",
    "        print(\"Error: Invalid operand type!\")\n",
    "        return None\n",
    "    else:\n",
    "        print(\"Division successful.\")\n",
    "        return result\n",
    "\n",
    "# Example 1: Successful division\n",
    "result_1 = divide_numbers(70, 2)\n",
    "print(result_1)\n",
    "# Output:\n",
    "# Division successful.\n",
    "# 35.0\n",
    "\n",
    "# Example 2: Division by zero\n",
    "result_2 = divide_numbers(70, 0)\n",
    "print(result_2)\n",
    "# Output:\n",
    "# Error: Cannot divide by zero!\n",
    "# None\n",
    "\n",
    "# Example 3: Invalid operand type\n",
    "result_3 = divide_numbers(70, '2')\n",
    "print(result_3)\n",
    "# Output:\n",
    "# Error: Invalid operand type!\n",
    "# None\n"
   ]
  },
  {
   "cell_type": "markdown",
   "metadata": {},
   "source": [
    "# 6. Can we use multiple exception blocks, if yes then give an example."
   ]
  },
  {
   "cell_type": "code",
   "execution_count": 7,
   "metadata": {},
   "outputs": [
    {
     "name": "stdout",
     "output_type": "stream",
     "text": [
      "Enter a number: '2'\n",
      "Invalid input! Please enter a valid number.\n"
     ]
    }
   ],
   "source": [
    "try:\n",
    "    \n",
    "    x = int(input(\"Enter a number: \"))\n",
    "    result = 10 / x\n",
    "    print(\"Result:\", result)\n",
    "except ValueError:\n",
    "    print(\"Invalid input! Please enter a valid number.\")\n",
    "except ZeroDivisionError:\n",
    "    print(\"Error: Division by zero!\")\n",
    "except Exception as e:\n",
    "    print(\"An unexpected error occurred:\", e)\n"
   ]
  },
  {
   "cell_type": "markdown",
   "metadata": {},
   "source": [
    "# 7. Write the reason due to which following errors are raised:\n",
    "    a. EOFError\n",
    "    b. FloatingPointError\n",
    "    c. IndexError\n",
    "    d. MemoryError\n",
    "    e. OverflowError\n",
    "    f. TabError\n",
    "    g. ValueError"
   ]
  },
  {
   "cell_type": "markdown",
   "metadata": {},
   "source": [
    "* <b> EOFError </b> :\n",
    "    An EOFError is a specific exception type that occurs when the input() function or raw_input() function (in Python 2) reaches the end-of-file (EOF) condition. \n",
    "    It is raised when there is no more input to read from the user or the input stream."
   ]
  },
  {
   "cell_type": "code",
   "execution_count": null,
   "metadata": {},
   "outputs": [],
   "source": [
    "try:\n",
    "    user_input = input(\"Enter a value: \")\n",
    "except EOFError:\n",
    "    print(\"End-of-file (EOF) reached. No more input.\")\n"
   ]
  },
  {
   "cell_type": "markdown",
   "metadata": {},
   "source": [
    "<b>FloatingPointError </b>:\n",
    "    The FloatingPointError exception does not exist in Python. However, there are related exception types that can occur when working with floating-point numbers.\n",
    "    This exception is raised when you attempt to divide a number by zero. It is a common error when performing floating-point calculations."
   ]
  },
  {
   "cell_type": "code",
   "execution_count": null,
   "metadata": {},
   "outputs": [],
   "source": [
    "import sys\n",
    "\n",
    "try:\n",
    "    result = sys.float_info.max * 2\n",
    "except OverflowError:\n",
    "    print(\"Error: Floating-point overflow!\")\n"
   ]
  },
  {
   "cell_type": "markdown",
   "metadata": {},
   "source": [
    "<b>IndexError</b> :\n",
    "   The IndexError exception is raised when you try to access an index that is out of range for a sequence (such as a list, tuple, or string) or when trying to access an element in an empty sequence.\n"
   ]
  },
  {
   "cell_type": "code",
   "execution_count": null,
   "metadata": {},
   "outputs": [],
   "source": [
    "try:\n",
    "    my_list = [1, 2, 3]\n",
    "    print(my_list[5])  # Trying to access index 5, which is out of range\n",
    "except IndexError:\n",
    "    print(\"Error: Index out of range!\")\n"
   ]
  },
  {
   "cell_type": "markdown",
   "metadata": {},
   "source": [
    "<b>MemoryError</b> :\n",
    "    The MemoryError exception is raised when an operation cannot be completed due to insufficient memory resources. It occurs when your program attempts to allocate more memory than the system can provide.\n"
   ]
  },
  {
   "cell_type": "code",
   "execution_count": null,
   "metadata": {},
   "outputs": [],
   "source": [
    "try:\n",
    "    large_list = [0] * (10**9)  # Attempt to allocate a large list\n",
    "except MemoryError:\n",
    "    print(\"Error: Insufficient memory to allocate the list!\")\n"
   ]
  },
  {
   "cell_type": "markdown",
   "metadata": {},
   "source": [
    "<b>OverflowError</b> :\n",
    "    The OverflowError exception is raised when a calculation exceeds the maximum representable value for a numeric type in Python. It occurs when the result of an arithmetic operation is too large to be stored within the range supported by the data type.\n"
   ]
  },
  {
   "cell_type": "code",
   "execution_count": null,
   "metadata": {},
   "outputs": [],
   "source": [
    "try:\n",
    "    result = 10 ** 1000  # Attempt to calculate an extremely large number\n",
    "except OverflowError:\n",
    "    print(\"Error: Arithmetic operation resulted in an overflow!\")\n"
   ]
  },
  {
   "cell_type": "markdown",
   "metadata": {},
   "source": [
    "<b>TabError</b> :\n",
    "    The TabError exception is raised when there is an issue with the indentation of code involving tabs. It occurs when there is a mix of tabs and spaces, or when tabs are used inconsistently, leading to indentation errors.\n"
   ]
  },
  {
   "cell_type": "code",
   "execution_count": null,
   "metadata": {},
   "outputs": [],
   "source": [
    "try:\n",
    "    # Incorrect indentation using a mix of tabs and spaces\n",
    "    if True:\n",
    "        print(\"Hello\")\n",
    "           print(\"World\")  # IndentationError: unexpected indent\n",
    "except TabError:\n",
    "    print(\"Error: Tab-related indentation issue!\")\n"
   ]
  },
  {
   "cell_type": "markdown",
   "metadata": {},
   "source": [
    "<b>ValueError</b> :\n",
    "    The ValueError exception is a built-in exception in Python that is raised when a function receives an argument of the correct data type but an inappropriate value. It indicates that the value provided is invalid or outside the expected range or format.\n",
    "\n"
   ]
  },
  {
   "cell_type": "code",
   "execution_count": null,
   "metadata": {},
   "outputs": [],
   "source": [
    "try:\n",
    "    num = int(input(\"Enter a positive integer: \"))\n",
    "    if num <= 0:\n",
    "        raise ValueError(\"Invalid input: The number must be positive.\")\n",
    "except ValueError as ve:\n",
    "    print(\"Error:\", str(ve))\n"
   ]
  },
  {
   "cell_type": "markdown",
   "metadata": {},
   "source": [
    "# 8. Write code for the following given scenario and add try-exception block to it.\n",
    "    a. Program to divide two numbers\n",
    "    b. Program to convert a string to an integer\n",
    "    c. Program to access an element in a list\n",
    "    d. Program to handle a specific exception\n",
    "    e. Program to handle any exception"
   ]
  },
  {
   "cell_type": "code",
   "execution_count": 16,
   "metadata": {},
   "outputs": [
    {
     "name": "stdout",
     "output_type": "stream",
     "text": [
      "Enter the first number:10\n",
      "Enter the second number:0\n",
      "Error: Cannot divide by zero!\n"
     ]
    }
   ],
   "source": [
    "# Program to divide two numbers\n",
    "try:\n",
    "    num1 = int(input(\"Enter the first number:\"))\n",
    "    num2 = int(input(\"Enter the second number:\"))\n",
    "    result = num1/num2\n",
    "    print(\"result:\",result)\n",
    "except ValueError:\n",
    "    print(\"Invalid input! Please enter a valid number.\")\n",
    "except ZeroDivisionError:\n",
    "    print(\"Error: Cannot divide by zero!\")"
   ]
  },
  {
   "cell_type": "code",
   "execution_count": 19,
   "metadata": {},
   "outputs": [
    {
     "name": "stdout",
     "output_type": "stream",
     "text": [
      "Enter the first number:'40\n",
      "Invalid input! Please enter a valid number.\n"
     ]
    }
   ],
   "source": [
    "# Program to convert a string to an integer\n",
    "try:\n",
    "    str_num = input(\"Enter the first number:\") \n",
    "    new_num = int(str_num)\n",
    "    print(new_num)\n",
    "except ValueError:\n",
    "    print(\"Invalid input! Please enter a valid number.\") "
   ]
  },
  {
   "cell_type": "code",
   "execution_count": 22,
   "metadata": {},
   "outputs": [
    {
     "name": "stdout",
     "output_type": "stream",
     "text": [
      "Enter an index: 199\n",
      "Error: Index out of range!\n"
     ]
    }
   ],
   "source": [
    "# Program to access an element in a list\n",
    "try:\n",
    "    my_list = [1, 2, 3, 4, 5]\n",
    "    index = int(input(\"Enter an index: \"))\n",
    "\n",
    "    element = my_list[index]\n",
    "    print(\"Element at index\", index, \"is:\", element)\n",
    "\n",
    "except IndexError:\n",
    "    print(\"Error: Index out of range!\")\n",
    "\n",
    "except ValueError:\n",
    "    print(\"Error: Invalid input! Please enter a valid integer.\")\n"
   ]
  },
  {
   "cell_type": "code",
   "execution_count": 2,
   "metadata": {},
   "outputs": [
    {
     "name": "stdout",
     "output_type": "stream",
     "text": [
      "Error: Index out of range!\n"
     ]
    }
   ],
   "source": [
    "# Program to handle a specific exception\n",
    "try:\n",
    "    my_list = [1, 2, 3]\n",
    "    print(my_list[5])  # Trying to access index 5, which is out of range\n",
    "except IndexError:\n",
    "    print(\"Error: Index out of range!\")"
   ]
  },
  {
   "cell_type": "code",
   "execution_count": 3,
   "metadata": {},
   "outputs": [
    {
     "name": "stdout",
     "output_type": "stream",
     "text": [
      "The result of division is: 5.0\n",
      "An exception occurred: division by zero\n",
      "An exception occurred: unsupported operand type(s) for /: 'int' and 'str'\n"
     ]
    }
   ],
   "source": [
    "# Program to handle any exception\n",
    "\n",
    "def divide_numbers(a, b):\n",
    "    try:\n",
    "        result = a / b\n",
    "        print(\"The result of division is:\", result)\n",
    "    except Exception as e:\n",
    "        print(\"An exception occurred:\", str(e))\n",
    "\n",
    "# Example usage\n",
    "divide_numbers(10, 2)   # Normal division, no exception\n",
    "divide_numbers(10, 0)   # Division by zero, raises an exception\n",
    "divide_numbers(10, '2') # Invalid operation, raises an exception\n"
   ]
  }
 ],
 "metadata": {
  "kernelspec": {
   "display_name": "Python 3",
   "language": "python",
   "name": "python3"
  }
 },
 "nbformat": 4,
 "nbformat_minor": 4
}
