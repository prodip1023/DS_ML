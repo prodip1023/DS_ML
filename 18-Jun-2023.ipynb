{
 "cells": [
  {
   "cell_type": "markdown",
   "metadata": {},
   "source": [
    "# 1. What is the role of the 'else' block in a try-except statement? Provide an example scenario where it would be useful."
   ]
  },
  {
   "cell_type": "markdown",
   "metadata": {},
   "source": [
    "In a try-except statement, the 'else' block is an optional part that is executed if no exceptions are raised within the 'try' block. Its role is to specify the code that should be executed when the 'try' block completes successfully without any exceptions.\n",
    "\n",
    "The 'else' block is useful in scenarios where you want to perform certain actions only if the code in the 'try' block succeeds without any exceptions. It allows you to separate the normal execution path from the exception handling path and handle each appropriately.\n",
    "\n"
   ]
  },
  {
   "cell_type": "code",
   "execution_count": 2,
   "metadata": {},
   "outputs": [
    {
     "name": "stdout",
     "output_type": "stream",
     "text": [
      "Division successful.\n",
      "34.0\n",
      "Error: Cannot divide by zero!\n",
      "None\n"
     ]
    }
   ],
   "source": [
    "def divide_numbers(a, b):\n",
    "    try:\n",
    "        result = a / b\n",
    "    except ZeroDivisionError:\n",
    "        print(\"Error: Cannot divide by zero!\")\n",
    "    else:\n",
    "        print(\"Division successful.\")\n",
    "        return result\n",
    "\n",
    "# Example 1: Successful division\n",
    "result1 = divide_numbers(68, 2)\n",
    "print(result1)\n",
    "# Output:\n",
    "# Division successful.\n",
    "# 34.0\n",
    "\n",
    "# Example 2: Division by zero\n",
    "result2 = divide_numbers(76, 0)\n",
    "print(result2)\n",
    "# Output:\n",
    "# Error: Cannot divide by zero!\n",
    "# None\n"
   ]
  },
  {
   "cell_type": "markdown",
   "metadata": {},
   "source": [
    "# 2. Can a try-except block be nested inside another try-except block? Explain with an example."
   ]
  },
  {
   "cell_type": "markdown",
   "metadata": {},
   "source": [
    "Yes, a try-except block can be nested inside another try-except block. This is known as <b> nested exception handling</b>. It allows for more granular error handling and enables handling different types of exceptions at different levels of the code."
   ]
  },
  {
   "cell_type": "code",
   "execution_count": 4,
   "metadata": {},
   "outputs": [
    {
     "name": "stdout",
     "output_type": "stream",
     "text": [
      "Division successful.\n",
      "35.0\n",
      "Error: Cannot divide by zero!\n",
      "None\n",
      "Error: Invalid operand type!\n",
      "None\n"
     ]
    }
   ],
   "source": [
    "def divide_numbers(a, b):\n",
    "    try:\n",
    "        try:\n",
    "            result = a / b\n",
    "        except ZeroDivisionError:\n",
    "            print(\"Error: Cannot divide by zero!\")\n",
    "            return None\n",
    "    except TypeError:\n",
    "        print(\"Error: Invalid operand type!\")\n",
    "        return None\n",
    "    else:\n",
    "        print(\"Division successful.\")\n",
    "        return result\n",
    "\n",
    "# Example 1: Successful division\n",
    "result_1 = divide_numbers(70, 2)\n",
    "print(result_1)\n",
    "# Output:\n",
    "# Division successful.\n",
    "# 35.0\n",
    "\n",
    "# Example 2: Division by zero\n",
    "result_2 = divide_numbers(70, 0)\n",
    "print(result_2)\n",
    "# Output:\n",
    "# Error: Cannot divide by zero!\n",
    "# None\n",
    "\n",
    "# Example 3: Invalid operand type\n",
    "result_3 = divide_numbers(70, '2')\n",
    "print(result_3)\n",
    "# Output:\n",
    "# Error: Invalid operand type!\n",
    "# None\n"
   ]
  },
  {
   "cell_type": "markdown",
   "metadata": {},
   "source": [
    "# 3. How can you create a custom exception class in Python? Provide an example that demonstrates its usage."
   ]
  },
  {
   "cell_type": "code",
   "execution_count": 5,
   "metadata": {},
   "outputs": [],
   "source": [
    "class CustomException(Exception):\n",
    "    pass"
   ]
  },
  {
   "cell_type": "code",
   "execution_count": 21,
   "metadata": {},
   "outputs": [
    {
     "name": "stdout",
     "output_type": "stream",
     "text": [
      "Insufficient balance. Available: 1000, Required: 2500\n"
     ]
    }
   ],
   "source": [
    "class InsufficientBalanceError(Exception):\n",
    "    def __init__(self, balance, amount):\n",
    "        self.balance = balance\n",
    "        self.amount = amount\n",
    "        message = f\"Insufficient balance. Available: {balance}, Required: {amount}\"\n",
    "        super().__init__(message)\n",
    "        \n",
    "    def withdraw(balance, amount):\n",
    "        if amount > balance:\n",
    "            raise InsufficientBalanceError(balance, amount)\n",
    "        else:\n",
    "            print(\"Withdrawal successful.\")\n",
    "\n",
    "    try:\n",
    "        withdraw(1000, 2500)\n",
    "    except InsufficientBalanceError as e:\n",
    "        print(e)\n"
   ]
  },
  {
   "cell_type": "markdown",
   "metadata": {},
   "source": [
    "# 4. What are some common exceptions that are built-in to Python?"
   ]
  },
  {
   "cell_type": "markdown",
   "metadata": {},
   "source": [
    "\n",
    "Python provides several built-in exceptions that cover a wide range of common error scenarios. Here are some commonly used built-in exceptions in Python:\n",
    "\n",
    "1. TypeError: Raised when an operation or function is applied to an object of an inappropriate type.\n",
    "2. ValueError: Raised when a function receives an argument of the correct type but with an invalid value.\n",
    "3. NameError: Raised when a local or global name is not found.\n",
    "4. IndexError: Raised when a sequence subscript is out of range.\n",
    "5. KeyError: Raised when a dictionary key is not found.\n",
    "6. FileNotFoundError: Raised when an attempt to open a file fails because the file cannot be found.\n",
    "7. IOError: Raised when an I/O operation fails (e.g., reading or writing a file).\n",
    "8. ZeroDivisionError: Raised when division or modulo operation is performed with zero as the divisor.\n",
    "9. AttributeError: Raised when an attribute reference or assignment fails.\n",
    "10. ImportError: Raised when an import statement fails to find the specified module.\n",
    "11. TypeError: Raised when an operation or function is applied to an object of an inappropriate type.\n",
    "12. OverflowError: Raised when the result of an arithmetic operation is too large to be represented within the available numeric range.\n",
    "13. MemoryError: Raised when an operation runs out of memory."
   ]
  },
  {
   "cell_type": "markdown",
   "metadata": {},
   "source": [
    "# 5. What is logging in Python, and why is it important in software development?"
   ]
  },
  {
   "cell_type": "markdown",
   "metadata": {},
   "source": [
    "Logging in Python refers to the process of recording events, messages, and information during the execution of a program. It is a valuable technique for tracking and analyzing the behavior of a software application. The logging module in Python provides a robust and flexible framework for generating log records."
   ]
  },
  {
   "cell_type": "markdown",
   "metadata": {},
   "source": [
    "Logging is important in software development for the following reasons:\n",
    "1. Debugging and Troubleshooting\n",
    "2. Error and Exception Handling\n",
    "3. Monitoring and Analysis\n",
    "4. Auditing and Compliance\n",
    "5. System Health and Performance\n",
    "6. Historical Record"
   ]
  },
  {
   "cell_type": "markdown",
   "metadata": {},
   "source": [
    "# 6. Explain the purpose of log levels in Python logging and provide examples of when each log level would be appropriate."
   ]
  },
  {
   "cell_type": "markdown",
   "metadata": {},
   "source": [
    "In Python logging, log levels are used to categorize and prioritize log messages based on their importance or severity."
   ]
  },
  {
   "cell_type": "markdown",
   "metadata": {},
   "source": [
    "#### 1. DEBUG:\n",
    "      This log level is used for detailed information, typically useful for debugging and diagnosing issues during development. It is appropriate when you need to trace the program's execution flow, inspect variable values, or log fine-grained details\n"
   ]
  },
  {
   "cell_type": "code",
   "execution_count": 28,
   "metadata": {},
   "outputs": [
    {
     "name": "stderr",
     "output_type": "stream",
     "text": [
      "DEBUG:root:Variables are 1 and 2\n"
     ]
    },
    {
     "data": {
      "text/plain": [
       "3"
      ]
     },
     "execution_count": 28,
     "metadata": {},
     "output_type": "execute_result"
    }
   ],
   "source": [
    "import logging\n",
    "\n",
    "logging.basicConfig(level=logging.DEBUG)\n",
    "\n",
    "def add(x, y):\n",
    "    logging.debug('Variables are %s and %s', x, y)\n",
    "    return x + y\n",
    "\n",
    "add(1, 2)"
   ]
  },
  {
   "cell_type": "markdown",
   "metadata": {},
   "source": [
    "#### 2. INFO:\n",
    "        The INFO log level is used to convey general information about the program's execution. It is appropriate for tracking the program's major milestones, important events, or significant progress updates.\n"
   ]
  },
  {
   "cell_type": "code",
   "execution_count": 29,
   "metadata": {},
   "outputs": [
    {
     "name": "stderr",
     "output_type": "stream",
     "text": [
      "INFO:root:User Admin User logged in\n"
     ]
    }
   ],
   "source": [
    "import logging\n",
    "\n",
    "logging.basicConfig(level=logging.INFO)\n",
    "\n",
    "def login(user):\n",
    "    logging.info('User %s logged in', user)\n",
    "\n",
    "login('Admin User')\n"
   ]
  },
  {
   "cell_type": "markdown",
   "metadata": {},
   "source": [
    "#### 3. WARNING: \n",
    "     The WARNING log level indicates potentially harmful or unexpected situations that are not necessarily errors. It is used to alert about issues that might need attention or could lead to problems if not addressed.\n"
   ]
  },
  {
   "cell_type": "code",
   "execution_count": 30,
   "metadata": {},
   "outputs": [
    {
     "name": "stderr",
     "output_type": "stream",
     "text": [
      "WARNING:root:Sorry you have Low balance: 10000\n"
     ]
    }
   ],
   "source": [
    "import logging\n",
    "\n",
    "logging.basicConfig(level=logging.WARNING)\n",
    "\n",
    "def MyBalance(amount):\n",
    "    if amount < 40000:\n",
    "        logging.warning('Sorry you have Low balance: %s', amount)\n",
    "\n",
    "MyBalance(10000)\n"
   ]
  },
  {
   "cell_type": "markdown",
   "metadata": {},
   "source": [
    "#### 4. ERROR: \n",
    "    The ERROR log level is used to indicate errors that caused a specific operation or function to fail. It  suggests that something went wrong but the program can still continue executing."
   ]
  },
  {
   "cell_type": "code",
   "execution_count": 31,
   "metadata": {},
   "outputs": [
    {
     "name": "stderr",
     "output_type": "stream",
     "text": [
      "ERROR:root:You are trying to divide by zero, which is not allowed\n"
     ]
    }
   ],
   "source": [
    "import logging\n",
    "\n",
    "logging.basicConfig(level=logging.ERROR)\n",
    "\n",
    "def LetUsDivide(n, d):\n",
    "    try:\n",
    "        result = n / d\n",
    "    except ZeroDivisionError:\n",
    "        logging.error('You are trying to divide by zero, which is not allowed')\n",
    "    else:\n",
    "        return result\n",
    "\n",
    "LetUsDivide(4, 0)\n"
   ]
  },
  {
   "cell_type": "markdown",
   "metadata": {},
   "source": [
    "#### 5. CRITICAL: \n",
    "    The CRITICAL log level represents the highest severity level. It is used to indicate critical errors or failures that might result in the termination of the program or significant malfunction."
   ]
  },
  {
   "cell_type": "code",
   "execution_count": 32,
   "metadata": {},
   "outputs": [
    {
     "name": "stderr",
     "output_type": "stream",
     "text": [
      "CRITICAL:root:System failure: You need to handle the issue now\n"
     ]
    }
   ],
   "source": [
    "import logging\n",
    "\n",
    "logging.basicConfig(level=logging.CRITICAL)\n",
    "\n",
    "def LetUsCheckSystem(sys):\n",
    "    if sys != 'OK':\n",
    "        logging.critical('System failure: %s', sys)\n",
    "\n",
    "LetUsCheckSystem('You need to handle the issue now')\n"
   ]
  },
  {
   "cell_type": "markdown",
   "metadata": {},
   "source": [
    "# 7. What are log formatters in Python logging, and how can you customise the log message format using formatters?"
   ]
  },
  {
   "cell_type": "markdown",
   "metadata": {},
   "source": [
    "In Python logging, log formatters are used to specify the format of the log messages that are emitted by the logging system. Formatters define the structure and content of log records, including timestamp, log level, message, and additional information.\n",
    "\n",
    "The logging module provides the Formatter class, which is used to customize the log message format. You can create an instance of the Formatter class and specify the desired format pattern using special placeholders and formatting directives.\n",
    "\n"
   ]
  },
  {
   "cell_type": "code",
   "execution_count": 33,
   "metadata": {},
   "outputs": [
    {
     "name": "stderr",
     "output_type": "stream",
     "text": [
      "2023-07-06 22:42:41,031 - DEBUG - This is a debug message.\n",
      "DEBUG:my_logger:This is a debug message.\n",
      "2023-07-06 22:42:41,043 - INFO - This is an informational message.\n",
      "INFO:my_logger:This is an informational message.\n",
      "2023-07-06 22:42:41,049 - WARNING - This is a warning message.\n",
      "WARNING:my_logger:This is a warning message.\n"
     ]
    }
   ],
   "source": [
    "import logging\n",
    "\n",
    "# Create a Formatter object with custom format pattern\n",
    "formatter = logging.Formatter('%(asctime)s - %(levelname)s - %(message)s')\n",
    "\n",
    "# Create a StreamHandler and set the formatter\n",
    "\n",
    "stream_handler = logging.StreamHandler()\n",
    "stream_handler.setFormatter(formatter)\n",
    "\n",
    "# Create a Logger and add the StreamHandler\n",
    "\n",
    "logger = logging.getLogger('my_logger')\n",
    "logger.addHandler(stream_handler)\n",
    "\n",
    "# Log some messages\n",
    "\n",
    "logger.debug('This is a debug message.')\n",
    "logger.info('This is an informational message.')\n",
    "logger.warning('This is a warning message.')"
   ]
  },
  {
   "cell_type": "markdown",
   "metadata": {},
   "source": [
    "# 8. How can you set up logging to capture log messages from multiple modules or classes in a Python application?"
   ]
  },
  {
   "cell_type": "code",
   "execution_count": 34,
   "metadata": {},
   "outputs": [
    {
     "name": "stderr",
     "output_type": "stream",
     "text": [
      "DEBUG:__main__:This is a debug message from the main module\n",
      "INFO:another_module:This is an info message from another module\n"
     ]
    }
   ],
   "source": [
    "import logging\n",
    "\n",
    "# Create a logger for the main module\n",
    "logger = logging.getLogger(__name__)\n",
    "logger.setLevel(logging.DEBUG)\n",
    "\n",
    "# Create a FileHandler to write log messages to a file\n",
    "file_handler = logging.FileHandler('app.log')\n",
    "file_handler.setLevel(logging.DEBUG)\n",
    "\n",
    "# Create a Formatter for the log message format\n",
    "formatter = logging.Formatter('%(asctime)s - %(name)s - %(levelname)s - %(message)s')\n",
    "file_handler.setFormatter(formatter)\n",
    "\n",
    "# Add the FileHandler to the logger\n",
    "logger.addHandler(file_handler)\n",
    "\n",
    "# Log some messages from different modules or classes\n",
    "logger.debug('This is a debug message from the main module')\n",
    "\n",
    "# In another module or class...\n",
    "another_logger = logging.getLogger('another_module')\n",
    "another_logger.setLevel(logging.INFO)\n",
    "another_logger.addHandler(file_handler)\n",
    "another_logger.info('This is an info message from another module')\n"
   ]
  },
  {
   "cell_type": "markdown",
   "metadata": {},
   "source": [
    "# 9. What is the difference between the logging and print statements in Python? When should you use logging over print statements in a real-world application?"
   ]
  },
  {
   "cell_type": "markdown",
   "metadata": {},
   "source": [
    "1. Granularity and Control:\n",
    "     Logging allows you to specify different log levels (e.g., DEBUG, INFO, WARNING, ERROR, CRITICAL) to categorize and prioritize log messages. This allows for more granular control over what information is logged and when. With print statements, you have limited control over the level of detail and cannot easily filter or configure the output.\n",
    "\n",
    "2. Flexibility and Configuration:\n",
    "    The logging module provides a range of features and options to configure the logging behavior. You can customize the log format, choose output destinations (e.g., console, files, external services), enable or disable logging for specific modules or classes, and even redirect log messages to different handlers based on severity. These capabilities are not available with print statements.\n",
    "\n",
    "3. Contextual Information:\n",
    "    Logging allows you to include contextual information in log messages, such as timestamps, log levels, module names, line numbers, and additional metadata. This information can be invaluable for debugging, troubleshooting, and monitoring purposes. With print statements, you need to manually include such details, which can become tedious and error-prone.\n",
    "\n",
    "4. Performance Considerations: \n",
    "    Logging can be more efficient than printing to the console, especially in scenarios where a large volume of log messages is generated. Logging allows you to fine-tune the log output, control the level of detail, and optimize performance by leveraging handlers and filters.\n"
   ]
  },
  {
   "cell_type": "code",
   "execution_count": 35,
   "metadata": {},
   "outputs": [
    {
     "name": "stderr",
     "output_type": "stream",
     "text": [
      "INFO:root:Starting the program\n",
      "INFO:root:Calculating the sum of 10 and 20\n",
      "DEBUG:root:Sum result: 30\n",
      "INFO:root:The sum of 10 and 20 is 30\n",
      "INFO:root:Program finished\n"
     ]
    }
   ],
   "source": [
    "import logging\n",
    "\n",
    "# Configure the logging module\n",
    "logging.basicConfig(level=logging.DEBUG, filename='app.log', filemode='w', format='%(asctime)s - %(levelname)s - %(message)s')\n",
    "\n",
    "def calculate_sum(a, b):\n",
    "    logging.info(\"Calculating the sum of {} and {}\".format(a, b))\n",
    "    result = a + b\n",
    "    logging.debug(\"Sum result: {}\".format(result))\n",
    "    return result\n",
    "\n",
    "def main():\n",
    "    logging.info(\"Starting the program\")\n",
    "    num1 = 10\n",
    "    num2 = 20\n",
    "    sum_result = calculate_sum(num1, num2)\n",
    "    logging.info(\"The sum of {} and {} is {}\".format(num1, num2, sum_result))\n",
    "    logging.info(\"Program finished\")\n",
    "\n",
    "if __name__ == '__main__':\n",
    "    main()\n"
   ]
  },
  {
   "cell_type": "markdown",
   "metadata": {},
   "source": [
    "# 10. Write a Python program that logs a message to a file named \"app.log\" with the following requirements:\n",
    "*  The log message should be \"Hello, World!\"\n",
    "*  The log level should be set to \"INFO.\"\n",
    "*  The log file should append new log entries without overwriting previous ones."
   ]
  },
  {
   "cell_type": "code",
   "execution_count": 36,
   "metadata": {},
   "outputs": [
    {
     "name": "stderr",
     "output_type": "stream",
     "text": [
      "INFO:root:Hello, World!\n"
     ]
    }
   ],
   "source": [
    "import logging\n",
    "\n",
    "# Configure the logging module\n",
    "logging.basicConfig(\n",
    "    level=logging.INFO,\n",
    "    filename='app.log',\n",
    "    filemode='a',  # Append mode to add new log entries without overwriting\n",
    "    format='%(asctime)s - %(levelname)s - %(message)s'\n",
    ")\n",
    "\n",
    "# Log the message\n",
    "logging.info(\"Hello, World!\")\n"
   ]
  },
  {
   "cell_type": "markdown",
   "metadata": {},
   "source": [
    "# 11. Create a Python program that logs an error message to the console and a file named \"errors.log\" if an exception occurs during the program's execution. The error message should include the exception type and a timestamp."
   ]
  },
  {
   "cell_type": "code",
   "execution_count": 7,
   "metadata": {},
   "outputs": [
    {
     "name": "stderr",
     "output_type": "stream",
     "text": [
      "2023-07-07 00:19:54,291 - ERROR - ZeroDivisionError occurred at 2023-07-07 00:19:54.291564\n"
     ]
    },
    {
     "name": "stdout",
     "output_type": "stream",
     "text": [
      "An error occurred. Please check the 'errors.log' file for details.\n"
     ]
    }
   ],
   "source": [
    "import logging\n",
    "import datetime\n",
    "\n",
    "logging.basicConfig(\n",
    "    level=logging.ERROR,\n",
    "    format='%(asctime)s - %(levelname)s - %(message)s'\n",
    ")\n",
    "\n",
    "# Create a FileHandler to log errors to the file\n",
    "file_handler = logging.FileHandler('errors.log')\n",
    "file_handler.setLevel(logging.ERROR)\n",
    "\n",
    "# Create a Formatter for the FileHandler\n",
    "file_formatter = logging.Formatter('%(asctime)s - %(levelname)s - %(message)s')\n",
    "file_handler.setFormatter(file_formatter)\n",
    "\n",
    "\n",
    "# Add the FileHandler to the root logger\n",
    "logging.getLogger('').addHandler(file_handler)\n",
    "\n",
    "try:\n",
    "    1 / 0\n",
    "except Exception as e:\n",
    "    # Log the error message\n",
    "    error_message = f\"{type(e).__name__} occurred at {datetime.datetime.now()}\"\n",
    "    logging.error(error_message)\n",
    "    print(\"An error occurred. Please check the 'errors.log' file for details.\")"
   ]
  }
 ],
 "metadata": {
  "kernelspec": {
   "display_name": "Python 3",
   "language": "python",
   "name": "python3"
  },
  "language_info": {
   "codemirror_mode": {
    "name": "ipython",
    "version": 3
   },
   "file_extension": ".py",
   "mimetype": "text/x-python",
   "name": "python",
   "nbconvert_exporter": "python",
   "pygments_lexer": "ipython3",
   "version": "3.8.5"
  }
 },
 "nbformat": 4,
 "nbformat_minor": 4
}
