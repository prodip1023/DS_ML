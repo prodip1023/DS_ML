{
 "cells": [
  {
   "cell_type": "markdown",
   "metadata": {},
   "source": [
    "# 1. In the below elements which of them are values or an expression? eg:- values can be integer or string and expressions will be mathematical operators.\n",
    "\n",
    "*\n",
    "\n",
    "'hello'\n",
    "\n",
    "-87.8\n",
    "\n",
    "-\n",
    "\n",
    "/\n",
    "\n",
    "+\n",
    "\n",
    "6"
   ]
  },
  {
   "cell_type": "markdown",
   "metadata": {},
   "source": [
    "# Ans :\n",
    " ### *  ->    expression\n",
    "\n",
    "### 'hello' -> values\n",
    "\n",
    "### -87.8 -> values\n",
    "\n",
    "### - ->    expression\n",
    "\n",
    "### /  ->   expression\n",
    "\n",
    "### +  ->   expression\n",
    "\n",
    "### 6  ->   values"
   ]
  },
  {
   "cell_type": "markdown",
   "metadata": {},
   "source": [
    "# 2. What is the difference between string and variable?\n"
   ]
  },
  {
   "attachments": {},
   "cell_type": "markdown",
   "metadata": {},
   "source": [
    "# Ans :\n",
    "\n",
    "### String -> The String is a collection of words, alphabets, or other characters. It is immutable and uses single or double inverted commas.\n",
    "\n",
    "### example -\n",
    "###         'hello'\n",
    "###         \" hello\"\n",
    "         \n",
    "\n",
    "### Variable -> Variables are containers for storing data values.\n",
    "### a = 10  , a is variable and stores the value of 10."
   ]
  },
  {
   "cell_type": "code",
   "execution_count": 1,
   "metadata": {},
   "outputs": [
    {
     "name": "stdout",
     "output_type": "stream",
     "text": [
      "10\n"
     ]
    }
   ],
   "source": [
    "a = 10\n",
    "print(a)\n"
   ]
  },
  {
   "attachments": {},
   "cell_type": "markdown",
   "metadata": {},
   "source": [
    "# 3. Describe three different data types."
   ]
  },
  {
   "attachments": {},
   "cell_type": "markdown",
   "metadata": {},
   "source": [
    "# Ans :\n",
    "\n",
    "### 1. List : \n",
    "###      a. Lists are used to store multiple items in single variable.\n",
    "###      b. Lists are mutable.\n",
    "###      c.  using square bracket - [ ]\n",
    "###      d.  heterogeneous data type accept\n",
    "###      e.  duplicate values allow and ordered \n",
    "\n",
    "### Example ->  a = [1,2.4,'Kolkata',[1,'world',4.4]]\n",
    "\n",
    "### 2. Tuple :\n",
    "###        a. Tuples are used to store multiple items in single variable.\n",
    "###        b. Tuples are immutable.\n",
    "###        c.  using Parenthesis - ( )\n",
    "###        d.  heterogeneous data type accept\n",
    "###        e.  duplicate values allow and ordered\n",
    "\n",
    "### Example ->  a = (1,2.4,'Kolkata',[1,'world',4.4])\n",
    "\n",
    "### 3. Dictionaries :\n",
    "###        a. Dictionaries are used to store data values in key:value pairs\n",
    "###        b. Dictionaries are mutable.\n",
    "###        c. using curly  braces -  { }\n",
    "###        d. duplicate values not allow\n",
    "###        e. heterogeneous data type accept\n",
    "\n",
    "### Example -> a = {'Name_1':'Tom','Roll_no':23,'Marks' : 94,'Name_2':'Jerry','Roll_no':24,'Marks' : 99}\n"
   ]
  },
  {
   "cell_type": "code",
   "execution_count": 2,
   "metadata": {},
   "outputs": [
    {
     "name": "stdout",
     "output_type": "stream",
     "text": [
      "['West Bengal', 'Orissa', 'Tamil Naidu', 'Telenga', 'Tripura']\n"
     ]
    }
   ],
   "source": [
    "# List\n",
    "States = ['West Bengal','Orissa','Tamil Naidu','Telenga','Tripura']\n",
    "print(States)\n"
   ]
  },
  {
   "cell_type": "code",
   "execution_count": 3,
   "metadata": {},
   "outputs": [
    {
     "name": "stdout",
     "output_type": "stream",
     "text": [
      "('Cricket', 'Football', 'Basketball', 'Vollyball')\n"
     ]
    }
   ],
   "source": [
    "# Tuples\n",
    "Games = ('Cricket','Football','Basketball','Vollyball')\n",
    "print(Games)\n"
   ]
  },
  {
   "cell_type": "code",
   "execution_count": 4,
   "metadata": {},
   "outputs": [
    {
     "name": "stdout",
     "output_type": "stream",
     "text": [
      "{'Rahul': 30, 'Bapi': 40, 'Madhu': 50, 'Ramu': 60}\n"
     ]
    }
   ],
   "source": [
    "# Dictionary\n",
    "Student = {\n",
    "    'Rahul':30,\n",
    "    'Bapi':40,\n",
    "    'Madhu':50,\n",
    "    'Ramu':60\n",
    "}\n",
    "print(Student)\n"
   ]
  },
  {
   "attachments": {},
   "cell_type": "markdown",
   "metadata": {},
   "source": [
    "# 4. What is an expression made up of? What do all expressions do?!"
   ]
  },
  {
   "attachments": {},
   "cell_type": "markdown",
   "metadata": {},
   "source": [
    "# Ans :\n",
    "### Expression -> A combination of operands and operators.\n",
    "### An expression is a set of numbers or variables combined using operations +, - ,* and /. \n",
    "### all expressions evaluate to a single value.\n"
   ]
  },
  {
   "cell_type": "code",
   "execution_count": 5,
   "metadata": {},
   "outputs": [
    {
     "name": "stdout",
     "output_type": "stream",
     "text": [
      "30\n"
     ]
    }
   ],
   "source": [
    "x = 10  # a statement \n",
    "x = x +20 # an expression \n",
    "print(x)\n"
   ]
  },
  {
   "attachments": {},
   "cell_type": "markdown",
   "metadata": {},
   "source": [
    "# 5. This assignment statements, like spam = 10. What is the difference between an expression and a statement?"
   ]
  },
  {
   "cell_type": "code",
   "execution_count": 6,
   "metadata": {},
   "outputs": [
    {
     "name": "stdout",
     "output_type": "stream",
     "text": [
      "50\n"
     ]
    }
   ],
   "source": [
    "# a statement \n",
    "spam = 10 \n",
    "# expession \n",
    "spam = spam + 40 \n",
    "print(spam)\n"
   ]
  },
  {
   "attachments": {},
   "cell_type": "markdown",
   "metadata": {},
   "source": [
    "# 6. After running the following code, what does the variable bacon contain?\n",
    "# bacon = 22\n",
    "# bacon + 1\n",
    "\n",
    "# Ans :\n",
    "\n"
   ]
  },
  {
   "cell_type": "code",
   "execution_count": 7,
   "metadata": {},
   "outputs": [
    {
     "name": "stdout",
     "output_type": "stream",
     "text": [
      "22\n"
     ]
    }
   ],
   "source": [
    "bacon  = 22\n",
    "bacon+1 # bacon + 1 does not reassign the value bacon \n",
    "print(bacon)\n"
   ]
  },
  {
   "attachments": {},
   "cell_type": "markdown",
   "metadata": {},
   "source": [
    "# 7. What should the values of the following two terms be?\n",
    "# 'spam' + 'spamspam'\n",
    "# 'spam' * 3\n",
    "\n",
    "# Ans :\n",
    " "
   ]
  },
  {
   "cell_type": "code",
   "execution_count": 8,
   "metadata": {},
   "outputs": [
    {
     "name": "stdout",
     "output_type": "stream",
     "text": [
      "spamspamspam\n",
      "spamspamspam\n"
     ]
    }
   ],
   "source": [
    "print('spam' + 'spamspam')\n",
    "print('spam' * 3)\n"
   ]
  },
  {
   "attachments": {},
   "cell_type": "markdown",
   "metadata": {},
   "source": [
    "# 8. Why is eggs a valid variable name while 100 is invalid?\n",
    "# Ans :\n"
   ]
  },
  {
   "attachments": {},
   "cell_type": "markdown",
   "metadata": {},
   "source": [
    "### variable name should start with (a-z) ,(A-Z) and _ \n",
    "### eggs is valid variable -> start with alphabet \n",
    "### 100 is invalid -> start should be (a-z) ,(A-Z) , _ , not number and not special symbol\n"
   ]
  },
  {
   "attachments": {},
   "cell_type": "markdown",
   "metadata": {},
   "source": [
    "# 9. What three functions can be used to get the integer, floating-point number, or string version of a value?\n",
    "# Ans :\n",
    "\n",
    "### integer -> int()\n",
    "### floating-point number -> float()\n",
    "### string -> str()\n"
   ]
  },
  {
   "attachments": {},
   "cell_type": "markdown",
   "metadata": {},
   "source": [
    "# 10. Why does this expression cause an error? How can you fix it?\n",
    "# 'I have eaten ' + 99 + ' burritos.'\n",
    "# Ans :\n",
    "\n",
    "### 99 is integer value \n",
    "### only string can be concat to other strings and use str()  "
   ]
  },
  {
   "cell_type": "code",
   "execution_count": 9,
   "metadata": {},
   "outputs": [
    {
     "name": "stdout",
     "output_type": "stream",
     "text": [
      "I have eaten99 burritos.\n"
     ]
    }
   ],
   "source": [
    "print('I have eaten'+ str(99) +' burritos.')"
   ]
  }
 ],
 "metadata": {
  "kernelspec": {
   "display_name": "Python 3",
   "language": "python",
   "name": "python3"
  },
  "language_info": {
   "codemirror_mode": {
    "name": "ipython",
    "version": 3
   },
   "file_extension": ".py",
   "mimetype": "text/x-python",
   "name": "python",
   "nbconvert_exporter": "python",
   "pygments_lexer": "ipython3",
   "version": "3.8.5"
  }
 },
 "nbformat": 4,
 "nbformat_minor": 4
}
