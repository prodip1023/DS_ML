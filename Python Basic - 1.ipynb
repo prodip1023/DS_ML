{
 "cells": [
  {
   "cell_type": "markdown",
   "metadata": {},
   "source": [
    "# Q.1. What are keywords in python? Using the keyword library, print all the python keywords."
   ]
  },
  {
   "cell_type": "markdown",
   "metadata": {},
   "source": [
    "# Ans:\n",
    "\n",
    "### Keywords: Python Keywords are special reserved words that have specific meanings and purposes and can’t be used for anything but those specific purposes.\n"
   ]
  },
  {
   "cell_type": "code",
   "execution_count": 1,
   "metadata": {},
   "outputs": [
    {
     "name": "stdout",
     "output_type": "stream",
     "text": [
      "['False', 'None', 'True', 'and', 'as', 'assert', 'async', 'await', 'break', 'class', 'continue', 'def', 'del', 'elif', 'else', 'except', 'finally', 'for', 'from', 'global', 'if', 'import', 'in', 'is', 'lambda', 'nonlocal', 'not', 'or', 'pass', 'raise', 'return', 'try', 'while', 'with', 'yield']\n"
     ]
    }
   ],
   "source": [
    "import keyword\n",
    "print(keyword.kwlist)"
   ]
  },
  {
   "cell_type": "code",
   "execution_count": 3,
   "metadata": {},
   "outputs": [
    {
     "name": "stdout",
     "output_type": "stream",
     "text": [
      "35\n"
     ]
    }
   ],
   "source": [
    "print(len(keyword.kwlist))"
   ]
  },
  {
   "cell_type": "markdown",
   "metadata": {},
   "source": [
    "# Q.2. What are the rules to create variables in python?"
   ]
  },
  {
   "cell_type": "markdown",
   "metadata": {},
   "source": [
    "# Ans: \n",
    "\n",
    "### Rules:\n",
    "### 1. A Python variable name must start with a letter or the underscore character.\n",
    "### 2. A Python variable name can only contain alpha-numeric characters and underscores (A-z, 0-9, and _ )\n",
    "### 3. Variable in Python names are case-sensitive (name, Name, and NAME are three different variables).\n",
    "### 4. A Python variable name cannot start with a digit.\n",
    "### 5. The reserverd Keywords in Python cannot be used to name the variable in Python."
   ]
  },
  {
   "cell_type": "code",
   "execution_count": 8,
   "metadata": {},
   "outputs": [
    {
     "name": "stdout",
     "output_type": "stream",
     "text": [
      "Prodip 34 JGEC\n",
      "Prodip Ineuron Data Science\n"
     ]
    }
   ],
   "source": [
    "name = \"Prodip\"\n",
    "_Age = 34\n",
    "College_Name = \"JGEC\"\n",
    "print(name,_Age,College_Name)\n",
    "\n",
    "Name = \"Ineuron\"\n",
    "NAME = \"Data Science\"\n",
    "\n",
    "print(name,Name,NAME)"
   ]
  },
  {
   "cell_type": "markdown",
   "metadata": {},
   "source": [
    "# Q.3. What are the standards and conventions followed for the nomenclature of variables in python to improve code readability and maintainability?"
   ]
  },
  {
   "cell_type": "markdown",
   "metadata": {},
   "source": [
    "# Ans:\n",
    "\n",
    "### Naming Style: Variables should be named using lowercase letters, and words should be separated by underscores. This convention is known as \"snake_case.\" For example:  first_name.\n",
    "### Descriptive Names: Choose meaningful and descriptive names for variables that reflect their purpose or content. This helps make the code more readable and self-explanatory. For example: roll_no or student_name.\n",
    "### Avoid Reserved Words: Do not use Python's reserved keywords or built-in function names as variable names. For instance, avoid names like if, else, or for.\n",
    "### Constants: If a variable is intended to be a constant (a value that should not be modified), it is customary to write its name in all uppercase letters, with words separated by underscores. For example: MAX_VALUE, PI.\n",
    "### Private Variables: By convention, variables intended for internal use within a class or module should start with a single underscore. This indicates that they are not intended to be accessed from outside. For example: _internal_var.\n",
    "### Class Names: Class names should follow the CapWords convention, also known as \"PascalCase\" or \"CamelCase,\" where each word starts with a capital letter and there are no underscores. For example: MyClass, UserData.\n",
    "### Module Names: Module names should be in lowercase letters, and if necessary, words can be separated by underscores. For example: my_module.py, data_processing.py."
   ]
  },
  {
   "cell_type": "markdown",
   "metadata": {},
   "source": [
    "# Q.4. What will happen if a keyword is used as a variable name?"
   ]
  },
  {
   "cell_type": "markdown",
   "metadata": {},
   "source": [
    "# Ans :\n",
    "### It will result in a syntax error. Keywords are reserved by the Python language for specific purposes, and they cannot be used as identifiers (such as variable names, function names, or class names). "
   ]
  },
  {
   "cell_type": "code",
   "execution_count": 9,
   "metadata": {},
   "outputs": [
    {
     "ename": "SyntaxError",
     "evalue": "invalid syntax (<ipython-input-9-bca35fb7c79c>, line 1)",
     "output_type": "error",
     "traceback": [
      "\u001b[0;36m  File \u001b[0;32m\"<ipython-input-9-bca35fb7c79c>\"\u001b[0;36m, line \u001b[0;32m1\u001b[0m\n\u001b[0;31m    for = 15\u001b[0m\n\u001b[0m        ^\u001b[0m\n\u001b[0;31mSyntaxError\u001b[0m\u001b[0;31m:\u001b[0m invalid syntax\n"
     ]
    }
   ],
   "source": [
    "for = 15\n",
    "print(for)"
   ]
  },
  {
   "cell_type": "markdown",
   "metadata": {},
   "source": [
    "# Q.5. For what purpose def keyword is used?"
   ]
  },
  {
   "cell_type": "markdown",
   "metadata": {},
   "source": [
    "# Ans:\n",
    "### The def keyword in Python is used to define a function. It is followed by the name of the function and a pair of parentheses, which can optionally contain parameters for the function. The function definition is then followed by a colon (:) and an indented block of code that constitutes the function body.Here's the basic syntax of a function definition using the \"def\" keyword: \n"
   ]
  },
  {
   "cell_type": "code",
   "execution_count": 12,
   "metadata": {},
   "outputs": [],
   "source": [
    "def hello(): # defination of function\n",
    "    print(\"Hello\",\"Prodip\")\n",
    "    "
   ]
  },
  {
   "cell_type": "markdown",
   "metadata": {},
   "source": [
    "hello() # calling the function"
   ]
  },
  {
   "cell_type": "markdown",
   "metadata": {},
   "source": [
    "# Q.6.What is the operation of this special character ‘\\’?"
   ]
  },
  {
   "cell_type": "markdown",
   "metadata": {},
   "source": [
    "# Ans:\n",
    "\n",
    "### The special character \\ in Python is known as the \"escape character\". It is used to indicate that the following character(s) should be treated differently or have a special meaning. It is often used in string literals and character literals.\n",
    "\n",
    "### some common uses of the escape character:\n",
    "### Escape Sequences: The backslash \\ is used to create escape sequences, which represent special characters within strings. For example:\n",
    "####       '\\n' represents a newline character.\n",
    "####       '\\t' represents a tab character.\n",
    "####      '\\'' represents a single quotation mark within a string.\n",
    "####     '\\\\\"' represents a double quotation mark within a string.\n",
    "\n",
    "### Unicode Escape Sequences: The backslash \\u can be used to represent Unicode characters in a string using their hexadecimal code point. \n",
    "####       '\\u00A9' represents the copyright symbol \"©\".\n",
    "\n",
    "### Raw Strings: By placing the letter r or R before a string literal, the backslash \\ is treated as a regular character and not as an escape character. This is called a raw string. \n",
    "\n",
    "####  print(r'C:\\path\\to\\file') will output C:\\path\\to\\file without escaping the backslashes.\n",
    "\n",
    "\n"
   ]
  },
  {
   "cell_type": "code",
   "execution_count": 14,
   "metadata": {},
   "outputs": [
    {
     "name": "stdout",
     "output_type": "stream",
     "text": [
      "He said, \"Don't do that!\"\n"
     ]
    }
   ],
   "source": [
    "print('He said, \"Don\\'t do that!\"')"
   ]
  },
  {
   "cell_type": "code",
   "execution_count": 15,
   "metadata": {},
   "outputs": [
    {
     "name": "stdout",
     "output_type": "stream",
     "text": [
      "©\n"
     ]
    }
   ],
   "source": [
    "print('\\u00A9')"
   ]
  },
  {
   "cell_type": "code",
   "execution_count": 16,
   "metadata": {},
   "outputs": [
    {
     "name": "stdout",
     "output_type": "stream",
     "text": [
      "C:\\path\\to\\file\n"
     ]
    }
   ],
   "source": [
    "print(r'C:\\path\\to\\file')"
   ]
  },
  {
   "cell_type": "markdown",
   "metadata": {},
   "source": [
    "# Q.7. Give an example of the following conditions: \n",
    "# (i)   Homogeneous list\n",
    "# (ii)  Heterogeneous set\n",
    "# (iii) Homogeneous tuple"
   ]
  },
  {
   "cell_type": "markdown",
   "metadata": {},
   "source": [
    "# Ans :\n",
    "\n",
    "### (i) Homogeneous list : A homogeneous list refers to a list in which all elements have the same data type. In other words, all the elements in a homogeneous list are of the same kind or type.\n"
   ]
  },
  {
   "cell_type": "code",
   "execution_count": 35,
   "metadata": {},
   "outputs": [
    {
     "name": "stdout",
     "output_type": "stream",
     "text": [
      "[1, 2, 3, 4, 5]\n",
      "<class 'list'>\n",
      "<class 'int'>\n",
      "<class 'int'>\n",
      "['apple', 'banana', 'orange']\n",
      "<class 'str'>\n",
      "<class 'str'>\n"
     ]
    }
   ],
   "source": [
    "numbers = [1, 2, 3, 4, 5]\n",
    "fruits = ['apple', 'banana', 'orange']\n",
    "print(numbers)\n",
    "print(type(numbers))\n",
    "print(type(numbers[0]))\n",
    "print(type(numbers[1]))\n",
    "print(fruits)\n",
    "print(type(fruits[0]))\n",
    "print(type(fruits[1]))"
   ]
  },
  {
   "cell_type": "markdown",
   "metadata": {},
   "source": [
    "### (ii)Heterogeneous set: A heterogeneous set, in the context of Python, refers to a set in which the elements can be of different data types. "
   ]
  },
  {
   "cell_type": "code",
   "execution_count": 37,
   "metadata": {},
   "outputs": [
    {
     "name": "stdout",
     "output_type": "stream",
     "text": [
      "The type of 1 is: <class 'int'>\n",
      "The type of 3.14 is: <class 'float'>\n",
      "The type of apple is: <class 'str'>\n",
      "<class 'set'>\n"
     ]
    }
   ],
   "source": [
    "my_set = {1, 'apple',3.14}\n",
    "\n",
    "for element in my_set:\n",
    "    print(f'The type of {element} is: {type(element)}')\n",
    "\n",
    "print(type(my_set))"
   ]
  },
  {
   "cell_type": "markdown",
   "metadata": {},
   "source": [
    "### (iii) Homogeneous tuple : A homogeneous tuple refers to a tuple in which all elements have the same data type. In other words, all the elements in a homogeneous tuple are of the same kind or type.\n"
   ]
  },
  {
   "cell_type": "code",
   "execution_count": 43,
   "metadata": {},
   "outputs": [
    {
     "name": "stdout",
     "output_type": "stream",
     "text": [
      "(1, 2, 3, 4, 5)\n",
      "('apple', 'banana', 'orange')\n",
      "<class 'tuple'>\n",
      "<class 'int'>\n",
      "<class 'int'>\n",
      "<class 'str'>\n",
      "<class 'str'>\n"
     ]
    }
   ],
   "source": [
    "numbers = (1, 2, 3, 4, 5)\n",
    "fruits = ('apple', 'banana', 'orange')\n",
    "print(numbers)\n",
    "print(fruits)\n",
    "print(type(numbers))\n",
    "print(type(numbers[0]))\n",
    "print(type(numbers[1]))\n",
    "print(type(fruits[0]))\n",
    "print(type(fruits[1]))"
   ]
  },
  {
   "cell_type": "markdown",
   "metadata": {},
   "source": [
    "# Q.8. Explain the mutable and immutable data types with proper explanation & examples."
   ]
  },
  {
   "cell_type": "markdown",
   "metadata": {},
   "source": [
    "# Ans :\n",
    "\n",
    "### mutable data types : In Python, mutable data types are those that can be modified or changed after they are created. This means you can add, remove, or update elements within these data types without creating a new object.\n",
    " ### 1. Lists: Lists are ordered collections of elements enclosed in square brackets []. You can modify the elements of a list by appending, inserting, deleting, or modifying them. For example:"
   ]
  },
  {
   "cell_type": "code",
   "execution_count": 48,
   "metadata": {},
   "outputs": [
    {
     "name": "stdout",
     "output_type": "stream",
     "text": [
      "[1, 2, 3]\n",
      "[1, 2, 3, 4]\n",
      "[1, 5, 3, 4]\n",
      "[5, 3, 4]\n"
     ]
    }
   ],
   "source": [
    "my_list = [1, 2, 3]\n",
    "print(my_list)\n",
    "my_list.append(4)       # Add element to the end\n",
    "print(my_list)          \n",
    "my_list[1] = 5 \n",
    "print(my_list)          # Modify element at index 1\n",
    "del my_list[0]          # Delete element at index 0\n",
    "print(my_list)"
   ]
  },
  {
   "cell_type": "markdown",
   "metadata": {},
   "source": [
    "### 2. Dictionaries: Dictionaries are unordered collections of key-value pairs enclosed in curly braces {}. The elements of a dictionary can be modified by assigning new values to existing keys or adding new key-value pairs. For example:"
   ]
  },
  {
   "cell_type": "code",
   "execution_count": 50,
   "metadata": {},
   "outputs": [
    {
     "name": "stdout",
     "output_type": "stream",
     "text": [
      "{'name': 'prodip', 'age': 35}\n",
      "{'name': 'prodip', 'age': 34}\n",
      "{'name': 'prodip', 'age': 34, 'city': 'Kolkata'}\n",
      "{'name': 'prodip', 'city': 'Kolkata'}\n"
     ]
    }
   ],
   "source": [
    "my_dict = {'name': 'prodip', 'age': 35}\n",
    "print(my_dict)\n",
    "my_dict['age'] = 34          # Modify value of existing key\n",
    "print(my_dict)\n",
    "my_dict['city'] = 'Kolkata'   # Add new key-value pair\n",
    "print(my_dict)\n",
    "del my_dict['age']           # Delete key-value pair\n",
    "print(my_dict)"
   ]
  },
  {
   "cell_type": "markdown",
   "metadata": {},
   "source": [
    "### 3. Sets: Sets are unordered collections of unique elements enclosed in curly braces {} or created using the set() function. You can modify a set by adding or removing elements. For example:"
   ]
  },
  {
   "cell_type": "code",
   "execution_count": 51,
   "metadata": {},
   "outputs": [
    {
     "name": "stdout",
     "output_type": "stream",
     "text": [
      "{1, 2, 3}\n",
      "{1, 2, 3, 4}\n",
      "{1, 3, 4}\n"
     ]
    }
   ],
   "source": [
    "my_set = {1, 2, 3}\n",
    "print(my_set)\n",
    "my_set.add(4)       # Add element to the set\n",
    "print(my_set)\n",
    "my_set.remove(2)    # Remove element from the set\n",
    "print(my_set)"
   ]
  },
  {
   "cell_type": "markdown",
   "metadata": {},
   "source": [
    "### immutable data types: In Python, immutable data types are those that cannot be modified or changed after they are created. Once an object of an immutable data type is created, its state cannot be altered. Instead, any operation that appears to modify the object actually creates a new object with the desired changes."
   ]
  },
  {
   "cell_type": "markdown",
   "metadata": {},
   "source": [
    "### 1. Strings: Strings are sequences of characters enclosed in single quotes (') or double quotes (\"). Once a string is created, you cannot modify its characters individually. you can create new strings by concatenation or using string methods."
   ]
  },
  {
   "cell_type": "code",
   "execution_count": 54,
   "metadata": {},
   "outputs": [
    {
     "name": "stdout",
     "output_type": "stream",
     "text": [
      "Hello\n",
      "Hello World\n"
     ]
    }
   ],
   "source": [
    "my_string = \"Hello\"\n",
    "new_string = my_string + \" World\"   # Concatenation creates a new string\n",
    "print(my_string)\n",
    "print(new_string)"
   ]
  },
  {
   "cell_type": "markdown",
   "metadata": {},
   "source": [
    "### 2.Tuples: Tuples are ordered collections of elements enclosed in parentheses (). Once a tuple is created, you cannot modify its elements individually. you can create new tuples by concatenation or slicing."
   ]
  },
  {
   "cell_type": "code",
   "execution_count": 55,
   "metadata": {},
   "outputs": [
    {
     "name": "stdout",
     "output_type": "stream",
     "text": [
      "(1, 2, 3)\n",
      "(1, 2, 3, 4, 5)\n"
     ]
    }
   ],
   "source": [
    "my_tuple = (1, 2, 3)\n",
    "new_tuple = my_tuple + (4, 5)       # Concatenation creates a new tuple\n",
    "print(my_tuple)\n",
    "print(new_tuple)"
   ]
  },
  {
   "cell_type": "markdown",
   "metadata": {},
   "source": [
    "### 3. Numbers: Numeric data types in Python, such as integers, floats, and complex numbers, are immutable. You cannot change the value of a number once it is assigned. However, you can perform arithmetic operations and create new numbers as a result."
   ]
  },
  {
   "cell_type": "code",
   "execution_count": 58,
   "metadata": {},
   "outputs": [
    {
     "name": "stdout",
     "output_type": "stream",
     "text": [
      "8\n",
      "5\n"
     ]
    }
   ],
   "source": [
    "my_number = 5\n",
    "new_number = my_number + 3          # Addition creates a new number\n",
    "print(new_number)\n",
    "print(my_number)"
   ]
  },
  {
   "cell_type": "markdown",
   "metadata": {},
   "source": [
    "### 4. FrozenSets: FrozenSets are immutable versions of sets, which are unordered collections of unique elements. Once a frozen set is created, you cannot modify its elements or add/remove elements. However, you can perform operations on frozen sets like union, intersection, etc., which return new frozen sets.\n"
   ]
  },
  {
   "cell_type": "code",
   "execution_count": 59,
   "metadata": {},
   "outputs": [
    {
     "name": "stdout",
     "output_type": "stream",
     "text": [
      "frozenset({1, 2, 3})\n",
      "<class 'set'>\n",
      "<class 'frozenset'>\n"
     ]
    }
   ],
   "source": [
    "my_set = {1, 2, 3}\n",
    "my_frozenset = frozenset(my_set)\n",
    "print(my_frozenset)\n",
    "print(type(my_set))\n",
    "print(type(my_frozenset))"
   ]
  },
  {
   "cell_type": "markdown",
   "metadata": {},
   "source": [
    "# Q.9. Write a code to create the given structure using only for loop.\n",
    "   \n"
   ]
  },
  {
   "cell_type": "code",
   "execution_count": null,
   "metadata": {},
   "outputs": [],
   "source": [
    "#            *\n",
    "#           ***\n",
    "#          *****\n",
    "#         *******\n",
    "#        *********"
   ]
  },
  {
   "cell_type": "markdown",
   "metadata": {},
   "source": [
    "# Ans :"
   ]
  },
  {
   "cell_type": "code",
   "execution_count": 1,
   "metadata": {},
   "outputs": [
    {
     "name": "stdout",
     "output_type": "stream",
     "text": [
      "    *\n",
      "   ***\n",
      "  *****\n",
      " *******\n",
      "*********\n"
     ]
    }
   ],
   "source": [
    "for i in range(5):\n",
    "    print(\" \" * (4 - i) + \"*\" * (2 * i + 1))"
   ]
  },
  {
   "cell_type": "markdown",
   "metadata": {},
   "source": [
    "# Q.10. Write a code to create the given structure using while loop."
   ]
  },
  {
   "cell_type": "code",
   "execution_count": null,
   "metadata": {},
   "outputs": [],
   "source": [
    "# ||||||||| \n",
    "#  ||||||| \n",
    "#   |||||  \n",
    "#    ||| \n",
    " #    | \n"
   ]
  },
  {
   "cell_type": "code",
   "execution_count": 2,
   "metadata": {},
   "outputs": [
    {
     "name": "stdout",
     "output_type": "stream",
     "text": [
      "|||||||||\n",
      " |||||||\n",
      "  |||||\n",
      "   |||\n",
      "    |\n"
     ]
    }
   ],
   "source": [
    "n = 9\n",
    "i = 0\n",
    "while n > 0:\n",
    "    print(\" \"* i + \"|\" * n)\n",
    "    i+=1\n",
    "    n-=2"
   ]
  },
  {
   "cell_type": "code",
   "execution_count": null,
   "metadata": {},
   "outputs": [],
   "source": []
  }
 ],
 "metadata": {
  "kernelspec": {
   "display_name": "Python 3",
   "language": "python",
   "name": "python3"
  },
  "language_info": {
   "codemirror_mode": {
    "name": "ipython",
    "version": 3
   },
   "file_extension": ".py",
   "mimetype": "text/x-python",
   "name": "python",
   "nbconvert_exporter": "python",
   "pygments_lexer": "ipython3",
   "version": "3.8.5"
  }
 },
 "nbformat": 4,
 "nbformat_minor": 4
}
