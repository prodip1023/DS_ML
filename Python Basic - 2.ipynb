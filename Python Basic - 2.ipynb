{
 "cells": [
  {
   "cell_type": "markdown",
   "metadata": {},
   "source": [
    "# Q.1. Create two int type variables, apply addition, subtraction, division and multiplications\n",
    "# and store the results in variables. Then print the data in the following format by calling the\n",
    "# variables:\n",
    "# First variable is __ & second variable is __.\n",
    "# Addition: __ + __ = __\n",
    "# Subtraction: __ - __ = __\n",
    "# Multiplication: __ * __ = __\n",
    "# Division: __ / __ = __"
   ]
  },
  {
   "cell_type": "markdown",
   "metadata": {},
   "source": [
    "# Ans :"
   ]
  },
  {
   "cell_type": "code",
   "execution_count": 6,
   "metadata": {},
   "outputs": [
    {
     "name": "stdout",
     "output_type": "stream",
     "text": [
      "First variable is 16 & second variable is 15\n",
      "Addition: 16 + 15 = 31\n",
      "Subtraction: 16 - 15 = 1\n",
      "Multiplication: 16 * 15 = 240\n",
      "Division: 16 / 15 = 1.0666666666666667\n"
     ]
    }
   ],
   "source": [
    "# Create variables\n",
    "first_variable = 16\n",
    "second_variable = 15\n",
    "\n",
    "# Perform operations and store results\n",
    "addition = first_variable + second_variable\n",
    "subtraction = first_variable - second_variable\n",
    "multiplication = first_variable * second_variable\n",
    "division = first_variable / second_variable\n",
    "\n",
    "# Print the results\n",
    "print(\"First variable is\", first_variable, \"& second variable is\", second_variable)\n",
    "print(\"Addition:\", first_variable, \"+\", second_variable, \"=\", addition)\n",
    "print(\"Subtraction:\", first_variable, \"-\", second_variable, \"=\", subtraction)\n",
    "print(\"Multiplication:\", first_variable, \"*\", second_variable, \"=\", multiplication)\n",
    "print(\"Division:\", first_variable, \"/\", second_variable, \"=\", division)\n"
   ]
  },
  {
   "cell_type": "markdown",
   "metadata": {},
   "source": [
    "# Q.2. What is the difference between the following operators:\n",
    "# (i) ‘/’ & ‘//’\n",
    "# (ii) ‘**’ & ‘^’"
   ]
  },
  {
   "cell_type": "markdown",
   "metadata": {},
   "source": [
    "# Ans :"
   ]
  },
  {
   "cell_type": "markdown",
   "metadata": {},
   "source": [
    "### (i) '/' is the regular division operator in Python. When used with two integer operands, it performs floating-point division and returns a float result. For example, 10 / 3 would result in 3.3333333333333335.\n",
    "###    '//' is the floor division operator in Python. It performs division and returns the quotient rounded down to the nearest integer (floor value).For example, 10 // 3 would result in 3.\n"
   ]
  },
  {
   "cell_type": "code",
   "execution_count": 7,
   "metadata": {},
   "outputs": [
    {
     "name": "stdout",
     "output_type": "stream",
     "text": [
      "3.3333333333333335\n"
     ]
    }
   ],
   "source": [
    "print(10/3)"
   ]
  },
  {
   "cell_type": "markdown",
   "metadata": {},
   "source": [
    "print(10//3)"
   ]
  },
  {
   "cell_type": "markdown",
   "metadata": {},
   "source": [
    "### (ii) '**' is the exponentiation operator in Python. It raises the left operand to the power of the right operand. For example, 2 ** 3 would result in 8.\n",
    "###  '^' is not a built-in exponentiation operator in Python. Instead, it is the bitwise XOR operator. It performs the exclusive OR operation on the individual bits of the operands. It is used for binary operations and not for exponentiation."
   ]
  },
  {
   "cell_type": "code",
   "execution_count": 9,
   "metadata": {},
   "outputs": [
    {
     "name": "stdout",
     "output_type": "stream",
     "text": [
      "8\n"
     ]
    }
   ],
   "source": [
    "print(2**3)"
   ]
  },
  {
   "cell_type": "code",
   "execution_count": 10,
   "metadata": {},
   "outputs": [
    {
     "name": "stdout",
     "output_type": "stream",
     "text": [
      "1\n"
     ]
    }
   ],
   "source": [
    "print(2^3)"
   ]
  },
  {
   "cell_type": "markdown",
   "metadata": {},
   "source": [
    "# Q.3. List the logical operators."
   ]
  },
  {
   "cell_type": "markdown",
   "metadata": {},
   "source": [
    "# Ans:"
   ]
  },
  {
   "cell_type": "markdown",
   "metadata": {},
   "source": [
    "### 1. and: The logical AND operator returns True if both operands are True, otherwise it returns False.\n",
    "### 2. or: The logical OR operator returns True if at least one of the operands is True, otherwise it returns False.\n",
    "### 3. not: The logical NOT operator negates the truth value of the operand. It returns True if the operand is False, and False if the operand is True."
   ]
  },
  {
   "cell_type": "code",
   "execution_count": 11,
   "metadata": {},
   "outputs": [
    {
     "name": "stdout",
     "output_type": "stream",
     "text": [
      "AND: False\n",
      "OR: True\n",
      "NOT: False\n"
     ]
    }
   ],
   "source": [
    "a = True\n",
    "b = False\n",
    "\n",
    "# AND operator\n",
    "result_and = a and b\n",
    "print(\"AND:\", result_and)  \n",
    "\n",
    "# OR operator\n",
    "result_or = a or b\n",
    "print(\"OR:\", result_or)    \n",
    "\n",
    "# NOT operator\n",
    "result_not = not a\n",
    "print(\"NOT:\", result_not)  \n"
   ]
  },
  {
   "cell_type": "markdown",
   "metadata": {},
   "source": [
    "# Q.4. Explain right shift operator and left shift operator with examples."
   ]
  },
  {
   "cell_type": "markdown",
   "metadata": {},
   "source": [
    "# Ans :\n"
   ]
  },
  {
   "cell_type": "markdown",
   "metadata": {},
   "source": [
    "### 1.Right Shift Operator (>>): The right shift operator shifts the bits of the left operand to the right by the number of positions specified by the right operand. It effectively divides the left operand by 2 raised to the power of the right operand."
   ]
  },
  {
   "cell_type": "code",
   "execution_count": null,
   "metadata": {},
   "outputs": [],
   "source": [
    "num = 10  # Binary representation: 1010\n",
    "\n",
    "# Right shift by 1 position\n",
    "result = num >> 1  # Binary representation: 0101\n",
    "\n",
    "print(result)  \n"
   ]
  },
  {
   "cell_type": "markdown",
   "metadata": {},
   "source": [
    "### 2.Left Shift Operator (<<): The left shift operator shifts the bits of the left operand to the left by the number of positions specified by the right operand. It effectively multiplies the left operand by 2 raised to the power of the right operand."
   ]
  },
  {
   "cell_type": "code",
   "execution_count": 13,
   "metadata": {},
   "outputs": [
    {
     "name": "stdout",
     "output_type": "stream",
     "text": [
      "20\n"
     ]
    }
   ],
   "source": [
    "num = 5  # Binary representation: 0101\n",
    "\n",
    "# Left shift by 2 positions\n",
    "result = num << 2  # Binary representation: 010100\n",
    "\n",
    "print(result)  \n"
   ]
  },
  {
   "cell_type": "markdown",
   "metadata": {},
   "source": [
    "# Q.5. Create a list containing int type data of length 15. Then write a code to check if 10 is present in the list or not."
   ]
  },
  {
   "cell_type": "markdown",
   "metadata": {},
   "source": [
    "# Ans :\n"
   ]
  },
  {
   "cell_type": "code",
   "execution_count": 18,
   "metadata": {},
   "outputs": [
    {
     "name": "stdout",
     "output_type": "stream",
     "text": [
      "15\n",
      "10 is present in the list.\n"
     ]
    }
   ],
   "source": [
    "my_list = [1,2,3,4,5,6,7,8,9,10,11,12,13,14,15]\n",
    "print(len(my_list))\n",
    "if 10 in my_list:\n",
    "    print(\"10 is present in the list.\")\n",
    "else:\n",
    "    print(\"10 is not present in the list.\")"
   ]
  }
 ],
 "metadata": {
  "kernelspec": {
   "display_name": "Python 3",
   "language": "python",
   "name": "python3"
  },
  "language_info": {
   "codemirror_mode": {
    "name": "ipython",
    "version": 3
   },
   "file_extension": ".py",
   "mimetype": "text/x-python",
   "name": "python",
   "nbconvert_exporter": "python",
   "pygments_lexer": "ipython3",
   "version": "3.8.5"
  }
 },
 "nbformat": 4,
 "nbformat_minor": 4
}
