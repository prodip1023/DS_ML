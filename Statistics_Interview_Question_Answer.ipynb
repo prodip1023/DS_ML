{
 "cells": [
  {
   "cell_type": "markdown",
   "metadata": {},
   "source": [
    "Assignment - Statistics_Interview_Questions\n",
    "Name - Prodip Sarkar\n",
    "Linkedin Profile -https://www.linkedin.com/in/prodip1023/\n"
    "GitHub Link - https://github.com/prodip1023/DS_ML/blob/main/Statistics_Interview_Question_Answer.ipynb/\n"
   ]
  },
  {
   "cell_type": "markdown",
   "metadata": {},
   "source": [
    "#### 1.What are the most important topics in statistics? "
   ]
  },
  {
   "cell_type": "markdown",
   "metadata": {},
   "source": [
    "Statistics is the Science of collecting,organizing and analyzing data.\n",
    "\n",
    "    * Population Data -> A group or a super set of data that you are interested in studying.\n",
    "    * Sample Data -> A subset of population data.\n",
    "\n",
    "<b> Types of Statistics: </b>\n",
    "\n",
    "         1. Descriptive Statistics\n",
    "         2. Inferencial Statistics\n",
    "* <b>Descriptive Statistics :</b>\n",
    "    * It consistsof organizing,summarizing and visualisation data.\n",
    "    * Techniques:\n",
    "    \n",
    "        1.<b>Measure of Central Tendency:</b>\n",
    "               1. Mean\n",
    "               2. Median\n",
    "               3. Mode\n",
    "        2. <b>Measure of Dispersion:</b>\n",
    "            * Variance\n",
    "            * Standard Diviation\n",
    "        3.<b> Sampling Techniques:</b>\n",
    "            * Random Sampling\n",
    "            * Stratified Sampling\n",
    "            * Systematic Sampling\n",
    "            * Covenience Sampling\n",
    "            * Purposive Sampling\n",
    "            * Cluster Sampling\n",
    "        4.<b> Co-Variance And Correlation</b>\n",
    "            * Pearson Correlation Coefficient\n",
    "            * Spearman's rank Correlation Coefficient\n",
    "        5.<b> Different types of Distribution:</b>\n",
    "            * Probability Distribution Function\n",
    "                * Probability Density Function(PDF)\n",
    "                * Probability Mass Function(PMF)\n",
    "                * Cummulative Distribution Function(CDF)\n",
    "            *<b> Types of Probability Distribution Function:</b>\n",
    "                * Normal/Gaussian Distribution Function\n",
    "                * Bernoulli Distribution\n",
    "                * Uniform Distribution\n",
    "                * Poission Distribution\n",
    "                * Log Normal Distribution\n",
    "                * Pareto Distribution\n",
    "                * Standard Normal Distribution and Z-Score\n",
    "\n",
    "* <b>Inferencial Statistics:</b>\n",
    "    * It consists of using data,you have measured to form conclusion.\n",
    "    * Point Estimate\n",
    "    * Interval Estimate\n",
    "            * Confidence Interval\n",
    "    * <b>Techniques:</b>\n",
    "        1. Hypothesis Testing\n",
    "            * p-value\n",
    "            * Significance value\n",
    "            * t-Test\n",
    "            * z-Test\n",
    "            * Chi-Square Test\n",
    "            * ANNOVA Test\n",
    "            * F-Test Statics\n",
    "            * Degree of freedom(Dof)\n"
   ]
  },
  {
   "cell_type": "markdown",
   "metadata": {},
   "source": [
    "#### 2. What is exploratory data analysis? "
   ]
  },
  {
   "cell_type": "markdown",
   "metadata": {},
   "source": [
    "Exploratory Data Analysis (EDA) is a critical initial step in the data analysis process, which involves examining and visualizing data to gain insights, discover patterns, identify anomalies, and formulate hypotheses. It is primarily used to summarize the main characteristics of a dataset, understand its underlying structure, and guide further analysis or modeling. EDA is often performed before conducting formal statistical tests or building predictive models.\n",
    "\n",
    "Here are the key components and techniques involved in exploratory data analysis:\n",
    "\n",
    "1. **Data Summarization:**\n",
    "   - Calculate basic summary statistics such as mean, median, mode, standard deviation, range, and percentiles for numerical variables.\n",
    "   - For categorical variables, determine the frequency distribution of categories.\n",
    "\n",
    "2. **Data Visualization:**\n",
    "   - Create various graphical representations of the data to gain visual insights, including:\n",
    "     - Histograms and density plots for numerical data to understand distributions.\n",
    "     - Bar charts and pie charts for categorical data to visualize proportions.\n",
    "     - Box plots to identify outliers and assess data spread.\n",
    "     - Scatterplots to explore relationships between two numerical variables.\n",
    "     - Heatmaps to visualize correlations between variables.\n",
    "\n",
    "3. **Data Cleaning:**\n",
    "   - Identify and handle missing data, outliers, and inconsistencies in the dataset. This may involve imputation, transformation, or removal of problematic data points.\n",
    "\n",
    "4. **Feature Engineering:**\n",
    "   - Create new features or variables based on domain knowledge or data patterns to enhance the dataset's information content.\n",
    "\n",
    "5. **Univariate Analysis:**\n",
    "   - Analyze individual variables in isolation to understand their distributions, central tendencies, and variability.\n",
    "\n",
    "6. **Bivariate and Multivariate Analysis:**\n",
    "   - Explore relationships between pairs of variables (bivariate analysis) and among multiple variables (multivariate analysis).\n",
    "   - Techniques may include correlation analysis, scatterplot matrices, and clustering.\n",
    "\n",
    "7. **Dimensionality Reduction:**\n",
    "   - If dealing with high-dimensional data, consider techniques like Principal Component Analysis (PCA) or t-Distributed Stochastic Neighbor Embedding (t-SNE) to reduce the dimensionality while preserving important information.\n",
    "\n",
    "8. **Hypothesis Generation:**\n",
    "   - Formulate initial hypotheses or research questions based on patterns and trends observed during EDA. These hypotheses can guide further investigation.\n",
    "\n",
    "9. **Data Presentation:**\n",
    "   - Communicate the findings from EDA effectively through reports, presentations, or visualizations, making it easier for stakeholders to understand and make decisions based on the data.\n",
    "\n",
    "10. **Iterative Process:**\n",
    "    - EDA is often an iterative process. As you uncover insights or generate hypotheses, you may return to previous steps to validate or refine your understanding of the data.\n",
    "\n",
    "Exploratory Data Analysis is a critical step not only for understanding your data but also for making informed decisions about subsequent data preprocessing steps, feature selection, and modeling choices. It plays a vital role in data-driven decision-making processes across various fields, including data science, statistics, and research."
   ]
  },
  {
   "cell_type": "markdown",
   "metadata": {},
   "source": [
    "#### 3. What are quantitative data and qualitative data? "
   ]
  },
  {
   "cell_type": "markdown",
   "metadata": {},
   "source": [
    "Quantitative data and qualitative data are two fundamental types of data used in research, analysis, and statistics. They represent different approaches to collecting and categorizing information:\n",
    "\n",
    "1. **Quantitative Data:**\n",
    "   - **Definition:** Quantitative data, also known as numerical data, consists of measurable, numerical values that represent quantities or amounts. These values are typically expressed as numbers and can be subjected to mathematical operations.\n",
    "   - **Examples:** Age, height, weight, income, temperature, test scores, and the number of items sold are all examples of quantitative data.\n",
    "   - **Characteristics:**\n",
    "     - Quantitative data can be counted or measured.\n",
    "     - It is often used for variables that have a clear numerical value associated with them.\n",
    "     - Statistical analysis of quantitative data involves techniques like mean, median, standard deviation, and regression analysis.\n",
    "     - Quantitative data is typically used in situations where precision and objectivity are important.\n",
    "\n",
    "2. **Qualitative Data:**\n",
    "   - **Definition:** Qualitative data, also known as categorical data or non-numerical data, consists of non-numeric values that represent categories, characteristics, or qualities. These values are often expressed in words, labels, or codes.\n",
    "   - **Examples:** Gender (categories: male, female, non-binary), colors (categories: red, blue, green), types of animals (categories: mammal, bird, reptile), and customer feedback (categories: satisfied, dissatisfied) are examples of qualitative data.\n",
    "   - **Characteristics:**\n",
    "     - Qualitative data is used for variables that can be categorized or described by attributes or labels.\n",
    "     - Analysis of qualitative data involves methods like coding, thematic analysis, and content analysis to identify patterns and themes.\n",
    "     - Qualitative data is particularly useful when exploring complex, subjective, or nuanced aspects of a phenomenon, such as opinions, attitudes, and behaviors.\n",
    "     - It is often used in social sciences, humanities, and qualitative research studies.\n",
    "\n",
    "**Key Differences:**\n",
    "\n",
    "- **Nature of Values:** Quantitative data consists of numerical values, while qualitative data consists of non-numeric values or categories.\n",
    "\n",
    "- **Measurement:** Quantitative data can be measured and subjected to mathematical operations, whereas qualitative data is typically described or categorized.\n",
    "\n",
    "- **Analysis:** Quantitative data is analyzed using statistical techniques, while qualitative data is analyzed using qualitative research methods.\n",
    "\n",
    "- **Use Cases:** Quantitative data is commonly used in fields like mathematics, economics, and the natural sciences where precise measurement and quantification are important. Qualitative data is frequently used in social sciences, anthropology, psychology, and other fields to explore human experiences and behaviors.\n"
   ]
  },
  {
   "cell_type": "markdown",
   "metadata": {},
   "source": [
    "#### 4.What is the meaning of KPI in statistics?\n",
    " "
   ]
  },
  {
   "cell_type": "markdown",
   "metadata": {},
   "source": [
    "<b>KPI:</b>\n",
    "* Key performance indicators (KPIs) measure a company’s success vs. a set of targets, objectives, or industry peers.\n",
    "* KPIs can be financial, including net profit (or the bottom line, gross profit margin), revenues minus certain expenses, or the current ratio (liquidity and cash availability).\n",
    "* Customer-focused KPIs generally center on per-customer efficiency, customer satisfaction, and customer retention.\n",
    "* Process-focused KPIs aim to measure and monitor operational performance across the organization.\n",
    "* Businesses generally measure and track KPIs through analytics software and reporting tools."
   ]
  },
  {
   "cell_type": "markdown",
   "metadata": {},
   "source": [
    "#### 5.What Is the Difference Between Univariate, Bivariate, and Multivariate Analysis? "
   ]
  },
  {
   "cell_type": "markdown",
   "metadata": {},
   "source": [
    "* <b>Univariate:</b>\n",
    "    * It is the simplest form of analyzing data, it uses only one variable hence the name, Univariate.\n",
    "    * We would use Probability Density Function, Cumulative Distribution Function, Box Plots, and Violin Plots for our analysis\n",
    "* <b>Bivariate:</b>\n",
    "    * The aim is to find patterns/relationships within the dataset using two attributes. It is useful in testing simple associations.\n",
    "    * One plot which can be used for the analysis is the pair plot.\n",
    "         * Pair Plot - Pair plots are an easy way to visualize relationships within your data. A matrix of each variable associated with another variable is produced for our analysis.\n",
    "* <b>Multivariate:</b>\n",
    "    * Contour plots can be used for multivariate analysis.\n",
    "    * They are used to represent a three-dimensional surface on a two-dimensional plane.\n",
    "    * One variable is represented on the horizontal axis and a second variable is represented on the vertical axis. The third variable is represented by a colour gradient."
   ]
  },
  {
   "cell_type": "markdown",
   "metadata": {},
   "source": [
    "#### 6. How Would You Approach a Dataset That’s Missing More Than 30 Percent of Its Values?\n",
    " "
   ]
  },
  {
   "cell_type": "markdown",
   "metadata": {},
   "source": [
    "Dealing with a dataset that is missing more than 30 percent of its values can be challenging, but it's a common problem in data analysis and machine learning. Here's a systematic approach to handle such a dataset:\n",
    "\n",
    "1. **Understand the Nature of Missing Data:**\n",
    "   - First, you should understand why the data is missing. Is it missing completely at random, or is there a pattern to the missingness? Knowing this can help you decide on the appropriate strategies.\n",
    "\n",
    "2. **Data Exploration:**\n",
    "   - Begin by exploring the dataset to get a sense of the missingness. Calculate the percentage of missing values for each column. You can use summary statistics and visualization techniques like histograms or heatmaps to identify patterns.\n",
    "\n",
    "3. **Imputation Techniques:**\n",
    "   - Depending on the nature of the missing data, you can consider various imputation techniques:\n",
    "     - **Mean/Median/Mode Imputation:** For numerical or categorical features, respectively, you can fill missing values with the mean, median, or mode of that feature. This is a simple method but may not be suitable if there's a significant amount of missing data.\n",
    "     - **Interpolation:** If the data has a temporal or spatial structure, you can use interpolation techniques (e.g., linear or spline interpolation) to estimate missing values.\n",
    "     - **Predictive Modeling:** Train a machine learning model (e.g., regression for numerical data or classification for categorical data) to predict missing values based on other features in the dataset.\n",
    "     - **Multiple Imputation:** Use advanced statistical methods like Multiple Imputation by Chained Equations (MICE) to generate multiple imputed datasets, taking into account the uncertainty of missing data.\n",
    "\n",
    "4. **Feature Engineering:**\n",
    "   - Create new features that capture information about the missingness. For example, you can add binary flags indicating whether a value is missing in a particular column. These new features can sometimes help your model understand the missing data pattern.\n",
    "\n",
    "5. **Domain Knowledge:**\n",
    "   - Leverage your domain knowledge to make informed decisions about handling missing data. Sometimes, you may know that certain missing values should be treated differently based on the context of the data.\n",
    "\n",
    "6. **Drop Irrelevant Columns:**\n",
    "   - If a feature has a very high percentage of missing data and is not informative, consider dropping it from your analysis. Be cautious not to lose critical information, though.\n",
    "\n",
    "7. **Evaluate the Impact:**\n",
    "   - After imputing or handling missing data, it's essential to assess the impact on your analysis or model performance. Use appropriate evaluation metrics to determine if your imputation strategy is working effectively.\n",
    "\n",
    "8. **Sensitivity Analysis:**\n",
    "   - Perform sensitivity analysis by comparing different imputation methods and strategies to see how they affect your results. This can help you understand the robustness of your conclusions.\n",
    "\n",
    "9. **Documentation:**\n",
    "   - Document the steps you took to handle missing data thoroughly. This documentation is crucial for transparency and reproducibility.\n",
    "\n",
    "10. **Regularize Your Model (if applicable):**\n",
    "    - If you are building predictive models, consider adding regularization techniques like L1 or L2 regularization to handle potential issues arising from imputed data.\n"
   ]
  },
  {
   "cell_type": "markdown",
   "metadata": {},
   "source": [
    "#### 7. Give an example where the median is a better measure than the mean "
   ]
  },
  {
   "cell_type": "markdown",
   "metadata": {},
   "source": [
    "The median is a better measure of central tendency than the mean in certain situations, particularly when dealing with skewed or asymmetric datasets, or when the data contains extreme outliers. Here are some cases where the median is a more appropriate measure:\n",
    "\n",
    "1. **Skewed Distributions:**\n",
    "   - When the data distribution is significantly skewed, meaning it is not symmetrical and has a long tail in one direction, the mean can be strongly influenced by the extreme values in the tail. In such cases, the median is a better representation of the central value because it is less affected by extreme outliers.\n",
    "   - Example: Income distribution in a country, where a small number of extremely high-income individuals can greatly skew the mean income, making it higher than what most people earn.\n",
    "\n",
    "2. **Outliers:**\n",
    "   - In the presence of outliers, which are data points significantly different from the rest of the data, the mean can be highly sensitive to these extreme values. The median, being resistant to outliers, provides a more robust measure of central tendency.\n",
    "   - Example: Exam scores in a class, where one student's score is much higher or lower than the rest, can significantly affect the mean score.\n",
    "\n",
    "3. **Ordinal or Ranked Data:**\n",
    "   - When working with ordinal data (data with ordered categories) or ranked data, the median is often preferred because it takes into account the order of values without making assumptions about the intervals between them.\n",
    "   - Example: Ranking preferences for food items (1st, 2nd, 3rd choice), where the median represents the middle-ranked preference.\n",
    "\n",
    "4. **Non-Normal Distributions:**\n",
    "   - In situations where the data distribution is not approximately normal or Gaussian, the median is a more robust choice because it does not rely on the assumption of normality.\n",
    "   - Example: Customer waiting times in a service center, which may have a skewed distribution.\n",
    "\n",
    "5. **Lack of Interval Scale:**\n",
    "   - In cases where the data is measured on an ordinal or nominal scale, rather than an interval or ratio scale, the mean may not have meaningful interpretation. The median is a suitable choice as it only requires ordering the data.\n",
    "   - Example: Survey responses with categories like \"Agree,\" \"Neutral,\" and \"Disagree.\"\n",
    "\n",
    "6. **Data with Missing Values:**\n",
    "   - If a dataset has missing values, it can affect the calculation of the mean. The median can handle missing values more easily, as it depends only on the ranking of observed values.\n",
    "\n",
    "In summary, the median is a better measure of central tendency when data has issues related to skewness, outliers, non-normality, or a lack of meaningful interval scale. It provides a more robust representation of the typical value in such cases. However, the choice between the mean and median should always be made based on the specific characteristics and goals of the analysis."
   ]
  },
  {
   "cell_type": "code",
   "execution_count": 15,
   "metadata": {},
   "outputs": [],
   "source": [
    "import numpy as np"
   ]
  },
  {
   "cell_type": "code",
   "execution_count": 16,
   "metadata": {},
   "outputs": [],
   "source": [
    "x = [1,1,2,2,3,3,4,5,5,6,7]"
   ]
  },
  {
   "cell_type": "code",
   "execution_count": 17,
   "metadata": {},
   "outputs": [
    {
     "data": {
      "text/plain": [
       "3.5454545454545454"
      ]
     },
     "execution_count": 17,
     "metadata": {},
     "output_type": "execute_result"
    }
   ],
   "source": [
    "np.mean(x)"
   ]
  },
  {
   "cell_type": "code",
   "execution_count": 18,
   "metadata": {},
   "outputs": [
    {
     "data": {
      "text/plain": [
       "3.0"
      ]
     },
     "execution_count": 18,
     "metadata": {},
     "output_type": "execute_result"
    }
   ],
   "source": [
    "np.median(x)"
   ]
  },
  {
   "cell_type": "code",
   "execution_count": 19,
   "metadata": {},
   "outputs": [],
   "source": [
    "x1=x.copy()"
   ]
  },
  {
   "cell_type": "code",
   "execution_count": 23,
   "metadata": {},
   "outputs": [],
   "source": [
    "x1.append(100)\n",
    "x1.append(120)\n",
    "x1.append(130)\n",
    "x1.append(140)"
   ]
  },
  {
   "cell_type": "code",
   "execution_count": 24,
   "metadata": {},
   "outputs": [
    {
     "data": {
      "text/plain": [
       "[1, 1, 2, 2, 3, 3, 4, 5, 5, 6, 7, 100, 120, 130, 140]"
      ]
     },
     "execution_count": 24,
     "metadata": {},
     "output_type": "execute_result"
    }
   ],
   "source": [
    "x1"
   ]
  },
  {
   "cell_type": "code",
   "execution_count": 25,
   "metadata": {},
   "outputs": [
    {
     "data": {
      "text/plain": [
       "35.266666666666666"
      ]
     },
     "execution_count": 25,
     "metadata": {},
     "output_type": "execute_result"
    }
   ],
   "source": [
    "np.mean(x1)"
   ]
  },
  {
   "cell_type": "code",
   "execution_count": 26,
   "metadata": {},
   "outputs": [
    {
     "data": {
      "text/plain": [
       "5.0"
      ]
     },
     "execution_count": 26,
     "metadata": {},
     "output_type": "execute_result"
    }
   ],
   "source": [
    "np.median(x1)"
   ]
  },
  {
   "cell_type": "markdown",
   "metadata": {},
   "source": [
    "#### 8.What is the difference between Descriptive and Inferential Statistics?"
   ]
  },
  {
   "cell_type": "markdown",
   "metadata": {},
   "source": [
    "Descriptive and inferential statistics are two broad categories of statistical methods used in data analysis and research. They serve different purposes and provide distinct types of insights:\n",
    "\n",
    "1. **Descriptive Statistics:**\n",
    "   - **Purpose:** Descriptive statistics are used to summarize and describe the main features of a dataset. They help in organizing and simplifying large amounts of data to make it more understandable.\n",
    "   - **Examples:** \n",
    "     - Measures of central tendency: mean (average), median (middle value), mode (most frequent value).\n",
    "     - Measures of variability: range, variance, standard deviation.\n",
    "     - Summary tables, graphs, and charts such as histograms, bar charts, box plots, and scatterplots.\n",
    "   - **Use Cases:** Descriptive statistics are typically the first step in data analysis. They provide a snapshot of the data's characteristics, allowing you to understand its basic properties without making any inferences or predictions.\n",
    "\n",
    "2. **Inferential Statistics:**\n",
    "   - **Purpose:** Inferential statistics are used to draw conclusions or make predictions about a population based on a sample of data. They involve making inferences or generalizations about a larger group based on the information collected from a smaller subset (sample).\n",
    "   - **Examples:** \n",
    "     - Hypothesis testing: Assessing whether observed differences or relationships in the sample are statistically significant and likely to exist in the population.\n",
    "     - Confidence intervals: Estimating a range within which a population parameter (e.g., population mean) is likely to fall.\n",
    "     - Regression analysis: Modeling the relationship between variables and making predictions.\n",
    "   - **Use Cases:** Inferential statistics are essential when you want to make statements about a broader population or when you want to test hypotheses and draw conclusions based on data from a sample. They allow you to make inferences with a certain level of confidence.\n",
    "\n",
    "**Key Differences:**\n",
    "\n",
    "- **Purpose:** Descriptive statistics aim to summarize and describe data, while inferential statistics aim to draw conclusions and make predictions about populations based on data samples.\n",
    "\n",
    "- **Data:** Descriptive statistics deal with the data at hand and do not involve making inferences about a larger population. Inferential statistics, on the other hand, use sample data to make inferences about a broader population.\n",
    "\n",
    "- **Examples:** Descriptive statistics include measures like mean, median, and standard deviation, as well as visual representations of data. Inferential statistics encompass hypothesis testing, confidence intervals, and regression analysis.\n",
    "\n",
    "- **Level of Generalization:** Descriptive statistics provide insights into the characteristics of the data itself, while inferential statistics allow you to generalize findings from a sample to a larger population.\n"
   ]
  },
  {
   "cell_type": "markdown",
   "metadata": {},
   "source": [
    "#### 9. What are descriptive statistics? "
   ]
  },
  {
   "cell_type": "markdown",
   "metadata": {},
   "source": [
    "Descriptive statistics are a set of summary measures and techniques used to describe and summarize the main features, characteristics, and patterns of a dataset. These statistics provide a concise and meaningful overview of the data, helping researchers and analysts to understand and interpret it more easily. Descriptive statistics are typically the first step in data analysis and are used to gain insights into the data's central tendencies, variability, distribution, and shape.\n",
    "\n",
    "Here are some common descriptive statistics and what they reveal about the data:\n",
    "\n",
    "1. **Measures of Central Tendency:**\n",
    "   - **Mean (Average):** The arithmetic mean is the sum of all values divided by the number of values. It provides a measure of the \"average\" value in the dataset.\n",
    "   - **Median (Middle Value):** The median is the middle value when the data is ordered. It's less affected by extreme values and is a measure of the \"typical\" value.\n",
    "   - **Mode (Most Frequent Value):** The mode is the value that occurs most frequently in the dataset. There can be multiple modes in a dataset.\n",
    "\n",
    "2. **Measures of Variability or Dispersion:**\n",
    "   - **Range:** The range is the difference between the maximum and minimum values in the dataset. It indicates the spread of the data.\n",
    "   - **Variance:** Variance measures how much individual data points deviate from the mean. A higher variance implies greater variability.\n",
    "   - **Standard Deviation:** The standard deviation is the square root of the variance. It provides a measure of the average distance between each data point and the mean.\n",
    "\n",
    "3. **Measures of Distribution Shape:**\n",
    "   - **Skewness:** Skewness measures the asymmetry of the data distribution. Positive skewness indicates a right-skewed distribution (tail on the right), while negative skewness indicates a left-skewed distribution (tail on the left).\n",
    "   - **Kurtosis:** Kurtosis measures the \"tailedness\" of the distribution. High kurtosis indicates heavy tails (more extreme values), while low kurtosis indicates light tails.\n",
    "\n",
    "4. **Percentiles and Quartiles:**\n",
    "   - Percentiles divide the data into 100 equal parts, and quartiles divide it into four parts (Q1, Q2, Q3). The median is Q2, and Q1 and Q3 provide information about the spread of the central portion of the data.\n",
    "\n",
    "5. **Frequency Distributions:**\n",
    "   - Frequency tables and histograms show the distribution of categorical or numerical data in terms of counts or percentages in different categories or bins.\n",
    "\n",
    "6. **Summary Tables and Graphs:**\n",
    "   - Summary tables and visual representations like bar charts, box plots, and histograms provide a comprehensive view of the data's characteristics.\n",
    "\n",
    "Descriptive statistics are fundamental in understanding data patterns, identifying outliers, and making initial interpretations. They serve as a basis for more advanced analyses, such as inferential statistics and hypothesis testing, which involve making inferences or drawing conclusions about populations based on sample data."
   ]
  },
  {
   "cell_type": "markdown",
   "metadata": {},
   "source": [
    "#### 10. Can you state the method of dispersion of the data in statistics?"
   ]
  },
  {
   "cell_type": "markdown",
   "metadata": {},
   "source": [
    "In statistics, measures of dispersion are used to quantify the spread or variability of data points within a dataset. They provide valuable information about how data values are distributed around a central point, such as the mean. Here are some commonly used methods of measuring dispersion:\n",
    "\n",
    "1. **Range:** The range is the simplest measure of dispersion and is calculated as the difference between the maximum and minimum values in a dataset. It provides a rough estimate of the data's spread but is sensitive to outliers.\n",
    "\n",
    "   Formula: Range = Maximum Value - Minimum Value\n",
    "\n",
    "2. **Variance:** Variance measures how much individual data points deviate from the mean. It takes into account the squared differences between each data point and the mean, providing a more comprehensive measure of dispersion.\n"
   ]
  },
  {
   "cell_type": "markdown",
   "metadata": {},
   "source": [
    "Formula for Sample Variance (n-1 correction):\n",
    "  $$s^2 = \\frac{1}{n-1} \\sum_{i=1}^{n} (x_i - \\bar{x})^2$$\n",
    "\n",
    "   Formula for Population Variance:\n",
    "   $$\\sigma^2 = \\frac{1}{n} \\sum_{i=1}^{n} (x_i - \\mu)^2$$\n",
    "\n",
    "   where:\n",
    "   - $(s^2) or (\\sigma^2$) is the variance (sample or population, respectively).\n",
    "   - $(n)$ is the number of data points.\n",
    "   - $(x_i)$ represents each data point.\n",
    "   - $(\\bar{x}$) or $(\\mu)$ is the sample mean or population mean."
   ]
  },
  {
   "cell_type": "markdown",
   "metadata": {},
   "source": [
    "3. **Standard Deviation:** The standard deviation is the square root of the variance and is often used because it is in the same units as the original data. It measures the average distance between each data point and the mean.\n",
    "\n",
    "   Formula for Sample Standard Deviation:\n",
    "   $$s = \\sqrt{\\frac{1}{n-1} \\sum_{i=1}^{n} (x_i - \\bar{x})^2}$$\n",
    "\n",
    "   Formula for Population Standard Deviation:\n",
    "   $$\\sigma = \\sqrt{\\frac{1}{n} \\sum_{i=1}^{n} (x_i - \\mu)^2}$$\n"
   ]
  },
  {
   "cell_type": "markdown",
   "metadata": {},
   "source": [
    "4. **Interquartile Range (IQR):** The IQR measures the spread of the middle 50% of the data. It is the difference between the third quartile (Q3) and the first quartile (Q1) and is less affected by extreme values (outliers).\n",
    "\n",
    "   Formula: IQR = Q3 - Q1\n"
   ]
  },
  {
   "cell_type": "markdown",
   "metadata": {},
   "source": [
    "5. **Mean Absolute Deviation (MAD):** MAD is the average absolute difference between each data point and the mean. It provides a measure of dispersion that is less influenced by extreme values compared to the standard deviation.\n",
    "\n",
    "   Formula for MAD:\n",
    "   $$MAD = \\frac{1}{n} \\sum_{i=1}^{n} |x_i - \\bar{x}|$$\n",
    "\n",
    "These methods of dispersion help analysts and researchers understand how data values are spread out and whether they are concentrated or scattered around the central tendency (mean or median). The choice of which measure to use often depends on the characteristics of the data and the specific objectives of the analysis."
   ]
  },
  {
   "cell_type": "markdown",
   "metadata": {},
   "source": [
    "#### 11. How can we calculate the range of the data? "
   ]
  },
  {
   "cell_type": "markdown",
   "metadata": {},
   "source": [
    "The range of a dataset is a measure of its dispersion, specifically the difference between the maximum and minimum values. It provides a simple and quick way to assess the spread of data points. To calculate the range of a dataset, follow these steps:\n",
    "\n",
    "1. **Step 1:** Arrange the data in ascending order (from the smallest value to the largest value). If the data is already in order, you can skip this step.\n",
    "\n",
    "2. **Step 2:** Identify the minimum and maximum values in the dataset.\n",
    "\n",
    "3. **Step 3:** Calculate the range by subtracting the minimum value from the maximum value:\n",
    "\n",
    "   **Range = Maximum Value - Minimum Value**\n",
    "\n",
    "Here's an example to illustrate the calculation:\n",
    "\n",
    "Suppose you have the following dataset of exam scores: [62, 78, 91, 54, 89, 70, 98, 81, 75].\n",
    "\n",
    "1. Arrange the data in ascending order: [54, 62, 70, 75, 78, 81, 89, 91, 98].\n",
    "\n",
    "2. Identify the minimum value: 54.\n",
    "\n",
    "3. Identify the maximum value: 98.\n",
    "\n",
    "4. Calculate the range:\n",
    "   Range = Maximum Value - Minimum Value\n",
    "   Range = 98 - 54\n",
    "   Range = 44\n",
    "\n",
    "So, the range of the exam scores in this dataset is 44. This means that the scores vary from a minimum of 54 to a maximum of 98, with a range of 44 points."
   ]
  },
  {
   "cell_type": "markdown",
   "metadata": {},
   "source": [
    "#### 12.Is the range sensitive to outliers? "
   ]
  },
  {
   "cell_type": "markdown",
   "metadata": {},
   "source": [
    "Yes, the range is sensitive to outliers in a dataset. Outliers are data points that significantly deviate from the majority of the data. Since the range is calculated as the difference between the maximum and minimum values in the dataset, the presence of outliers can have a substantial impact on its value.\n",
    "\n",
    "Here's how outliers can affect the range:\n",
    "\n",
    "1. **Overestimation of Spread:** Outliers, particularly extreme values that are much larger or smaller than the rest of the data, can lead to an overestimation of the range. The range will be artificially inflated because it extends to include the outlier(s).\n",
    "\n",
    "2. **Underestimation of Spread:** Conversely, if an outlier happens to be the maximum or minimum value, the range may underestimate the actual spread of the non-outlier data points. In such cases, the range would be narrower than what you would expect based on the majority of the data.\n",
    "\n",
    "3. **Robustness of the Range:** The range is not a robust measure of dispersion precisely because of its sensitivity to outliers. Robust measures, like the interquartile range (IQR), are less influenced by outliers and provide a more reliable summary of data spread in the presence of extreme values.\n",
    "\n",
    "To address the sensitivity of the range to outliers, you can consider using more robust measures of spread, such as the IQR. The IQR is based on the quartiles of the data and is less affected by extreme values because it only considers the middle 50% of the data. It is calculated as:\n",
    "\n",
    "$$IQR = Q3 - Q1$$\n",
    "\n",
    "where:\n",
    "- \\(Q3\\) is the third quartile (the 75th percentile), and\n",
    "- \\(Q1\\) is the first quartile (the 25th percentile).\n",
    "\n",
    "The IQR provides a more stable measure of spread in the presence of outliers and is often preferred when dealing with data that may contain extreme values."
   ]
  },
  {
   "cell_type": "markdown",
   "metadata": {},
   "source": [
    "#### 13. What is the meaning of standard deviation?"
   ]
  },
  {
   "cell_type": "markdown",
   "metadata": {},
   "source": [
    "The standard deviation is a statistical measure of the spread or dispersion of a dataset. It provides information about how individual data points in a dataset vary or deviate from the mean (average) of the dataset. In other words, the standard deviation quantifies the amount of variability or scatter in the data.\n",
    "\n",
    "Key points to understand about the standard deviation:\n",
    "\n",
    "1. **Measures Variability:** The standard deviation indicates how much individual data points differ, on average, from the mean. A high standard deviation suggests that data points are spread out from the mean, while a low standard deviation indicates that data points are closer to the mean.\n",
    "\n",
    "2. **Formula:** The formula for calculating the standard deviation varies slightly depending on whether you are working with a sample or a population dataset.\n",
    "\n",
    "   - **Sample Standard Deviation (s):**\n",
    "     $$s = \\sqrt{\\frac{1}{n-1} \\sum_{i=1}^{n} (x_i - \\bar{x})^2}$$\n",
    "     where:\n",
    "     - $(s)$ is the sample standard deviation.\n",
    "     - $(n)$ is the number of data points in the sample.\n",
    "     - $(x_i)$ represents each data point.\n",
    "     - $(\\bar{x})$ is the sample mean.\n",
    "\n",
    "   - **Population Standard Deviation (σ):**\n",
    "     $$σ = \\sqrt{\\frac{1}{n} \\sum_{i=1}^{n} (x_i - μ)^2}$$\n",
    "     where:\n",
    "     - \\(σ\\) (sigma) is the population standard deviation.\n",
    "     - \\(n\\) is the number of data points in the population.\n",
    "     - \\(x_i\\) represents each data point.\n",
    "     - \\(μ\\) (mu) is the population mean.\n",
    "\n",
    "3. **Units:** The standard deviation is expressed in the same units as the original data. For example, if you are measuring the heights of people in centimeters, the standard deviation will also be in centimeters.\n",
    "\n",
    "4. **Interpretation:** A small standard deviation suggests that data points are closely clustered around the mean, indicating low variability. A large standard deviation suggests that data points are more spread out from the mean, indicating high variability.\n",
    "\n",
    "5. **Use Cases:** The standard deviation is commonly used in various fields, including finance, science, engineering, and social sciences. It is used to assess risk, evaluate data quality, make predictions, and compare data distributions.\n",
    "\n",
    "In summary, the standard deviation is a measure of how data points in a dataset deviate from the mean. It plays a crucial role in understanding and quantifying data variability, which is essential for making informed decisions and conducting statistical analyses."
   ]
  },
  {
   "cell_type": "markdown",
   "metadata": {},
   "source": [
    "#### 14.What are the scenarios where outliers are kept in the data?"
   ]
  },
  {
   "cell_type": "markdown",
   "metadata": {},
   "source": [
    "Outliers, which are data points that significantly deviate from the majority of the data, are often considered as noise or anomalies that should be removed from a dataset. However, there are scenarios where outliers may be intentionally kept in the data for specific reasons. Here's a table outlining some of these scenarios:\n",
    "\n",
    "| Scenario                                        | Description                                                 |\n",
    "|:-------------------------------------------------:|:-------------------------------------------------------------:|\n",
    "| Anomaly Detection                               | **Fraud Detection:** In finance or e-commerce, outliers can represent fraudulent transactions, which are of particular interest. Keeping them helps identify and prevent fraud. |\n",
    "| Experimental Studies                            | **Research Studies:** Outliers may provide valuable insights or indicate unique experimental conditions. Researchers may want to analyze them separately. |\n",
    "| Natural Variability                             | **Environmental Monitoring:** In ecological or environmental data, outliers can be due to natural variability or rare events, which are of scientific interest. |\n",
    "| Tail Analysis                                   | **Risk Assessment:** In finance, extreme values (outliers) in investment returns can help assess tail risk, which is important for risk management. |\n",
    "| Medical Diagnosis                               | **Disease Detection:** Outliers in medical data may indicate unusual health conditions or diseases, making them important for diagnosis. |\n",
    "| Quality Control                                 | **Product Quality:** In manufacturing, outliers may represent defects that need to be investigated to improve product quality. |\n",
    "| Customer Behavior                               | **Customer Segmentation:** In marketing, identifying outliers in customer behavior can help create specialized marketing strategies. |\n",
    "| Astronomical Observations                       | **Astronomy:** Outliers in astronomical data may indicate the presence of rare celestial events or objects, leading to important discoveries. |\n",
    "| Creative Data Exploration                       | **Data Exploration:** In exploratory data analysis, outliers can reveal hidden patterns or interesting phenomena that may warrant further investigation. |\n",
    "| Preservation of Information                      | **Preserving Information:** In some cases, removing outliers can lead to the loss of valuable information, and researchers may prefer to keep them to maintain data integrity. |\n",
    "\n",
    "It's important to note that whether outliers should be kept or removed depends on the specific goals of the analysis and the domain of application. In some cases, they may provide valuable insights, while in others, they may distort the analysis, and it may be appropriate to treat them as data errors and address them accordingly. Decisions about outliers should be made carefully, considering the context and objectives of the analysis."
   ]
  },
  {
   "cell_type": "markdown",
   "metadata": {},
   "source": [
    "#### 15.  What is Bessel's correction?\n",
    " "
   ]
  },
  {
   "cell_type": "markdown",
   "metadata": {},
   "source": [
    "Bessel's correction is a mathematical adjustment applied to the calculation of sample variance and sample standard deviation in statistics. It is named after the German mathematician Friedrich Bessel, who introduced this correction in the 19th century.\n",
    "\n",
    "The primary purpose of Bessel's correction is to provide a more unbiased estimate of the population variance and population standard deviation when working with a sample of data rather than an entire population. It compensates for the potential underestimation of population variability that can occur when using the sample variance and sample standard deviation formulas.\n",
    "\n",
    "The formulas for sample variance and sample standard deviation without Bessel's correction are as follows:\n",
    "\n",
    "**Sample Variance (without Bessel's correction):**\n",
    "$$s^2 = \\frac{1}{n} \\sum_{i=1}^{n} (x_i - \\bar{x})^2$$\n",
    "\n",
    "**Sample Standard Deviation (without Bessel's correction):**\n",
    "$$s = \\sqrt{\\frac{1}{n} \\sum_{i=1}^{n} (x_i - \\bar{x})^2}$$\n",
    "\n",
    "In these formulas:\n",
    "- $(s^2)$ represents the sample variance.\n",
    "- $(s)$ represents the sample standard deviation.\n",
    "- $(n)$ is the number of data points in the sample.\n",
    "- $(x_i)$ represents each data point in the sample.\n",
    "- $(\\bar{x})$ represents the sample mean.\n",
    "\n",
    "However, when calculating sample variance and sample standard deviation with Bessel's correction, the formulas include a correction factor involving $(n-1)$ in the denominator:\n",
    "\n",
    "**Sample Variance (with Bessel's correction):**\n",
    "$$s^2 = \\frac{1}{n-1} \\sum_{i=1}^{n} (x_i - \\bar{x})^2$$\n",
    "\n",
    "**Sample Standard Deviation (with Bessel's correction):**\n",
    "$$s = \\sqrt{\\frac{1}{n-1} \\sum_{i=1}^{n} (x_i - \\bar{x})^2}$$\n",
    "\n",
    "In these corrected formulas:\n",
    "- $(s^2)$ still represents the sample variance.\n",
    "- $(s)$ still represents the sample standard deviation.\n",
    "- $(n)$ is the number of data points in the sample.\n",
    "- $(x_i)$ represents each data point in the sample.\n",
    "- $(\\bar{x})$ represents the sample mean.\n",
    "\n",
    "The reason for the $(n-1)$ denominator in Bessel's correction is to account for the fact that using $(n-1)$ degrees of freedom provides a more accurate estimate of population variability when working with a sample. It reduces the bias that would otherwise be introduced into the estimate of population variance when using the sample variance formula with $(n)$ degrees of freedom.\n",
    "\n",
    "In summary, Bessel's correction is used when calculating sample variance and sample standard deviation to adjust for the potential underestimation of population variability when working with a sample instead of the entire population. It is a common practice in statistics to provide more accurate estimates of population parameters based on sample data."
   ]
  },
  {
   "cell_type": "markdown",
   "metadata": {},
   "source": [
    "#### 16. What do you understand about a spread out  and concentrated curve? "
   ]
  },
  {
   "cell_type": "markdown",
   "metadata": {},
   "source": [
    "In statistics and data analysis, when we refer to a \"spread out\" curve and a \"concentrated\" curve, we are typically talking about the shape of the probability density or frequency distribution of a dataset. These terms describe how the data values are distributed and clustered within a distribution curve. Here's what each term means:\n",
    "\n",
    "1. **Spread Out Curve:**\n",
    "   - A \"spread out\" curve, also known as a \"wide\" or \"dispersed\" curve, refers to a distribution where the data values are more widely scattered or dispersed across a broader range of values.\n",
    "   - Characteristics of a spread out curve:\n",
    "     - The curve is relatively flat and extended.\n",
    "     - Data points are located far from the center (mean or median) of the distribution.\n",
    "     - Variability within the dataset is high, indicating that data points can be considerably different from each other.\n",
    "     - The standard deviation is relatively large, indicating a large degree of dispersion.\n",
    "\n",
    "   Example: A dataset of test scores where students have scores that vary widely, with some students scoring very high and others very low.\n",
    "\n",
    "2. **Concentrated Curve:**\n",
    "   - A \"concentrated\" curve, also known as a \"narrow\" or \"clustered\" curve, refers to a distribution where the data values are closely clustered or concentrated around a central value.\n",
    "   - Characteristics of a concentrated curve:\n",
    "     - The curve is tall and peaky.\n",
    "     - Data points are located close to the center (mean or median) of the distribution.\n",
    "     - Variability within the dataset is low, indicating that data points are relatively similar to each other.\n",
    "     - The standard deviation is relatively small, indicating a small degree of dispersion.\n",
    "\n",
    "   Example: A dataset of test scores where most students have scores that are very close to the mean score, and there are relatively few extreme scores.\n",
    "\n",
    "The concepts of a \"spread out\" curve and a \"concentrated\" curve are closely related to measures of data dispersion, such as the standard deviation or range. A spread out curve corresponds to a higher dispersion of data, while a concentrated curve corresponds to lower dispersion.\n",
    "\n",
    "Understanding the shape of the distribution and whether it is spread out or concentrated is important in statistical analysis because it provides insights into the variability and characteristics of the data. Different statistical techniques and approaches may be used depending on the shape and characteristics of the distribution."
   ]
  },
  {
   "cell_type": "markdown",
   "metadata": {},
   "source": [
    "#### 17. Can you calculate the coefficient of variation? "
   ]
  },
  {
   "cell_type": "markdown",
   "metadata": {},
   "source": [
    "The coefficient of variation (CV) is a statistical measure used to assess the relative variability or dispersion of data points in comparison to the mean. It is often expressed as a percentage and is particularly useful when comparing the variability of different datasets, especially if they have different units of measurement. The formula for calculating the coefficient of variation is as follows:\n",
    "\n",
    "$$CV = \\left(\\frac{s}{\\bar{x}}\\right) \\times 100$$]\n",
    "\n",
    "Where:\n",
    "-$(CV)$ is the coefficient of variation (expressed as a percentage).\n",
    "- $(s)$ is the standard deviation of the dataset.\n",
    "- $(\\bar{x})$ is the mean (average) of the dataset.\n",
    "\n",
    "To calculate the coefficient of variation:\n",
    "\n",
    "1. Calculate the standard deviation $(s)$ of your dataset.\n",
    "2. Calculate the mean $(\\bar{x})$ of your dataset.\n",
    "3. Use the formula above to compute the coefficient of variation by dividing the standard deviation by the mean and then multiplying by 100 to express it as a percentage.\n",
    "\n",
    "Here's an example calculation:\n",
    "\n",
    "Suppose you have a dataset of exam scores: [85, 92, 78, 88, 90].\n",
    "\n",
    "1. Calculate the mean $(\\bar{x}):$\n",
    "   $$\\bar{x} = \\frac{85 + 92 + 78 + 88 + 90}{5} = \\frac{433}{5} = 86.6$$\n",
    "\n",
    "2. Calculate the standard deviation $(s):$\n",
    "   $$s = \\sqrt{\\frac{1}{5-1} \\sum_{i=1}^{5} (x_i - \\bar{x})^2} = \\sqrt{\\frac{62.8}{4}} = \\sqrt{15.7} \\approx 3.97$$\n",
    "\n",
    "3. Calculate the coefficient of variation $(CV):$\n",
    "   $$CV = \\left(\\frac{s}{\\bar{x}}\\right) \\times 100 = \\left(\\frac{3.97}{86.6}\\right) \\times 100 \\approx 4.58\\%$$\n",
    "\n",
    "So, the coefficient of variation for the exam scores is approximately 4.58%, indicating the relative variability of the scores compared to their mean."
   ]
  },
  {
   "cell_type": "markdown",
   "metadata": {},
   "source": [
    "#### 18. State the case where the median is a better measure when compared to the mean."
   ]
  },
  {
   "cell_type": "markdown",
   "metadata": {},
   "source": [
    "The median is a better measure of central tendency than the mean in certain situations, particularly when dealing with skewed or asymmetric datasets, or when the data contains extreme outliers. Here are some cases where the median is a more appropriate measure:\n",
    "\n",
    "1. **Skewed Distributions:**\n",
    "   - When the data distribution is significantly skewed, meaning it is not symmetrical and has a long tail in one direction, the mean can be strongly influenced by the extreme values in the tail. In such cases, the median is a better representation of the central value because it is less affected by extreme outliers.\n",
    "   - Example: Income distribution in a country, where a small number of extremely high-income individuals can greatly skew the mean income, making it higher than what most people earn.\n",
    "\n",
    "2. **Outliers:**\n",
    "   - In the presence of outliers, which are data points significantly different from the rest of the data, the mean can be highly sensitive to these extreme values. The median, being resistant to outliers, provides a more robust measure of central tendency.\n",
    "   - Example: Exam scores in a class, where one student's score is much higher or lower than the rest, can significantly affect the mean score.\n",
    "\n",
    "3. **Ordinal or Ranked Data:**\n",
    "   - When working with ordinal data (data with ordered categories) or ranked data, the median is often preferred because it takes into account the order of values without making assumptions about the intervals between them.\n",
    "   - Example: Ranking preferences for food items (1st, 2nd, 3rd choice), where the median represents the middle-ranked preference.\n",
    "\n",
    "4. **Non-Normal Distributions:**\n",
    "   - In situations where the data distribution is not approximately normal or Gaussian, the median is a more robust choice because it does not rely on the assumption of normality.\n",
    "   - Example: Customer waiting times in a service center, which may have a skewed distribution.\n",
    "\n",
    "5. **Lack of Interval Scale:**\n",
    "   - In cases where the data is measured on an ordinal or nominal scale, rather than an interval or ratio scale, the mean may not have meaningful interpretation. The median is a suitable choice as it only requires ordering the data.\n",
    "   - Example: Survey responses with categories like \"Agree,\" \"Neutral,\" and \"Disagree.\"\n",
    "\n",
    "6. **Data with Missing Values:**\n",
    "   - If a dataset has missing values, it can affect the calculation of the mean. The median can handle missing values more easily, as it depends only on the ranking of observed values.\n",
    "\n",
    "In summary, the median is a better measure of central tendency when data has issues related to skewness, outliers, non-normality, or a lack of meaningful interval scale. It provides a more robust representation of the typical value in such cases. However, the choice between the mean and median should always be made based on the specific characteristics and goals of the analysis."
   ]
  },
  {
   "cell_type": "code",
   "execution_count": 27,
   "metadata": {},
   "outputs": [],
   "source": [
    "x = [-1,1,2,-2,3,3,4,5,-5,6,7] "
   ]
  },
  {
   "cell_type": "code",
   "execution_count": 28,
   "metadata": {},
   "outputs": [
    {
     "data": {
      "text/plain": [
       "2.090909090909091"
      ]
     },
     "execution_count": 28,
     "metadata": {},
     "output_type": "execute_result"
    }
   ],
   "source": [
    "np.mean(x)"
   ]
  },
  {
   "cell_type": "code",
   "execution_count": 29,
   "metadata": {},
   "outputs": [
    {
     "data": {
      "text/plain": [
       "3.0"
      ]
     },
     "execution_count": 29,
     "metadata": {},
     "output_type": "execute_result"
    }
   ],
   "source": [
    "np.median(x)"
   ]
  },
  {
   "cell_type": "code",
   "execution_count": 30,
   "metadata": {},
   "outputs": [],
   "source": [
    "x2=x.copy()"
   ]
  },
  {
   "cell_type": "code",
   "execution_count": 33,
   "metadata": {},
   "outputs": [],
   "source": [
    "x2.insert(0,-100)\n",
    "x2.insert(0,-120)\n",
    "x2.insert(0,-130)"
   ]
  },
  {
   "cell_type": "code",
   "execution_count": 40,
   "metadata": {},
   "outputs": [
    {
     "data": {
      "text/plain": [
       "[-130, -120, -100, -1, 1, 2, -2, 3, 3, 4, 5, -5, 6, 7]"
      ]
     },
     "execution_count": 40,
     "metadata": {},
     "output_type": "execute_result"
    }
   ],
   "source": [
    "x2"
   ]
  },
  {
   "cell_type": "code",
   "execution_count": 41,
   "metadata": {},
   "outputs": [
    {
     "data": {
      "text/plain": [
       "-23.357142857142858"
      ]
     },
     "execution_count": 41,
     "metadata": {},
     "output_type": "execute_result"
    }
   ],
   "source": [
    "np.mean(x2)"
   ]
  },
  {
   "cell_type": "code",
   "execution_count": 42,
   "metadata": {},
   "outputs": [
    {
     "data": {
      "text/plain": [
       "1.5"
      ]
     },
     "execution_count": 42,
     "metadata": {},
     "output_type": "execute_result"
    }
   ],
   "source": [
    "np.median(x2)"
   ]
  },
  {
   "cell_type": "markdown",
   "metadata": {},
   "source": [
    "#### 19.How is missing data handled in statistics? "
   ]
  },
  {
   "cell_type": "markdown",
   "metadata": {},
   "source": [
    "In statistics, missing data, or missing values, occur when no data value is stored for the variable in an observation. Missing data are a common occurrence and can have a significant effect on the conclusions that can be drawn from the data."
   ]
  },
  {
   "cell_type": "markdown",
   "metadata": {},
   "source": [
    "#### Types of missing data "
   ]
  },
  {
   "cell_type": "markdown",
   "metadata": {},
   "source": [
    "* There are three main types of missing data: \n",
    "         (1) Missing Completely at Random (MCAR), \n",
    "         (2) Missing at Random (MAR), and \n",
    "         (3) Missing Not at Random (MNAR)."
   ]
  },
  {
   "cell_type": "markdown",
   "metadata": {},
   "source": [
    "Missing Completely at Random (MCAR):\n",
    "* \"Missing Completely At Random\" (MCAR) is a pattern of missing data in which the missingness of data points occurs entirely by chance and is unrelated to any variables or factors in the dataset. In MCAR, the missing data points are missing randomly and independently of other variables or values. Here's an example to illustrate MCAR:\n",
    "\n",
    "**Example: Survey on Income and Education**\n",
    "\n",
    "Imagine a survey conducted to collect information on income and education level from a random sample of individuals. The dataset includes the following variables for each respondent:\n",
    "\n",
    "1. **Income (Income):** The reported annual income of each respondent.\n",
    "2. **Education Level (Education):** The highest level of education attained by each respondent, measured on a scale from 1 (no formal education) to 5 (graduate or professional degree).\n",
    "3. **Age (Age):** The age of each respondent.\n",
    "\n",
    "Now, let's consider the MCAR scenario:\n",
    "\n",
    "**MCAR Scenario:** In this dataset, some respondents have missing values for the Income variable. The missingness of income data is entirely random and unrelated to any observed or unobserved variables in the dataset. In other words, whether income data is missing or observed is purely a matter of chance, and it is unrelated to the actual values of income, education, or age.\n",
    "\n",
    "In this MCAR scenario:\n",
    "\n",
    "- The probability of data being missing (i.e., the missingness of Income) is not related to any observed or unobserved variables. It is random and occurs independently of other variables in the dataset.\n",
    "\n",
    "- The data on Income is missing purely by chance, and there is no systematic pattern or relationship between the missingness and the values of other variables.\n",
    "\n",
    "Handling MCAR Data in this Scenario:\n",
    "\n",
    "Handling MCAR data is relatively straightforward because the missingness is entirely random, and there is no need to account for systematic patterns or relationships in the analysis.\n",
    "\n",
    "Common approaches to handling MCAR data include:\n",
    "\n",
    "1. **Listwise Deletion:** In this approach, cases (rows) with missing data are simply removed from the analysis. This method is unbiased when data is MCAR but can result in a loss of sample size and statistical power.\n",
    "\n",
    "2. **Imputation:** Missing values can be imputed using various techniques, such as mean imputation (replacing missing values with the mean of the observed data) or regression imputation (predicting missing values based on other variables). While imputation can be used with MCAR data, it may not be necessary if the proportion of missing data is small.\n",
    "\n",
    "3. **Multiple Imputation:** Multiple imputation is a more sophisticated technique where multiple datasets with imputed values are created, and analyses are performed on each dataset separately. The results are then combined to account for uncertainty in imputation.\n",
    "\n",
    "In summary, MCAR data is missing completely at random, and the handling of missing data in such cases is relatively straightforward. However, it's important to assess whether the data is indeed MCAR through statistical tests or domain knowledge, as the missing data mechanism can have implications for the choice of handling methods."
   ]
  },
  {
   "cell_type": "markdown",
   "metadata": {},
   "source": [
    "Missing at Random\" (MAR):\n",
    "   * \"Missing at Random\" (MAR) is a pattern of missing data in which the missingness of data points is related to observed variables in the dataset but not directly related to the missing values themselves. In other words, whether data is missing is related to some known factors in the data but not to the values of the missing data points. Here's an example to illustrate MAR:\n",
    "\n",
    "**Example: Student Exam Scores**\n",
    "\n",
    "Consider a dataset of student exam scores in a class, which includes the following variables for each student:\n",
    "\n",
    "1. **Exam Score (Score):** The score obtained by each student on a standardized exam, measured on a scale from 0 to 100.\n",
    "2. **Study Hours (Hours):** The number of hours each student reported studying for the exam.\n",
    "3. **Class Participation (Participation):** A binary variable indicating whether a student actively participated in class (1) or did not (0).\n",
    "\n",
    "Now, let's consider the MAR scenario:\n",
    "\n",
    "**MAR Scenario:** In this dataset, some exam scores are missing. The missingness of exam scores is related to the number of study hours reported by students (Hours) and whether they actively participated in class (Participation). Students who studied more hours and actively participated in class are more likely to have their exam scores recorded in the dataset. However, the missingness of exam scores is not related to the actual scores themselves.\n",
    "\n",
    "In this MAR scenario:\n",
    "\n",
    "- The probability of data being missing (i.e., the missingness of Exam Score) is related to observed variables (Study Hours and Class Participation) in the dataset.\n",
    "\n",
    "- The data on Exam Score is missing in a way that is systematically related to other observed variables (Study Hours and Class Participation) but not directly related to the values of the missing exam scores.\n",
    "\n",
    "Handling MAR Data in this Scenario:\n",
    "\n",
    "Handling MAR data is more straightforward compared to \"Missing Not at Random\" (MNAR) data because the missingness is related to observed variables, which can be included in the analysis to account for the missing data pattern.\n",
    "\n",
    "In this scenario, researchers can use various methods to handle missing data, including:\n",
    "\n",
    "1. **Imputation:** Impute missing exam scores using statistical techniques, such as regression imputation. This involves modeling the relationship between the observed variables (Study Hours and Class Participation) and the missing variable (Exam Score) and using that relationship to estimate missing values.\n",
    "\n",
    "2. **Statistical Models:** Incorporate the observed variables (Study Hours and Class Participation) as predictors in statistical models that use the available data to make inferences about the missing values. For example, regression analysis or multiple imputation methods can be employed.\n",
    "\n",
    "3. **Sensitivity Analysis:** Conduct sensitivity analyses to assess the robustness of conclusions under different assumptions about the missing data mechanism.\n",
    "\n",
    "In summary, MAR data is missing in a way that is related to observed variables in the dataset but not directly related to the missing values themselves. Handling MAR data often involves including relevant observed variables in the analysis and using statistical methods to account for the missing data pattern."
   ]
  },
  {
   "cell_type": "markdown",
   "metadata": {},
   "source": [
    "Missing Not at Random\" (MNAR):\n",
    "* \"Missing Not at Random\" (MNAR) is a pattern of missing data where the missingness of data points is related to unobserved or missing values themselves, making it challenging to handle in statistical analysis. In MNAR, the probability of data being missing depends on the values of the missing data points. Here's an example to illustrate MNAR:\n",
    "\n",
    "**Example: Medical Research Study**\n",
    "\n",
    "Imagine a medical research study that assesses the effectiveness of a new medication for pain relief. The researchers measure the pain level of patients before and after taking the medication. However, some patients experience side effects from the medication, including dizziness and nausea.\n",
    "\n",
    "In this study, the data collected includes the following variables for each patient:\n",
    "\n",
    "1. **Pain Level Before Medication (Pain_Before):** Measured on a scale from 0 (no pain) to 10 (severe pain).\n",
    "2. **Pain Level After Medication (Pain_After):** Measured on the same scale.\n",
    "3. **Side Effects (Side_Effects):** A binary variable indicating the presence (1) or absence (0) of side effects.\n",
    "\n",
    "Now, let's consider the MNAR scenario:\n",
    "\n",
    "**MNAR Scenario:** Patients who experience more severe side effects (e.g., dizziness and nausea) are less likely to complete the post-medication pain assessment. They may be more likely to drop out of the study or decline to report their pain level after taking the medication.\n",
    "\n",
    "In this MNAR scenario:\n",
    "\n",
    "- The probability of data being missing (i.e., the missingness of Pain_After) is related to unobserved values (the true pain levels after taking the medication) because patients with more severe side effects are less likely to report their pain levels.\n",
    "\n",
    "- The data on Pain_After is systematically missing, and the missingness is related to the unobserved values of Pain_After.\n",
    "\n",
    "Handling MNAR Data in this Scenario:\n",
    "\n",
    "Handling MNAR data like this can be challenging because the missingness mechanism is related to the missing values themselves, making it difficult to make unbiased inferences. Simple techniques like listwise deletion or mean imputation can lead to biased results.\n",
    "\n",
    "To handle MNAR data in this scenario, researchers might consider more sophisticated methods, such as multiple imputation, pattern mixture models, or selection models. These methods take into account the relationship between missingness and unobserved values, allowing for more accurate estimation and analysis.\n",
    "\n",
    "It's important to acknowledge the presence of MNAR data, transparently report the handling of missing data, and conduct sensitivity analyses to assess the impact of different assumptions about the missing data mechanism on the study's conclusions."
   ]
  },
  {
   "cell_type": "markdown",
   "metadata": {},
   "source": [
    "* Methods for identifying missing data\n",
    "There are multiple methods that can be used to identify missing data in pandas. Below are the most recurrent ones.\n",
    "* Functions\n",
    "   * .isnull()\n",
    "       * This function returns a pandas dataframe, where each value is a boolean value True if the value is missing, False otherwise.\n",
    "   * .notnull()\n",
    "       * Similarly to the previous function, the values for this one are False if either NaN or None value is detected.\n",
    "   * .info()\n",
    "        * This function generates three main columns, including the “Non-Null Count” which shows the number of non-missing values for each column.\n",
    "   * .isna()\n",
    "        * This one is similar to isnull and notnull. However it shows True only when the missing value is NaN type. "
   ]
  },
  {
   "cell_type": "markdown",
   "metadata": {},
   "source": [
    "* Data Dropping:\n",
    "    * Using the dropna() function is the easiest way to remove observations or features with missing values from the dataframe. Below are some techniques. \n",
    "\n",
    "        1) Drop observations with missing values\n",
    "            * These three scenarios can happen when trying to remove observations from a data set: \n",
    "            * dropna(): drops all the rows with missing values.\n",
    "            * dropna(how = ‘all’): the rows where all the column values are missing.\n",
    "            * dropna(thresh = minimum_value): drop rows based on a threshold. This strategy sets a minimum number of missing values required to preserve the rows.\n",
    "        2) Drop columns with missing values\n",
    "            * The parameter axis = 1 can be used to explicitly specify we are interested in columns rather than rows. \n",
    "              dropna(axis = 1): drops all the columns with missing values."
   ]
  },
  {
   "cell_type": "markdown",
   "metadata": {},
   "source": [
    "|Type of missing data|Imputation method|\n",
    "|--------------------|:-----------------:|\n",
    "Missing Completely At Random|Mean, Median, Mode, or any other imputation method\n",
    "Missing At Random|Multiple imputation, Regression imputation\n",
    "Missing Not At Random|Pattern Substitution, Maximum Likelihood estimation"
   ]
  },
  {
   "cell_type": "markdown",
   "metadata": {},
   "source": [
    "#### 20. What is meant by mean imputation for missing data? Why is it bad? "
   ]
  },
  {
   "cell_type": "markdown",
   "metadata": {},
   "source": [
    "Mean imputation is a method for handling missing data where missing values in a dataset are replaced with the mean (average) of the observed values for the same variable. It's a simple and straightforward approach to address missing data, but it has several limitations and potential drawbacks, which is why it is often considered a suboptimal imputation method. Here's an explanation of mean imputation and its limitations:\n",
    "\n",
    "**Mean Imputation Process:**\n",
    "\n",
    "1. Calculate the mean of the observed values for a specific variable in the dataset.\n",
    "2. Replace the missing values in that variable with the calculated mean.\n",
    "\n",
    "**Limitations and Concerns with Mean Imputation:**\n",
    "\n",
    "1. **Loss of Variability:** Mean imputation results in the imputed values being identical (equal to the mean), which means it introduces no variability for the imputed variable. This can underestimate the true variability in the data.\n",
    "\n",
    "2. **Bias in Estimations:** Mean imputation can lead to biased parameter estimates and statistical tests, especially when the data is not missing completely at random (MCAR). If data is missing at random (MAR) or missing not at random (MNAR), mean imputation can introduce systematic bias into the analysis.\n",
    "\n",
    "3. **Discrepancy in Relationships:** Mean imputation does not consider relationships between variables. It assumes that missing values are unrelated to the values of other variables, which may not be the case in real-world data.\n",
    "\n",
    "4. **Inflated Sample Size:** Mean imputation inflates the effective sample size by treating imputed values as if they were real observations. This can lead to overly optimistic estimates of precision.\n",
    "\n",
    "5. **Lack of Realism:** Imputing missing values with the mean assumes that all missing values would have been equal to the mean, which is often an unrealistic assumption.\n",
    "\n",
    "6. **Distortion of Distributions:** Mean imputation can distort the distribution of the variable, particularly if missing values are not missing completely at random. The distribution may become more normal or less skewed than it should be.\n",
    "\n",
    "7. **Regression Toward the Mean:** Mean imputation tends to pull extreme values towards the center (mean), leading to regression toward the mean effects that may not reflect the true data distribution.\n",
    "\n",
    "Given these limitations, mean imputation is generally not recommended as the primary method for handling missing data in many research and analysis contexts. Instead, more sophisticated imputation techniques that consider relationships between variables and the specific missing data mechanism (e.g., multiple imputation, regression imputation, or maximum likelihood imputation) are often preferred. These methods can provide more accurate and less biased estimates while preserving the overall data structure and variability."
   ]
  },
  {
   "cell_type": "markdown",
   "metadata": {},
   "source": [
    "#### 21.What is the benefit of using box plots? "
   ]
  },
  {
   "cell_type": "markdown",
   "metadata": {},
   "source": [
    "Box plots, also known as box-and-whisker plots, are a valuable tool in data visualization and exploratory data analysis. They offer several benefits for summarizing and understanding the distribution of a dataset:\n",
    "\n",
    "1. **Visualizing Data Distribution:** Box plots provide a visual summary of the distribution of data, allowing you to quickly grasp essential features of the dataset, such as central tendency, spread, skewness, and the presence of outliers.\n",
    "\n",
    "2. **Identifying Central Tendency:** The line inside the box represents the median (the middle value when data is ordered), which is a robust measure of central tendency. It gives you an idea of the typical value in the dataset.\n",
    "\n",
    "3. **Measuring Spread:** The length of the box (the interquartile range, IQR) represents the spread or variability of the data between the 25th and 75th percentiles. This provides information about how much the data deviates from the median.\n",
    "\n",
    "4. **Detecting Skewness:** The asymmetry of the box plot can indicate whether the data is skewed to the left or right. A longer \"whisker\" on one side suggests skewness in that direction.\n",
    "\n",
    "5. **Outlier Detection:** Box plots include \"whiskers\" that extend to the minimum and maximum values within a specified range (typically 1.5 times the IQR). Data points beyond the whiskers are considered potential outliers, making it easy to identify extreme values.\n",
    "\n",
    "6. **Comparing Distributions:** Box plots are excellent for comparing the distributions of multiple datasets side by side. You can quickly see differences in central tendency, spread, and the presence of outliers.\n",
    "\n",
    "7. **Robustness:** Box plots are robust to extreme values and outliers. They focus on the middle 50% of the data and are less influenced by extreme observations.\n",
    "\n",
    "8. **Space Efficiency:** Box plots take up relatively little space compared to other types of plots like histograms, making them useful for displaying distributions of multiple variables or groups in a compact way.\n",
    "\n",
    "9. **Readability:** Box plots are easy to interpret, even for individuals who may not be familiar with statistical concepts. They convey important information about a dataset in a straightforward manner.\n",
    "\n",
    "10. **Use Across Various Data Types:** Box plots can be used with various types of data, including continuous, ordinal, and interval data, as well as data from different scales or units of measurement.\n",
    "\n",
    "In summary, box plots offer a concise and informative way to visualize the distribution of data, making them a valuable tool in data analysis and presentation. They help in understanding key characteristics of a dataset, detecting outliers, and making comparisons between groups or datasets."
   ]
  },
  {
   "cell_type": "code",
   "execution_count": 43,
   "metadata": {},
   "outputs": [
    {
     "data": {
      "image/png": "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\n",
      "text/plain": [
       "<Figure size 432x288 with 2 Axes>"
      ]
     },
     "metadata": {
      "needs_background": "light"
     },
     "output_type": "display_data"
    }
   ],
   "source": [
    "import matplotlib.pyplot as plt\n",
    "\n",
    "# Data\n",
    "class_a_scores = [75, 82, 88, 90, 91, 94, 97, 99, 100, 105]\n",
    "class_b_scores = [60, 65, 70, 75, 80, 85, 90, 95, 100, 105, 110]\n",
    "\n",
    "# Create a box plot for Class A\n",
    "plt.subplot(1, 2, 1)\n",
    "plt.boxplot(class_a_scores)\n",
    "plt.title('Class A Exam Scores')\n",
    "\n",
    "# Create a box plot for Class B\n",
    "plt.subplot(1, 2, 2)\n",
    "plt.boxplot(class_b_scores)\n",
    "plt.title('Class B Exam Scores')\n",
    "\n",
    "plt.tight_layout()\n",
    "plt.show()\n"
   ]
  },
  {
   "cell_type": "markdown",
   "metadata": {},
   "source": [
    "#### 22.What is the meaning of the five-number summary in Statistics? "
   ]
  },
  {
   "cell_type": "markdown",
   "metadata": {},
   "source": [
    "The five-number summary is a set of five summary statistics that provide a concise description of the distribution of a dataset. These statistics are useful for understanding the central tendency, spread, and presence of outliers in the data. The five-number summary consists of the following values:\n",
    "\n",
    "1. **Minimum (Min):** This is the smallest value in the dataset, representing the lowest data point.\n",
    "\n",
    "2. **First Quartile (Q1):** The first quartile, also known as the lower quartile, is the value below which 25% of the data points fall. It separates the lowest 25% of the data from the rest.\n",
    "\n",
    "3. **Median (Q2):** The median, or second quartile, is the middle value when the data is ordered. It divides the dataset into two equal halves, with 50% of the data points below it and 50% above it.\n",
    "\n",
    "4. **Third Quartile (Q3):** The third quartile, also known as the upper quartile, is the value below which 75% of the data points fall. It separates the lowest 75% of the data from the highest 25%.\n",
    "\n",
    "5. **Maximum (Max):** This is the largest value in the dataset, representing the highest data point.\n",
    "\n",
    "Key points about the five-number summary:\n",
    "\n",
    "- It is a concise way to describe the central tendency, spread, and skewness of a dataset.\n",
    "\n",
    "- It is especially useful for comparing the distributions of multiple datasets or identifying outliers.\n",
    "\n",
    "- It is robust to outliers because it focuses on quartiles, which are less influenced by extreme values.\n",
    "\n",
    "- It provides a visual summary when used to create box plots.\n",
    "\n",
    "- It is a simple and intuitive way to communicate essential information about a dataset in statistics and data analysis.\n",
    "\n",
    "Here's an example to illustrate the five-number summary using a dataset of exam scores:\n",
    "\n",
    "**Example: Exam Scores**\n",
    "\n",
    "Suppose you have a dataset of exam scores for a class of students:\n",
    "\n",
    "Exam Scores: [65, 72, 78, 82, 88, 92, 94, 97]\n",
    "\n",
    "Now, let's calculate the five-number summary for this dataset:\n",
    "\n",
    "1. Minimum (Min): The smallest value in the dataset is 65.\n",
    "\n",
    "2. First Quartile (Q1): Q1 is the median of the lower half of the data. For this dataset, it falls between the 25th and 50th percentiles, so Q1 is the average of the 72 and 78, which is 75.\n",
    "\n",
    "3. Median (Q2): The median is the middle value, which is 88 in this case.\n",
    "\n",
    "4. Third Quartile (Q3): Q3 is the median of the upper half of the data, between the 50th and 75th percentiles. For this dataset, it falls between 92 and 94, so Q3 is the average of these values, which is 93.\n",
    "\n",
    "5. Maximum (Max): The largest value in the dataset is 97.\n",
    "\n",
    "The five-number summary for this dataset is as follows:\n",
    "\n",
    "- Minimum (Min): 65\n",
    "- First Quartile (Q1): 75\n",
    "- Median (Q2): 88\n",
    "- Third Quartile (Q3): 93\n",
    "- Maximum (Max): 97\n",
    "\n",
    "These summary statistics provide insights into the distribution of exam scores. For example, the median (Q2) represents the typical score, while the interquartile range (IQR = Q3 - Q1) gives a measure of the spread of scores around the median. The presence of outliers can also be detected by comparing the minimum and maximum values to the quartiles."
   ]
  },
  {
   "cell_type": "markdown",
   "metadata": {},
   "source": [
    "#### 23.What is the difference between the First quartile, the IInd quartile, and the IIIrd quartile? "
   ]
  },
  {
   "cell_type": "markdown",
   "metadata": {},
   "source": [
    "The first quartile (Q1), the second quartile (Q2), and the third quartile (Q3) are statistical measures that divide a dataset into four equal parts, with each quartile representing a quarter of the data. These quartiles help describe the distribution of the data and provide insights into its central tendency and spread. Here are the key differences between the three quartiles with an example:\n",
    "\n",
    "1. **First Quartile (Q1):**\n",
    "   - Q1 is the value below which 25% of the data points fall.\n",
    "   - It represents the lower 25% of the data.\n",
    "   - Q1 is the 25th percentile.\n",
    "   - Mathematically, it's the median of the lower half of the data.\n",
    "   - Q1 indicates the boundary between the lowest 25% of the data and the rest.\n",
    "\n",
    "2. **Second Quartile (Q2, Median):**\n",
    "   - Q2 is the middle value when the data is ordered.\n",
    "   - It divides the dataset into two equal halves, with 50% of the data points below it and 50% above it.\n",
    "   - Q2 is also referred to as the median.\n",
    "   - It represents the central value of the dataset.\n",
    "\n",
    "3. **Third Quartile (Q3):**\n",
    "   - Q3 is the value below which 75% of the data points fall.\n",
    "   - It represents the lower 75% of the data.\n",
    "   - Q3 is the 75th percentile.\n",
    "   - Mathematically, it's the median of the upper half of the data.\n",
    "   - Q3 indicates the boundary between the lowest 75% of the data and the highest 25%.\n",
    "\n",
    "**Example: Exam Scores**\n",
    "\n",
    "Let's use the example of exam scores to illustrate these quartiles:\n",
    "\n",
    "Suppose you have a dataset of exam scores for a class of students:\n",
    "\n",
    "Exam Scores: [65, 72, 78, 82, 88, 92, 94, 97]\n",
    "\n",
    "1. **First Quartile (Q1):**\n",
    "   - To find Q1, sort the data and find the median of the lower half (25th to 50th percentiles).\n",
    "   - Lower half: [65, 72, 78, 82]\n",
    "   - Q1 = (72 + 78) / 2 = 75\n",
    "\n",
    "2. **Second Quartile (Q2, Median):**\n",
    "   - Q2 is the middle value of the dataset.\n",
    "   - Q2 = 88\n",
    "\n",
    "3. **Third Quartile (Q3):**\n",
    "   - To find Q3, sort the data and find the median of the upper half (50th to 75th percentiles).\n",
    "   - Upper half: [92, 94, 97]\n",
    "   - Q3 = (94 + 97) / 2 = 95.5\n",
    "\n",
    "In this example:\n",
    "\n",
    "- Q1 (First Quartile) is 75, meaning 25% of the students scored 75 or lower.\n",
    "- Q2 (Second Quartile or Median) is 88, representing the middle score.\n",
    "- Q3 (Third Quartile) is 95.5, indicating that 75% of the students scored 95.5 or lower.\n",
    "\n",
    "These quartiles help us understand the distribution of exam scores, with Q1 separating the lower 25% of scores, Q2 representing the median, and Q3 separating the lower 75% of scores."
   ]
  },
  {
   "cell_type": "markdown",
   "metadata": {},
   "source": [
    "#### 24. What is the difference between percent and percentile? "
   ]
  },
  {
   "cell_type": "markdown",
   "metadata": {},
   "source": [
    "\"Percent\" and \"percentile\" are related terms in statistics, but they have different meanings and uses:\n",
    "\n",
    "**Percent:**\n",
    "\n",
    "- \"Percent\" is a term used to express a fraction of a whole in terms of one hundred.\n",
    "- It is represented by the symbol \"%\".\n",
    "- A percent is a way of expressing a part of a whole relative to 100.\n",
    "- For example, if you score 80 out of 100 on a test, you can say you scored 80 percent, which is written as 80%.\n",
    "- Percentages range from 0% (representing no portion of the whole) to 100% (representing the entire whole).\n",
    "\n",
    "**Percentile:**\n",
    "\n",
    "- \"Percentile\" is a statistical concept used to describe the position or rank of a particular data point within a dataset.\n",
    "- It divides a dataset into 100 equal parts or percentiles.\n",
    "- A percentile is a specific data point in a dataset that marks a certain percentage of data points falling below it.\n",
    "- For example, if you score in the 90th percentile on a standardized test, it means that your score is higher than 90% of the scores of all test-takers.\n",
    "- Percentiles are often used to understand how an individual's performance or measurement compares to a larger population.\n",
    "\n",
    "**Example:**\n",
    "\n",
    "Let's say you have a dataset of test scores for a group of students who took a math exam. Here are some key points to illustrate the difference between percent and percentile:\n",
    "\n",
    "- If a student scores 80 out of 100 on the exam, their score is 80 percent because it represents 80 out of 100.\n",
    "- If this student's score is in the 70th percentile for the exam, it means their score is higher than 70% of the other students' scores. In other words, 70% of the students scored below them.\n",
    "- If another student scores 90 out of 100 on the same exam, their score is 90 percent, which is higher than the first student's score of 80 percent.\n",
    "- If the second student's score is in the 85th percentile for the exam, it means their score is higher than 85% of the other students' scores.\n",
    "\n",
    "In summary, \"percent\" is a way of expressing a part of a whole relative to 100, while a \"percentile\" is a way of describing the position or rank of a data point within a dataset in terms of percentage. Percentages are used to represent values, while percentiles are used to understand the relative standing of data points within a distribution."
   ]
  },
  {
   "cell_type": "markdown",
   "metadata": {},
   "source": [
    "#### 25.   What is an Outlier?"
   ]
  },
  {
   "cell_type": "markdown",
   "metadata": {},
   "source": [
    "An outlier is a data point that is significantly different from the other data points in a dataset. It is an observation that lies far outside the range of the majority of the data. Outliers can be unusually high or low values that can skew statistical analyses and distort the overall pattern of the data.\n",
    "\n",
    "Here's an example to illustrate outliers:\n",
    "\n",
    "Suppose you have a dataset representing the ages of a group of people:\n",
    "\n",
    "Ages: 25, 28, 30, 31, 32, 33, 35, 36, 38, 80\n",
    "\n",
    "In this dataset, the majority of people have ages in their 20s and 30s, which is typical for such a group. However, there is one individual with an age of 80, which is significantly higher than the ages of the other people. This age of 80 is considered an outlier because it falls far outside the typical range of ages in the dataset.\n",
    "\n",
    "Outliers can occur for various reasons, including data entry errors, measurement errors, or genuine anomalies in the data. It's important to identify and handle outliers appropriately when working with data, as they can impact the results of statistical analyses and the overall understanding of the data distribution. Depending on the context, outliers may need to be investigated, treated, or excluded from certain analyses."
   ]
  },
  {
   "cell_type": "code",
   "execution_count": 55,
   "metadata": {},
   "outputs": [],
   "source": [
    "ages =[25, 28, 30, 31, 32, 33, 35, 36, 38,80]"
   ]
  },
  {
   "cell_type": "code",
   "execution_count": 56,
   "metadata": {},
   "outputs": [
    {
     "data": {
      "image/png": "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\n",
      "text/plain": [
       "<Figure size 432x288 with 1 Axes>"
      ]
     },
     "metadata": {
      "needs_background": "light"
     },
     "output_type": "display_data"
    }
   ],
   "source": [
    "plt.boxplot(ages)\n",
    "plt.title('Ages')\n",
    "plt.tight_layout()\n",
    "plt.show()"
   ]
  },
  {
   "cell_type": "markdown",
   "metadata": {},
   "source": [
    "#### 26. What is the impact of outliers in a dataset? "
   ]
  },
  {
   "cell_type": "markdown",
   "metadata": {},
   "source": [
    "Outliers, which are data points that significantly deviate from the majority of the data, can have various impacts on a dataset and data analysis. Here's a table summarizing the potential impacts of outliers:\n",
    "\n",
    "| Impact                                   | Description                                                 |\n",
    "|:------------------------------------------:|:-------------------------------------------------------------:|\n",
    "| Skewed Descriptive Statistics              | **Effect on Central Tendency:** Outliers can skew measures of central tendency (e.g., mean, median) away from the typical values in the dataset. |\n",
    "| Altered Dispersion Measures               | **Effect on Variability:** Outliers can greatly impact measures of data spread, such as the range and standard deviation, making them larger than they would be without outliers. |\n",
    "| Distorted Data Distribution               | **Distribution Shape:** Outliers can distort the shape of data distributions, making them appear skewed or non-normal. |\n",
    "| Inaccurate Statistical Inferences         | **Hypothesis Testing:** Outliers can lead to incorrect conclusions in hypothesis testing, as they may inflate or obscure true relationships. |\n",
    "| Impact on Regression Analysis             | **Regression Models:** Outliers can disproportionately influence regression models, leading to inaccurate parameter estimates and predictions. |\n",
    "| Reduced Model Fit in Machine Learning     | **Machine Learning:** Outliers can negatively impact the performance of machine learning algorithms, leading to overfitting. |\n",
    "| Risk of Misinterpretation                 | **Interpretation:** Outliers may be incorrectly interpreted as significant patterns or anomalies when they are merely noise. |\n",
    "| Loss of Information                       | **Information Loss:** In some cases, removing outliers can lead to the loss of valuable information that is essential for understanding rare events or unique phenomena. |\n",
    "| Reduced Data Visualization Effectiveness  | **Data Visualization:** Outliers can compress the visual representation of data in graphs and charts, making it harder to discern patterns. |\n",
    "| Bias in Decision-Making                   | **Decision-Making:** Outliers can bias decision-making processes if they are not properly addressed or considered. |\n",
    "\n",
    "It's important to note that the impact of outliers varies depending on factors such as the nature of the data, the analysis techniques used, and the goals of the analysis. In some cases, outliers may be indicative of important phenomena, while in others, they may be data errors or noise that need to be addressed to obtain accurate and meaningful results. Handling outliers appropriately is a critical aspect of data preprocessing and analysis."
   ]
  },
  {
   "cell_type": "markdown",
   "metadata": {},
   "source": [
    "#### 27. Mention methods to screen for outliers in a dataset."
   ]
  },
  {
   "cell_type": "markdown",
   "metadata": {},
   "source": [
    "Screening for outliers in a dataset is an important step in data analysis to identify and assess the presence of extreme values that may impact the results. Here are some common methods to screen for outliers:\n",
    "\n",
    "1. **Visual Inspection**:\n",
    "   - **Box Plots:** Box plots visually display the distribution of data and can easily identify outliers as data points lying outside the whiskers of the box.\n",
    "   - **Scatter Plots:** Scatter plots can be used to identify outliers in two-dimensional data by visually inspecting data points that deviate significantly from the main cluster.\n",
    "\n",
    "2. **Summary Statistics**:\n",
    "   - **Z-Score:** Calculate the Z-score for each data point, which measures how many standard deviations it is away from the mean. Data points with a high absolute Z-score (e.g., greater than 3 or -3) are considered potential outliers.\n",
    "   - **IQR (Interquartile Range):** Calculate the interquartile range (IQR) and identify data points that fall below Q1 - 1.5 * IQR or above Q3 + 1.5 * IQR, where Q1 and Q3 are the first and third quartiles, respectively.\n",
    "\n",
    "3. **Histograms and Density Plots**:\n",
    "   - Visualize the data distribution using histograms or density plots. Outliers may appear as isolated bars or peaks that don't follow the general pattern of the distribution.\n",
    "\n",
    "4. **Tukey's Fences**:\n",
    "   - Tukey's fences are similar to the IQR method but use a stricter criterion to identify outliers. Data points falling below Q1 - 3 * IQR or above Q3 + 3 * IQR are flagged as potential outliers.\n",
    "\n",
    "5. **Machine Learning Models**:\n",
    "   - Train machine learning models, such as clustering algorithms (e.g., k-means) or isolation forests, to identify outliers. Data points that are assigned to separate or rare clusters may be considered outliers.\n",
    "\n",
    "6. **Statistical Tests**:\n",
    "   - Conduct statistical tests, such as Grubbs' test or the Dixon's test, which are specifically designed to detect outliers in a dataset based on predefined significance levels.\n",
    "\n",
    "7. **Visualizations like Scatter Plots**:\n",
    "   - Create scatter plots or scatterplot matrices to visualize multivariate data. Outliers can be identified by examining data points that deviate significantly from the overall pattern.\n",
    "\n",
    "8. **Domain Knowledge**:\n",
    "   - Consult domain experts who have a deep understanding of the subject matter to identify outliers that may have practical significance.\n",
    "\n",
    "9. **Machine Learning Anomaly Detection**:\n",
    "   - Utilize machine learning-based anomaly detection algorithms, such as Isolation Forest, One-Class SVM, or Autoencoders, to automatically detect outliers in complex datasets.\n",
    "\n",
    "10. **Time-Series Analysis**:\n",
    "    - In time-series data, use methods like the exponentially weighted moving average (EWMA) or time-series decomposition to detect outliers and anomalies.\n",
    "\n",
    "It's essential to consider the specific characteristics of your data and the context of your analysis when choosing the most appropriate outlier detection method. Additionally, it's important to exercise caution when deciding how to handle identified outliers, as their removal or transformation should align with the goals and requirements of your analysis."
   ]
  },
  {
   "cell_type": "markdown",
   "metadata": {},
   "source": [
    "#### 28. How you can handle outliers in the datasets.  "
   ]
  },
  {
   "cell_type": "markdown",
   "metadata": {},
   "source": [
    "Handling outliers in datasets is crucial to ensure that they do not unduly influence the results of data analysis and modeling. The approach to handling outliers depends on the nature of the data and the goals of your analysis. Here are several common methods for handling outliers, along with examples:\n",
    "\n",
    "1. **Removing Outliers**:\n",
    "   - If outliers are due to data entry errors or extreme anomalies that don't represent the underlying population, you can consider removing them.\n",
    "\n",
    "   Example: In a dataset of exam scores where one student's score is 1000, which is clearly an error, you can remove that data point.\n",
    "\n",
    "2. **Transformations**:\n",
    "   - Apply data transformations to make the distribution more symmetrical and reduce the impact of outliers. Common transformations include logarithmic, square root, or Box-Cox transformations.\n",
    "\n",
    "   Example: In a dataset of income levels, you may apply a log transformation to reduce the influence of extremely high incomes.\n",
    "\n",
    "3. **Winsorization**:\n",
    "   - Winsorization involves capping or clipping extreme values by replacing them with values at a specified percentile (e.g., 95th or 99th percentile).\n",
    "\n",
    "   Example: In a dataset of home prices, you may replace values above the 99th percentile with the value at the 99th percentile.\n",
    "\n",
    "4. **Data Binning**:\n",
    "   - Divide the data into bins or categories, and then treat outliers as values that fall outside predefined bins.\n",
    "\n",
    "   Example: In a dataset of age, you may create bins like \"0-18\" for children, \"19-65\" for adults, and \"66+\" for seniors. Any age beyond 100 could be categorized as an outlier.\n",
    "\n",
    "5. **Robust Statistical Methods**:\n",
    "   - Use statistical methods that are less sensitive to outliers, such as robust regression or robust clustering algorithms like DBSCAN.\n",
    "\n",
    "   Example: In linear regression, you might use robust regression techniques like the Huber loss function to minimize the impact of outliers on the regression line.\n",
    "\n",
    "6. **Imputation**:\n",
    "   - For datasets with missing values due to outliers, consider imputation methods to estimate values that are consistent with the rest of the data.\n",
    "\n",
    "   Example: If you have a dataset with missing values for income due to outliers, you can impute those missing values using the median income of the non-outlier data points.\n",
    "\n",
    "7. **Treating Outliers Separately**:\n",
    "   - In some cases, outliers may carry important information or represent a specific subgroup of interest. You can analyze outliers separately or use them to gain insights into rare events or anomalies.\n",
    "\n",
    "   Example: In a healthcare dataset, outliers in patient recovery time may indicate exceptional cases that warrant further investigation.\n",
    "\n",
    "8. **Domain Expertise**:\n",
    "   - Consult domain experts to determine whether outliers are valid observations that need to be retained or if they should be treated differently.\n",
    "\n",
    "   Example: In a financial dataset, an apparent outlier in transaction amount may be due to a significant one-time event, and domain experts can verify its validity.\n",
    "\n",
    "9. **Robust Modeling Techniques**:\n",
    "   - Use machine learning algorithms that are less affected by outliers, such as tree-based models like Random Forests or ensemble methods.\n",
    "\n",
    "   Example: When building a predictive model for predicting stock prices, using Random Forests can handle outliers better than linear regression.\n",
    "\n",
    "10. **Reporting and Transparency**:\n",
    "    - Always report whether you've identified and handled outliers in your analysis. Be transparent about the methods used and their impact on the results.\n",
    "\n",
    "Remember that the choice of method for handling outliers should be guided by the context and objectives of your analysis. Handling outliers appropriately can lead to more robust and reliable results."
   ]
  },
  {
   "cell_type": "markdown",
   "metadata": {},
   "source": [
    "#### 29. What is the empirical rule?"
   ]
  },
  {
   "cell_type": "markdown",
   "metadata": {},
   "source": [
    "The Empirical Rule, also known as the 68-95-99.7 rule, is a statistical guideline that describes the approximate distribution of data in a normal distribution. According to this rule, for a dataset that follows a bell-shaped, symmetric, and approximately normal distribution:\n",
    "\n",
    "1. Approximately 68% of the data falls within one standard deviation of the mean.\n",
    "2. Approximately 95% of the data falls within two standard deviations of the mean.\n",
    "3. Approximately 99.7% of the data falls within three standard deviations of the mean.\n",
    "\n",
    "This rule provides a quick way to understand the spread or dispersion of data in a normal distribution and helps in making rough estimations about the data's characteristics.\n",
    "\n",
    "Here's an example of how the Empirical Rule works:\n",
    "\n",
    "Suppose you have a dataset of exam scores for a large group of students, and the scores follow a roughly normal distribution with a mean (average) score of 75 and a standard deviation of 10.\n",
    "\n",
    "1. Within one standard deviation (1σ) of the mean (75 ± 10):\n",
    "   - Approximately 68% of the students scored between 65 and 85 on the exam.\n",
    "\n",
    "2. Within two standard deviations (2σ) of the mean (75 ± 20):\n",
    "   - Approximately 95% of the students scored between 55 and 95 on the exam.\n",
    "\n",
    "3. Within three standard deviations (3σ) of the mean (75 ± 30):\n",
    "   - Approximately 99.7% of the students scored between 45 and 105 on the exam.\n",
    "\n",
    "So, using the Empirical Rule, you can quickly estimate that most of the students scored between 55 and 95 on the exam, with a smaller percentage scoring outside this range.\n",
    "\n",
    "It's important to note that the Empirical Rule is most applicable when dealing with data that closely approximates a normal distribution. In practice, real-world data may not perfectly follow a normal distribution, but this rule can still provide useful insights into the data's behavior."
   ]
  },
  {
   "cell_type": "markdown",
   "metadata": {},
   "source": [
    "#### 30.How to calculate range and interquartile range? "
   ]
  },
  {
   "cell_type": "markdown",
   "metadata": {},
   "source": [
    "The range and interquartile range (IQR) are both measures of the spread or dispersion of a dataset. They provide information about how the data values are distributed within a dataset.\n",
    "\n",
    "1. **Range**:\n",
    "   - The range is the simplest measure of spread and is calculated as the difference between the maximum and minimum values in a dataset.\n",
    "   - Range = Maximum Value - Minimum Value\n",
    "\n",
    "   Example:\n",
    "   Suppose you have a dataset of daily temperatures (in degrees Fahrenheit) for a week: 68, 70, 72, 74, 76, 79, 82.\n",
    "   To calculate the range:\n",
    "   - Maximum Value = 82\n",
    "   - Minimum Value = 68\n",
    "   - Range = 82 - 68 = 14 degrees Fahrenheit\n",
    "\n",
    "   So, the range of the daily temperatures for the week is 14 degrees Fahrenheit.\n",
    "\n",
    "2. **Interquartile Range (IQR)**:\n",
    "   - The interquartile range (IQR) measures the spread of the middle 50% of the data and is less affected by extreme values (outliers) compared to the range.\n",
    "   - To calculate the IQR, you first need to find the values of the first quartile (Q1) and the third quartile (Q3). The IQR is the difference between Q3 and Q1.\n",
    "   - IQR = Q3 - Q1\n",
    "\n",
    "   Example:\n",
    "   Consider the same dataset of daily temperatures: 68, 70, 72, 74, 76, 79, 82.\n",
    "   To calculate the IQR:\n",
    "   - First, you need to arrange the data in ascending order: 68, 70, 72, 74, 76, 79, 82.\n",
    "   - Calculate the median (Q2), which is the middle value: Q2 = 74.\n",
    "   - To find Q1, calculate the median of the lower half of the data (68, 70, 72): Q1 = 70.\n",
    "   - To find Q3, calculate the median of the upper half of the data (76, 79, 82): Q3 = 79.\n",
    "   - Finally, calculate the IQR: IQR = Q3 - Q1 = 79 - 70 = 9 degrees Fahrenheit.\n",
    "\n",
    "   So, the interquartile range (IQR) for the daily temperatures is 9 degrees Fahrenheit, indicating that the middle 50% of the temperatures vary by 9 degrees within this dataset.\n",
    "\n",
    "The range and IQR are useful measures to describe the variability or spread of data. The IQR is particularly valuable when dealing with datasets that may have outliers, as it is less affected by extreme values than the range."
   ]
  },
  {
   "cell_type": "markdown",
   "metadata": {},
   "source": [
    "#### 31. What is skewness? "
   ]
  },
  {
   "cell_type": "markdown",
   "metadata": {},
   "source": [
    "Skewness is a statistical measure that describes the asymmetry of the probability distribution of a dataset. It quantifies the degree to which the data is skewed or deviates from a symmetrical (normal or Gaussian) distribution. Skewness can help you understand the shape of a dataset's distribution.\n",
    "\n",
    "There are three main types of skewness:\n",
    "\n",
    "1. **Positive Skew (Right Skew)**:\n",
    "   - In a positively skewed distribution, the tail on the right-hand side is longer or fatter than the left-hand side.\n",
    "   - The mean is typically greater than the median in a positively skewed distribution.\n",
    "   - The majority of data points are clustered to the left, and there are a few large values on the right.\n",
    "    Example: Consider a dataset of household incomes in a low-income neighborhood. Most households have relatively low incomes, but a few households have exceptionally high incomes, leading to a positively skewed distribution.\n",
    "\n",
    "2. **Negative Skew (Left Skew)**:\n",
    "   - In a negatively skewed distribution, the tail on the left-hand side is longer or fatter than the right-hand side.\n",
    "   - The mean is typically less than the median in a negatively skewed distribution.\n",
    "   - The majority of data points are clustered to the right, and there are a few small values on the left.\n",
    "\n",
    "   Example: If you examine the age at which people retire, you may find a negatively skewed distribution. Most people retire at a relatively older age, but a few retire much earlier, resulting in a skewed distribution toward older ages.\n",
    "\n",
    "3. **Zero Skew (Symmetrical)**:\n",
    "   - A distribution is considered to have zero skew (symmetrical) when it is perfectly balanced and the left and right sides are mirror images of each other.\n",
    "   - In a symmetrical distribution, the mean and median are equal.\n",
    "\n",
    "   Example: A standard normal distribution (bell-shaped curve) is an example of a perfectly symmetrical distribution with zero skew. In this case, the mean, median, and mode are all equal, and the data is evenly distributed around the center.\n",
    "\n",
    "To calculate skewness, you can use the following formula, although software packages often provide built-in functions for this calculation:\n",
    "\n",
    "$$\\text{Skewness} = \\frac{3(\\text{Mean} - \\text{Median})}{\\text{Standard Deviation}}$$\n",
    "- If skewness is greater than 0, it indicates positive skew (right-skewed).\n",
    "- If skewness is less than 0, it indicates negative skew (left-skewed).\n",
    "- If skewness is equal to 0, it indicates a symmetrical distribution.\n",
    "\n",
    "\n",
    "Here are examples of each type of skewness:\n",
    "\n",
    "**Negative Skewness (Left Skew)**:\n",
    "Suppose you have a dataset representing the ages of retirement in a company:\n",
    "\n",
    "Ages: 55, 60, 62, 63, 65, 67, 70, 72, 75, 80, 85\n",
    "\n",
    "In this dataset, the majority of employees retired at ages below 70, with a few employees retiring much later (outliers). The mean is greater than the median, indicating positive skewness.\n",
    "\n",
    "**Positive Skewness (Right Skew)**:\n",
    "Consider a dataset representing the daily number of website visits for a popular news website:\n",
    "\n",
    "Visits: 1000, 1100, 1200, 1300, 1400, 1500, 2000, 2500, 3000, 3500, 4000\n",
    "\n",
    "In this dataset, most days had relatively low numbers of visits, but a few days had exceptionally high traffic. The mean is greater than the median, indicating positive skewness.\n",
    "\n",
    "**Zero Skewness**:\n",
    "Suppose you have a dataset representing the ages of a group of people who were all born in the same year:\n",
    "\n",
    "Ages: 25, 25, 25, 25, 25, 25, 25, 25, 25, 25, 25\n",
    "\n",
    "In this dataset, all ages are the same (25), and the data is symmetrically distributed around the mean (25). The mean and median are equal, indicating zero skewness.\n",
    "\n",
    "Skewness is a valuable measure because it provides insights into the shape and symmetry of a distribution, which can help in understanding and analyzing data."
   ]
  },
  {
   "cell_type": "markdown",
   "metadata": {},
   "source": [
    "#### 32.  What are the different measures of Skewness? "
   ]
  },
  {
   "cell_type": "markdown",
   "metadata": {},
   "source": [
    "There are several different measures of skewness that are used to quantify the asymmetry or skewness of a probability distribution. Here are three common measures of skewness:\n",
    "\n",
    "1. **Pearson's First Coefficient of Skewness (Moment Skewness)**:\n",
    "   - Pearson's moment coefficient of skewness is one of the most widely used measures of skewness.\n",
    "   - It is defined as the third standardized moment of the data, divided by the cube of the standard deviation.\n",
    "   - Formula: \n",
    "     $$\\text{Skewness} = \\frac{3(\\text{Mean} - \\text{Median})}{\\text{Standard Deviation}}$$\n",
    "   - Interpretation:\n",
    "     - If skewness is greater than 0, it indicates positive skew (right-skewed).\n",
    "     - If skewness is less than 0, it indicates negative skew (left-skewed).\n",
    "     - If skewness is equal to 0, it indicates a symmetrical distribution.\n",
    "\n",
    "2. **Karl Pearson's Coefficient of Skewness (Coefficient of Skewness)**:\n",
    "   - This coefficient is a simplified version of Pearson's First Coefficient of Skewness.\n",
    "   - It is calculated as the difference between the mean and mode, divided by the standard deviation.\n",
    "   - Formula:\n",
    "     $$\\text{Skewness} = \\frac{\\text{Mean} - \\text{Mode}}{\\text{Standard Deviation}}$$\n",
    "   - Interpretation:\n",
    "     - If skewness is greater than 0, it indicates positive skew (right-skewed).\n",
    "     - If skewness is less than 0, it indicates negative skew (left-skewed).\n",
    "     - If skewness is equal to 0, it indicates a symmetrical distribution.\n",
    "\n",
    "3. **Bowley's Coefficient of Skewness (Median Skewness)**:\n",
    "   - Bowley's coefficient of skewness is based on the position of the quartiles (Q1 and Q3) in the dataset.\n",
    "   - It is calculated as the difference between the lower quartile (Q1) and upper quartile (Q3), divided by the interquartile range (IQR).\n",
    "   - Formula:\n",
    "     $$\\text{Skewness} = \\frac{Q1 - Q3}{\\text{IQR}}$$\n",
    "   - Interpretation:\n",
    "     - If skewness is greater than 0, it indicates positive skew (right-skewed).\n",
    "     - If skewness is less than 0, it indicates negative skew (left-skewed).\n",
    "     - If skewness is equal to 0, it indicates a symmetrical distribution.\n",
    "\n",
    "4. **Graphical Methods**:\n",
    "   - Histograms and density plots can visually indicate the direction and degree of skewness in a dataset.\n",
    "   - Skewness can also be assessed by looking at the shape of the data distribution in a probability plot.\n",
    "\n",
    "5. **Fisher-Pearson Coefficient of Skewness (Sample Skewness):**\n",
    "   - Fisher-Pearson skewness coefficient, denoted as $Sk_{FP}$, is a measure of skewness often used for samples.\n",
    "   - It is based on the third central moment (the moment about the mean) divided by the cube of the standard deviation.\n",
    "   - Formula: $Sk_{FP} = \\frac{\\frac{1}{n}\\sum_{i=1}^{n}(X_i - \\text{Mean})^3}{\\left(\\frac{1}{n}\\sum_{i=1}^{n}(X_i - \\text{Mean})^2\\right)^{3/2}}$\n",
    "   - Interpretation:\n",
    "     - $Sk_{FP}$ is an unbiased estimator of population skewness.\n",
    "     - Similar to Pearson's skewness, if $(Sk_{FP} > 0$), the distribution is positively skewed, and if $(Sk_{FP} < 0$), it is negatively skewed.\n",
    "\n",
    "6. **L-moments**:\n",
    "   - L-moments are a set of statistical measures, including L-skewness, that generalize moments and are robust to outliers.\n",
    "   - L-skewness provides a measure of skewness based on L-moments and is an alternative to Pearson's skewness.\n",
    "7.**Sample Skewness based on Median and Mean Absolute Deviation (MAD):**\n",
    "   - Formula: $$\\text{Skewness} = \\frac{\\text{Mean} - \\text{Median}}{\\text{MAD}}$$\n",
    "   - This measure incorporates the mean, median, and mean absolute deviation (MAD) to calculate skewness. It is robust to outliers.\n",
    "Each of these measures has its own advantages and limitations, and the choice of which one to use may depend on the specific context and the characteristics of the dataset. Regardless of the measure used, skewness provides valuable information about the shape of a distribution and the degree to which it deviates from symmetry."
   ]
  },
  {
   "cell_type": "markdown",
   "metadata": {},
   "source": [
    "#### 33.What is kurtosis? "
   ]
  },
  {
   "cell_type": "markdown",
   "metadata": {},
   "source": [
    "Kurtosis is a statistical measure that quantifies the degree to which the tails of a probability distribution differ from those of a normal distribution. It helps assess the shape and peakedness (or flatness) of a dataset's distribution. Kurtosis provides information about whether the data has heavy tails (more extreme values) or light tails (few extreme values) compared to a normal distribution.\n",
    "\n",
    "There are three main types of kurtosis:\n",
    "\n",
    "1. **Leptokurtic (Excess Kurtosis > 0)**:\n",
    "   - In a leptokurtic distribution, the tails are heavier and more data points are concentrated around the mean compared to a normal distribution.\n",
    "   - This results in a higher peak (more peaked) in the distribution.\n",
    "   - Excess kurtosis, which is often calculated as the kurtosis minus 3, is greater than 0 for leptokurtic distributions.\n",
    "\n",
    "   Example: The distribution of stock returns often exhibits leptokurtic behavior, with frequent small fluctuations and occasional extreme returns.\n",
    "\n",
    "2. **Mesokurtic (Excess Kurtosis = 0)**:\n",
    "   - A mesokurtic distribution has tails that are similar in thickness to those of a normal distribution.\n",
    "   - It is neither too peaked nor too flat.\n",
    "   - Excess kurtosis is equal to 0 for mesokurtic distributions.\n",
    "\n",
    "   Example: A standard normal distribution (bell-shaped curve) has mesokurtic kurtosis.\n",
    "\n",
    "3. **Platykurtic (Excess Kurtosis < 0)**:\n",
    "   - In a platykurtic distribution, the tails are lighter, and the data points are more spread out compared to a normal distribution.\n",
    "   - This results in a flatter peak (less peaked) in the distribution.\n",
    "   - Excess kurtosis is less than 0 for platykurtic distributions.\n",
    "\n",
    "   Example: The distribution of student test scores in a large and diverse population may exhibit platykurtic behavior, with a wide range of scores and relatively few extreme scores.\n",
    "\n",
    "Kurtosis can be calculated using various formulas, with the most common being the fourth standardized moment formula:\n",
    "\n",
    "$$\\text{Kurtosis} = \\frac{E[(X - \\mu)^4]}{\\sigma^4}$$\n",
    "\n",
    "Where:\n",
    "- $(X)$ is a random variable.\n",
    "- $(\\mu)$ is the mean of the data.\n",
    "- $(\\sigma)$ is the standard deviation of the data.\n",
    "\n",
    "Kurtosis can help you better understand the distribution of your data, especially when you are interested in assessing whether the data exhibits extreme values (heavy-tailed) or not (light-tailed) compared to a normal distribution. It is a useful tool for characterizing the shape and behavior of data in various fields, including finance, economics, and probability theory."
   ]
  },
  {
   "cell_type": "markdown",
   "metadata": {},
   "source": [
    "#### 34.Where are long-tailed distributions used? "
   ]
  },
  {
   "cell_type": "markdown",
   "metadata": {},
   "source": [
    "Long-tailed distributions are used in various fields and applications where extreme or rare events are of particular interest. These distributions describe situations where some values, although rare, are much larger or smaller than the typical values in the dataset. Here are some examples of where long-tailed distributions are used:\n",
    "\n",
    "1. **Finance and Risk Management**:\n",
    "   - Long-tailed distributions are commonly used to model financial data, such as stock returns or market crashes, where extreme events can have a significant impact.\n",
    "   - Example: Modeling stock price changes using a distribution like the Student's t-distribution, which has heavier tails than the normal distribution, can better capture extreme price movements.\n",
    "\n",
    "2. **Insurance**:\n",
    "   - In insurance and actuarial science, long-tailed distributions are used to model insurance claims, which may have rare but large payouts.\n",
    "   - Example: Modeling insurance claims for natural disasters, where a few catastrophic events can result in massive claims payouts.\n",
    "\n",
    "3. **Internet Traffic and Network Analysis**:\n",
    "   - Long-tailed distributions are used to model internet traffic, website visits, or network packet sizes. In these contexts, there are many small events but occasional very large ones.\n",
    "   - Example: Analyzing web page popularity, where a few web pages (e.g., popular news articles) receive an overwhelming number of visits compared to the majority of less popular pages.\n",
    "\n",
    "4. **Epidemiology and Public Health**:\n",
    "   - Long-tailed distributions are employed in epidemiology to model the spread of infectious diseases, where most individuals have a low risk of transmitting the disease, but a few superspreaders can infect many people.\n",
    "   - Example: Modeling the spread of a highly contagious disease like COVID-19, where some individuals may infect a large number of others in a single event.\n",
    "\n",
    "5. **Natural Disasters and Earthquake Engineering**:\n",
    "   - Long-tailed distributions are used to model the occurrence and magnitude of natural disasters, such as earthquakes and hurricanes.\n",
    "   - Example: Estimating the frequency and magnitude of earthquakes along a fault line, where most events are small tremors but occasional large earthquakes occur.\n",
    "\n",
    "6. **Social Sciences and Economics**:\n",
    "   - In economics and social sciences, long-tailed distributions are used to describe income and wealth distributions, where a small percentage of the population holds a disproportionate share of the wealth.\n",
    "   - Example: Studying income inequality, where a small number of individuals or households have exceptionally high incomes compared to the majority.\n",
    "\n",
    "7. **Online Commerce and Recommendation Systems**:\n",
    "   - Long-tailed distributions are used in e-commerce and recommendation systems to model the popularity of products or content, where a few items become extremely popular while many others are less so.\n",
    "   - Example: Recommending products on an e-commerce platform, where a few bestselling items generate most of the revenue.\n",
    "\n",
    "In these fields, long-tailed distributions are used to better capture the tail behavior of data, account for extreme events, and make more accurate predictions or assessments of risks. Understanding and modeling long-tailed distributions is essential for making informed decisions and managing uncertainty in various real-world scenarios."
   ]
  },
  {
   "cell_type": "markdown",
   "metadata": {},
   "source": [
    "#### 35.What is the central limit theorem? "
   ]
  },
  {
   "cell_type": "markdown",
   "metadata": {},
   "source": [
    "The Central Limit Theorem (CLT) is a fundamental concept in statistics that describes the distribution of sample means (or sums) from a population, regardless of the shape of the population distribution. It states that when you take sufficiently large random samples from any population, the distribution of the sample means will approximately follow a normal distribution, regardless of the population's underlying distribution. The CLT has important implications for statistical inference and hypothesis testing.\n",
    "\n",
    "Key points of the Central Limit Theorem:\n",
    "\n",
    "1. **Sample Size**: For the CLT to apply, the sample size must be sufficiently large. While there is no strict rule for what constitutes \"sufficiently large,\" a sample size of 30 or greater is often considered a good rule of thumb.\n",
    "\n",
    "2. **Independence**: The samples should be independent, meaning that the selection of one sample does not influence the selection of another.\n",
    "\n",
    "3. **Population Distribution**: The population from which the samples are drawn can have any distribution, not necessarily normal.\n",
    "\n",
    "Here's an example to illustrate the Central Limit Theorem:\n",
    "\n",
    "Suppose you have a population of exam scores for a large group of students. The distribution of these scores is not necessarily normal; it might be skewed or have any shape. To apply the Central Limit Theorem:\n",
    "\n",
    "1. You randomly select multiple samples, each consisting of a sufficiently large number of exam scores (e.g., 30 scores per sample).\n",
    "\n",
    "2. Calculate the mean of each sample. Now you have a set of sample means.\n",
    "\n",
    "3. Examine the distribution of these sample means. According to the Central Limit Theorem, as the number of samples increases, the distribution of sample means will become approximately normal, regardless of the original distribution of the individual scores.\n",
    "\n",
    "This new distribution of sample means will have the following properties:\n",
    "\n",
    "- It will be approximately normally distributed.\n",
    "- Its mean will be very close to the mean of the population.\n",
    "- Its standard deviation will be equal to the standard deviation of the population divided by the square root of the sample size.\n",
    "\n",
    "Practically, the Central Limit Theorem allows statisticians to make inferences about population parameters (e.g., population mean) based on the distribution of sample means, even when they do not know the underlying population distribution. This is crucial for hypothesis testing and confidence interval estimation in inferential statistics.\n",
    "\n",
    "For example, if you want to estimate the average exam score of all students in a school (population), you can take multiple random samples of students, calculate the means of these samples, and use the CLT to make inferences about the population mean. This makes it possible to draw conclusions about the entire population based on the behavior of sample statistics, even when the population distribution is not known."
   ]
  },
  {
   "cell_type": "markdown",
   "metadata": {},
   "source": [
    "#### 36.Can you give an example to denote the working of the central limit theorem? "
   ]
  },
  {
   "cell_type": "markdown",
   "metadata": {},
   "source": [
    "Certainly! Let's work through an example to demonstrate the Central Limit Theorem (CLT) using a simple scenario.\n",
    "\n",
    "**Example: Rolling Dice**\n",
    "\n",
    "Suppose we want to understand the distribution of the sum of the numbers obtained when rolling a fair six-sided die. Each roll of the die produces an outcome between 1 and 6 with equal probability. We want to investigate how the distribution of the sum changes as we roll the die multiple times and calculate the sample means.\n",
    "\n",
    "1. **Population Distribution**: The population, in this case, is the sum of two dice rolls. The possible outcomes range from 2 (when both dice show 1) to 12 (when both dice show 6). The population distribution is not normal; it's a discrete uniform distribution.\n",
    "\n",
    "2. **Sampling Process**:\n",
    "   - We'll simulate rolling two dice and calculating the sum many times to create a distribution of sample means.\n",
    "   - We'll start with a small sample size and then increase it to see how the distribution changes."
   ]
  },
  {
   "cell_type": "code",
   "execution_count": 62,
   "metadata": {},
   "outputs": [
    {
     "data": {
      "image/png": "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\n",
      "text/plain": [
       "<Figure size 864x576 with 5 Axes>"
      ]
     },
     "metadata": {
      "needs_background": "light"
     },
     "output_type": "display_data"
    }
   ],
   "source": [
    "import numpy as np\n",
    "import matplotlib.pyplot as plt\n",
    "\n",
    "# Set a random seed for reproducibility\n",
    "np.random.seed(42)\n",
    "\n",
    "# Number of dice rolls in each sample\n",
    "sample_sizes = [1, 5, 20, 50, 100]\n",
    "\n",
    "# Number of times to repeat the sampling process\n",
    "num_samples = 1000\n",
    "\n",
    "# Initialize a list to store sample means for each sample size\n",
    "sample_means_by_size = []\n",
    "\n",
    "# Simulate rolling dice, calculating sample means for different sample sizes\n",
    "for size in sample_sizes:\n",
    "    sample_means = []\n",
    "    for _ in range(num_samples):\n",
    "        # Simulate rolling two dice 'size' times and calculate the sum\n",
    "        dice_rolls = np.random.randint(1, 7, size=(size, 2))\n",
    "        sample_sum = np.sum(dice_rolls, axis=1)\n",
    "        sample_mean = np.mean(sample_sum)\n",
    "        sample_means.append(sample_mean)\n",
    "    sample_means_by_size.append(sample_means)\n",
    "\n",
    "# Create histograms to visualize the distribution of sample means for different sample sizes\n",
    "plt.figure(figsize=(12, 8))\n",
    "\n",
    "for i, size in enumerate(sample_sizes):\n",
    "    plt.subplot(2, 3, i + 1)\n",
    "    plt.hist(sample_means_by_size[i], bins=30, density=True, alpha=0.7)\n",
    "    plt.title(f'Sample Size = {size}')\n",
    "    plt.xlabel('Sample Mean')\n",
    "    plt.ylabel('Frequency')\n",
    "\n",
    "plt.tight_layout()\n",
    "plt.show()\n"
   ]
  },
  {
   "cell_type": "markdown",
   "metadata": {},
   "source": [
    "This example demonstrates how the Central Limit Theorem works by showing how the distribution of sample means becomes more normal as the sample size increases, even when the population distribution is not normal."
   ]
  },
  {
   "cell_type": "markdown",
   "metadata": {},
   "source": [
    "#### 37.What general conditions must be satisfied for the central limit theorem to hold? "
   ]
  },
  {
   "cell_type": "markdown",
   "metadata": {},
   "source": [
    "The Central Limit Theorem (CLT) is a fundamental concept in statistics that describes the distribution of sample means from a population. For the CLT to hold, several general conditions must be satisfied:\n",
    "\n",
    "1. **Random Sampling**: The samples must be drawn randomly from the population. This means that each individual or element in the population has an equal chance of being included in the sample. Non-random or biased sampling can lead to skewed results.\n",
    "\n",
    "2. **Independence**: The individual observations within each sample must be independent of each other. This means that the value of one observation should not depend on the value of any other observation in the same sample. Independence is crucial for the CLT to apply.\n",
    "\n",
    "3. **Sample Size**: The sample size should be sufficiently large. While there is no strict rule for the minimum sample size, a commonly used guideline is that the sample size should be at least 30. In some cases, smaller sample sizes can be acceptable, but larger sample sizes tend to produce more accurate approximations to a normal distribution.\n",
    "\n",
    "4. **Population Distribution**: The population from which the samples are drawn can have any shape or distribution. The CLT does not require the population to be normally distributed. It can be skewed, multimodal, or have any other shape.\n",
    "\n",
    "5. **Constant Population Parameters**: In practical terms, the population parameters (such as the population mean and standard deviation) should remain relatively constant throughout the sampling process. This condition is more relevant for cases where the population characteristics change over time.\n",
    "\n",
    "6. **Finite Variance**: The population should have a finite variance. This means that the spread or variability in the population should not be infinite. Distributions with infinite variances (e.g., Cauchy distribution) do not satisfy the conditions of the CLT.\n",
    "\n",
    "7. **Independence Between Samples**: If you're considering multiple samples (e.g., from different groups or populations), the samples should be independent of each other. Independence between samples ensures that the CLT applies to each sample separately.\n",
    "\n",
    "8. **Sample Size Relative to Population**: The sample size should be a small fraction of the population size. In practical terms, this means that the sample size should be much smaller than the population size to ensure independence.\n",
    "\n",
    "It's important to note that while these conditions are necessary for the CLT to strictly apply, the CLT can still provide reasonable approximations to a normal distribution under less strict conditions, especially as the sample size increases. However, if you deviate significantly from these conditions, the quality of the approximation may be compromised, and other statistical techniques might be more appropriate."
   ]
  },
  {
   "cell_type": "markdown",
   "metadata": {},
   "source": [
    "#### 38. What is the meaning of selection bias? "
   ]
  },
  {
   "cell_type": "markdown",
   "metadata": {},
   "source": [
    "Selection bias is a type of bias that occurs when the individuals or items selected for a study or analysis are not representative of the larger population from which they are drawn. This bias can distort research findings and lead to incorrect or misleading conclusions. Selection bias can arise from various sources, and it often occurs when the selection process is not random or when certain groups or characteristics are systematically overrepresented or underrepresented in the sample."
   ]
  },
  {
   "cell_type": "markdown",
   "metadata": {},
   "source": [
    "#### 39. What are the types of selection bias in statistics? "
   ]
  },
  {
   "cell_type": "markdown",
   "metadata": {},
   "source": [
    "Selection bias in statistics can manifest in various forms, depending on how the bias is introduced into the data collection or sampling process. Here are some common types of selection bias in statistics:\n",
    "\n",
    "1. **Volunteer Bias**: Volunteer bias occurs when individuals voluntarily choose to participate in a study or survey. Those who volunteer may have different characteristics or motivations than those who do not volunteer, leading to a non-representative sample.\n",
    "\n",
    "2. **Non-Response Bias**: Non-response bias arises when a significant portion of the invited participants or respondents does not respond to a survey or study. If non-responders have different characteristics or opinions from responders, the sample may not accurately represent the population.\n",
    "\n",
    "3. **Survivorship Bias**: Survivorship bias occurs when only \"survivors\" or successful cases are considered in an analysis, ignoring those that did not survive or were unsuccessful. This can lead to overestimating the likelihood of success or underestimating risks.\n",
    "\n",
    "4. **Healthy Worker Effect**: The healthy worker effect is a type of selection bias often seen in occupational studies. It happens when only employed individuals are considered, potentially underestimating health risks because those with severe health issues may have left the workforce.\n",
    "\n",
    "5. **Convenience Sampling Bias**: Convenience sampling involves selecting data or participants based on convenience or accessibility. This type of sampling may introduce bias because the sample may not represent the broader population.\n",
    "\n",
    "6. **Berkson's Bias**: Berkson's bias can occur in hospital-based studies. It happens when only patients with both the disease of interest and another condition are included. This can lead to biased results because hospital patients may differ from the general population.\n",
    "\n",
    "7. **Length-Time Bias**: Length-time bias is common in screening programs. It occurs when the screening test detects slow-progressing cases more often than fast-progressing cases. As a result, it may give a false impression of the effectiveness of the screening.\n",
    "\n",
    "8. **Sampling Bias**: Sampling bias arises when the method used to select a sample from a larger population is not truly random or systematic. For example, if a political poll only surveys individuals from a specific political party, it can introduce bias.\n",
    "\n",
    "9. **Overmatching Bias**: Overmatching bias can occur in case-control studies. It happens when controls are selected to match cases on too many variables, potentially making the controls less representative of the population.\n",
    "\n",
    "10. **Time-Interval Bias**: Time-interval bias can affect cohort studies. It occurs when individuals are selected into cohorts at different points in time, which can bias the comparisons between the cohorts.\n",
    "\n",
    "11. **Recall Bias**: Recall bias occurs in studies that rely on participants' ability to accurately remember past events or exposures. If individuals with better or worse memory participate, it can introduce bias.\n",
    "\n",
    "12. **Publication Bias**: Publication bias is a type of bias that occurs when studies with significant or positive results are more likely to be published, while studies with non-significant or negative results are less likely to be published. This can lead to an overestimation of an effect.\n",
    "\n",
    "It's essential for researchers to be aware of these types of selection bias and take steps to minimize or account for them in their study design and analysis to ensure the validity and reliability of their findings."
   ]
  },
  {
   "cell_type": "markdown",
   "metadata": {},
   "source": [
    "#### 40. What is the probability of throwing two fair dice when the sum is 8? "
   ]
  },
  {
   "cell_type": "markdown",
   "metadata": {},
   "source": [
    "To find the probability of throwing two fair six-sided dice and getting a sum of 8, you can use combinatorial principles. There are 36 possible outcomes when rolling two dice (each die has 6 sides), and you want to find the number of outcomes that result in a sum of 8.\n",
    "\n",
    "The pairs of dice rolls that result in a sum of 8 are:\n",
    "\n",
    "- (2, 6)\n",
    "- (3, 5)\n",
    "- (4, 4)\n",
    "- (5, 3)\n",
    "- (6, 2)\n",
    "\n",
    "There are 5 favorable outcomes.\n",
    "\n",
    "So, the probability of getting a sum of 8 when throwing two fair dice is:\n",
    "\n",
    "$$P(\\text{Sum = 8}) = \\frac{\\text{Number of Favorable Outcomes}}{\\text{Total Number of Possible Outcomes}} = \\frac{5}{36}$$\n",
    "\n",
    "Therefore, the probability of getting a sum of 8 is $(5/36)$."
   ]
  },
  {
   "cell_type": "markdown",
   "metadata": {},
   "source": [
    "#### 41. What are the different types of Probability Distribution used in Data Science? "
   ]
  },
  {
   "cell_type": "markdown",
   "metadata": {},
   "source": [
    "In data science and statistics, various probability distributions are used to model the likelihood of different outcomes in different situations. Here are some of the most commonly used probability distributions in data science:\n",
    "\n",
    "1. **Bernoulli Distribution**: A Bernoulli distribution represents a binary outcome, such as success/failure or yes/no. It has a single parameter, p, which represents the probability of success.\n",
    "\n",
    "2. **Binomial Distribution**: The binomial distribution is used to model the number of successes in a fixed number of independent Bernoulli trials. It has two parameters, n (the number of trials) and p (the probability of success).\n",
    "\n",
    "3. **Poisson Distribution**: The Poisson distribution is used to model the number of events occurring in a fixed interval of time or space. It has one parameter, λ (lambda), which represents the average rate of occurrence.\n",
    "\n",
    "4. **Normal Distribution (Gaussian Distribution)**: The normal distribution is one of the most important distributions in statistics. It is characterized by its bell-shaped curve and is often used to model continuous data. It has two parameters, μ (mean) and σ (standard deviation).\n",
    "\n",
    "5. **Uniform Distribution**: The uniform distribution is used when all outcomes within a given range are equally likely. It is commonly used in random sampling and simulations.\n",
    "\n",
    "6. **Exponential Distribution**: The exponential distribution is used to model the time between events in a Poisson process. It is characterized by its memoryless property and has one parameter, λ (lambda), which represents the rate of occurrence.\n",
    "\n",
    "7. **Gamma Distribution**: The gamma distribution is a generalization of the exponential distribution and is used to model the waiting time until a Poisson process reaches a certain number of events. It has two parameters, α (shape) and β (rate).\n",
    "\n",
    "8. **Beta Distribution**: The beta distribution is often used to model probabilities or proportions, such as the probability of success in a Bernoulli trial. It has two parameters, α (shape) and β (shape).\n",
    "\n",
    "9. **Logistic Distribution**: The logistic distribution is used to model data that has an S-shaped curve, similar to the normal distribution. It is commonly used in logistic regression.\n",
    "\n",
    "10. **Multinomial Distribution**: The multinomial distribution is an extension of the binomial distribution and is used to model categorical data with more than two categories.\n",
    "\n",
    "11. **Hypergeometric Distribution**: The hypergeometric distribution is used to model situations where you are sampling without replacement from a finite population.\n",
    "\n",
    "12. **Geometric Distribution**: The geometric distribution models the number of Bernoulli trials needed to achieve the first success.\n",
    "\n",
    "13. **Weibull Distribution**: The Weibull distribution is often used to model survival data and reliability analysis. It has two parameters, shape and scale.\n",
    "\n",
    "14. **Chi-Squared Distribution**: The chi-squared distribution is used in hypothesis testing and confidence interval calculations, particularly in the context of chi-squared tests.\n",
    "\n",
    "15. **Student's t-Distribution**: The t-distribution is commonly used in hypothesis testing when the sample size is small and the population standard deviation is unknown.\n"
   ]
  },
  {
   "cell_type": "markdown",
   "metadata": {},
   "source": [
    "#### 42. What do you understand by the term Normal Distribution or What is a bell-curve distribution?? "
   ]
  },
  {
   "cell_type": "markdown",
   "metadata": {},
   "source": [
    "A normal distribution, often referred to as a bell curve distribution, is a statistical concept that describes the probability distribution of a continuous random variable. It is called a \"bell curve\" because when graphed, it takes on the shape of a symmetric, bell-shaped curve.\n",
    "\n",
    "Here are some key characteristics of a normal distribution:\n",
    "\n",
    "1. **Symmetry:** The normal distribution is perfectly symmetric around its mean (average). This means that the values to the left and right of the mean are mirror images of each other.\n",
    "\n",
    "2. **Unimodal:** It is unimodal, meaning it has only one peak or mode, which is located at the mean.\n",
    "\n",
    "3. **Bell-shaped:** As the name suggests, the distribution resembles a bell shape, with tails that extend infinitely in both directions. The tails get closer and closer to the x-axis but never touch it.\n",
    "\n",
    "4. **Parameterized by Mean and Standard Deviation:** The normal distribution is characterized by two parameters: the mean (μ) and the standard deviation (σ). The mean determines the center of the distribution, while the standard deviation determines the spread or dispersion of the data. A smaller standard deviation indicates a narrower, taller curve, while a larger standard deviation results in a wider, flatter curve.\n",
    "\n",
    "5. **68-95-99.7 Rule:** This rule, also known as the empirical rule or the 3-sigma rule, states that in a normal distribution:\n",
    "   - Approximately 68% of the data falls within one standard deviation of the mean (μ ± σ).\n",
    "   - Approximately 95% falls within two standard deviations of the mean (μ ± 2σ).\n",
    "   - Approximately 99.7% falls within three standard deviations of the mean (μ ± 3σ).\n",
    "\n",
    "The normal distribution is a fundamental concept in statistics and is often used in various fields, including natural sciences, social sciences, economics, and engineering, to model and understand the distribution of data. Many real-world phenomena, such as height, IQ scores, and errors in measurements, approximate a normal distribution, making it a valuable tool for statistical analysis and inference."
   ]
  },
  {
   "cell_type": "markdown",
   "metadata": {},
   "source": [
    "#### 43. Can you state the formula for normal distribution? "
   ]
  },
  {
   "cell_type": "markdown",
   "metadata": {},
   "source": [
    "The probability density function (PDF) of the normal distribution, also known as the Gaussian distribution, is defined by the following formula:\n",
    "\n",
    "$$\n",
    "f(x) = \\frac{1}{\\sigma \\sqrt{2\\pi}} \\cdot e^{-\\frac{(x - \\mu)^2}{2\\sigma^2}}$$\n",
    "\n",
    "Where:\n",
    "- $f(x)$ the probability density at a specific value \\(x\\).\n",
    "- $(\\mu)$ is the mean (average) of the distribution.\n",
    "- $(\\sigma)$ is the standard deviation, which measures the spread or dispersion of the distribution.\n",
    "- $(\\pi)$ is the mathematical constant Pi (approximately 3.14159).\n",
    "- $(e)$ is the mathematical constant Euler's number (approximately 2.71828).\n",
    "\n",
    "This formula describes how the probability density varies with different values of $(x)$ in a normal distribution. Essentially, it tells you the likelihood of observing a specific value $(x)$ given the mean $(\\mu)$ and standard deviation $(\\sigma)$ of the distribution. The bell-shaped curve is centered at the mean $(\\mu)$ and its width is determined by the standard deviation $(\\sigma)$. The term $(\\frac{1}{\\sigma \\sqrt{2\\pi}}$ is a normalization factor that ensures the total area under the curve is equal to 1, representing the probability of any value occurring in the distribution.\n",
    "\n",
    "It's worth noting that the normal distribution is a continuous probability distribution, so \\(x\\) can take on any real value, and the curve never touches the x-axis, extending infinitely in both directions."
   ]
  },
  {
   "cell_type": "code",
   "execution_count": 64,
   "metadata": {},
   "outputs": [
    {
     "data": {
      "image/png": "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\n",
      "text/plain": [
       "<Figure size 576x432 with 1 Axes>"
      ]
     },
     "metadata": {
      "needs_background": "light"
     },
     "output_type": "display_data"
    }
   ],
   "source": [
    "import numpy as np\n",
    "import scipy.stats as stats\n",
    "import matplotlib.pyplot as plt\n",
    "\n",
    "# Define the mean and standard deviation\n",
    "mean = 0\n",
    "std_dev = 1\n",
    "\n",
    "# Generate x values for the plot\n",
    "x = np.linspace(mean - 3*std_dev, mean + 3*std_dev, 100)  # Adjust the range as needed\n",
    "\n",
    "# Calculate the PDF for each x value\n",
    "pdf = stats.norm.pdf(x, mean, std_dev)\n",
    "\n",
    "# Create the plot\n",
    "plt.figure(figsize=(8, 6))\n",
    "plt.plot(x, pdf, label='PDF')\n",
    "plt.title('Normal Distribution (PDF)')\n",
    "plt.xlabel('x')\n",
    "plt.ylabel('Probability Density')\n",
    "plt.grid(True)\n",
    "plt.legend()\n",
    "plt.show()\n"
   ]
  },
  {
   "cell_type": "markdown",
   "metadata": {},
   "source": [
    "#### 44. What type of data does not have a normal distribution or a Gaussian distribution? "
   ]
  },
  {
   "cell_type": "markdown",
   "metadata": {},
   "source": [
    "Many types of data in the real world do not follow a normal (Gaussian) distribution. When data does not have a normal distribution, it is often referred to as non-normal or non-Gaussian data. Here are some common examples of data that typically do not have a normal distribution:\n",
    "\n",
    "1. **Skewed Data:** Skewed data is asymmetric, meaning it is not evenly distributed around its mean. There are two types of skewness:\n",
    "   - **Positively Skewed (Right-skewed):** In this case, the tail of the data distribution is stretched to the right, and the majority of data points are concentrated on the left side.\n",
    "   - **Negatively Skewed (Left-skewed):** Here, the tail of the distribution is stretched to the left, and most data points are concentrated on the right side. \n",
    "\n",
    "2. **Bimodal or Multimodal Data:** Bimodal or multimodal data have more than one distinct peak or mode in their distribution. This means there are multiple clusters or groups of data points within the dataset.\n",
    "\n",
    "3. **Heavy-Tailed or Outlier-Prone Data:** Some datasets have heavy tails, which means that extreme values (outliers) occur more frequently than they would in a normal distribution. Financial data, for example, often exhibits heavy tails due to occasional extreme market events.\n",
    "\n",
    "4. **Categorical Data:** Data that is categorical in nature, such as gender, nationality, or product categories, does not follow a continuous normal distribution. Instead, it has discrete categories or classes.\n",
    "\n",
    "5. **Count Data:** Count data, like the number of customer arrivals at a store or the number of defects in a production batch, often follows a distribution such as the Poisson or negative binomial distribution, which is different from the normal distribution.\n",
    "\n",
    "6. **Exponential Data:** Data representing waiting times, survival times, or decay processes often follow an exponential distribution, which is distinctly different from the normal distribution.\n",
    "\n",
    "7. **Power Law or Pareto Data:** Some datasets exhibit a power-law distribution, also known as a Pareto distribution, where a small number of elements have very high values, and the majority have much lower values. This distribution is characterized by a heavy tail.\n",
    "\n",
    "8. **Log-Normal Data:** Data that follows a log-normal distribution is not normally distributed. In a log-normal distribution, the logarithm of the data follows a normal distribution.\n",
    "\n",
    "Understanding the distribution of data is essential for proper statistical analysis and modeling. When dealing with non-normal data, alternative statistical methods and models may be more appropriate, and it's important to consider the specific characteristics of the data distribution in your analysis."
   ]
  },
  {
   "cell_type": "markdown",
   "metadata": {},
   "source": [
    "#### 45.What is the relationship between mean and median in a normal distribution? "
   ]
  },
  {
   "cell_type": "markdown",
   "metadata": {},
   "source": [
    "In a normal distribution (also known as a Gaussian distribution), the relationship between the mean and median is quite straightforward: they are equal.\n",
    "\n",
    "The mean is the average of all the values in the distribution, while the median is the middle value when the data is arranged in ascending or descending order. For a perfectly symmetrical normal distribution, the mean, median, and mode (the most frequently occurring value) are all the same and occur at the center of the distribution. This is a key characteristic of normal distributions.\n",
    "\n",
    "In summary, for a normal distribution:\n",
    "\n",
    "1. The mean = the median = the mode.\n",
    "2. All three of these central tendency measures are located at the center of the distribution, which is also the peak of the bell-shaped curve for a normal distribution.\n",
    "\n",
    "This relationship between the mean and median in a normal distribution is a fundamental property of the distribution and is used in various statistical analyses and applications."
   ]
  },
  {
   "cell_type": "markdown",
   "metadata": {},
   "source": [
    "#### 46.What are some of the properties of a normal distribution?"
   ]
  },
  {
   "cell_type": "markdown",
   "metadata": {},
   "source": [
    "The normal distribution, also known as the Gaussian distribution or the bell curve, has several important properties:\n",
    "\n",
    "1. Symmetry: The normal distribution is symmetric, meaning that it is a mirror image of itself when plotted on a graph. The mean, median, and mode of a normal distribution are all located at the same central point, and the distribution is equally balanced on either side of this central point.\n",
    "\n",
    "2. Unimodal: The normal distribution is unimodal, meaning it has a single peak or mode. There is only one point of maximum probability density in a normal distribution.\n",
    "\n",
    "3. Mean, Median, and Mode are Equal: In a normal distribution, the mean, median, and mode are all equal and located at the center of the distribution.\n",
    "\n",
    "4. Bell-Shaped Curve: When graphed, the normal distribution produces a bell-shaped curve. The curve is highest at the mean and gradually tapers off as you move away from the mean in both directions.\n",
    "\n",
    "5. Empirical Rule: The normal distribution follows the empirical rule (68-95-99.7 rule), which states that approximately:\n",
    "   - About 68% of the data falls within one standard deviation of the mean.\n",
    "   - About 95% of the data falls within two standard deviations of the mean.\n",
    "   - About 99.7% of the data falls within three standard deviations of the mean.\n",
    "\n",
    "6. Continuous: The normal distribution is a continuous probability distribution, which means it can take on any real value within its range. There are no gaps or discontinuities in the distribution.\n",
    "\n",
    "7. Asymptotic Tails: The tails of the normal distribution approach but never touch the x-axis. This means that extreme values become increasingly rare as you move further from the mean, but they do not reach zero probability.\n",
    "\n",
    "8. Parameterized by Mean and Standard Deviation: The normal distribution is parameterized by two parameters: the mean (μ) and the standard deviation (σ). These parameters determine the location and spread of the distribution, respectively.\n",
    "\n",
    "9. Central Limit Theorem: The normal distribution plays a crucial role in the Central Limit Theorem. According to this theorem, the distribution of the sample means of a sufficiently large number of independent, identically distributed random variables will be approximately normally distributed, regardless of the original distribution of the individual variables.\n",
    "\n",
    "10. Applicability: The normal distribution is commonly used in statistical analysis and hypothesis testing due to its well-understood properties and its prevalence in natural phenomena. Many real-world data sets, such as heights, weights, and measurement errors, often approximate a normal distribution.\n",
    "\n",
    "These properties make the normal distribution a fundamental and widely used probability distribution in statistics and data analysis. It provides a convenient model for describing and analyzing a wide range of phenomena in various fields."
   ]
  },
  {
   "cell_type": "markdown",
   "metadata": {},
   "source": [
    "#### 47. What is the assumption of normality? "
   ]
  },
  {
   "cell_type": "markdown",
   "metadata": {},
   "source": [
    "The assumption of normality, also known as the normality assumption or the assumption of normal distribution, is a fundamental assumption in statistics. It refers to the assumption that the data being analyzed follows a normal distribution or is approximately normally distributed. This assumption is particularly important in various statistical techniques and hypothesis tests. Here are some key points related to the assumption of normality:\n",
    "\n",
    "1. **Normal Distribution**: The assumption of normality implies that the data follows a bell-shaped curve known as the normal distribution (Gaussian distribution). This distribution is characterized by its symmetrical shape, with the mean, median, and mode all at the center of the distribution.\n",
    "\n",
    "2. **Central Limit Theorem**: One of the reasons why the assumption of normality is important is because of the Central Limit Theorem. It states that the sampling distribution of the sample mean of a sufficiently large sample from any population, regardless of its underlying distribution, will be approximately normally distributed.\n",
    "\n",
    "3. **Parametric Tests**: Many classical statistical tests and techniques, such as t-tests, ANOVA (Analysis of Variance), and linear regression, are based on the assumption of normality. Violations of this assumption can lead to inaccurate results and conclusions.\n",
    "\n",
    "4. **Normal Probability Plot**: Statisticians often use graphical tools like normal probability plots (Q-Q plots) to assess the normality assumption. These plots compare the distribution of the data to an idealized normal distribution. Deviations from a straight line in such a plot may indicate departures from normality.\n",
    "\n",
    "5. **Data Transformation**: When the assumption of normality is violated, researchers may consider data transformations (e.g., log transformations) to make the data more closely approximate a normal distribution. This can be particularly useful in cases where the data has a skewed or non-normal distribution.\n",
    "\n",
    "6. **Alternative Tests**: In cases where the assumption of normality cannot be met even with transformations, non-parametric tests (e.g., Mann-Whitney U test, Kruskal-Wallis test) are used as alternatives to parametric tests because they do not rely on the normality assumption.\n",
    "\n",
    "7. **Robustness**: It's important to note that some statistical tests and techniques are robust to violations of the normality assumption, especially when sample sizes are large. Robustness means that the results are reasonably accurate even if the data is not perfectly normally distributed.\n",
    "\n",
    "In practice, it's crucial to assess the assumption of normality for your specific dataset and research question. This can be done through visual inspections, statistical tests (e.g., Shapiro-Wilk test), or other diagnostic tools. If the data significantly deviates from normality, it's important to choose appropriate statistical methods or consider transformations to account for this deviation and make valid inferences."
   ]
  },
  {
   "cell_type": "markdown",
   "metadata": {},
   "source": [
    "#### 48.How to convert normal distribution to standard normal distribution? "
   ]
  },
  {
   "cell_type": "markdown",
   "metadata": {},
   "source": [
    "To convert a normal distribution to a standard normal distribution, you need to perform a process called standardization. Standardization transforms the values from a normal distribution (with a given mean and standard deviation) into values that follow a standard normal distribution with a mean of 0 and a standard deviation of 1. This is done by applying the following formula to each data point in your original dataset:\n",
    "\n",
    "$$Z = \\frac{X - \\mu}{\\sigma}$$\n",
    "\n",
    "Where:\n",
    "- \\(Z\\) is the standardized value (z-score) in the standard normal distribution.\n",
    "- \\(X\\) is the original value from the normal distribution.\n",
    "- $(\\mu)$ is the mean of the original normal distribution.\n",
    "- $(\\sigma)$ is the standard deviation of the original normal distribution.\n",
    "\n",
    "Here's a step-by-step guide on how to convert a normal distribution to a standard normal distribution:\n",
    "\n",
    "1. Calculate the mean $(\\mu)$ and standard deviation $(\\sigma)$ of your original normal distribution.\n",
    "\n",
    "2. For each data point in your dataset (each value), apply the standardization formula:\n",
    "\n",
    "   $$Z = \\frac{X - \\mu}{\\sigma}$$\n",
    "\n",
    "   This will give you a new dataset consisting of standardized values (z-scores).\n",
    "\n",
    "3. The new dataset of z-scores should now follow a standard normal distribution with a mean of 0 and a standard deviation of 1.\n",
    "\n",
    "By standardizing your data in this way, you make it easier to compare values from different normal distributions, perform statistical tests, and make inferences using the standard normal distribution table or statistical software that is specifically designed for the standard normal distribution (e.g., calculating probabilities associated with z-scores). This transformation simplifies calculations and facilitates statistical analysis."
   ]
  },
  {
   "cell_type": "code",
   "execution_count": 66,
   "metadata": {},
   "outputs": [
    {
     "data": {
      "image/png": "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\n",
      "text/plain": [
       "<Figure size 720x432 with 1 Axes>"
      ]
     },
     "metadata": {
      "needs_background": "light"
     },
     "output_type": "display_data"
    }
   ],
   "source": [
    "import numpy as np\n",
    "import matplotlib.pyplot as plt\n",
    "from scipy import stats\n",
    "\n",
    "# Define the parameters of the original normal distribution\n",
    "mean = 50  # Mean of the original normal distribution\n",
    "std_dev = 10  # Standard deviation of the original normal distribution\n",
    "sample_size = 1000  # Number of data points in your dataset\n",
    "\n",
    "# Generate random data from the original normal distribution\n",
    "data = np.random.normal(mean, std_dev, sample_size)\n",
    "\n",
    "# Standardize the data to convert it to a standard normal distribution\n",
    "z_scores = stats.zscore(data)\n",
    "\n",
    "# Create a histogram of the standardized data\n",
    "plt.figure(figsize=(10, 6))\n",
    "plt.hist(z_scores, bins=30, density=True, alpha=0.6, color='b', label='Standardized Data')\n",
    "\n",
    "# Plot the standard normal distribution (PDF)\n",
    "x = np.linspace(-4, 4, 1000)\n",
    "pdf = stats.norm.pdf(x, loc=0, scale=1)  # PDF of standard normal distribution\n",
    "plt.plot(x, pdf, 'r-', linewidth=2, label='Standard Normal Distribution')\n",
    "\n",
    "# Add labels and legend\n",
    "plt.xlabel('Standardized Values (Z-scores)')\n",
    "plt.ylabel('Probability Density')\n",
    "plt.title('Conversion to Standard Normal Distribution')\n",
    "plt.legend()\n",
    "\n",
    "# Show the plot\n",
    "plt.grid(True)\n",
    "plt.show()\n"
   ]
  },
  {
   "cell_type": "markdown",
   "metadata": {},
   "source": [
    "#### 49.Can you tell me the range of the values in standard normal distribution? "
   ]
  },
  {
   "cell_type": "markdown",
   "metadata": {},
   "source": [
    "In a standard normal distribution, the range of values is theoretically from negative infinity to positive infinity, just like in any other continuous probability distribution. This means that values in a standard normal distribution can, in theory, take on any real number.\n",
    "\n",
    "However, in practice, the range of values you'll typically encounter in a standard normal distribution is more limited due to practical considerations. The majority of the values in a standard normal distribution are concentrated within a few standard deviations of the mean. Specifically, about 68% of the values fall within one standard deviation of the mean, about 95% fall within two standard deviations, and about 99.7% fall within three standard deviations.\n",
    "\n",
    "Here are some approximate values that give you an idea of the typical range in a standard normal distribution:\n",
    "\n",
    "- Within one standard deviation of the mean (approximately -1 to +1):\n",
    "  - About 68% of the values fall within this range.\n",
    "\n",
    "- Within two standard deviations of the mean (approximately -2 to +2):\n",
    "  - About 95% of the values fall within this range.\n",
    "\n",
    "- Within three standard deviations of the mean (approximately -3 to +3):\n",
    "  - About 99.7% of the values fall within this range.\n",
    "\n",
    "Outside of these ranges, the values become increasingly rare and extreme. While theoretically, you can have values far beyond these ranges, they are highly unlikely to occur in practice due to the properties of the standard normal distribution."
   ]
  },
  {
   "cell_type": "markdown",
   "metadata": {},
   "source": [
    "#### 50.What is the Pareto principle? "
   ]
  },
  {
   "cell_type": "markdown",
   "metadata": {},
   "source": [
    "The Pareto Principle, also known as the 80/20 rule, is a widely recognized concept in economics, business, and various other fields. It suggests that roughly 80% of the effects or outcomes are often driven by 20% of the causes or inputs. In simpler terms, a small proportion of inputs or factors often have a disproportionately significant impact on results or outcomes.\n",
    "\n",
    "Here's a more detailed explanation of the Pareto Principle with an example:\n",
    "\n",
    "**Example: Sales and Customers**\n",
    "\n",
    "Let's say you run an e-commerce business, and you analyze your sales data over the past year. According to the Pareto Principle, you might observe the following:\n",
    "\n",
    "- Approximately 20% of your customers are responsible for approximately 80% of your total sales. These are your high-value or repeat customers who make frequent and large purchases.\n",
    "\n",
    "- Conversely, around 80% of your customers contribute only about 20% of your total sales. These are your one-time or infrequent buyers who make smaller purchases.\n",
    "\n",
    "In this example, the Pareto Principle suggests that a relatively small subset of your customers (the top 20%) is driving the majority of your business's revenue.\n",
    "\n",
    "**Other Examples of the Pareto Principle:**\n",
    "\n",
    "1. **Business Profitability**: In many businesses, around 20% of products or services may generate 80% of the profits.\n",
    "\n",
    "2. **Project Management**: In project management, it's often observed that 20% of tasks consume 80% of the project's time and resources.\n",
    "\n",
    "3. **Software Bugs**: In software development, approximately 20% of the reported software bugs may account for 80% of system crashes or malfunctions.\n",
    "\n",
    "4. **Customer Support**: In customer support, about 20% of customer complaints or issues might be responsible for 80% of the support team's workload.\n",
    "\n",
    "5. **Time Management**: In personal time management, people often find that 20% of their efforts lead to 80% of their accomplishments.\n",
    "\n",
    "It's important to note that the 80/20 split in the Pareto Principle is not a strict rule but a general guideline. The actual percentages can vary in different situations; it could be 70/30, 90/10, or another ratio. The principle highlights the uneven distribution of outcomes and helps identify areas where focusing on a small subset of factors or inputs can lead to significant improvements or efficiencies."
   ]
  },
  {
   "cell_type": "markdown",
   "metadata": {},
   "source": [
    "#### 51.What are left-skewed and right-skewed distributions?"
   ]
  },
  {
   "cell_type": "markdown",
   "metadata": {},
   "source": [
    "Left-skewed (negatively skewed) and right-skewed (positively skewed) distributions are types of non-symmetric probability distributions. They describe the shape of a distribution of data points, particularly in relation to the direction of the tail or \"skewness\" of the distribution.\n",
    "\n",
    "1. **Left-Skewed (Negatively Skewed) Distribution:**\n",
    "   - In a left-skewed distribution, the tail of the distribution extends to the left (toward the lower values) of the peak.\n",
    "   - The majority of the data points are concentrated on the right side of the distribution, and there are relatively fewer data points on the left side.\n",
    "   - The mean (average) in a left-skewed distribution is typically less than the median.\n",
    "   - $ Mean\\geq Median\\geq Mode$\n",
    "   - A common real-world example of a left-skewed distribution is the distribution of income, where a majority of people earn lower incomes, and there are fewer individuals with extremely high incomes.\n",
    "\n",
    "   ![Left-Skewed Distribution](https://upload.wikimedia.org/wikipedia/commons/f/f8/Negative_and_positive_skew_diagrams_%28English%29.svg)\n",
    "\n",
    "2. **Right-Skewed (Positively Skewed) Distribution:**\n",
    "   - In a right-skewed distribution, the tail of the distribution extends to the right (toward the higher values) of the peak.\n",
    "   - Most data points are concentrated on the left side of the distribution, and there are relatively fewer data points on the right side.\n",
    "   - The mean in a right-skewed distribution is typically greater than the median.\n",
    "   - $ Mean\\leq Median\\leq Mode$\n",
    "   - A common example of a right-skewed distribution is the distribution of ages at retirement, where most people retire at older ages, but there are relatively few individuals who retire at very young ages.\n",
    "\n",
    "   ![Right-Skewed Distribution](https://upload.wikimedia.org/wikipedia/commons/f/f8/Negative_and_positive_skew_diagrams_%28English%29.svg)\n",
    "\n",
    "It's important to note that skewness is a measure of asymmetry and can vary in degree. A distribution can be mildly skewed or strongly skewed, depending on how much its tail extends in one direction. Skewness can have implications for data analysis and modeling. For example, in a skewed distribution, the choice of the appropriate central measure (mean or median) and statistical methods may need to be adjusted to account for the skewness and its impact on data interpretation."
   ]
  },
  {
   "cell_type": "code",
   "execution_count": 78,
   "metadata": {},
   "outputs": [
    {
     "data": {
      "image/png": "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\n",
      "text/plain": [
       "<Figure size 864x360 with 2 Axes>"
      ]
     },
     "metadata": {},
     "output_type": "display_data"
    }
   ],
   "source": [
    "import numpy as np\n",
    "import matplotlib.pyplot as plt\n",
    "\n",
    "# Generate example data for a left-skewed distribution\n",
    "left_skewed_data = np.random.exponential(scale=2, size=1000)\n",
    "\n",
    "# Generate example data for a right-skewed distribution\n",
    "right_skewed_data = np.random.gamma(shape=2, scale=2, size=1000)\n",
    "\n",
    "# Create histograms for both datasets\n",
    "plt.figure(figsize=(12, 5))\n",
    "\n",
    "# Plot left-skewed data\n",
    "plt.subplot(1, 2, 1)\n",
    "plt.hist(left_skewed_data, bins=30, edgecolor='k', alpha=0.7)\n",
    "plt.title('Left-Skewed Distribution')\n",
    "plt.xlabel('Value')\n",
    "plt.ylabel('Frequency')\n",
    "\n",
    "# Plot right-skewed data\n",
    "plt.subplot(1, 2, 2)\n",
    "plt.hist(right_skewed_data, bins=30, edgecolor='k', alpha=0.7, color='g')\n",
    "plt.title('Right-Skewed Distribution')\n",
    "plt.xlabel('Value')\n",
    "plt.ylabel('Frequency')\n",
    "\n",
    "# Display the plots\n",
    "plt.tight_layout()\n",
    "plt.show()"
   ]
  },
  {
   "cell_type": "markdown",
   "metadata": {},
   "source": [
    "#### 52.If a distribution is skewed to the right and has a median of 20, will the mean be greater than or less than 20? "
   ]
  },
  {
   "cell_type": "markdown",
   "metadata": {},
   "source": [
    "If a distribution is skewed to the right (positively skewed) and has a median of 20, then the mean (average) will typically be greater than 20. \n",
    "\n",
    "In a right-skewed distribution, the tail on the right side is longer, which means that there are some relatively large values (outliers) that pull the mean to the right (higher values) of the median. As a result, the mean will be greater than the median in a right-skewed distribution.\n",
    "\n",
    "This relationship between skewness, median, and mean can be summarized as follows:\n",
    "\n",
    "- In a perfectly symmetrical distribution (like a normal distribution), the mean and median are equal.\n",
    "- In a right-skewed distribution, the mean is greater than the median.\n",
    "- In a left-skewed distribution, the mean is less than the median.\n",
    "\n",
    "So, in your case, if the distribution is positively skewed and the median is 20, you can expect the mean to be greater than 20."
   ]
  },
  {
   "cell_type": "markdown",
   "metadata": {},
   "source": [
    "#### 53.Given a left-skewed distribution that has a median of 60, what conclusions can we draw about the mean and the mode of the data? "
   ]
  },
  {
   "cell_type": "markdown",
   "metadata": {},
   "source": [
    "In a left-skewed distribution, the mean is typically less than the median, and the mode is typically greater than the median. Here's what we can conclude based on the provided information:\n",
    "\n",
    "1. **Mean (Average):** Since the distribution is left-skewed, the tail on the left side is longer, and there are some relatively small values (outliers) that pull the mean to the left (lower values) of the median. Therefore, we can conclude that the mean of the data is less than 60.\n",
    "\n",
    "2. **Mode (Most Common Value):** In a left-skewed distribution, the mode is typically greater than the median. This means that there is a concentration of data values on the right side of the distribution, making the most common value (mode) greater than the median. However, it's important to note that the mode may not always be readily apparent or unique in some datasets, especially those with complex shapes.\n",
    "\n",
    "$$ Mean \\leq Median \\leq Mode $$\n",
    "\n",
    "So, based on the given information, we can infer that the mean of the data is less than 60, and the mode is likely greater than 60, although the exact value of the mode may require further analysis or examination of the data distribution."
   ]
  },
  {
   "cell_type": "markdown",
   "metadata": {},
   "source": [
    "#### 54. Imagine that Jeremy took part in an examination. The test has a mean score of 160, and it has a standard deviation of 15. If Jeremy’s z-score is 1.20, what would be his score on the test?\n",
    " "
   ]
  },
  {
   "cell_type": "markdown",
   "metadata": {},
   "source": [
    "$$Z = \\frac{X - \\mu}{\\sigma}$$\n",
    "\n",
    "Where:\n",
    "- \\(Z\\) is the standardized value (z-score) in the standard normal distribution.\n",
    "- \\(X\\) is the original value from the normal distribution.\n",
    "- $(\\mu)$ is the mean of the original normal distribution.\n",
    "- $(\\sigma)$ is the standard deviation of the original normal distribution.\n",
    "\n",
    "\n",
    "To find Jeremy's score on the test, given his z-score, you can use the formula for calculating the raw score from a z-score:\n",
    "\n",
    "\n",
    "Raw Score (X) = (Z-score * Standard Deviation) + Mean\n",
    "\n",
    "In this case:\n",
    "- Mean (μ) = 160\n",
    "- Standard Deviation (σ) = 15\n",
    "- Z-score (Z) = 1.20\n",
    "\n",
    "Now, plug these values into the formula:\n",
    "\n",
    "X = (1.20 * 15) + 160\n",
    "\n",
    "X = 18 + 160\n",
    "\n",
    "X = 178\n",
    "\n",
    "So, Jeremy's score on the test would be 178."
   ]
  },
  {
   "cell_type": "markdown",
   "metadata": {},
   "source": [
    "#### 55.The standard normal curve has a total area to be under one, and it is symmetric around zero. True or False? "
   ]
  },
  {
   "cell_type": "markdown",
   "metadata": {},
   "source": [
    "True.\n",
    "\n",
    "The standard normal curve, also known as the standard normal distribution or the Z-distribution, is a probability distribution that is symmetric around zero, and its total area under the curve is equal to one. This means that the curve is perfectly balanced around its mean (which is zero in the case of the standard normal distribution), and the area under the entire curve represents the total probability, which is always equal to 1."
   ]
  },
  {
   "cell_type": "markdown",
   "metadata": {},
   "source": [
    "#### 56.Briefly explain the procedure to measure the length of all sharks in the world."
   ]
  },
  {
   "cell_type": "markdown",
   "metadata": {},
   "source": [
    "Measuring the length of all sharks in the world is a monumental task that would require a comprehensive and coordinated effort involving marine biologists, researchers, and advanced technology. Here's a simplified procedure for such an endeavor:\n",
    "\n",
    "1. **Research and Planning:** Begin by assembling a team of marine biologists, experts in shark behavior, and data scientists. Develop a detailed plan that outlines the scope of the project, the methods for data collection, and the necessary resources.\n",
    "\n",
    "2. **Data Collection:** Utilize a combination of methods to measure shark lengths, including:\n",
    "   - Aerial Surveys: Use drones or aircraft to identify and photograph sharks from above, estimating their size based on known reference points.\n",
    "   - Underwater Vehicles: Deploy remotely operated vehicles (ROVs) or submersibles equipped with cameras to capture images and video footage of sharks.\n",
    "   - Tagging: Attach electronic tags to sharks that can record their size and movements over time.\n",
    "   - Citizen Science: Engage the public in reporting shark sightings and measurements through dedicated apps or websites.\n",
    "\n",
    "3. **Data Analysis:** Develop computer algorithms and machine learning models to process the collected data. These tools can help identify and measure sharks accurately based on images and videos.\n",
    "\n",
    "4. **Collaboration:** Collaborate with research institutions, universities, and conservation organizations worldwide to maximize data collection efforts and share resources.\n",
    "\n",
    "5. **Verification:** Implement a system for cross-checking and verifying the measurements, ensuring the accuracy and reliability of the data.\n",
    "\n",
    "6. **Database Management:** Create a centralized database to store and manage the vast amount of collected data. Ensure it is accessible to researchers and scientists globally.\n",
    "\n",
    "7. **Monitoring and Updates:** Continuously monitor and update the database as new measurements and data become available. Regularly assess the health of shark populations and trends.\n",
    "\n",
    "8. **Public Awareness:** Use the project to raise awareness about shark conservation and the importance of protecting these apex predators.\n",
    "\n",
    "9. **Policy and Conservation Efforts:** Collaborate with governments and international organizations to inform policies and conservation initiatives based on the collected data.\n",
    "\n",
    "10. **Long-Term Commitment:** Recognize that this project would likely span many years or even decades, given the vastness of the world's oceans and the need for consistent data collection.\n",
    "\n",
    "Measuring the length of all sharks in the world would be a significant undertaking, and while the above steps provide a simplified overview, the actual process would be complex and require substantial resources, technology, and international cooperation. It's also important to consider ethical and ecological implications, as well as the welfare of the sharks during data collection."
   ]
  },
  {
   "cell_type": "markdown",
   "metadata": {},
   "source": [
    "#### 57.Can you tell me the difference between unimodal bimodal and bell-shaped curves? "
   ]
  },
  {
   "cell_type": "markdown",
   "metadata": {},
   "source": [
    "Certainly! Unimodal, bimodal, and bell-shaped curves are terms used to describe the shape or distribution of data in a histogram or probability density plot. Here's a table summarizing the key differences between these three types of curves:\n",
    "\n",
    "| Characteristic            | Unimodal Curve                            | Bimodal Curve                             | Bell-Shaped Curve                        |\n",
    "|--------------------------|------------------------------------------|-------------------------------------------|-----------------------------------------|\n",
    "| Number of Peaks          | One prominent peak indicating a single mode (peak) in the data distribution. | Two distinct peaks, indicating two modes (peaks) in the data distribution. | One central peak, indicating a single mode (peak) in the data distribution. |\n",
    "| Symmetry                | May or may not be symmetrical. Can be skewed to the left or right. | May or may not be symmetrical. The two modes may have different heights and widths. | Generally symmetrical, with the highest point (peak) at the center. |\n",
    "| Examples                | - Normal distribution (bell curve).<br>- Exponential distribution (right-skewed).<br>- Poisson distribution (right-skewed). | - Mixture of two normal distributions.<br>- Age distribution in a population with two distinct age groups.<br>- Test scores with two groups of high and low scores. | - Standard normal distribution (the classic bell curve).<br>- Height distribution in a population.<br>- IQ scores in the general population. |\n",
    "| Interpretation          | Typically represents a unimodal or single-peaked data distribution with one central tendency. | Represents a bimodal or two-peaked data distribution with two distinct central tendencies. | Represents a symmetric, unimodal data distribution with a single central tendency. |\n",
    "| Measures of Central Tendency | Mean, median, and mode may or may not be at the same point. | Mean, median, and mode are typically distinct and correspond to the two peaks. | Mean, median, and mode are typically at the same point, at the center of the distribution. |\n",
    "\n",
    "In summary, the terms unimodal, bimodal, and bell-shaped describe the number of peaks or modes in a data distribution and the symmetry of the distribution. Unimodal has one peak, bimodal has two peaks, and bell-shaped has one symmetric peak at the center. These characteristics provide insights into the underlying patterns and central tendencies of the data."
   ]
  },
  {
   "cell_type": "code",
   "execution_count": 79,
   "metadata": {},
   "outputs": [
    {
     "data": {
      "image/png": "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\n",
      "text/plain": [
       "<Figure size 432x288 with 1 Axes>"
      ]
     },
     "metadata": {},
     "output_type": "display_data"
    }
   ],
   "source": [
    "import numpy as np\n",
    "import matplotlib.pyplot as plt\n",
    "\n",
    "# Parameters for the normal distribution\n",
    "mean = 0  # Mean (center) of the distribution\n",
    "std_dev = 1  # Standard deviation, which controls the spread of the distribution\n",
    "\n",
    "# Generate random data that follows a normal distribution\n",
    "data = np.random.normal(mean, std_dev, 10000)  # Generate 10,000 data points\n",
    "\n",
    "# Create a histogram to visualize the data distribution\n",
    "plt.hist(data, bins=30, density=True, alpha=0.6, color='b', label='Data Histogram')\n",
    "\n",
    "# Plot the probability density function (PDF) of the normal distribution\n",
    "x = np.linspace(mean - 4 * std_dev, mean + 4 * std_dev, 100)\n",
    "pdf = (1 / (std_dev * np.sqrt(2 * np.pi))) * np.exp(-(x - mean)**2 / (2 * std_dev**2))\n",
    "plt.plot(x, pdf, 'r-', label='Normal Distribution PDF')\n",
    "\n",
    "# Add labels and a legend\n",
    "plt.xlabel('Value')\n",
    "plt.ylabel('Probability Density')\n",
    "plt.legend()\n",
    "\n",
    "# Show the plot\n",
    "plt.title('Unimodal Curve (Normal Distribution)')\n",
    "plt.grid(True)\n",
    "plt.show()\n"
   ]
  },
  {
   "cell_type": "code",
   "execution_count": 80,
   "metadata": {},
   "outputs": [
    {
     "data": {
      "image/png": "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\n",
      "text/plain": [
       "<Figure size 432x288 with 1 Axes>"
      ]
     },
     "metadata": {},
     "output_type": "display_data"
    }
   ],
   "source": [
    "import numpy as np\n",
    "import matplotlib.pyplot as plt\n",
    "\n",
    "# Parameters for two normal distributions\n",
    "mean1 = -2\n",
    "std_dev1 = 1\n",
    "mean2 = 2\n",
    "std_dev2 = 1\n",
    "\n",
    "# Generate random data by mixing two normal distributions\n",
    "data1 = np.random.normal(mean1, std_dev1, 5000)\n",
    "data2 = np.random.normal(mean2, std_dev2, 5000)\n",
    "data = np.concatenate((data1, data2))\n",
    "\n",
    "# Create a histogram to visualize the data distribution\n",
    "plt.hist(data, bins=30, density=True, alpha=0.6, color='b', label='Data Histogram')\n",
    "\n",
    "# Plot the probability density functions (PDFs) of the two normal distributions\n",
    "x = np.linspace(-6, 6, 1000)\n",
    "pdf1 = (1 / (std_dev1 * np.sqrt(2 * np.pi))) * np.exp(-(x - mean1)**2 / (2 * std_dev1**2))\n",
    "pdf2 = (1 / (std_dev2 * np.sqrt(2 * np.pi))) * np.exp(-(x - mean2)**2 / (2 * std_dev2**2))\n",
    "plt.plot(x, pdf1, 'r-', label='Distribution 1 PDF')\n",
    "plt.plot(x, pdf2, 'g-', label='Distribution 2 PDF')\n",
    "\n",
    "# Add labels and a legend\n",
    "plt.xlabel('Value')\n",
    "plt.ylabel('Probability Density')\n",
    "plt.legend()\n",
    "\n",
    "# Show the plot\n",
    "plt.title('Bimodal Curve (Mixture of Two Normal Distributions)')\n",
    "plt.grid(True)\n",
    "plt.show()\n"
   ]
  },
  {
   "cell_type": "markdown",
   "metadata": {},
   "source": [
    "#### 58.Does symmetric distribution need to be unimodal? "
   ]
  },
  {
   "cell_type": "markdown",
   "metadata": {},
   "source": [
    "No, a symmetric distribution does not necessarily have to be unimodal, and vice versa. These two characteristics are related but distinct in the context of probability distributions.\n",
    "\n",
    "Here's the difference:\n",
    "\n",
    "1. **Symmetric Distribution**:\n",
    "   - A symmetric distribution is one in which the probability or data values are symmetrically balanced around a central point. This means that if you were to fold the distribution in half at its center, the two halves would mirror each other.\n",
    "   - Symmetry implies that if you calculate the mean (average) of the distribution, it will be equal to the median (the middle value when the data is ordered).\n",
    "   - Symmetry does not dictate the number of modes (peaks) in the distribution; it only concerns the balance of values around the center.\n",
    "\n",
    "   Example: The normal distribution is a classic example of a symmetric distribution, and it's unimodal (having one mode).\n",
    "\n",
    "2. **Unimodal Distribution**:\n",
    "   - A unimodal distribution is one that has a single prominent peak or mode, indicating that there is one particular value or range of values that occur most frequently in the data.\n",
    "   - Unimodal distributions can be symmetric or asymmetric. In other words, they can have their mode at the center (symmetric) or off-center (asymmetric).\n",
    "\n",
    "   Example: The exponential distribution is unimodal but not symmetric; it's right-skewed with a single mode.\n",
    "\n",
    "So, while a symmetric distribution can be unimodal (like the normal distribution), it can also be bimodal (having two modes) or have any other number of modes. Conversely, a unimodal distribution can be either symmetric or asymmetric. The presence of multiple modes or the symmetry of a distribution depends on the underlying data and the specific characteristics of the distribution."
   ]
  },
  {
   "cell_type": "markdown",
   "metadata": {},
   "source": [
    "#### 59.What are some examples of data sets with non-Gaussian distributions? "
   ]
  },
  {
   "cell_type": "markdown",
   "metadata": {},
   "source": [
    "Many real-world datasets exhibit non-Gaussian (non-normal) distributions because the data may not conform to the characteristics of the normal distribution. Here are some examples of data sets with non-Gaussian distributions:\n",
    "\n",
    "1. **Exponential Distribution**:\n",
    "   - Represents the time between events in a Poisson process.\n",
    "   - Commonly used in reliability analysis and queuing theory.\n",
    "   - Example: Time between arrivals at a bus stop or the lifespan of electronic components.\n",
    "\n",
    "2. **Poisson Distribution**:\n",
    "   - Models the number of events occurring in a fixed interval of time or space when events happen at a known constant rate.\n",
    "   - Widely used in counting and discrete event scenarios.\n",
    "   - Example: Count of customer arrivals at a store in an hour.\n",
    "\n",
    "3. **Log-Normal Distribution**:\n",
    "   - The logarithm of the data follows a normal distribution.\n",
    "   - Often used for modeling data with positive values that have a multiplicative effect.\n",
    "   - Example: Stock prices, income levels.\n",
    "\n",
    "4. **Weibull Distribution**:\n",
    "   - Used in reliability engineering to model the distribution of lifetimes of items.\n",
    "   - Can describe both increasing and decreasing failure rates.\n",
    "   - Example: Time until a machine breaks down.\n",
    "\n",
    "5. **Uniform Distribution**:\n",
    "   - All values within a range are equally likely.\n",
    "   - Often used in random number generation and simulations.\n",
    "   - Example: Rolling a fair six-sided die.\n",
    "\n",
    "6. **Beta Distribution**:\n",
    "   - Models random variables constrained to a fixed interval, usually [0, 1].\n",
    "   - Used in Bayesian statistics and for modeling proportions or probabilities.\n",
    "   - Example: The probability of success in a binomial experiment.\n",
    "\n",
    "7. **Gamma Distribution**:\n",
    "   - Often used to model the waiting time until a Poisson process reaches a certain number of events.\n",
    "   - Used in queuing theory and reliability analysis.\n",
    "   - Example: Time until a light bulb burns out.\n",
    "\n",
    "8. **Power Law Distribution**:\n",
    "   - Describes data where small values are very common, and large values are rare.\n",
    "   - Common in various real-world networks and phenomena.\n",
    "   - Example: Distribution of city sizes, web page popularity.\n",
    "\n",
    "9. **Chi-Square Distribution**:\n",
    "   - Arises in statistical hypothesis testing, particularly in chi-squared tests.\n",
    "   - Represents the distribution of the sum of squared standard normal deviates.\n",
    "   - Example: Chi-squared goodness-of-fit test.\n",
    "\n",
    "10. **Cauchy Distribution**:\n",
    "    - Has heavy tails and no finite variance.\n",
    "    - Encountered in physics and engineering, particularly in resonance phenomena.\n",
    "    - Example: Frequency of a pendulum in the presence of damping.\n",
    "\n",
    "These are just a few examples of non-Gaussian distributions, and there are many more probability distributions that are used to model different types of data in various fields of science, engineering, finance, and social sciences. The choice of distribution depends on the characteristics of the data and the specific problem being analyzed."
   ]
  },
  {
   "cell_type": "markdown",
   "metadata": {},
   "source": [
    "#### 60.What is the Binomial Distribution Formula? "
   ]
  },
  {
   "cell_type": "markdown",
   "metadata": {},
   "source": [
    "The binomial distribution is a discrete probability distribution that describes the number of successes (usually denoted as \"k\") in a fixed number of independent Bernoulli trials (experiments with only two possible outcomes, often called \"success\" and \"failure\"). The binomial distribution formula is:\n",
    "\n",
    "$$P(X = k) = \\binom{n}{k} \\cdot p^k \\cdot (1 - p)^{n - k}$$\n",
    "\n",
    "Where:\n",
    "- $P(X = k)$ is the probability of getting exactly \"k\" successes in \"n\" trials.\n",
    "- $\\binom{n}{k}$ represents the binomial coefficient, which calculates the number of ways to choose \"k\" successes out of \"n\" trials, and it is calculated as $\\binom{n}{k} = \\frac{n!}{k!(n - k)!}$, where \"!\" denotes factorial.\n",
    "- \"p\" is the probability of success on a single trial.\n",
    "- \\(1 - p\\) is the probability of failure on a single trial.\n",
    "\n",
    "Let's illustrate this with an example:\n",
    "\n",
    "**Example**: Suppose you are flipping a fair coin (where the probability of heads, \"H,\" is 0.5, and the probability of tails, \"T,\" is also 0.5) 5 times. What is the probability of getting exactly 3 heads (H) in these 5 coin flips?\n",
    "\n",
    "Using the binomial distribution formula:\n",
    "\n",
    "- $(n)$ (number of trials) is 5.\n",
    "- $(k)$ (number of successes) is 3.\n",
    "- $(p)$ (probability of success on a single trial) is 0.5.\n",
    "- $(1 - p$) (probability of failure on a single trial) is also 0.5.\n",
    "\n",
    "Now, plug these values into the formula:\n",
    "\n",
    "$$P(X = 3) = \\binom{5}{3} \\cdot (0.5)^3 \\cdot (0.5)^{5 - 3}$$\n",
    "\n",
    "Calculate the binomial coefficient:\n",
    "\n",
    "$$\\binom{5}{3} = \\frac{5!}{3!(5-3)!} = \\frac{5!}{3!2!} = \\frac{5 × 4 × 3!}{3! × 2 × 1} = \\frac{5 × 4}{2 × 1} = 10$$\n",
    "\n",
    "Now, calculate the probability:\n",
    "\n",
    "$$P(X = 3) = 10 \\cdot (0.5)^3 \\cdot (0.5)^2 = 10 \\cdot 0.125 \\cdot 0.25 = 0.3125$$\n",
    "\n",
    "So, the probability of getting exactly 3 heads in 5 coin flips is 0.3125, or 31.25%."
   ]
  },
  {
   "cell_type": "markdown",
   "metadata": {},
   "source": [
    "#### 61.What are the criteria that Binomial distributions must meet? "
   ]
  },
  {
   "cell_type": "markdown",
   "metadata": {},
   "source": [
    "The binomial distribution is a probability distribution that models the number of successes in a fixed number of independent Bernoulli trials (experiments with only two possible outcomes: success and failure). To use the binomial distribution effectively and ensure that it is appropriate for your scenario, several criteria must be met:\n",
    "\n",
    "1. **Fixed Number of Trials (n)**: There must be a fixed number of trials (experiments) denoted as \"n.\" Each trial should be independent and have only two possible outcomes: success and failure.\n",
    "\n",
    "2. **Independence**: Each trial must be independent of the others. The outcome of one trial should not affect the outcome of any other trial.\n",
    "\n",
    "3. **Constant Probability of Success (p)**: The probability of success, denoted as \"p,\" must remain constant from trial to trial. In other words, the probability of success doesn't change from one trial to the next.\n",
    "\n",
    "4. **Binary Outcomes**: Each trial must result in one of two possible outcomes: success or failure. These outcomes are often labeled as \"1\" for success and \"0\" for failure, but the labels can vary.\n",
    "\n",
    "5. **Identically Distributed**: The trials are identically distributed, meaning that the probability of success (p) and the probability of failure (1 - p) remain the same for each trial.\n",
    "\n",
    "6. **Discreteness**: The random variable representing the number of successes must be discrete. In other words, it must take on specific, countable values, such as 0, 1, 2, and so on.\n",
    "\n",
    "7. **Fixed Probability for Success and Failure**: The probabilities of success and failure (p and 1 - p) should not be too close to 0 or 1, as extreme values can result in skewed distributions. Typically, 0.1 ≤ p ≤ 0.9 is a reasonable guideline.\n",
    "\n",
    "If these criteria are met, you can use the binomial distribution to calculate probabilities related to the number of successes in a fixed number of trials. The binomial distribution is commonly used in scenarios such as coin flips, success/failure experiments, and situations where you want to calculate the probability of achieving a specific number of successes in a known number of trials. If the criteria are not met, other probability distributions or models may be more appropriate for your data."
   ]
  },
  {
   "cell_type": "markdown",
   "metadata": {},
   "source": [
    "#### 62.What are the examples of symmetric distribution? "
   ]
  },
  {
   "cell_type": "markdown",
   "metadata": {},
   "source": [
    "Symmetric distributions are probability distributions in which the data or probability values are symmetrically balanced around a central point. Here are some examples of symmetric distributions:\n",
    "\n",
    "1. **Normal Distribution (Gaussian Distribution)**:\n",
    "   - The normal distribution is one of the most well-known symmetric distributions.\n",
    "   - It is characterized by a bell-shaped curve with a single peak at the mean (average).\n",
    "   - In a standard normal distribution, the mean and median are the same, and the data is symmetrically distributed around the mean.\n",
    "   - It's widely used in various fields to model naturally occurring phenomena, such as heights, test scores, and errors.\n",
    "\n",
    "2. **Uniform Distribution**:\n",
    "   - The uniform distribution is symmetric and rectangular in shape.\n",
    "   - All values within a specific range have the same probability of occurring.\n",
    "   - It's often used when each outcome in a sample space is equally likely.\n",
    "\n",
    "3. **Cauchy Distribution**:\n",
    "   - The Cauchy distribution is symmetric but has heavy tails, meaning it has a higher likelihood of extreme values compared to the normal distribution.\n",
    "   - It lacks finite moments (mean and variance) and is sensitive to outliers.\n",
    "   - It's used in physics and finance to model certain types of data.\n",
    "\n",
    "4. **Laplace Distribution**:\n",
    "   - The Laplace distribution is symmetric and similar in shape to a double-exponential distribution.\n",
    "   - It has fatter tails than the normal distribution and is often used to model data with heavy tails or outliers.\n",
    "\n",
    "5. **Triangular Distribution**:\n",
    "   - The triangular distribution is symmetric and triangular in shape.\n",
    "   - It has defined minimum, maximum, and mode (most likely) values.\n",
    "   - It's often used when data is assumed to be evenly distributed within a certain range.\n",
    "\n",
    "6. **Logistic Distribution**:\n",
    "   - The logistic distribution is symmetric and S-shaped, resembling the standard logistic curve.\n",
    "   - It's used in various applications, including logistic regression in statistics and modeling population growth.\n",
    "\n",
    "7. **Student's t-Distribution (for specific degrees of freedom)**:\n",
    "   - The t-distribution is symmetric and bell-shaped, similar to the normal distribution.\n",
    "   - It has heavier tails than the normal distribution and is used in hypothesis testing, particularly for small sample sizes.\n",
    "\n",
    "8. **Log-Normal Distribution (when plotted on a logarithmic scale)**:\n",
    "   - While the log-normal distribution itself is not symmetric, its logarithm follows a normal distribution, making it symmetric on a logarithmic scale.\n",
    "\n",
    "These are some examples of symmetric distributions. Symmetric distributions are often encountered in statistical analysis and modeling when data is balanced around a central value, but they can vary in terms of their specific shapes and properties."
   ]
  },
  {
   "cell_type": "markdown",
   "metadata": {},
   "source": [
    "#### 63.How to find the mean length of all fishes in the sea? "
   ]
  },
  {
   "cell_type": "markdown",
   "metadata": {},
   "source": [
    "Finding the mean length of all fishes in the sea is an extremely challenging task due to the vast and diverse nature of the world's oceans. However, you can estimate the mean length by taking a sample of fish lengths from various locations and using statistical methods. Here's a general approach:\n",
    "\n",
    "1. **Define the Scope**:\n",
    "   - Determine the geographical area or regions you want to consider (e.g., a specific ocean, a set of seas, or global waters).\n",
    "   - Decide on the types of fish you want to include in your estimation.\n",
    "\n",
    "2. **Sampling**:\n",
    "   - Select sampling sites or regions within your defined scope. These should be representative of the larger area you are interested in.\n",
    "   - Use various methods for collecting fish samples, which can include fishing trawls, underwater cameras, or collaborating with fisheries.\n",
    "\n",
    "3. **Data Collection**:\n",
    "   - Measure the length of individual fish specimens in your sample. You can do this using specialized tools like measuring tapes or image analysis software for underwater imagery.\n",
    "\n",
    "4. **Data Analysis**:\n",
    "   - Calculate the mean length of the fish in your sample. This is done by summing up all the measured lengths and dividing by the total number of fish measured.\n",
    "\n",
    "5. **Extrapolation**:\n",
    "   - Estimate the total fish population in the defined scope. This can be challenging, as it involves making assumptions about the density of fish in the areas you sampled and extrapolating to the entire region.\n",
    "   - Use statistical methods to adjust for any potential bias in your sample.\n",
    "\n",
    "6. **Calculate the Mean Length**:\n",
    "   - Calculate the weighted mean length of all fishes in the sea by considering the mean lengths from each sampling location and weighting them based on the estimated population size in those locations.\n",
    "\n",
    "7. **Report and Interpret**:\n",
    "   - Report your estimated mean length along with any associated uncertainties or confidence intervals.\n",
    "   - Interpret the results in the context of your defined scope and the limitations of your sampling and estimation methods.\n",
    "\n",
    "It's important to note that estimating the mean length of all fishes in the sea is an ambitious task and will involve a lot of assumptions and uncertainties. Additionally, the diversity of fish species, their varying habitats, and the dynamic nature of marine ecosystems make such an estimate challenging. Collaborating with marine biologists, fisheries experts, and statisticians would be essential to design an effective sampling strategy and conduct a meaningful estimation."
   ]
  },
  {
   "cell_type": "code",
   "execution_count": 81,
   "metadata": {},
   "outputs": [
    {
     "name": "stdout",
     "output_type": "stream",
     "text": [
      "The mean length of the sample is: 34.36 centimeters\n"
     ]
    }
   ],
   "source": [
    "import numpy as np\n",
    "\n",
    "# Simulated fish length data (in centimeters) for a sample\n",
    "fish_lengths_sample = [30.2, 35.1, 28.7, 42.3, 37.8, 29.5, 31.9, 38.4, 36.7, 33.0]\n",
    "\n",
    "# Calculate the mean length of the sample\n",
    "mean_length = np.mean(fish_lengths_sample)\n",
    "\n",
    "# Print the result\n",
    "print(f\"The mean length of the sample is: {mean_length:.2f} centimeters\")\n"
   ]
  },
  {
   "cell_type": "markdown",
   "metadata": {},
   "source": [
    "#### 64.What are the types of sampling in Statistics?\n",
    " "
   ]
  },
  {
   "cell_type": "markdown",
   "metadata": {},
   "source": [
    "In statistics, various sampling methods are used to collect data from a subset (sample) of a larger population. The choice of sampling method depends on the research objectives, the characteristics of the population, and practical considerations. Here are some common types of sampling methods with examples:\n",
    "\n",
    "1. **Simple Random Sampling**:\n",
    "   - In simple random sampling, every individual in the population has an equal chance of being selected.\n",
    "   - Example: Suppose you have a list of all students in a school, and you use a random number generator to select 100 students from the list.\n",
    "\n",
    "2. **Stratified Sampling**:\n",
    "   - Stratified sampling involves dividing the population into subgroups or strata based on certain characteristics (e.g., age, gender, income), and then randomly selecting samples from each stratum.\n",
    "   - Example: To study the preferences of voters in a city, you divide the population into age groups (e.g., 18-25, 26-40, 41-60, 61 and above) and then randomly sample from each group.\n",
    "\n",
    "3. **Systematic Sampling**:\n",
    "   - Systematic sampling involves selecting every \"kth\" individual from a list of the population, where \"k\" is a fixed interval.\n",
    "   - Example: If you want to survey customers entering a store, you might choose to interview every 10th customer as they come in.\n",
    "\n",
    "4. **Cluster Sampling**:\n",
    "   - Cluster sampling divides the population into clusters or groups, and then randomly selects entire clusters as samples.\n",
    "   - Example: To assess the quality of education in a state, you randomly select a few schools, and then survey all students in the selected schools.\n",
    "\n",
    "5. **Convenience Sampling**:\n",
    "   - Convenience sampling involves selecting the most readily available individuals or subjects for the sample, often based on convenience or accessibility.\n",
    "   - Example: Conducting interviews with people on the street to gather opinions on a current event.\n",
    "\n",
    "6. **Snowball Sampling**:\n",
    "   - Snowball sampling is used when it is challenging to identify and reach individuals in the population. The initial participants help identify and recruit further participants.\n",
    "   - Example: Studying a hidden or marginalized population, such as drug users, by starting with a few known individuals and having them refer others.\n",
    "\n",
    "7. **Purposive (Judgmental) Sampling**:\n",
    "   - In purposive sampling, the researcher deliberately selects specific individuals or cases based on their expertise, knowledge, or specific criteria.\n",
    "   - Example: If you're researching experts in a field, you might select participants who have published extensively or have a long history of experience.\n",
    "\n",
    "8. **Quota Sampling**:\n",
    "   - Quota sampling divides the population into subgroups and sets a quota for each subgroup. Researchers then sample individuals to meet these quotas.\n",
    "   - Example: To study consumer preferences for a product, you might set quotas for different age groups and sample individuals to fill these quotas.\n",
    "\n",
    "The choice of sampling method depends on the research question and the resources available. Each method has its advantages and limitations, and it's essential to carefully consider the potential bias and representativeness of the chosen method when conducting statistical research."
   ]
  },
  {
   "cell_type": "markdown",
   "metadata": {},
   "source": [
    "#### 65.Why is sampling required? "
   ]
  },
  {
   "cell_type": "markdown",
   "metadata": {},
   "source": [
    "Sampling is required in various fields and research contexts for several reasons. Here's a table summarizing why sampling is necessary:\n",
    "\n",
    "| Reason                                      | Description                                                 |\n",
    "|:---------------------------------------------:|:-------------------------------------------------------------:|\n",
    "| Cost-Efficiency                             | **Reduced Costs:** Collecting data from an entire population can be prohibitively expensive in terms of time, resources, and logistics. Sampling allows researchers to gather information more cost-effectively while still obtaining meaningful insights. |\n",
    "| Time Constraints                            | **Time Savings:** Studying an entire population may take an impractical amount of time. Sampling enables researchers to collect data more quickly, which is especially important when timely decisions or conclusions are required. |\n",
    "| Inaccessibility                             | **Inaccessibility:** Some populations are physically or logistically inaccessible. For example, it may be impossible to survey every individual in a large country or to study all historical artifacts from a particular era. Sampling provides a practical alternative. |\n",
    "| Destructive Testing                         | **Destructive Testing:** In fields like materials science or biology, conducting tests or experiments may destroy the sample. In such cases, it's essential to select representative samples to minimize waste. |\n",
    "| Precision vs. Accuracy                      | **Trade-off Between Precision and Accuracy:** In some cases, obtaining precise data from a small sample is more important than having less precise data from the entire population. Sampling allows for this trade-off. |\n",
    "| Limited Resources and Expertise              | **Resource Constraints:** Researchers may lack the resources, personnel, or expertise to collect data from an entire population. Sampling can make research more manageable. |\n",
    "| Risk Reduction                              | **Risk Mitigation:** Sampling helps reduce the risk of errors or biases that can occur when dealing with large populations. Properly selected samples can offer valid and reliable results. |\n",
    "| Testing Feasibility                          | **Feasibility of Testing:** In cases where testing the entire population is destructive or impractical, sampling provides a way to estimate population characteristics without full-scale testing. |\n",
    "| Statistical Inference and Generalization    | **Statistical Inference:** Sampling allows for the application of inferential statistics, enabling researchers to make valid conclusions and predictions about the entire population based on the characteristics of the sample. |\n",
    "\n",
    "Sampling is a crucial tool in research and data collection because it balances practical considerations, resource constraints, and the need for accurate and representative data. When done correctly, sampling can provide valuable insights while saving time and resources. However, it's important to use appropriate sampling techniques to ensure that the selected sample accurately represents the population of interest."
   ]
  },
  {
   "cell_type": "markdown",
   "metadata": {},
   "source": [
    "#### 66.How do you calculate the needed sample size? "
   ]
  },
  {
   "cell_type": "markdown",
   "metadata": {},
   "source": [
    "Calculating the needed sample size for a research study involves several factors, including the desired level of confidence, the acceptable margin of error, and the variability in the population. The specific formula and method you use depend on the type of data you are dealing with (proportions or means). Here, I'll provide examples for both scenarios.\n",
    "\n",
    "**For Proportions (Categorical Data):**\n",
    "\n",
    "To calculate the required sample size for estimating proportions (e.g., the proportion of people who agree with a statement), you can use the following formula:\n",
    "\n",
    "$$n = \\frac{{Z^2 \\cdot P \\cdot (1 - P)}}{{E^2}}$$\n",
    "\n",
    "Where:\n",
    "- $(n)$ is the required sample size.\n",
    "- $(Z)$ is the critical value from the standard normal distribution corresponding to your desired confidence level (e.g., 1.96 for a 95% confidence level).\n",
    "- $(P)$ is your estimated proportion of the population with the characteristic of interest (if unknown, you can use 0.5 for a conservative estimate).\n",
    "- $(E)$ is the desired margin of error (expressed as a proportion).\n",
    "\n",
    "**Example for Proportions:**\n",
    "\n",
    "Suppose you want to estimate the proportion of people in a city who support a new policy with a 95% confidence level and a margin of error of 0.05 (5%). You don't have prior information, so you use \\(P = 0.5\\) for a conservative estimate.\n",
    "\n",
    "Using the formula:\n",
    "\n",
    "$$n = \\frac{{(1.96)^2 \\cdot 0.5 \\cdot (1 - 0.5)}}{{(0.05)^2}} \\approx 384\\$$\n",
    "\n",
    "You would need a sample size of approximately 384 respondents to estimate the proportion with a 5% margin of error and 95% confidence level.\n",
    "\n",
    "**For Means (Continuous Data):**\n",
    "\n",
    "To calculate the required sample size for estimating means (e.g., the average income of a population), you can use the following formula:\n",
    "\n",
    "$$n = \\frac{{Z^2 \\cdot σ^2}}{{E^2}}\\$$\n",
    "\n",
    "Where:\n",
    "- $(n)$ is the required sample size.\n",
    "- $(Z)$ is the critical value from the standard normal distribution corresponding to your desired confidence level.\n",
    "- $(σ)$ is the estimated population standard deviation (if unknown, you can use a reasonable estimate from previous studies or pilot data).\n",
    "- $(E)$ is the desired margin of error.\n",
    "\n",
    "**Example for Means:**\n",
    "\n",
    "Suppose you want to estimate the average income of a specific profession in a city with a 95% confidence level and a margin of error of `$500`. You have an estimate of the population standard deviation, which is $10,000.\n",
    "\n",
    "Using the formula:\n",
    "\n",
    "$$n = \\frac{{(1.96)^2 \\cdot (10000)^2}}{{(500)^2}} \\approx 384\\$$\n",
    "\n",
    "You would need a sample size of approximately 384 observations to estimate the mean income with a margin of error of $500 and a 95% confidence level.\n",
    "\n",
    "These examples illustrate how to calculate the needed sample size for estimating proportions and means in different research scenarios. Keep in mind that these calculations are based on specific assumptions, and actual sample sizes may vary based on factors such as the desired level of confidence and the variability in the population."
   ]
  },
  {
   "cell_type": "markdown",
   "metadata": {},
   "source": [
    "#### 67.Can you give the difference between stratified sampling and clustering sampling? "
   ]
  },
  {
   "cell_type": "markdown",
   "metadata": {},
   "source": [
    "Here's a table summarizing the key differences between stratified sampling and cluster sampling:\n",
    "\n",
    "| Aspect                        | Stratified Sampling                         | Cluster Sampling                             |\n",
    "|-------------------------------:|--------------------------------------------:|-----------------------------------------------:|\n",
    "| Definition                    | Divides the population into subgroups or strata based on certain characteristics and samples from each stratum. | Divides the population into clusters or groups and randomly selects entire clusters as samples. |\n",
    "| Sampling Process              | Sampling is performed independently within each stratum. | Sampling involves randomly selecting a subset of clusters and then including all elements within the selected clusters. |\n",
    "| Purpose                       | Used when you want to ensure representation of different subgroups in the sample. | Used when it is more practical to sample groups or clusters of individuals rather than individual units. |\n",
    "| Stratum Size                  | The size of each stratum is determined based on the proportion of the population it represents. | The number of clusters and their sizes may vary, and cluster sizes do not necessarily reflect population proportions. |\n",
    "| Randomness                    | Random sampling is conducted separately within each stratum. | Random clusters are selected, and all individuals within the chosen clusters are included in the sample. |\n",
    "| Precision                     | Typically provides higher precision and accuracy in estimating population parameters, especially when there is significant variability between strata. | May have lower precision than stratified sampling if clusters are heterogeneous or if there is significant variability within clusters. |\n",
    "| Example                       | If studying a city's population, strata may be defined by age groups (e.g., 18-25, 26-40, 41-60, 61 and above). | If studying a city's population, clusters may be defined by neighborhoods, and entire neighborhoods are selected as clusters. |\n",
    "| Use Cases                     | Commonly used when there are clear subgroups or strata within a population that you want to ensure are represented in the sample. | Useful when the population is naturally organized into groups or when it is more cost-effective to sample clusters, such as households, schools, or businesses. |\n",
    "| Variability Within Subgroups   | Assumes that there may be variability within each stratum but seeks to account for that variability in the sample. | Assumes that there may be homogeneity within clusters but allows for variability between clusters. |\n",
    "| Data Analysis                 | Stratified samples require more complex data analysis to account for the stratified nature of the sample, such as weighted analysis. | Cluster samples require specialized statistical techniques to account for the clustering, such as multi-stage sampling or cluster-weighted analysis. |\n",
    "\n",
    "Both stratified sampling and cluster sampling are useful techniques for selecting representative samples from populations. The choice between them depends on the research objectives, the structure of the population, and practical considerations. Stratified sampling is typically preferred when there are clear subgroups of interest, while cluster sampling is useful when the population is naturally organized into clusters or when it is more practical to sample clusters."
   ]
  },
  {
   "cell_type": "markdown",
   "metadata": {},
   "source": [
    "#### 68. Where is inferential statistics used? "
   ]
  },
  {
   "cell_type": "markdown",
   "metadata": {},
   "source": [
    "Inferential statistics is widely used in various fields and applications to make predictions, draw conclusions, and make informed decisions based on sample data. Here's a table highlighting some common areas where inferential statistics is used:\n",
    "\n",
    "| Application                  | Description                                                 |\n",
    "|:------------------------------:|:-------------------------------------------------------------:|\n",
    "| Healthcare and Medicine      | - Clinical trials to assess the effectiveness of new drugs or treatments.<br>- Population health studies to understand disease prevalence and risk factors.<br>- Medical research to draw conclusions about the efficacy of medical interventions. |\n",
    "| Social Sciences              | - Polling and survey research to make predictions about public opinion.<br>- Psychology studies to draw conclusions about human behavior and mental processes.<br>- Economics to analyze economic data and make predictions about markets. |\n",
    "| Business and Marketing       | - Market research to make inferences about customer preferences and buying behavior.<br>- A/B testing to assess the impact of changes in marketing strategies or product features.<br>- Quality control to ensure products meet specific standards. |\n",
    "| Environmental Science       | - Climate studies to predict future climate trends based on historical data.<br>- Environmental impact assessments to make conclusions about the effects of human activities on ecosystems.<br>- Ecological research to estimate the size of animal populations. |\n",
    "| Education                    | - Educational research to evaluate the effectiveness of teaching methods.<br>- Standardized testing to make inferences about students' performance.<br>- School district assessments to allocate resources effectively. |\n",
    "| Finance and Economics        | - Investment analysis to predict future market trends and asset performance.<br>- Economic forecasting to estimate GDP growth, inflation, and other economic indicators.<br>- Risk assessment and modeling to manage financial portfolios. |\n",
    "| Public Policy and Governance | - Policy evaluation to determine the impact of government programs and interventions.<br>- Criminal justice system to assess the effectiveness of rehabilitation programs.<br>- Demographic studies to make conclusions about population trends. |\n",
    "| Manufacturing and Industry   | - Quality control and process improvement to maintain product quality and efficiency.<br>- Reliability testing to predict the lifespan of machinery and equipment.<br>- Supply chain management to optimize inventory levels and logistics. |\n",
    "\n",
    "Inferential statistics plays a crucial role in these and many other areas by allowing researchers, analysts, and decision-makers to draw meaningful conclusions from limited sample data, which can inform actions, policies, and strategies."
   ]
  },
  {
   "cell_type": "markdown",
   "metadata": {},
   "source": [
    "#### 69.  What are population and sample in Inferential Statistics, and how are they different?"
   ]
  },
  {
   "cell_type": "markdown",
   "metadata": {},
   "source": [
    "Summarizing the key differences between population and sample in the context of Inferential Statistics:\n",
    "\n",
    "| Aspect                       | Population                                | Sample                                      |\n",
    "|------------------------------:|-------------------------------------------:|---------------------------------------------:|\n",
    "| Definition                   | The entire group of interest.            | A subset of the population selected for analysis.  |\n",
    "| Size                         | Large, consisting of all individuals or data points. | Smaller, consisting of a portion of the population.  |\n",
    "| Purpose                      | To describe the entire group.           | To make inferences or predictions about the entire group based on the sample. |\n",
    "| Representativeness           | Should ideally represent the characteristics of the population. | Should be a representative subset to make valid inferences about the population. |\n",
    "| Feasibility                  | Often too large to study in its entirety, making sampling necessary. | Easier to collect data from a sample rather than the entire population. |\n",
    "| Data Collection              | Usually impractical to collect data from every member of the population. | Data is collected from the sample through various methods (random, stratified, etc.). |\n",
    "| Statistical Analysis         | Inferential statistics are used to draw conclusions about the population based on the sample data. | Descriptive statistics are used to summarize the characteristics of the sample. Inferential statistics are used to make broader population inferences. |\n",
    "| Example                      | All residents in a country.             | Randomly selected 1,000 residents from a country. |\n",
    "\n",
    "This table provides a concise overview of the key distinctions between population and sample in the context of inferential statistics."
   ]
  },
  {
   "cell_type": "markdown",
   "metadata": {},
   "source": [
    "#### 70. What is the relationship between the confidence level and the significance level in statistics?"
   ]
  },
  {
   "cell_type": "markdown",
   "metadata": {},
   "source": [
    "The confidence level and the significance level are two important concepts in statistics, and they are inversely related. Here's a table summarizing the relationship between these two concepts:\n",
    "\n",
    "| Aspect                | Confidence Level                   | Significance Level                 |\n",
    "|:-----------------------:|:-----------------------------------:|:-----------------------------------:|\n",
    "| Definition            | The confidence level (1 - α) represents the probability that the calculated confidence interval contains the true population parameter. | The significance level (α) is the probability of making a Type I error, which is rejecting a true null hypothesis in a hypothesis test. |\n",
    "| Range                 | Typically expressed as a percentage or a decimal between 0 and 1, such as 95% or 0.95. | Usually specified in advance and is a small value, such as 0.05 (5%) or 0.01 (1%). |\n",
    "| Inverse Relationship | As the confidence level increases, the width of the confidence interval also increases, which means it becomes wider. | As the significance level decreases, the risk of making a Type I error (false positive) decreases, but the risk of making a Type II error (false negative) increases. |\n",
    "| Interpretation        | A 95% confidence interval, for example, means that if you were to draw many random samples and calculate a confidence interval for each, you would expect about 95% of those intervals to contain the true population parameter. | A significance level of 0.05 means that there is a 5% chance of observing a result as extreme as, or more extreme than, the one obtained if the null hypothesis is true. |\n",
    "| Hypothesis Testing   | Not directly related to hypothesis testing but provides information about the precision of the estimate. | Essential in hypothesis testing. It determines the threshold for rejecting the null hypothesis based on sample data. |\n",
    "| Confidence Interval     | A confidence interval is a range estimate for a population parameter (e.g., mean or proportion) based on sample data. It provides a range within which the true parameter is likely to fall with a certain confidence level. | In hypothesis testing, the significance level defines the threshold for determining whether the results are statistically significant or not. If the p-value (probability of observing the data under the null hypothesis) is less than alpha, we reject the null hypothesis. |\n",
    "| Use in Estimation      | Used in estimating population parameters, such as population means or proportions, along with the corresponding margin of error. | Used in hypothesis testing to assess the strength of evidence against the null hypothesis. |\n",
    "| Example                 | \"We are 95% confident that the true population mean falls within the interval [X, Y].\" | \"The p-value is 0.03, which is less than our chosen significance level of 0.05, so we reject the null hypothesis in favor of the alternative hypothesis.\" |\n",
    "\n",
    "In summary, the confidence level measures the degree of certainty in estimating a population parameter using a confidence interval, while the significance level determines the risk of making a Type I error in hypothesis testing. These two concepts are inversely related, meaning that as one increases, the other decreases, and there is often a trade-off between precision and error rates in statistical analysis."
   ]
  },
  {
   "cell_type": "markdown",
   "metadata": {},
   "source": [
    "#### 71.What is the difference between Point Estimate and Confidence Interval Estimate? "
   ]
  },
  {
   "cell_type": "markdown",
   "metadata": {},
   "source": [
    " Point estimates and confidence interval estimates are two common ways to estimate population parameters in statistics. Here's a table summarizing the key differences between them:\n",
    "\n",
    "| Aspect                         | Point Estimate                                   | Confidence Interval Estimate                     |\n",
    "|--------------------------------|--------------------------------------------------|---------------------------------------------------|\n",
    "| Definition                     | A single value or statistic used to estimate a population parameter. It represents the best guess or approximation of the parameter based on sample data. | An interval or range of values that provides a range of plausible values for the population parameter. It quantifies the uncertainty associated with the point estimate. |\n",
    "| Nature                         | Singular value, typically the sample mean (μ̂) for estimating a population mean (μ), or a sample proportion (p̂) for estimating a population proportion (p). | A range of values, often expressed as \"estimate ± margin of error\" or with lower and upper bounds (e.g., [lower, upper]). |\n",
    "| Precision                      | Less precise because it provides only a single estimate. It does not convey information about the variability or uncertainty in the estimate. | More precise because it includes a range of values, indicating the degree of confidence in the estimate and accounting for sampling variability. |\n",
    "| Interpretation                 | Represents the best guess or the most likely value for the population parameter based on the available sample data. | Represents a range within which the true population parameter is likely to fall with a specified level of confidence. |\n",
    "| Example                        | The point estimate of the average height of students in a class is 165 cm. | The confidence interval estimate for the average height of students is (160 cm, 170 cm) with a 95% confidence level. |\n",
    "| Use in Decision-Making         | Can be used as a quick approximation when precise information is not required, but it lacks information about uncertainty. | Provides a more informative estimate, allowing decision-makers to consider the range of possible values and associated confidence. |\n",
    "| Assumption of Normality        | Point estimates do not require normality assumptions and can be calculated for various parameter types and data distributions. | Confidence intervals often assume normality or rely on large sample sizes for validity. Other methods may be used for non-normally distributed data. |\n",
    "\n",
    "In summary, a point estimate provides a single value as the best guess for a population parameter, whereas a confidence interval estimate offers a range of values to account for uncertainty and variability in the estimate. Confidence intervals are typically preferred when precision and an understanding of estimation uncertainty are crucial."
   ]
  },
  {
   "cell_type": "markdown",
   "metadata": {},
   "source": [
    "#### 72.What do you understand about biased and unbiased terms? "
   ]
  },
  {
   "cell_type": "markdown",
   "metadata": {},
   "source": [
    "In statistics, the terms \"biased\" and \"unbiased\" refer to whether an estimator (a statistic used to estimate a population parameter) systematically overestimates or underestimates the parameter on average. Here's a table summarizing the differences between biased and unbiased estimators, along with examples:\n",
    "\n",
    "| Aspect                    | Biased Estimator                                 | Unbiased Estimator                               |\n",
    "|---------------------------|-------------------------------------------------|---------------------------------------------------|\n",
    "| Definition                | An estimator that, on average, deviates from the true population parameter in a systematic way. | An estimator that, on average, is equal to the true population parameter it is estimating. |\n",
    "| Systematic Error          | Biased estimators introduce systematic error, meaning they consistently overestimate or underestimate the parameter. | Unbiased estimators have no systematic error and, on average, provide an accurate estimate of the parameter. |\n",
    "| Example                   | Suppose we want to estimate the population mean (μ) based on a random sample. If we consistently multiply the sample mean by 2, the estimator is biased. | The sample mean (x̄) is an unbiased estimator of the population mean (μ) because, on average, it equals μ. |\n",
    "| Accuracy                  | Biased estimators may lack accuracy and reliability when estimating population parameters. | Unbiased estimators tend to be more accurate and reliable on average when estimating population parameters. |\n",
    "| Mathematical Expression   | Biased estimators can involve mathematical adjustments or transformations that cause systematic deviations from the parameter. | Unbiased estimators are typically expressed as simple functions of the sample data without systematic adjustments. |\n",
    "| Correction Methods        | Biased estimators may require bias-correction methods to transform them into unbiased estimators. | Unbiased estimators do not require bias-correction methods because they already provide unbiased estimates. |\n",
    "\n",
    "Examples:\n",
    "1. **Biased Estimator Example:** Let's say you have a sample of test scores from a class of students, and you want to estimate the average score of the entire class. If you consistently multiply the sample mean by 1.2 to estimate the population mean, this estimator is biased because it systematically overestimates the true population mean.\n",
    "\n",
    "2. **Unbiased Estimator Example:** Using the same test score data, if you calculate the sample mean (x̄) and use it as your estimator for the population mean (μ), this estimator is unbiased because, on average, it provides an estimate that is equal to the true population mean.\n",
    "\n",
    "In summary, bias in statistics refers to systematic errors in estimation, where a biased estimator consistently overestimates or underestimates the true parameter. In contrast, an unbiased estimator provides estimates that are, on average, equal to the true parameter without systematic errors. Unbiased estimators are generally preferred when seeking accurate and reliable population parameter estimates."
   ]
  },
  {
   "cell_type": "markdown",
   "metadata": {},
   "source": [
    "#### 73. How does the width of the confidence interval change with length? "
   ]
  },
  {
   "cell_type": "markdown",
   "metadata": {},
   "source": [
    "The width of a confidence interval is inversely related to its length. In other words, as the width of a confidence interval increases, its length decreases, and vice versa. This relationship is intuitive: if you want to be more confident that the true population parameter falls within a specific range, you need to widen the interval to encompass a broader range of possible values.\n",
    "\n",
    "Here's a more detailed explanation of how the width and length of a confidence interval change:\n",
    "\n",
    "1. **Increased Confidence Level**: If you desire a higher level of confidence in your estimate, you will need to increase the width of the confidence interval. For example, a 99% confidence interval will be wider than a 95% confidence interval because it needs to capture a larger portion of the distribution.\n",
    "\n",
    "2. **Reduced Precision**: A narrower confidence interval implies higher precision in your estimate. Conversely, a wider confidence interval indicates lower precision. If you want a very precise estimate, you will choose a narrower interval.\n",
    "\n",
    "3. **Larger Sample Size**: Increasing the sample size can lead to a narrower confidence interval while maintaining the same confidence level. Larger samples provide more information, reducing the uncertainty and narrowing the interval.\n",
    "\n",
    "4. **Increased Variability**: If the data or sample has high variability, the confidence interval tends to be wider. High variability means that the data points are scattered over a wider range, requiring a broader interval to account for the uncertainty.\n",
    "\n",
    "In summary, the width and length of a confidence interval are inversely related. Adjusting the confidence level, sample size, or data variability can change the width of the interval. Wider intervals provide greater confidence but less precision, while narrower intervals offer higher precision but lower confidence in capturing the true population parameter. The choice of interval width depends on the specific goals of the analysis and the trade-off between confidence and precision."
   ]
  },
  {
   "cell_type": "markdown",
   "metadata": {},
   "source": [
    "#### 74. What is the meaning of standard error? "
   ]
  },
  {
   "cell_type": "markdown",
   "metadata": {},
   "source": [
    "The standard error (SE) is a measure of the variability or precision of a sample statistic, such as the sample mean or sample proportion, when it is used to estimate a population parameter. It provides an indication of how much the sample statistic is expected to vary from one random sample to another. In essence, the standard error quantifies the uncertainty associated with using a sample to make inferences about a population.\n",
    "\n",
    "Here are some key points about the standard error:\n",
    "\n",
    "1. **Estimation Precision:** The standard error is used to estimate how much the sample statistic (e.g., sample mean) is likely to differ from the true population parameter (e.g., population mean). A smaller standard error indicates that the sample statistic is a more precise estimate of the population parameter.\n",
    "\n",
    "2. **Sample Size:** The standard error is inversely related to the sample size. As the sample size increases, the standard error decreases. This means that larger samples tend to yield more precise estimates of population parameters.\n",
    "\n",
    "3. **Formula:** The formula for calculating the standard error depends on the specific statistic being estimated. For example, the standard error of the sample mean (often denoted as SE or SE(mean)) is typically calculated using the standard deviation of the sample divided by the square root of the sample size:\n",
    "\n",
    "   SE(mean) = σ / √(n)\n",
    "\n",
    "   Where:\n",
    "   - SE(mean) is the standard error of the sample mean.\n",
    "   - σ is the population standard deviation.\n",
    "   - n is the sample size.\n",
    "\n",
    "4. **Confidence Intervals:** Standard errors are often used in the construction of confidence intervals. A confidence interval provides a range of values within which the true population parameter is likely to fall with a certain level of confidence. The standard error is used to determine the width of the confidence interval.\n",
    "\n",
    "5. **Hypothesis Testing:** In hypothesis testing, standard errors are used to calculate test statistics (e.g., t-statistics) that help determine whether the observed differences or relationships in data are statistically significant.\n",
    "\n",
    "In summary, the standard error is a crucial concept in statistics because it helps us understand the precision of our estimates and provides a way to assess the variability associated with using sample data to make inferences about a larger population. Smaller standard errors indicate more precise estimates, while larger standard errors suggest greater uncertainty in our estimates."
   ]
  },
  {
   "cell_type": "markdown",
   "metadata": {},
   "source": [
    "#### 75. What is a Sampling Error and how can it be reduced? "
   ]
  },
  {
   "cell_type": "markdown",
   "metadata": {},
   "source": [
    "I'll provide you with a table summarizing the concept of sampling error and methods to reduce it:\n",
    "\n",
    "| Concept | Description |\n",
    "|:---------:|:-------------:|\n",
    "| Sampling Error | Sampling error is the discrepancy between sample statistics (e.g., mean, proportion) and the true population parameters due to the inherent variability in the selection of a sample. It is caused by the fact that not every member of the population is included in the sample. |\n",
    "| Increase Sample Size | **Strategy:** Increase the size of the sample. **Effect:** Larger samples tend to yield more accurate estimates and reduce the impact of sampling error. |\n",
    "| Random Sampling | **Strategy:** Ensure that the sample is selected randomly and without bias. **Effect:** Random sampling helps prevent systematic errors in the selection process, reducing sampling error. |\n",
    "| Stratified Sampling | **Strategy:** Divide the population into distinct subgroups (strata) and sample from each stratum. **Effect:** Ensures representation from all important subgroups, reducing bias. |\n",
    "| Cluster Sampling | **Strategy:** Divide the population into clusters and randomly select clusters to sample from. **Effect:** Useful for large, dispersed populations, but can introduce cluster-level sampling error. |\n",
    "| Probability Sampling | **Strategy:** Use probability-based sampling methods like simple random sampling, systematic sampling, or stratified random sampling. **Effect:** Ensures that each element in the population has a known probability of being selected. |\n",
    "| Reduce Non-Response Bias | **Strategy:** Maximize response rates to minimize non-response bias. **Effect:** Reduces the potential for bias caused by differences between respondents and non-respondents. |\n",
    "| Statistical Techniques | **Strategy:** Apply techniques like weighting, post-stratification, and imputation to adjust for potential errors. **Effect:** Corrects for discrepancies between the sample and population. |\n",
    "| Pilot Testing | **Strategy:** Conduct pilot studies or pretests to refine the sampling procedure and questionnaire. **Effect:** Identifies and addresses potential sources of bias and error before the main study. |\n",
    "| Replication | **Strategy:** Conduct multiple independent samples and compare results. **Effect:** Assesses the stability of estimates and reduces the impact of random variation. |\n",
    "| Careful Data Analysis | **Strategy:** Use appropriate statistical methods, such as confidence intervals and hypothesis tests, to account for sampling error. **Effect:** Quantifies and incorporates uncertainty into statistical analyses. |\n",
    "\n",
    "These strategies and concepts are essential in managing and minimizing sampling error when conducting surveys or studies to ensure that the results accurately represent the larger population of interest."
   ]
  },
  {
   "cell_type": "markdown",
   "metadata": {},
   "source": [
    "#### 76. How do the standard error and the margin of error relate? "
   ]
  },
  {
   "cell_type": "markdown",
   "metadata": {},
   "source": [
    "The standard error (SE) and the margin of error (MOE) are related concepts in statistics, particularly when it comes to estimating population parameters based on sample data. Here's how they relate:\n",
    "\n",
    "| Concept                | Description                                                                                                      |\n",
    "|:------------------------:|:------------------------------------------------------------------------------------------------------------------:|\n",
    "| Standard Error (SE)   | The standard error is a measure of the variability or precision of a sample statistic (e.g., mean or proportion) when it is used to estimate a population parameter. It quantifies the amount of sampling variability in the estimate. A smaller SE indicates a more precise estimate. The formula for SE depends on the statistic being estimated (e.g., SE of the mean, SE of the proportion). |\n",
    "| Margin of Error (MOE) | The margin of error is a range or interval around a sample statistic (usually a mean or proportion) that is used to estimate a population parameter with a specified level of confidence. It represents the maximum amount by which the sample statistic is expected to differ from the true population parameter. The MOE is typically expressed as ± a certain value. A smaller MOE indicates a more precise estimate. The MOE is calculated using the SE and the chosen level of confidence. It is often used in surveys and polling to quantify the uncertainty in estimates. |\n",
    "\n",
    "Here's the relationship between SE and MOE:\n",
    "\n",
    "1. **Calculation:** The margin of error (MOE) is directly related to the standard error (SE) and the level of confidence. It is typically calculated using the formula:\n",
    "\n",
    "   MOE = Critical Value * SE\n",
    "\n",
    "   Where:\n",
    "   - MOE is the margin of error.\n",
    "   - Critical Value is determined based on the chosen level of confidence (e.g., Z-score for a normal distribution or t-score for a t-distribution).\n",
    "   - SE is the standard error of the sample statistic.\n",
    "\n",
    "2. **Level of Confidence:** The margin of error includes the level of confidence you specify. For example, if you want a 95% confidence interval, the MOE will be calculated to ensure that the true population parameter is likely to fall within the interval 95% of the time based on the sampling variability (as quantified by the SE).\n",
    "\n",
    "3. **Precision:** Both the SE and the MOE provide information about the precision of your estimate. A smaller SE or MOE indicates a more precise estimate because it suggests less variability in the estimate due to random sampling.\n",
    "\n",
    "In summary, the standard error measures the variability of a sample statistic, while the margin of error quantifies the uncertainty associated with that statistic when used to estimate a population parameter with a specified level of confidence. The MOE is calculated based on the SE and the desired level of confidence and provides a range within which the true population parameter is likely to fall."
   ]
  },
  {
   "cell_type": "markdown",
   "metadata": {},
   "source": [
    "#### 77.What is hypothesis testing? "
   ]
  },
  {
   "cell_type": "markdown",
   "metadata": {},
   "source": [
    "Hypothesis testing is a statistical method used to make inferences about population parameters based on sample data. It involves setting up a null hypothesis (H0) and an alternative hypothesis (Ha) and then conducting a statistical test to determine whether there is enough evidence to reject the null hypothesis in favor of the alternative hypothesis. Hypothesis testing is a fundamental tool in statistical analysis and is used to make decisions about the characteristics of populations, the effects of treatments or interventions, and the relationships between variables.\n",
    "\n",
    "Here's a breakdown of the key components of hypothesis testing, along with an example and a table illustrating the process:\n",
    "\n",
    "**Key Components of Hypothesis Testing:**\n",
    "\n",
    "1. **Null Hypothesis (H0):** This is the default hypothesis that there is no significant effect or relationship. It represents the status quo or the absence of an effect. It is often denoted as H0.\n",
    "\n",
    "2. **Alternative Hypothesis (Ha or H1):** This is the hypothesis that contradicts the null hypothesis and represents the effect or relationship you are trying to detect or establish. It is often denoted as Ha or H1.\n",
    "\n",
    "3. **Significance Level (α):** This is the predetermined level of significance that represents the probability of making a Type I error (rejecting the null hypothesis when it is true). Common significance levels include 0.05 (5%) and 0.01 (1%).\n",
    "\n",
    "4. **Test Statistic:** A statistical test is chosen based on the type of data and the hypothesis being tested. The test statistic is calculated from the sample data.(e.g., t-test, chi-squared test, ANOVA, z-test)\n",
    "\n",
    "5. **P-value:** The p-value is the probability of obtaining a test statistic as extreme as, or more extreme than, the one calculated from the sample data, assuming that the null hypothesis is true. A small p-value indicates strong evidence against the null hypothesis.\n",
    "\n",
    "6. **Decision Rule:** Based on the p-value and the chosen significance level, you decide whether to reject the null hypothesis or fail to reject it.\n",
    "\n",
    "7. **Conclusion:** You make a conclusion based on the decision rule. If the p-value is less than or equal to the significance level, you reject the null hypothesis. If the p-value is greater than the significance level, you fail to reject the null hypothesis.\n",
    "\n",
    "**Example:**\n",
    "\n",
    "Let's say you are a manufacturer of light bulbs, and you want to test whether a new manufacturing process increases the average lifespan of your light bulbs. You set up the following hypotheses:\n",
    "\n",
    "- Null Hypothesis (H0): The new manufacturing process has no effect on the average lifespan of the light bulbs (μ = μ0).\n",
    "- Alternative Hypothesis (Ha): The new manufacturing process increases the average lifespan of the light bulbs (μ > μ0).\n",
    "\n",
    "Here, μ represents the population mean lifespan of the light bulbs, and μ0 is the known mean lifespan of light bulbs produced using the old process.\n",
    "\n",
    "**Hypothesis Testing Process (Table):**\n",
    "\n",
    "| Step                  | Description                                                         | Example (Light Bulbs)                                    |\n",
    "|-----------------------|:---------------------------------------------------------------------:|:---------------------------------------------------------:|\n",
    "| Step 1: Formulate Hypotheses | Set up the null hypothesis (H0) and the alternative hypothesis (Ha). | H0: μ = μ0 (No effect) Ha: μ > μ0 (Increase in lifespan) |\n",
    "| Step 2: Set Significance Level | Choose a significance level (α) for the test.                         | α = 0.05 (5% significance level)                        |\n",
    "| Step 3: Collect and Analyze Data | Collect a sample of light bulbs produced using the new process and calculate the sample mean and standard deviation. | Sample Mean (x̄) = 800 hours, Sample SD (s) = 40 hours |\n",
    "| Step 4: Calculate Test Statistic | Calculate the test statistic based on the sample data and chosen test (e.g., t-statistic for a t-test). | t = (x̄ - μ0) / (s / √n)                              |\n",
    "| Step 5: Calculate P-value | Calculate the probability of obtaining a t-statistic as extreme as the one calculated, assuming the null hypothesis is true. | P(t > calculated t)                                      |\n",
    "| Step 6: Make a Decision | Compare the p-value to the significance level (α) and make a decision. | If p ≤ α, reject H0; otherwise, fail to reject H0.     |\n",
    "| Step 7: Draw a Conclusion | Interpret the results and make a conclusion. | There is (or isn't) enough evidence to conclude that the new manufacturing process increases the light bulb lifespan. |\n",
    "\n",
    "In this example, if the p-value is less than or equal to 0.05 (the chosen significance level), you would reject the null hypothesis and conclude that there is enough evidence to suggest that the new manufacturing process increases the average lifespan of the light bulbs. Otherwise, you would fail to reject the null hypothesis."
   ]
  },
  {
   "cell_type": "markdown",
   "metadata": {},
   "source": [
    "#### 78.What is an alternative hypothesis? "
   ]
  },
  {
   "cell_type": "markdown",
   "metadata": {},
   "source": [
    "An alternative hypothesis, often denoted as $(H_1$) or $(H_a)$, is a fundamental concept in statistics and hypothesis testing. It represents a statement or a proposition that contradicts or opposes a null hypothesis $(H_0$). In hypothesis testing, researchers or analysts use the alternative hypothesis to make a claim or hypothesis about a population parameter, such as a population mean or proportion, and then gather evidence to either accept or reject the null hypothesis based on the available data.\n",
    "\n",
    "In simpler terms, the alternative hypothesis is a statement that suggests there is a significant effect, relationship, or difference between groups or variables being studied. It is used to test whether the data provides enough evidence to reject the null hypothesis, which typically states that there is no significant effect or relationship.\n",
    "\n",
    "Here are a couple of common examples of alternative hypotheses:\n",
    "\n",
    "1. **Example for a Mean**: If you're conducting a study to determine whether a new drug is effective in reducing blood pressure, your null hypothesis $(H_0)$ might be that the drug has no effect on blood pressure, and your alternative hypothesis $(H_1)$ would be that the drug does have a significant effect in reducing blood pressure.\n",
    "\n",
    "   - $(H_0)$: The mean reduction in blood pressure is equal to 0.\n",
    "   - $(H_1)$: The mean reduction in blood pressure is not equal to 0 (indicating that there is an effect).\n",
    "\n",
    "2. **Example for a Proportion**: Suppose you want to investigate whether the proportion of people who prefer product A over product B is different from 50%. Your null hypothesis $(H_0$) could be that 50% of people prefer product A, and your alternative hypothesis $(H_1)$ might be that more or less than 50% of people prefer product A.\n",
    "\n",
    "   - $(H_0)$: The proportion of people who prefer product A is equal to 0.50.\n",
    "   - $(H_1)$: The proportion of people who prefer product A is not equal to 0.50 (indicating a difference from 50%).\n",
    "\n",
    "In hypothesis testing, the goal is to gather data and perform statistical tests to determine whether the evidence supports the alternative hypothesis or not. If the evidence is strong enough, you would reject the null hypothesis in favor of the alternative hypothesis, suggesting that there is a significant effect or difference in the population you are studying."
   ]
  },
  {
   "cell_type": "markdown",
   "metadata": {},
   "source": [
    "#### 79.What is the difference between one-tailed and two-tail hypothesis testing? "
   ]
  },
  {
   "cell_type": "markdown",
   "metadata": {},
   "source": [
    "One-tailed and two-tailed hypothesis testing are two different approaches used in statistical hypothesis testing to examine the significance of an effect or difference between groups or variables. The key difference between them lies in the directionality of the alternative hypothesis and the way they assess significance. Here's a comparison table to illustrate the differences:\n",
    "\n",
    "| Aspect                                  | One-Tailed Hypothesis Testing | Two-Tailed Hypothesis Testing |\n",
    "|:-----------------------------------------:|:-------------------------------:|:-------------------------------:|\n",
    "| Direction of Alternative Hypothesis     | Specifies a direction (greater than or less than) for the effect or difference being tested. | Does not specify a direction; it tests for the possibility of an effect or difference in either direction. |\n",
    "| Alternative Hypotheses                  | $(H_1 > H_0)$ or $(H_1 < H_0)$  | $(H_1 \\neq H_0)$             |\n",
    "| What it tests                           | Tests whether the observed data falls in one specific tail (either above or below) of the distribution under the null hypothesis. | Tests whether the observed data falls in both tails (above and below) of the distribution under the null hypothesis. |\n",
    "| Example                                 | Testing if a new drug is **more effective** than the existing drug. | Testing if a new drug is **different from the existing drug**, but without specifying whether it's better or worse. |\n",
    "| Critical Region (Rejection Area)         | Only one tail of the distribution is considered, and significance level $(\\alpha)$ is concentrated in that tail. | Both tails of the distribution are considered, and significance level $(\\alpha)$ is divided equally between them. |\n",
    "| When to Use                             | Used when you have a specific hypothesis about the direction of the effect or difference and you are only interested in that direction. | Used when you want to detect if there is any significant effect or difference, regardless of the direction. Common in cases where you want to be thorough and avoid bias. |\n",
    "| Example Statistical Tests               | One-sample t-test (e.g., testing if the mean is greater than a specified value), one-sample proportion test (e.g., testing if the proportion is less than a specified value). | Two-sample t-test (e.g., testing if two groups have different means), chi-square test of independence (e.g., testing if two categorical variables are independent). |\n",
    "\n",
    "In summary, the choice between one-tailed and two-tailed hypothesis testing depends on your research question and the specific hypotheses you want to test. One-tailed tests are more focused on a specific direction of effect, while two-tailed tests are more conservative and examine the possibility of any significant effect, regardless of direction. The decision should be based on the context of your study and your research objectives."
   ]
  },
  {
   "cell_type": "markdown",
   "metadata": {},
   "source": [
    "#### 80.What is one sample t-test? "
   ]
  },
  {
   "cell_type": "markdown",
   "metadata": {},
   "source": [
    "A one-sample t-test is a statistical hypothesis test used to determine if there is a significant difference between the mean of a sample and a known or hypothesized population mean. It is commonly used when you have collected data from a single group or sample and want to assess whether the sample mean is statistically different from a specific value (often referred to as the \"null hypothesis\").\n",
    "\n",
    "The key components of a one-sample t-test include:\n",
    "\n",
    "1. **Null Hypothesis $(H_0)$**: This is the statement that there is no significant difference between the sample mean $\\bar{X}$ and the hypothesized population mean $(\\mu_0)$. It is typically stated as follows:\n",
    "\n",
    "   $$H_0: \\bar{X} = \\mu_0\\$$\n",
    "\n",
    "   Here, $\\mu_0)$ is the specific value you are comparing the sample mean to, and $\\bar{X}$ is the sample mean.\n",
    "\n",
    "2. **Alternative Hypothesis $(H_1) or (H_a)$**: This represents the opposite of the null hypothesis. It states that there is a significant difference between the sample mean and the hypothesized population mean. The alternative hypothesis can be one of the following, depending on the research question:\n",
    "\n",
    "   - For a two-tailed test (testing for any significant difference):\n",
    "     $$H_1: \\bar{X} \\neq \\mu_0$$\n",
    "\n",
    "   - For a one-tailed test (testing for a specific direction of difference, either greater than or less than):\n",
    "     $$H_1: \\bar{X} > \\mu_0$$ (for testing if the sample mean is greater than $\\mu_0)$\n",
    "     $$H_1: \\bar{X} < \\mu_0$$ (for testing if the sample mean is less than $\\mu_0)$\n",
    "\n",
    "3. **Test Statistic**: The t-statistic is calculated using the sample data and is used to assess how many standard errors the sample mean is away from the hypothesized population mean under the assumption of the null hypothesis. The formula for the t-statistic in a one-sample t-test is:\n",
    "\n",
    "   $$t = \\frac{\\bar{X} - \\mu_0}{\\frac{S}{\\sqrt{n}}}$$\n",
    "\n",
    "   where:\n",
    "   - $\\bar{X}$ is the sample mean.\n",
    "   - $\\mu_0$ is the hypothesized population mean.\n",
    "   - $(S)$ is the sample standard deviation.\n",
    "   - $(n)$ is the sample size.\n",
    "\n",
    "4. **Determine the Critical Region**: Based on your choice of significance level $(\\alpha)$ and the degrees of freedom $(df = n - 1)$, find the critical t-values from a t-table or use a t-distribution calculator.\n",
    "\n",
    "5. **Compare the t-Statistic**: Compare the calculated t-statistic to the critical t-values. If the calculated t-statistic falls in the critical region (i.e., it is greater than or less than the critical values), you reject the null hypothesis. Otherwise, if it falls within the non-critical region, you fail to reject the null hypothesis.\n",
    "\n",
    "6. **Draw a Conclusion**: Based on the comparison, make a statistical inference. If you reject the null hypothesis, you can conclude that there is a statistically significant difference between the sample mean and the population mean or hypothesized value. If you fail to reject the null hypothesis, you do not have sufficient evidence to claim a significant difference.\n",
    "\n",
    "A one-sample t-test is commonly used in various fields, such as biology, psychology, and quality control, to assess whether a sample mean is significantly different from a specified value or a known population mean."
   ]
  },
  {
   "cell_type": "markdown",
   "metadata": {},
   "source": [
    "A one-sample t-test is a statistical hypothesis test used to determine whether the mean of a single sample is significantly different from a known or hypothesized population mean. It is particularly useful when you have collected data from a single group or sample and want to assess whether the sample mean is statistically different from what you would expect based on a known population mean or a hypothesized value.\n",
    "\n",
    "Here are the key steps involved in conducting a one-sample t-test:\n",
    "\n",
    "1. **Formulate Hypotheses**:\n",
    "   - Null Hypothesis $(H_0)$: This represents the hypothesis that there is no significant difference between the sample mean $(\\bar{x})$ and the population mean $(\\mu)$ or a hypothesized value $(\\mu_0)$. In mathematical terms, $(H_0)$ typically states that $(\\bar{x} = \\mu_0) or (\\bar{x} = \\mu)$.\n",
    "   - Alternative Hypothesis $(H_1) or (H_a)$: This represents the opposite of the null hypothesis and suggests that there is a significant difference between the sample mean and the population mean. Depending on the research question, the alternative hypothesis can take different forms. For example:\n",
    "     - $(H_1): (\\bar{x} \\neq \\mu_0)$ (two-tailed test)\n",
    "     - $(H_1): (\\bar{x} > \\mu_0)$ (right-tailed test)\n",
    "     - $(H_1): (\\bar{x} < \\mu_0)$ (left-tailed test)\n",
    "\n",
    "2. **Collect and Summarize Data**: Collect data from your sample and calculate the sample mean $(\\bar{x})$ and sample standard deviation $(s)$.\n",
    "\n",
    "3. **Choose Significance Level (Alpha)**: Determine the significance level (often denoted as $(\\alpha)$, which represents the probability of making a Type I error (rejecting the null hypothesis when it is true). Common values for $(\\alpha)$ are 0.05 or 0.01, but it can be adjusted based on the specific needs of the analysis.\n",
    "\n",
    "4. **Calculate the t-Statistic**: Compute the t-statistic using the following formula:\n",
    "   \n",
    "   $$t = \\frac{(\\bar{x} - \\mu_0)}{\\left(\\frac{s}{\\sqrt{n}}\\right)}$$\n",
    "\n",
    "   Where:\n",
    "   - $\\bar{x}$ is the sample mean.\n",
    "   - $(\\mu_0)$ is the population mean or hypothesized value.\n",
    "   - $(s)$ is the sample standard deviation.\n",
    "   - $(n)$ is the sample size.\n",
    "\n",
    "5. **Determine the Critical Region**: Based on your choice of significance level $(\\alpha)$ and the degrees of freedom $(df = n - 1)$, find the critical t-values from a t-table or use a t-distribution calculator.\n",
    "\n",
    "6. **Compare the t-Statistic**: Compare the calculated t-statistic to the critical t-values. If the calculated t-statistic falls in the critical region (i.e., it is greater than or less than the critical values), you reject the null hypothesis. Otherwise, if it falls within the non-critical region, you fail to reject the null hypothesis.\n",
    "\n",
    "7. **Draw a Conclusion**: Based on the comparison, make a statistical inference. If you reject the null hypothesis, you can conclude that there is a statistically significant difference between the sample mean and the population mean or hypothesized value. If you fail to reject the null hypothesis, you do not have sufficient evidence to claim a significant difference.\n",
    "\n",
    "A one-sample t-test is commonly used in various fields, such as biology, psychology, and quality control, to assess whether a sample mean is significantly different from a specified value or a known population mean."
   ]
  },
  {
   "cell_type": "markdown",
   "metadata": {},
   "source": [
    "#### 81.What is the meaning of degrees of freedom (DF) in statistics? "
   ]
  },
  {
   "cell_type": "markdown",
   "metadata": {},
   "source": [
    "In statistics, degrees of freedom (DF) refer to the number of values in the final calculation of a statistic that are free to vary. It is a concept that arises in various statistical tests and calculations and has different interpretations depending on the context. Degrees of freedom play a crucial role in determining the distribution of test statistics and making inferences about population parameters.\n",
    "\n",
    "Here are some common contexts in which degrees of freedom are used:\n",
    "\n",
    "1. **t-Distribution**: In the context of the t-distribution, degrees of freedom are associated with t-tests. For a one-sample t-test or a two-sample t-test, degrees of freedom are determined by the sample sizes of the groups involved. Specifically, the degrees of freedom for these tests are calculated as follows:\n",
    "   - One-sample t-test: DF = $(n - 1)$ (where $n$ is the sample size).\n",
    "   - Two-sample t-test (assuming equal variances): DF = $(n_1 + n_2 - 2)$ (where $(n_1)$ and $(n_2)$ are the sample sizes of the two groups).\n",
    "\n",
    "2. **Chi-Square Distribution**: In the context of chi-square tests, degrees of freedom represent the number of categories or groups minus one. For example:\n",
    "   - In a chi-square goodness-of-fit test, DF = $(k - 1)$, where $k$ is the number of categories.\n",
    "   - In a chi-square test of independence for a contingency table, DF = $(r - 1) \\times (c - 1)$, where $r$ is the number of rows and $c$ is the number of columns in the table.\n",
    "\n",
    "3. **ANOVA (Analysis of Variance)**: Degrees of freedom in ANOVA are associated with the number of groups and the number of observations within each group. There are two types of degrees of freedom in ANOVA:\n",
    "   - Between-groups degrees of freedom (DFB): Represented as DFB = $(k - 1)$, where $k$ is the number of groups.\n",
    "   - Within-groups degrees of freedom (DFW): Represented as DFW = $(N - k)$, where $N$ is the total number of observations.\n",
    "\n",
    "4. **Regression Analysis**: In linear regression, degrees of freedom are related to the number of predictor variables and the sample size. Specifically, degrees of freedom for a regression analysis can be calculated as DFR = $k$ (number of predictor variables) and DFE = $(n - k - 1)$ (error or residual degrees of freedom), where $n$ is the sample size.\n",
    "\n",
    "The concept of degrees of freedom is important because it affects the shape and characteristics of probability distributions (such as t-distributions and chi-square distributions) used in statistical hypothesis testing. Understanding degrees of freedom allows statisticians to determine critical values, conduct hypothesis tests, and make valid inferences about population parameters based on sample data."
   ]
  },
  {
   "cell_type": "markdown",
   "metadata": {},
   "source": [
    "#### 82.What is the p-value in hypothesis testing?"
   ]
  },
  {
   "cell_type": "markdown",
   "metadata": {},
   "source": [
    "In hypothesis testing, the p-value (probability value) is a crucial statistic that helps assess the strength of evidence against the null hypothesis (\\(H_0\\)). It quantifies the probability of obtaining a test statistic as extreme as, or more extreme than, the one calculated from the sample data, assuming that the null hypothesis is true. In simpler terms, the p-value tells you how likely you would see the observed results if there were no real effect or difference in the population.\n",
    "\n",
    "Here's how the concept of p-value works in hypothesis testing:\n",
    "\n",
    "1. **Formulate Hypotheses**: In hypothesis testing, you start with two hypotheses:\n",
    "   - Null Hypothesis $(H_0)$: This hypothesis represents the default or status quo assumption. It usually states that there is no significant effect, difference, or relationship in the population.\n",
    "   - Alternative Hypothesis $(H_1)$ or $(H_a)$: This hypothesis represents what you want to test or discover. It suggests that there is a significant effect, difference, or relationship in the population.\n",
    "\n",
    "2. **Collect Data and Calculate Test Statistic**: You collect data from a sample and calculate a test statistic (e.g., t-statistic, z-statistic, chi-square statistic) based on the sample data and the null hypothesis.\n",
    "\n",
    "3. **Determine the p-value**: The p-value is calculated by finding the probability of observing a test statistic as extreme as, or more extreme than, the one calculated from the sample data, assuming that the null hypothesis is true. The calculation depends on the specific statistical test being used.\n",
    "\n",
    "4. **Compare the p-value to the Significance Level (Alpha)**: You choose a significance level (often denoted as $\\alpha$) before conducting the test. Common values for $\\alpha$ are 0.05 or 0.01, representing the probability of making a Type I error (incorrectly rejecting the null hypothesis when it is true). If the p-value is less than or equal to $\\alpha$, you reject the null hypothesis. If the p-value is greater than $\\alpha$, you fail to reject the null hypothesis.\n",
    "\n",
    "   - Small p-value $(p \\leq \\alpha)$: Indicates strong evidence against the null hypothesis, suggesting that the observed results are unlikely to occur by chance alone.\n",
    "   - Large p-value $(p > \\alpha)$: Suggests weak evidence against the null hypothesis, indicating that the observed results could plausibly occur by chance.\n",
    "\n",
    "5. **Draw a Conclusion**: Based on the comparison of the p-value and the chosen significance level, you make a statistical inference. If you reject the null hypothesis, you conclude that there is significant evidence to support the alternative hypothesis. If you fail to reject the null hypothesis, you do not have sufficient evidence to claim a significant effect or difference.\n",
    "\n",
    "In summary, the p-value is a critical component of hypothesis testing because it helps you make decisions about whether to accept or reject the null hypothesis. A smaller p-value indicates stronger evidence against the null hypothesis, while a larger p-value suggests weaker evidence. The choice of significance level ($\\alpha$) determines the threshold for what is considered statistically significant in a given test."
   ]
  },
  {
   "cell_type": "markdown",
   "metadata": {},
   "source": [
    "#### 83.How can you calculate the p-value?"
   ]
  },
  {
   "cell_type": "markdown",
   "metadata": {},
   "source": [
    "The calculation of a p-value depends on the specific statistical test being used and the distribution of the test statistic under the null hypothesis. Different tests have different formulas for computing p-values. I'll provide examples of how to calculate p-values for common statistical tests:\n",
    "\n",
    "1. **One-Sample t-Test**:\n",
    "   - The formula to calculate the t-statistic in a one-sample t-test is:\n",
    "     $$t = \\frac{(\\bar{x} - \\mu_0)}{\\left(\\frac{s}{\\sqrt{n}}\\right)}$$\n",
    "     Where:\n",
    "     - $\\bar{x}$ is the sample mean.\n",
    "     - $(\\mu_0)$ is the hypothesized population mean (from the null hypothesis).\n",
    "     - $(s)$ is the sample standard deviation.\n",
    "     - $(n)$ is the sample size.\n",
    "   - Once you have the t-statistic, you can use a t-distribution table or software to find the corresponding p-value based on the degrees of freedom (DF) and the direction of the test (two-tailed, left-tailed, or right-tailed).\n",
    "\n",
    "2. **Chi-Square Test**:\n",
    "   - In a chi-square test, the p-value is calculated based on the chi-square statistic and the degrees of freedom.\n",
    "   - The formula for the chi-square statistic depends on the specific chi-square test being performed (e.g., goodness-of-fit, test of independence). After calculating the chi-square statistic, you can use a chi-square distribution table or software to find the corresponding p-value.\n",
    "\n",
    "3. **Z-Test**:\n",
    "   - In a z-test, the p-value is calculated using the standard normal distribution (z-distribution).\n",
    "   - The formula to calculate the z-statistic is:\n",
    "     $$z = \\frac{(\\bar{x} - \\mu_0)}{\\left(\\frac{\\sigma}{\\sqrt{n}}\\right)}$$\n",
    "     Where:\n",
    "     - $(\\bar{x})$ is the sample mean.\n",
    "     - $(\\mu_0)$ is the hypothesized population mean (from the null hypothesis).\n",
    "     - $(\\sigma)$ is the population standard deviation (if known).\n",
    "     - $(n)$ is the sample size.\n",
    "   - After calculating the z-statistic, you can use the standard normal distribution table or software to find the corresponding p-value.\n",
    "\n",
    "4. **ANOVA (Analysis of Variance)**:\n",
    "   - In ANOVA, the p-value is associated with the F-statistic.\n",
    "   - The formula for calculating the F-statistic depends on the type of ANOVA being performed (e.g., one-way ANOVA, two-way ANOVA). After calculating the F-statistic, you can use an F-distribution table or software to find the corresponding p-value.\n",
    "\n",
    "5. **Regression Analysis**:\n",
    "   - In linear regression, the p-value is associated with individual coefficients (predictor variables) in the model. Each predictor variable has its own t-statistic and corresponding p-value.\n",
    "   - The formula for the t-statistic for a coefficient in a linear regression model is:\n",
    "     $$t = \\frac{\\text{Coefficient}}{\\text{Standard Error of Coefficient}}$$\n",
    "   - The p-value for each coefficient can be found using the t-distribution.\n",
    "\n",
    "It's important to note that many statistical software packages (e.g., R, Python with libraries like SciPy and statsmodels, spreadsheet software) can automatically calculate p-values for you when you conduct statistical tests. These software tools simplify the process and eliminate the need for manual calculations in most cases."
   ]
  },
  {
   "cell_type": "markdown",
   "metadata": {},
   "source": [
    "#### 84.If there is a 30 percent probability that you will see a supercar in any 20-minute time interval, what is the proba­bility that you see at least one supercar in the period of an hour (60 minutes)?\n",
    " "
   ]
  },
  {
   "cell_type": "markdown",
   "metadata": {},
   "source": [
    "To find the probability of seeing at least one supercar in the period of an hour (60 minutes), given that there is a 30 percent probability of seeing a supercar in any 20-minute time interval, you can use the complement rule and probability of no supercar.\n",
    "\n",
    "Let $P(\\text{Supercar})$ be the probability of seeing a supercar in a 20-minute interval, which is 0.30 (30 percent).\n",
    "\n",
    "To find the probability of not seeing a supercar in a 20-minute interval, you can subtract the probability of seeing one from 1:\n",
    "\n",
    "$P(\\text{No Supercar}) = 1 - P(\\text{Supercar}) = 1 - 0.30 = 0.70$.\n",
    "\n",
    "Now, to find the probability of not seeing a supercar in four consecutive 20-minute intervals (which is equivalent to an hour), you multiply the probabilities together since the events are independent:\n",
    "\n",
    "$P(\\text{No Supercar in 4 Intervals}) = P(\\text{No Supercar})^4 = (0.70)^4 \\approx 0.2401$.\n",
    "\n",
    "Finally, to find the probability of seeing at least one supercar in the hour, you use the complement rule again:\n",
    "\n",
    "$P(\\text{At least one Supercar in 1 Hour}) = 1 - P(\\text{No Supercar in 4 Intervals}) = 1 - 0.2401 \\approx 0.7599$.\n",
    "\n",
    "So, the probability of seeing at least one supercar in the period of an hour is approximately 0.7599, or 75.99%."
   ]
  },
  {
   "cell_type": "markdown",
   "metadata": {},
   "source": [
    "#### 85.How would you describe a ‘p-value’? "
   ]
  },
  {
   "cell_type": "markdown",
   "metadata": {},
   "source": [
    "A \"p-value,\" short for \"probability value,\" is a statistical measure that quantifies the strength of evidence against a null hypothesis in hypothesis testing. It serves as a crucial tool in determining whether the results of a statistical test are statistically significant or not. Here's a description of a p-value:\n",
    "\n",
    "1. **Definition**: A p-value is a probability that represents the likelihood of obtaining a test statistic as extreme as, or more extreme than, the one observed in your sample, assuming that the null hypothesis is true.\n",
    "\n",
    "2. **Purpose**: The primary purpose of a p-value is to help researchers and analysts make informed decisions about whether to accept or reject the null hypothesis in hypothesis testing. It provides a way to assess the evidence in the data and determine whether the observed effect or relationship is likely to be due to random chance or if it is statistically significant.\n",
    "\n",
    "3. **Interpretation**:\n",
    "   - **Small p-value**: If the calculated p-value is small (typically less than the chosen significance level, denoted as $(\\alpha)$), it suggests that the observed data is unlikely to have occurred by random chance alone. In this case, you would reject the null hypothesis and conclude that there is strong evidence in favor of the alternative hypothesis.\n",
    "   - **Large p-value**: If the calculated p-value is large (greater than $(\\alpha)$), it suggests that the observed data is consistent with what you would expect if the null hypothesis were true. In this case, you would fail to reject the null hypothesis, indicating that there is insufficient evidence to support the alternative hypothesis.\n",
    "\n",
    "4. **Significance Level $(\\alpha)$**: The choice of the significance level $(\\alpha)$ is essential in interpreting p-values. Common values for $(\\alpha)$ are 0.05 (5%) and 0.01 (1%), but it can be adjusted based on the specific needs of the analysis. The significance level represents the threshold beyond which you consider p-values as statistically significant.\n",
    "\n",
    "5. **Strength of Evidence**: A smaller p-value implies stronger evidence against the null hypothesis. It suggests that the observed data is unlikely to have occurred by random chance and is more likely to reflect a true effect or relationship. Conversely, a larger p-value suggests weaker evidence against the null hypothesis and indicates that the observed data may be consistent with random variation.\n",
    "\n",
    "6. **Not a Measure of Effect Size**: It's important to note that a p-value does not provide information about the magnitude of the effect or the practical significance of the result. It only indicates whether an effect is statistically significant or not. Effect size measures are used to quantify the practical importance or size of an effect.\n",
    "\n",
    "In summary, a p-value is a critical statistical tool that helps researchers assess the strength of evidence in their data, enabling them to make informed decisions in hypothesis testing. It provides a way to gauge whether observed results are likely due to random chance or whether they represent genuine findings."
   ]
  },
  {
   "cell_type": "markdown",
   "metadata": {},
   "source": [
    "#### 86.What is the difference between type I vs type II errors? "
   ]
  },
  {
   "cell_type": "markdown",
   "metadata": {},
   "source": [
    "Type I and Type II errors are two concepts in statistical hypothesis testing that represent different kinds of mistakes or errors that can occur when making decisions based on statistical tests. These errors are inversely related, meaning that as you reduce the risk of one type of error, you increase the risk of the other. Here's a comparison between Type I and Type II errors:\n",
    "\n",
    "| Error Type         | Type I Error                                | Type II Error                               |\n",
    "|:--------------------:|:--------------------------------------------:|:---------------------------------------------:|\n",
    "| Also Known As      | False Positive                              | False Negative                              |\n",
    "| Symbol             | $(\\alpha)$ (alpha)                         | $(\\beta)$ (beta)                           |\n",
    "| Definition         | Occurs when you reject a true null hypothesis. | Occurs when you fail to reject a false null hypothesis. |\n",
    "| Nature            | Making a statement that something is true when it is not. | Making a statement that something is not true when it is. |\n",
    "| Consequence       | Can lead to unwarranted conclusions or actions. | May result in missing real effects or relationships. |\n",
    "| Control           | Controlled by setting the significance level $(\\alpha)$. | Controlled by increasing sample size or using more sensitive tests. |\n",
    "| Trade-off         | Reducing Type I error increases Type II error and vice versa. | Balancing between Type I and Type II errors depends on the specific goals and risks associated with the test. |\n",
    "| Example           | A medical test incorrectly diagnosing a healthy person as having a disease. | A medical test failing to detect a disease in a person who actually has it. |\n",
    "| Significance Level | The probability of Type I error (usually set at 0.05 or 0.01). | The probability of Type II error $(\\beta)$ is typically not preset; it depends on the specific test and sample size. |\n",
    "\n",
    "In summary:\n",
    "\n",
    "- **Type I Error** (False Positive): Occurs when you incorrectly reject a null hypothesis that is actually true. This error is related to making a statement that something is true when it is not. It is controlled by the significance level $(\\alpha)$ you choose for your test.\n",
    "\n",
    "- **Type II Error** (False Negative): Occurs when you fail to reject a null hypothesis that is actually false. This error is related to making a statement that something is not true when it is. The probability of Type II error \\$(\\beta)$ is not typically set in advance and depends on factors like the sample size and test sensitivity.\n",
    "\n",
    "Balancing Type I and Type II errors is an important consideration in hypothesis testing, and the choice of significance level and sample size plays a crucial role in achieving this balance. The acceptable trade-off between these two types of errors depends on the specific context and consequences of the decision being made."
   ]
  },
  {
   "cell_type": "markdown",
   "metadata": {},
   "source": [
    "#### 87.When should you use a t-test vs a z-test?"
   ]
  },
  {
   "cell_type": "markdown",
   "metadata": {},
   "source": [
    "Deciding whether to use a t-test or a z-test depends on various factors, including the characteristics of your data and the assumptions you can make about the population being studied. Here's a comparison between when to use a t-test and when to use a z-test:\n",
    "\n",
    "| Criteria                                | T-Test                                      | Z-Test                                      |\n",
    "|:-----------------------------------------:|:---------------------------------------------:|:---------------------------------------------:|\n",
    "| Sample Size                             | Typically used for small to moderate sample sizes (typically $(n < 30))$. | Typically used for large sample sizes $(n \\geq 30)$ where the sample size is sufficiently large. |\n",
    "| Population Standard Deviation Known     | Does not assume that the population standard deviation $(\\sigma)$ is known. | Assumes that the population standard deviation $(\\sigma)$ is known. |\n",
    "| Sample Standard Deviation               | Uses the sample standard deviation $(s)$ to estimate population variability. | Does not use the sample standard deviation; instead, it relies on $(\\sigma)$. |\n",
    "| Variance Homogeneity                   | More robust when the assumption of equal population variances is violated (can use pooled variance in case of unequal variances). | Assumes that population variances are equal (homoscedasticity) unless the sample sizes are very unequal. |\n",
    "| Type of Data                            | Suitable for analyzing both normally distributed data and non-normally distributed data when sample sizes are small to moderate. | Generally suitable for normally distributed data and large samples. May not perform well for non-normally distributed data. |\n",
    "| Hypothesis Testing Types                | Used for testing hypotheses related to sample means, such as one-sample t-test, two-sample t-test (equal or unequal variances), and paired t-test. | Commonly used for hypothesis testing involving the population mean, especially in quality control or when $(\\sigma)$ is known. |\n",
    "| Degrees of Freedom                      | Involves degrees of freedom $(n - 1)$ to account for variability in small samples. | Does not involve degrees of freedom in the same way; it is used with known population parameters. |\n",
    "| Critical Values                         | Critical values are determined based on the t-distribution, which has heavier tails compared to the standard normal (z) distribution. | Critical values are determined from the standard normal (z) distribution. |\n",
    "| Example                                 | You might use a t-test to compare the means of two small samples (e.g., comparing the test scores of two groups of students, each with fewer than 30 students). | You might use a z-test to analyze the average height of a large population (e.g., the heights of all adults in a city) when the population standard deviation is known. |\n",
    "\n",
    "In summary:\n",
    "\n",
    "- Use a **t-test** when you have a small to moderate sample size, when the population standard deviation is unknown (and you estimate it from the sample), or when you want to test hypotheses related to sample means.\n",
    "\n",
    "- Use a **z-test** when you have a large sample size, when the population standard deviation is known, and when you want to test hypotheses involving the population mean."
   ]
  },
  {
   "cell_type": "markdown",
   "metadata": {},
   "source": [
    "#### 88.What is the difference between the f test and anova test? "
   ]
  },
  {
   "cell_type": "markdown",
   "metadata": {},
   "source": [
    "Here's a table summarizing the key differences between the F-test and ANOVA (Analysis of Variance) test:\n",
    "\n",
    "| Aspect                            | F-Test                                       | ANOVA (Analysis of Variance)              |\n",
    "|:-----------------------------------:|:----------------------------------------------:|:------------------------------------------:|\n",
    "| Purpose                           | Compares the variances of two or more groups or samples. | Compares the means of three or more groups or treatments. |\n",
    "| Number of Groups                  | Typically used for comparing variances between two groups (two-sample F-test) or more than two groups (e.g., Levene's test). | Used for comparing means across three or more groups or treatments. |\n",
    "| Type of Data                      | Focuses on the variability within and between groups. | Focuses on the central tendencies (means) of the groups. |\n",
    "| Statistical Test                  | Compares the ratio of variances (between-group variance to within-group variance) using an F-statistic. | Compares the ratio of means (between-group mean square to within-group mean square) using an F-statistic. |\n",
    "| Hypotheses                        | Null Hypothesis $(H_0)$: The variances of the groups are equal. Alternative Hypothesis $(H_1)$: The variances of the groups are not equal. | Null Hypothesis $(H_0)$: The means of all groups are equal (no significant differences). Alternative Hypothesis $(H_1)$: At least one group mean is different from the others. |\n",
    "| Degrees of Freedom                | Two degrees of freedom associated with the F-distribution: one for the numerator (between-group variance) and one for the denominator (within-group variance). | Involves between-group degrees of freedom (DFB) and within-group degrees of freedom (DFW). DFB represents the number of groups minus one, while DFW represents the total sample size minus the number of groups. |\n",
    "| Common Tests                      | Two-sample F-test (comparison of variances between two groups). Levene's test (comparison of variances between more than two groups). | One-way ANOVA (comparison of means across three or more groups). Two-way ANOVA, repeated measures ANOVA, and more complex ANOVA designs (for various experimental setups). |\n",
    "| Post Hoc Tests                    | Typically not used with F-tests. | Post hoc tests (e.g., Tukey's test, Bonferroni correction) are often applied after ANOVA to identify which groups have significantly different means. |\n",
    "| Application                       | Used when assessing assumptions, such as the homogeneity of variances assumption before conducting further tests (e.g., t-tests). | Used when comparing the effects of multiple factors or treatments on a dependent variable. Allows for the detection of significant differences between groups. |\n",
    "| Example                           | Checking whether the variances of test scores in two different schools are significantly different. | Comparing the average test scores of students in three different teaching methods to determine if any method is significantly better. |\n",
    "\n",
    "In summary, the F-test and ANOVA serve different purposes in statistical analysis. The F-test is primarily used for comparing variances, while ANOVA is employed to compare means across multiple groups or treatments. ANOVA is a more generalized and powerful technique suited for complex experimental designs, whereas the F-test is often used for assessing assumptions or comparing variances between two or more groups."
   ]
  },
  {
   "cell_type": "markdown",
   "metadata": {},
   "source": [
    "#### 89.What is Resampling and what are the common methods of resampling? "
   ]
  },
  {
   "cell_type": "markdown",
   "metadata": {},
   "source": [
    "Certainly, here's a table summarizing the concept of resampling and common methods of resampling:\n",
    "\n",
    "| Aspect               | Resampling                                                 | Common Methods of Resampling                                |\n",
    "|:----------------------:|:-----------------------------------------------------------:|:--------------------------------------------------------------:|\n",
    "| Definition           | A statistical technique involving drawing repeated samples from a dataset, often for the purpose of estimating statistics, assessing model performance, or validating results. | 1. Bootstrap Resampling 2. Cross-Validation 3. Jackknife Resampling 4. Permutation Testing (Randomization Testing) 5. Bootstrapped Confidence Intervals 6. Monte Carlo Simulation |\n",
    "| Main Purpose         | To estimate statistics, assess the variability of results, validate models, or perform hypothesis testing. |                                                              |\n",
    "| Key Idea             | Create multiple datasets (resamples) by drawing from the original dataset, often with replacement. Analyze these resamples to gain insights. |                                                              |\n",
    "| Common Applications  | - Estimating sampling distributions - Model validation - Confidence interval estimation - Assessing model performance - Hypothesis testing - Bias and variance estimation | - Estimating means, medians, variances - Machine learning model assessment - Assessing model generalization - Detecting outliers - Non-parametric hypothesis testing - Uncertainty estimation in statistics - Solving complex problems through simulations |\n",
    "| Common Methods       | 1. Bootstrap Resampling: Generating bootstrap samples by random sampling with replacement. 2. Cross-Validation: Dividing data into subsets for training and testing. Common types include k-fold cross-validation and leave-one-out cross-validation. 3. Jackknife Resampling: Leaving out one observation at a time and analyzing the impact. 4. Permutation Testing: Randomly permuting data to perform hypothesis tests. 5. Bootstrapped Confidence Intervals: Estimating confidence intervals by bootstrapping. 6. Monte Carlo Simulation: Using random sampling for solving complex problems through simulations. |                                                              |\n",
    "\n",
    "In summary, resampling is a versatile statistical technique that involves drawing repeated samples from data to perform various types of analyses. Common resampling methods include bootstrap resampling, cross-validation, jackknife resampling, permutation testing, bootstrapped confidence intervals, and Monte Carlo simulation, each serving specific purposes in statistics, machine learning, and other fields."
   ]
  },
  {
   "cell_type": "markdown",
   "metadata": {},
   "source": [
    "#### 90. What is the proportion of confidence intervals that will not contain the population parameter? "
   ]
  },
  {
   "cell_type": "markdown",
   "metadata": {},
   "source": [
    "The proportion of confidence intervals that will not contain the population parameter depends on the confidence level associated with the intervals. The confidence level is typically expressed as a percentage and represents the long-term success rate of the confidence intervals in capturing the true population parameter. \n",
    "\n",
    "For instance, if you have a 95% confidence level, it means that in the long run, you would expect 95% of the confidence intervals constructed using this method to contain the true population parameter, and 5% of them would not.\n",
    "\n",
    "In general:\n",
    "\n",
    "- At a 90% confidence level, approximately 10% of intervals will not contain the population parameter.\n",
    "- At a 95% confidence level, approximately 5% of intervals will not contain the population parameter.\n",
    "- At a 99% confidence level, approximately 1% of intervals will not contain the population parameter.\n",
    "\n",
    "These proportions are based on the properties of the specific confidence interval construction method you're using, such as the t-distribution for a t-confidence interval or the standard normal distribution (z-distribution) for a z-confidence interval. The goal of using higher confidence levels, like 95% or 99%, is to have a higher degree of confidence that the interval contains the true parameter, but this comes at the cost of wider intervals and a greater chance of not capturing the parameter in a given interval."
   ]
  },
  {
   "cell_type": "markdown",
   "metadata": {},
   "source": [
    "#### 91.What is a confounding variable? "
   ]
  },
  {
   "cell_type": "markdown",
   "metadata": {},
   "source": [
    "A confounding variable, also known as a confounder, is a third variable in a research study that is related to both the independent variable and the dependent variable, making it appear as though there is a cause-and-effect relationship between the independent variable and the dependent variable when, in fact, there may not be. Confounding variables can introduce bias and lead to incorrect conclusions about the true nature of the relationship being studied.\n",
    "\n",
    "Here's an example to illustrate the concept of a confounding variable:\n",
    "\n",
    "**Example: The Relationship Between Ice Cream Sales and Drowning Incidents**\n",
    "\n",
    "Suppose a researcher is interested in studying the relationship between ice cream sales and the number of drowning incidents that occur at a local beach during the summer months. The hypothesis is that there is a positive relationship: as ice cream sales increase, so do the number of drowning incidents.\n",
    "\n",
    "Now, let's introduce a potential confounding variable:\n",
    "\n",
    "**Confounding Variable**: Temperature\n",
    "\n",
    "In this example, temperature is a confounding variable because it is related to both ice cream sales and the number of drowning incidents:\n",
    "\n",
    "- **Ice Cream Sales**: Ice cream sales tend to increase during hot summer months when temperatures are high because people are more likely to buy ice cream to cool off.\n",
    "\n",
    "- **Drowning Incidents**: The number of drowning incidents also tends to increase during hot summer months when temperatures are high because more people visit the beach to swim.\n",
    "\n",
    "Without accounting for temperature as a confounding variable, the researcher might mistakenly conclude that there is a direct causal relationship between ice cream sales and drowning incidents. They might wrongly believe that selling more ice cream leads to more drownings or vice versa.\n",
    "\n",
    "However, the true relationship, when temperature is considered, is that both ice cream sales and drowning incidents are influenced by the common factor of high temperatures. Hot weather leads to both more ice cream sales and more people at the beach, which in turn leads to more drowning incidents.\n",
    "\n",
    "In this case, temperature is a confounding variable that, if not controlled for or accounted for in the analysis, could lead to a spurious or incorrect conclusion about the relationship between ice cream sales and drowning incidents.\n",
    "\n",
    "To properly address the confounding variable of temperature, a researcher might use statistical techniques like regression analysis to control for its effects, ensuring that any relationship between ice cream sales and drowning incidents is examined while holding temperature constant. This allows for a more accurate assessment of whether there is a direct causal relationship between ice cream sales and drowning incidents or if temperature is the true driving factor."
   ]
  },
  {
   "cell_type": "markdown",
   "metadata": {},
   "source": [
    "#### 92.What are the steps we should take in hypothesis testing? "
   ]
  },
  {
   "cell_type": "markdown",
   "metadata": {},
   "source": [
    "Hypothesis testing is a systematic process used in statistics to make inferences about population parameters based on sample data. Here are the key steps involved in hypothesis testing, presented in a table:\n",
    "\n",
    "| Step                     | Description                                                |\n",
    "|--------------------------|:------------------------------------------------------------:|\n",
    "| **Step 1: Formulate Hypotheses** | Define the null hypothesis $(H_0)$ and the alternative hypothesis $(H_1)$ or $(H_a)$. The null hypothesis typically represents the status quo or no effect, while the alternative hypothesis represents the effect or relationship you want to test. |\n",
    "|**Step 2: Choose a Significance Level** $(\\alpha)$ |Select a significance level, denoted as $(\\alpha)$, which represents the probability of making a Type I error (incorrectly rejecting a true null hypothesis). Common choices are 0.05 (5%) or 0.01 (1%). |\n",
    "| **Step 3: Collect and Analyze Data** | Gather data through observations or experiments. Perform appropriate statistical tests or calculations based on the research question and data type (e.g., t-test, chi-square test, ANOVA, regression analysis). |\n",
    "| **Step 4: Calculate Test Statistic** | Calculate the test statistic relevant to your hypothesis test. The test statistic measures the discrepancy between the sample data and the null hypothesis. |\n",
    "| **Step 5: Determine the Critical Region** | Determine the critical region (rejection region) based on the significance level $(\\alpha)$ and the chosen statistical test. Critical values are used to define the boundary beyond which you will reject the null hypothesis. |\n",
    "| **Step 6: Compare Test Statistic and Critical Value** | Compare the calculated test statistic with the critical value(s) associated with the chosen significance level. If the test statistic falls in the critical region (i.e., it is more extreme than the critical value), you reject the null hypothesis. If not, you fail to reject the null hypothesis. |\n",
    "| **Step 7: Calculate P-Value (Optional)** | If your statistical test produces a p-value, you can use it as an alternative to critical values. The p-value represents the probability of obtaining a test statistic as extreme or more extreme than the observed value, assuming the null hypothesis is true. If the p-value is less than or equal to $(\\alpha)$, you reject the null hypothesis. |\n",
    "| **Step 8: Draw a Conclusion** | Based on the comparison in Step 6 or the p-value in Step 7, make a decision: - If the test statistic falls in the critical region or the p-value is less than $(\\alpha)$, reject the null hypothesis. - If the test statistic does not fall in the critical region or the p-value is greater than $(\\alpha)$, fail to reject the null hypothesis. |\n",
    "| **Step 9: Interpret the Results** | Interpret the statistical results in the context of the research question. Consider the practical significance of the findings, not just statistical significance. |\n",
    "| **Step 10: Report Findings** | Clearly report the results of the hypothesis test, including the decision to reject or fail to reject the null hypothesis, the test statistic or p-value, and any relevant effect size measures or confidence intervals. |\n",
    "\n",
    "These steps provide a structured approach to hypothesis testing, helping researchers make informed decisions and draw meaningful conclusions based on empirical evidence and statistical analysis."
   ]
  },
  {
   "cell_type": "markdown",
   "metadata": {},
   "source": [
    "#### 93. What is the relationship between standard error and the margin of error? "
   ]
  },
  {
   "cell_type": "markdown",
   "metadata": {},
   "source": [
    "The standard error (SE) and the margin of error (MOE) are related concepts in statistics, particularly when it comes to estimating population parameters based on sample data. Here's how they relate:\n",
    "\n",
    "| Concept                | Description                                                                                                      |\n",
    "|:------------------------:|:------------------------------------------------------------------------------------------------------------------:|\n",
    "| Standard Error (SE)   | The standard error is a measure of the variability or precision of a sample statistic (e.g., mean or proportion) when it is used to estimate a population parameter. It quantifies the amount of sampling variability in the estimate. A smaller SE indicates a more precise estimate. The formula for SE depends on the statistic being estimated (e.g., SE of the mean, SE of the proportion). |\n",
    "| Margin of Error (MOE) | The margin of error is a range or interval around a sample statistic (usually a mean or proportion) that is used to estimate a population parameter with a specified level of confidence. It represents the maximum amount by which the sample statistic is expected to differ from the true population parameter. The MOE is typically expressed as ± a certain value. A smaller MOE indicates a more precise estimate. The MOE is calculated using the SE and the chosen level of confidence. It is often used in surveys and polling to quantify the uncertainty in estimates. |\n",
    "\n",
    "Here's the relationship between SE and MOE:\n",
    "\n",
    "1. **Calculation:** The margin of error (MOE) is directly related to the standard error (SE) and the level of confidence. It is typically calculated using the formula:\n",
    "\n",
    "   MOE = Critical Value * SE\n",
    "\n",
    "   Where:\n",
    "   - MOE is the margin of error.\n",
    "   - Critical Value is determined based on the chosen level of confidence (e.g., Z-score for a normal distribution or t-score for a t-distribution).\n",
    "   - SE is the standard error of the sample statistic.\n",
    "\n",
    "2. **Level of Confidence:** The margin of error includes the level of confidence you specify. For example, if you want a 95% confidence interval, the MOE will be calculated to ensure that the true population parameter is likely to fall within the interval 95% of the time based on the sampling variability (as quantified by the SE).\n",
    "\n",
    "3. **Precision:** Both the SE and the MOE provide information about the precision of your estimate. A smaller SE or MOE indicates a more precise estimate because it suggests less variability in the estimate due to random sampling.\n",
    "\n",
    "In summary, the standard error measures the variability of a sample statistic, while the margin of error quantifies the uncertainty associated with that statistic when used to estimate a population parameter with a specified level of confidence. The MOE is calculated based on the SE and the desired level of confidence and provides a range within which the true population parameter is likely to fall."
   ]
  },
  {
   "cell_type": "markdown",
   "metadata": {},
   "source": [
    "#### 94. How would you describe what a ‘p-value’ is to a non-technical person or in a layman term? "
   ]
  },
  {
   "cell_type": "markdown",
   "metadata": {},
   "source": [
    "Certainly! To describe a \"p-value\" to a non-technical person in layman's terms:\n",
    "\n",
    "Imagine you're in a courtroom, and someone is on trial. The p-value is like the strength of the evidence against the person on trial.\n",
    "\n",
    "- A low p-value (usually less than 0.05) is like having strong evidence against the person. It suggests that the evidence is unusual and probably not due to chance, so you might conclude that the person is guilty.\n",
    "\n",
    "- A high p-value (greater than 0.05) is like having weak evidence against the person. It suggests that the evidence is not very unusual and could easily happen by chance, so you might conclude that the person is not guilty.\n",
    "\n",
    "In essence, the p-value helps you decide whether something you observe is just a random occurrence or if it's meaningful and worth paying attention to. It's a way of assessing the strength of the evidence in favor of a particular idea or hypothesis."
   ]
  },
  {
   "cell_type": "markdown",
   "metadata": {},
   "source": [
    "#### 95.What does interpolation and extrapolation mean? Which is generally more accurate? "
   ]
  },
  {
   "cell_type": "markdown",
   "metadata": {},
   "source": [
    "Certainly, here's a table summarizing the meanings of interpolation and extrapolation and a comparison of their typical accuracy:\n",
    "\n",
    "| Aspect               | Interpolation                                             | Extrapolation                                             |\n",
    "|----------------------|:----------------------------------------------------------:|:-----------------------------------------------------------:|\n",
    "| Definition           | Estimating values within the range of known data points. | Estimating values outside the range of known data points. |\n",
    "| Data Range           | Within the observed data range.                        | Beyond the observed data range.                         |\n",
    "| Purpose              | Estimating values between known data points.            | Predicting values beyond known data points.              |\n",
    "| Example              | Estimating temperature between recorded measurements.   | Predicting future plant growth beyond observed data.     |\n",
    "| Accuracy             | Generally more accurate because it relies on observed data and assumes data follows a consistent pattern within the range. | Generally less accurate because it involves making assumptions about data behavior beyond what is observed, and predictions become riskier as they extend further from known data points. |\n",
    "| Risk of Uncertainty  | Lower risk of uncertainty because it leverages observed data. | Higher risk of uncertainty because it relies on assumptions about data trends and patterns that may not hold beyond the observed range. |\n",
    "| Common Usage         | Common in data analysis, curve fitting, and interpolation methods in mathematics and engineering. | Used cautiously in predictive modeling when no other data is available, but with recognition of potential inaccuracies. |\n",
    "| Safety              | Generally considered a safer method for estimation.    | Requires caution and awareness of potential inaccuracies. |"
   ]
  },
  {
   "cell_type": "markdown",
   "metadata": {},
   "source": [
    "#### 96.What is an inlier? "
   ]
  },
  {
   "cell_type": "markdown",
   "metadata": {},
   "source": [
    "An inlier is a data point that is considered typical or representative of a dataset. Inliers are often used in the context of outlier detection, where the goal is to identify data points that deviate significantly from the majority of the data, which are the inliers."
   ]
  },
  {
   "cell_type": "code",
   "execution_count": 87,
   "metadata": {},
   "outputs": [
    {
     "data": {
      "image/png": "iVBORw0KGgoAAAANSUhEUgAAAYEAAAEXCAYAAABLZvh6AAAAOXRFWHRTb2Z0d2FyZQBNYXRwbG90bGliIHZlcnNpb24zLjMuMiwgaHR0cHM6Ly9tYXRwbG90bGliLm9yZy8vihELAAAACXBIWXMAAAsTAAALEwEAmpwYAAAuk0lEQVR4nO3deXQUZboG8KcTEiCgEggkDAxxWAyXREAZBlAcJsrABCIxLLK0mAGRHSKyGAgXcYmsoyLrjaCD0MgaCC4ZRNS5B3FQMrJEEMPcSyAQgrJd6OxJ3T96OmTp6q7urqWr+vmdk4OpruWrBr+36v02kyAIAoiIyC8FaF0AIiLSDoMAEZEfYxAgIvJjDAJERH6MQYCIyI8xCBAR+TEGAfIJjz/+OE6dOuV0n4yMDEyaNAkAkJqaiiNHjqhRNI/Ex8fj6NGjDj+7ePEiZs2ahf79+2PIkCEYPnw4du/eLem8J0+exKJFiwAAR48eRXx8PABg1apV2LdvnyxlJ//SQOsCEHkiLS1N6yJ4JD8/H8888wxeeOEFvPnmmzCZTCgsLMScOXOQl5eH2bNnOz3+3LlzKCwsrLc9OTlZqSKTwTEIkM958MEHMXHiRHz99de4evUqJkyYgDFjxtTaZ+zYsTCbzfjTn/6Ef/7zn1i5ciWKi4sREBCA6dOnIzY2FhkZGdi9ezeKi4vRtGlTvPnmm3jppZdw48YNAEC/fv3wwgsv1Lv+7t27sWPHDpSXl+PWrVt4/vnnMWbMGGRkZODgwYMICAhAXl4eGjVqhGXLlqFDhw44d+4cFixYgOLiYrRv3x5FRUUO7y09PR3x8fFITEys3hYeHo633noLTzzxBMaOHYvDhw/jwIED+K//+i8AtjegAwcOYPHixXjnnXdw+/ZtzJ8/H0899VT1OVJSUtCpUyc899xz+Ne//oW0tDTcvHkTlZWVGDt2LIYPH46jR48iLS0NISEhsFqt2LZtG1JTU5GXl4eAgABER0fj1VdfRUAAEwT+hEGAfE5ZWRlCQ0Oxfft25OTkYPTo0Rg2bJjDfW/duoX58+dj06ZNaNu2LQoLC/H0008jKioKgO3J+YsvvkDTpk2xdu1atG3bFu+99x6KioqQmpqK27dv45577qk+n9Vqxa5du5Ceno7Q0FAcP34c48aNqw5C3333HT7++GNERETgtddeQ3p6OpYtW4Y5c+bAbDZjxIgRyM7Ohtlsdlje77//3uHTflhYGDp06IATJ06Ifi+tW7fGzJkzceDAASxZssRhuqmiogIzZ87E8uXLER0djdu3b2PkyJHo2LEjACA3Nxeff/452rRpg3379sFqtSIzMxOVlZV4+eWXcfHiRURGRoqWgYyHQYB80hNPPAEAiI6ORllZmeiT9fHjx/Hzzz9j2rRp1dtMJhPOnj0LAIiKikLTpk0BAI899hgmTpyIgoICPPLII5g9e3atAAAATZo0wYYNG/D3v/8d58+fx48//ljr2tHR0YiIiAAAdOnSBQcPHsSNGzdw9uzZ6ifzHj16oFOnTqL3VlFR4XB7WVkZTCaTs6/FpfPnz+PChQtYsGBB9baSkhKcPn0aHTp0QOvWrdGmTZvqcr711lsYO3YsHnnkESQlJTEA+CG+95FPatiwIQBUV4piU1xVVlaiQ4cOyMzMrP7ZsWMH+vbtCwAICQmp3rdr1644dOgQRo4ciUuXLmHEiBHIycmpdb4rV67gqaeewqVLl9CjR4966aJGjRpV/7fJZKpVrpr/3aCB4+erhx56yOETfGFhIfLz8/Hggw/WO295ebnDczlSWVmJe+65p9b3sXPnzuo3qZrfx69//WscPHgQEydOxJ07dzBu3Dh88cUXkq9FxsAgQLrWvXt35OXl4bvvvgMAnDlzBgMHDnTYeLpy5UqsW7cO/fv3R2pqKjp27Ijc3Nxa++Tk5KB58+aYOnUq+vbtiy+//BKArXIVExoaiujoaOzatQsA8MMPP+Cnn35yuO+UKVOQlZWFvXv3Vm+7cuUKXnzxRYwePRrh4eFo3rw5cnNzUVpaivLychw4cKB638DAQNE3CQD4zW9+g0aNGiEzMxMAUFBQgPj4+HrBDgC2bduG+fPno2/fvpg7dy769u2L06dPi56bjInpINK15s2b45133sHy5ctRWloKQRCwfPlytG3bFt9++22tfZOSkpCSkoL4+HgEBwcjKioKgwcPrrXPo48+it27d+NPf/oTTCYTfve736F58+bIy8tzWo4333wT8+fPx/bt29GuXTu0b9/e4X6tW7fGjh078Pbbb2PDhg1o0KABGjZsiKeffhojR46sLkPPnj0RFxeHli1bolevXtXpre7du2Pt2rWYPn06xo4dW+/8wcHBWLduHdLS0rBx40ZUVFQgOTkZPXr0qPcG8tRTT+Hbb7/FoEGD0LhxY7Ru3drhOcnYTJxKmojIfzEdRETkxxgEiIj8GIMAEZEfYxAgIvJjuukdVFVVBavViqCgIK8H1BAR+QtBEFBeXo4mTZo4nBJEN0HAarWK9r0mIiLnHnjggXoj5AEdBYGgoCAAthsJDg7WrBw5OTmIiYnR7Ppa4X37F963cZSVleGnn36qrkPr0k0QsKeAgoODq6cU0IrW19cK79u/8L6NRSyNzoZhIiI/xiBAROTHdJMOIiL/UlVVhfz8fFitVtWu2aBBA5w5c0a168kpKCgIrVq1wr333uvWcQwCROSTfvnlF5hMJkRFRam22pnVakWTJk1UuZacBEFAcXExLl26BABuBQKmgwzOYgHuvx8ICLD9abFoXSIiaW7evInw8HAudymByWRCSEgI2rRpg6tXr7p1LN8EDMxiASZOBOwLY+Xl2X4HAJHVD4l8RmVlpWi3RnKscePGbi1CBPBNwNBSU+8GALuiItt2Ij3g7ADu8eT7YhAwsAsX3NtOROKioqKcfp6fn4/HH38cALBq1SocOnRIjWJ5jUHAwNq1c2+7FGxjIHItOTkZTzzxhNbFkIRBwMDS0oAa64oDsP2elubZ+extDHl5gCDcbWNgICBfocZDytGjRzF+/HhMnToVAwcOxMyZM1FWVlZrn5SUFGRkZAAA9u3bh8TERCQkJGDBggUoLS0FAPTu3RsTJkxAQkICCgoK8Mwzz2Do0KEYPnw4jh8/Ln/BRTAIGJjZDKSnA5GRgMlk+zM93fNGYbYxkC9T8yHl+++/x6JFi5CVlYXLly/j8OHDDvfLzc3Fzp07sX37dmRmZqJFixbYtGkTAODGjRt4/vnnkZmZiT179uAPf/gDMjIyMHPmTGRnZ8tfaBGa9A5as2YNsrKyAAD9+vXDvHnztCiGXzCb5esJxDYG8mXOHlLk7g3XqVMnREREAAA6dOiAW7duOdzv6NGjyMvLw9NPPw0AKC8vR5cuXao/79atGwCgT58+mDFjBs6cOYN+/frhmWeekbfATqgeBI4cOYLDhw9j7969MJlMmDBhAg4ePIg//vGPaheF3NSune3pytF2Iq2p+ZBSc5I5k8kEQRAc7ldZWYm4uDgsXLgQgG0wWmVlZfXnjRo1AgD06NEDn3zyCb766it8+umn2Lt3L95//335C+6A6umgli1bIiUlBcHBwQgKCkKHDh1w+fJltYuhK3LmOV2dy9nncrcxEMlJiY4Q3urVqxcOHjyIa9euQRAELF68GJs3b6633/Lly7F//34kJiZi0aJFOH36tGplVD0IdOrUCd27dwcAnD9/HllZWejXr5/axdANOfOcrs4l5VqNG9/97xYtvGtj0BJ7ORmPLz6kdO7cGdOnT0dSUhIGDx6MqqoqTLSP2Kxh7NixOHDgABISEjB9+nQsW7ZMtTKaBLH3GIXl5uZi0qRJmDFjBhITE13uX1paipycHBVK5lvi42Nw5Ur9+c0jIkrx8cfufR/OzjVt2iW8/PJvUFVVf7CJ/fO0tEiUlATW+ETA8OFXkZKS71Y5tJaVFVrvXho1qkRqah7i4m5oWDKqqUGDBujYsaNbx+zYEYjFi4ORn29C27YCFi8uw8iRla4PNJBz586hoqKi3vaYmBjHayUIGjh27JjwyCOPCB9//LHkY0pKSoRjx44JJSUlCpbMtWPHjql6PZNJEGzP5bV/TCb5zgUIQkiI+GcmkyBERJSIfrZ1q/z3raTISMf3GRlZf1+1/759hS/c9+nTp1W/5p07d1S/ptzqfm+u6k7V00EFBQWYNm0aVq5cicGDB6t9ed2RM88pdkxgYP1eFXWPKyx0vKSnIOiviyh7ORHdpXoQ2LRpE0pLS7F06VIkJCQgISEBH374odrF0A0585xi56p08rZsv1Z4eJnoPjUrTz3k2n2xAZFIM2q8nsjBX9NBgmBLt0RG2lIvkZHepV8cnUssPRIYePdar732L9F0kj2NsnVr/bRSSIjvpYvcKacvpEW04Av3zXSQZ3w+HUTuM5uB8+eBqirbn970xnF0LrE3hM2b714rLu4GJk+2jTyuu5/9rUQvI4rlHklNpGcMAiS5Uly3DtiyRXw/JXLtSqWX5AysRHrGRWUIgPTpJZztJ/eIYi6KQ6Q8vgmQbNLSgOA6nYiCgz0frKOX9BL5D6vVildeeQV//OMfMWTIEIwZMwbffPON02O+/PLL6ikgVq9ejdWrVwMAEhISFC+vFAwCJKu6Qw+9GYrIrpzkNgW7pwmCgMmTJyMoKAiffPIJ9u/fj4ULF2Lu3Lk4evSo6HE5OTm4c+dOve2ZmZmylc0bTAeRbFJTgbrLm5aXez6LIyesI7conD/89ttvcfnyZXzwwQfVyzh26dIFU6ZMwbp167BmzRpMnz4dvXr1Qn5+Pp599lmkp6dj+/btAIBf/epXtc4XFRWFs2fPwmq14tVXX0Vubi4qKyvx/PPPIz4+HhkZGdi7dy9u3ryJ2NhYdOrUCRs3bkRgYCDatm2LFStWOB4B7Ca+CRiAr/TNl/vJ3RfngiEfpnD+8NSpU4iJiam3jm/Pnj1x6tQph8d07NgRo0aNwqhRozBs2DCH+6xfvx7R0dHIyMiAxWLBhg0bcPHiRQBAYWEh9u7dixdffBFvv/023nvvPWRkZKBNmzb4n//5H1nui28COudLjafNmwPXrjne7gl7+VNTbYGkXTtbAGCjMDmkcP7QZDLVmgbarry83KMF3u2OHDmCkpIS7NmzBwBQVFSE3NxcALY3jQYNbNV0bGwsRo8ejf79+2PgwIH4j//4D4+vWRPfBHTO6I2n7MpJkik8FLxbt27IyclBeZ2c5/HjxxETEwMA1esKOJrATUxVVRVWrFiBzMxMZGZmYufOnXjssccA3F1vAAAWLlyId955B/fddx/mzp0rW5sCg4COOEr7+FLj6fXr7m0nkpXC+cPf/va36NixI954443qQJCTk4P169dj6tSpCA0Nxblz5wAAn3/+efVxgYGBToNC7969q6fOuXr1KoYMGYKCgoJa+1RUVGDAgAEIDQ3FpEmTkJCQgDNnzshyXwwCOiE2179YqkXuxtOsrFCX7Q6ePIj5SnsGGYAKQ8HXrFmD4OBgxMfHY9CgQUhLS8OKFSvQq1cvTJgwAdu2bUNiYiJKSkqqj+nZsyc++ugjbNmyxeE5p0+fjpKSEsTHxyMpKQlz585Fuzr/0zRo0AAzZ87E+PHjMXToUJw4cQLPP/+8PDel/EwW8vDnuYMEQXx+nxYtlJ+vZ+tWQWjUqMLlNdydO0gPcw35whw6WvCF++bcQZ7h3EEGJZbeuX5d+XlwUlNRZzEZx+0O7j6IGb09g0gPGAR0wlmqRenGU3faHdwpiy+1Z7iDKSwyEgYBnXDU5gXY2gbCwlxXRN5UXEp0urBYbGWR+7w1z69ERS3nms/kmqDN6re65cn3xSCgE/ZUS4sW9T+7dg0YP168IvK24kpLs63BW5M3nS7s5XG0mI0cnTmmTgXGjlWmomYKSz2BgYH1umOSc8XFxQgKCnLrGAYBHTGbgaZNHX9WViZeEYlVXMnJ0q+bmponW7uDo/IAtmUunZ1XytO9xQJs2FB/ziJHFbUnbwt6TWHpUbNmzVBYWIiqqiqti+LzBEFAUVERLl26hFatWrl1LEcM64yzysbdCuraNVvF56wyt1jsI3Z/g3btbOsJONr/7n6uR/aKlaeqynkAkDIyOjVVfNK6ustgejLSmvMZqScsLAz5+fk4e/asatcsKytDcN2pcHUiKCgI4eHhuPfee907UPH+SjLx9y6idmJdRWsu8yjHMYIgvQunu109xcrjrCxSjxFbArPuvlLPV/fvWw/dWuWg9b9zrRjxvtlF1GDS0gBHKb/AQODOHcepDWc5dmdvFmJppKSk2tdxN0/uycBOqW85Yk/kJlPt83ua1uHSlGQ0DAI6YzYD779fu4G4SRNbELh2zXFDqNnsuEEZcJ7GEKsQKytrX8dResTZ8Z5UpFJ7KIn1omrSRNr5mjev3U6QlRXqsPycz4iMgkFAh8xm4Jdf7iYkwsJsDcM11X0SX7XK/advKXnuoiLPunq6W5FKfXuwB5i6lf6dO7UDo6PzBQcD//d/tXsVpaVFsvsnGRqDgAFISW148vQt9lRdl1jnjUGDXB8rVd3yt2gBNG5s6wrqqGePo95HNQOjo+/jnnvqL4pTUhLI7p9kaAwCBiA1VeLu03ftilJAYKDz/evauFHeQVT28m/ZAhQXi6e/pPYQqvt9iM12yu6fZGQMAipTYiSrkjPo2ivK7777JzZvlvZmYFdeLn0sgjtcNUQ7q7SdpagUno6eyCcxCKhIqSkH3En1eBOEHF1HrMHZztFKY95ylf4Sm167bg+huhwF00aNKrmcJRma4YOAL032peSUA1JSPXIEobrXcdTgrDRnT+wWi61x15HJk52nwBwFudTUPPb+IUMzdBDwtcm+tJ5ywNMgZLEA8fExCAiw9UQKC7sbVAFbxSnWQ8jVm0LNa0gN1s7SX6mp9Rt37eVYt851OeoGubi4G9JugEinDB0EfG2yL61zzp4EIXsgvXKlIQTBlt6p2yALAB98YOtiWVNwsO1NwRV3g7XZbBuwZm+oDgy0/W42O193gYjqM3QQ0PrJuy6Fl0B1yZMgJDbZm509qJrNwHvv1U6lvPeetIFU7gZriwXYvPnuLKSVlbbfLRbtAy2R3hg6CKhdIbhKaWg95YCc0zU42sfTkbTuBmtnQUPrQEukN4YOAmpWCFJTGlpOOSDndA3u7uPJ8WLbnQUNrQMtkd4YOgioWSEkJ/tW+4MYsSAk9hbjatSwHEHV3WDtKmhwbh8i6TQJAh999BEGDRqEAQMGwKJwVx25KgR7Jdmz58P1Uj0Wi3h/eD2MNnX2FmNvhA0IsA3BDQiwzcsjZ1B1N1gz5UMkI5WnthauXLkixMbGCjdu3BCsVqvw5JNPCrm5uS6P03I9AVdzyHs6X7+vcDa3vti9T5li+9xkurufmrZuVef6RpxfXgret3H43HoCR44cQe/evdGsWTOEhIRg4MCB+Nvf/qZ2MdzizTQFcj+dKjH4zVmOXezeN2zQdvwFUz5E8lA9CFy9ehUtW7as/r1Vq1YoLCxUuxhucdV7RSxH3aKFvJWTUoPfnM2tL7ZWgJQ1fInI96m+xnBVVRVMJlP174Ig1PrdlZycHCWK5VR4eAyuXGnoYHspsrNzMGFCKNLSIlFScneazUaNKvHCC3nIzraNOM3KCsXatW1QWBiM8PAyTJt2ye3RqHPmxKCoqHY5ioqAOXNK0bmz599Lz55tkZfXCsDdv4egoCrcugW485xw4YKA7Ox/StpXju9DLdnZ2VoXQRO8bz+hbnZKEDIyMoQFCxZU/75mzRph9erVLo/z5TYB+z5iOWq51qUVWz/XZJL33kwmQWjSRLydQ6wcUts/vP0+1GoPEARj5oil4H0bh6u6U7OG4WvXrglFRUXCkCFDhBMnTrg8TuuF5u9WPFVuVzyeLKyu5HmknNPZz5QpzitxV5W0N/eh9kLvRqwUpOB9G4fPBQFBEIT9+/cLgwcPFgYMGCCkp6dLOkbrIGDnyT8SuZ7glagAxcrmqreTWEUvpYzefB9KBEJnjFgpSMH7Ng6fDAKe0HMQkFpxSUlzyJ0KEStbixaeBRwp9+pNRa5ESswZI1YKUvC+jcPnuoj6IymDm7SadkKsbKtW1R7AFRFRKmlgmJR5gFx9H866wXKCOCKZqRyUPKbnNwFBUDZP7kk5AEEIDLT92bTp3SfswEBbzr/uMRERJZLePrx963GVTmKbgDp438bBdJDMlPpHIkeaw1WgcVSBOvrxptL1tpKWEkTYO0h5vG/jYDpIJ7xNc0hJJ7laG8Cu5sAvd+f693bSPinpJI4WJpIPg4CP8HZSNCmVtTuT2dn39WRhHm8qaeb8idTFIOADLJa7lbh9yUQlnqDdqUjt+3pSKVsstnWITSbbT1iY9KktOEMokboYBDRWM40D2JZKtFd6jgKAWM8ZsUpZEO7ul5ZWfx1gR2pWuu5WyhYLMG5c7am1r10Dxo+XFgj0siiMEhP5EWlC5TYKjxm1YdhZP/26jZ/OGl2lNPq2aCE+HUTN3kH2htiajcPe9g5SckCXkhz9favdQ0kLRmwglcKI982GYR8nlsa5dq1+I6/Y6mXJybWfoMVcuwZYrY4/EwTbE7598fa6C8t8/HEOqqpsbwCpqeJPwM7aCvSwwI4U7jaWE/kyBgGNSc3TFxWJr1527drdyvr8eVsaxV2Bga4rNik9kJzdj1Eadz1pLCfyVQwCGnO1hq9UNStrdyvbmm8AddWs2KQ8AaelAUFB9c8THFy/HUGveXX2YCIjYRDQmH0NXylatBD/zNW0DHXPU7fhVSyNVLNik9qH//33a5e1RQvgvfdqN+4qtUCOGtiDiYyEQUAB7jzhWizA5s2uz2mfz0csENSsrO3tA472tZ+nbj9+KRWb1Cdgsxn45Ze7zaa//FK/d4+e8+p66cFEJAWDgMzcfcKVMoq3ZiWzapW0p1B7Rbx1q7TKSkrFJnUiPCkBUO95dY5aJsNQubeSx/TSRdTdieCczecv1u1Qjrlz3D2H/b4dHVdzUrq69yN2D2qvC+ApI3YZlIL3bRzsIqoyd59wxVIsgYHOn9q9eQr1Jh9f99pA7cFuglB7f0c9jO6/37Z/3V5MUvLqem1MJvJVDAIyc7fniFiKZfNmz1IMUipJOfPxUtJZ9gBYd3S0INwNBHXTT47uQ8nGZAYX8lsqv5l4TC/pIE9Gk8o1NbLUa3sybXXN+65ZXlfTUtdM8biz1oCj+2jRQpkUkrPvzYjpASl438bBdJDKPOk5Ilcjo9QnfG/6udd9GnelZopHaqpM7D7EBst525is555KRN5iEFCAvctlu3a2Cio1VZ30gqtK1tt8PCAt/SOW4pEafOzpIqm8HaSl955KRN5gEFCAVgOhnFWy7uTjnXFWMZpMtrEJzZs7nrpCahdTMQEBygzS4ghg8mcMAgrQKr3grJJ1VCZBsAUAd1JQYhVjZCSwZQtQXGxL2zgKfq5SZfZAJaaqSplBWhwBTH5N5TYKj+mlYVgQ5Fkv2FNijczelqnmOAGxRlRv+/47m4Za6TEEYt+bERsKpeB9GwcbhjUgV3rBk26LYo3McpXJ2dO8t7l1Z/sp/WTOEcDkrxgEFCBHekHudgU5Ux7uBpqAAGnl9mTgHBF5h0FAAXJMMCZ3u4Iak56JzV5aWSktgMk9cM4dHCxG/qqB1gUwKrPZu4pLiW6L3pZJyvkB29TYddcnsAcwV+MlANt+Fy7Y3gzE1lqWk/2tyx507W9dANC5s7LXJtIa3wR8lF67LZrNtjSRI1ICmBa5eQ4WI3/GIOCj9NxtUW8BjIPFyJ8xCPgoPS9corcApregRSQnl0GguLgYx48fBwB8+OGHWLBgAS5fvqx0uQj67baotwCmt6BFJCeXQWD+/Pk4dOgQTp48iY0bN6J169b4z//8TzXKRjqmpwCmt6BFJCeXQeDixYuYPXs2vvzySyQmJmLGjBm4efOmCkUjUo+eghaRnFwGgYqKCgDA4cOH0bt3b1RWVqLI1TSSTmRnZ2P48OFISEhAUlISLl265PG5iIjIOy6DQPfu3TFo0CCUlJTg4Ycfxp///Gc88sgjHl9w7ty5eP3115GZmYknn3wSr7/+usfnIiIi77gcLLZo0SJ8//33iIqKQkBAAJ577jn069fPo4uVlZUhOTkZnf89AicqKgpbt2716FxEROQ9kyA4Xh/qm2++QZ8+ffDZZ585PHDAgAFeXbiqqgpTpkzBgw8+iOnTp7vcv7S0FDk5OV5dk4jIX8XExKBhw4b1tou+CXzyySfo06cPtmzZUu8zk8nkMghkZWVhyZIltba1b98ef/3rX1FWVoaUlBRUVFRg0qRJUu8BgPiNqCU7Oxs9evTQ7Ppa4X37F963cbh6gBYNAvZc/caNG+tVuoWFhS4vHBcXh7i4uHrbrVYrpkyZgmbNmmH9+vUICgpyeS49s1jUnwuHiEgqlw3DI0aMQF6NRV8PHTqEoUOHenzBuXPnIjIyEm+//TaCg4M9Po8eaLXMJBGRVC4bhseOHQuz2Yx58+bhxIkTOHz4MNasWePRxU6fPo1Dhw6hY8eOSExMBAC0atUK7777rkfn83XOJibj2wAR+QKXQWDEiBFo1aoVJk+ejLCwMOzfvx+hoaEeXaxLly44e/asR8fqEScmIyJf5zId9OGHHyIlJQWpqamIjY3F6NGjcerUKTXKpnucmIyIfJ3LNwGLxYLNmzfjgQceAAB89tlnmDx5Mr7++mvFC6d3aWm1FysBODEZEfkWl0Fgz549tXoHDRgwAF27dlW0UEah1UpZRERSuQwCBQUF2Lp1K4qKiiAIAqqqqpCXl4ft27erUT7dU3pJRyIib7hsE5g9ezbKy8vx/fffo02bNjh37lx1aoiIiPTNZRCwWq145ZVX0LdvX/z+97/H+++/X73IDBER6ZvLINCsWTMAQGRkJHJzc3HvvffCZDIpXS4iIlKByzaByMhIpKWlITExEampqSgqKqpeY4CIiPTN5ZvA4sWL8dvf/hZdunTB008/jX/84x949dVX1SgbEREpzOWbQOPGjTFw4EAAQEBAANauXat4oYiISB0u3wRqYrdQIiJjEQ0Cq1atQt31ZkTWnyEiIp0SDQL/+Mc/8Oyzz+Lnn3+u3hYTE6NKoYiISB2iQcBisaBPnz4YNmwYDh8+DABcFJ6IyGBEG4YDAgIwdepU/OEPf8DChQtx6NAhtKsx/eW4ceNUKSARESnHZe+ggIAAmEwmnDt3DiUlJWqUiYiIVCIaBARBwIYNG7Bp0ybMmjULZs6CRkRkOKJBYNSoUSguLsa2bds4YRwRkUGJNgxHR0dj9+7dDABERAYm+iawaNEiNctBREQacGvEMBERGQuDABGRH2MQICLyYwwCRKQ9iwW4/34gIMD2p8WidYn8hsvBYkREirJYgIkTgaIi2+95ebbfAYDjkxTHNwEi0lZq6t0AYFdUZNtOimMQICJtXbjg3naSFYMAEWmrxsSUkraTrBgEiEhbaWlASEjtbSEhtu2kOAYBItKW2QykpwORkYDJZPszPZ2Nwiph7yAi0p7ZzEpfI3wTICLyYwwCRER+TLMgcPr0aS5cT0SkMU2CQHFxMV577TWUl5drcXkiIvo3TYLA0qVLkZSUpMWliYioBpMgCIKaFzx06BA+++wzLFu2DFFRUTh79qyk40pLS5GTk6Nw6YiIjCkmJgYNGzast12xLqJZWVlYsmRJrW3t27fHnTt38Ne//tXj84rdiFqys7PRo0cPza6vFd63f+F9G4erB2jF0kFxcXH47//+71o/gwcPxs2bN2E2m5GQkAAASEhIwJ07d5QqBhFpgVND64aqg8VGjBiBESNGVP8eFRWFzMxMNYtARErj1NC6wnECRCQvd6eG5luDpjSdNkJqozAR6Yg7U0PzrUFzfBMgInm5MzU0F5TRHIMAEcnLnamhuaCM5hgEiEhe7kwNreSCMmxrkIRBgIjkY694x461/b5lC3D+vHh+X6kFZextDXl5gCDcbWvQYyBQOJgxCBCRPDypeJVaUMYobQ0qBDMGASKSh6cVr9lse1uoqnL+1uAOo7Q1qBDMGASISB6+VPEaZfF6Fb5TBgEiks5ZftqXKl6jLF6vwnfKIEBE0rjKT/tSxWuUxetV+E4ZBIhIGlf5aW8qXiV6wCjR1qA2FYKZptNGEJGOSMlPm83uV1CcOsI5T75TN/BNgEjv1BoUpVR+2ijdOXWKQYBIz9QcFKVUftqXehX5IQYBIj1T8ylaqfy0L/Uq8kMMAkR6pvZTtBKNrb7Uq8gPMQgQ6ZkRnqKN0p1TpxgEiPTMKE/RRujOqVMMAkR6pvenaE73rDmOEyDSO4X7kSuG4wN8At8EiEgddZ/6k5M5PsAH8E2AiJTn6KlfDMcHqIpvAkSkPEfjGcToqWeTATAIEJHypD7dS+nZpHRjsp81VjMIEJHyxJ7uW7Rwr2eTN9NkSKjcQ7OyjLM2sUQMAkSkPLHxDKtWuTc+wNNpMiQGjzZr1/pdYzWDABEpT47xDBaLeIOyq3STxOARXFjo2fl1jL2DiEgd3oxnsD/Ji3HVmCxxjqWy8HA0vHLF/fPrGN8EiMj3OetdJKUxWeIcS5emTTPGNBxuYBAgIt/nLB0jJa0kcY6lG3Fx+p6GwwMMAkTk+8Se5CMjpVXQ7rRJ+NlkdgwCROT75Jgt1c8qd6kYBIjI9+l9tlQfpnoQuHr1KiZOnIinnnoKo0aNQn5+vtpFICI1yD3ylk/yilA9CMybNw+xsbHYt28fEhISsHLlSrWLQERK82ZkL6lK1SBw/fp1/Pjjjxg1ahQAYNiwYXjhhRfULAIRqcHTkb2kOlWDwMWLF/GrX/0KS5cuxbBhwzBz5kwEBQWpWQQiUoPEwVmkPZMgCIISJ87KysKSJUtqbYuMjMR3332H9evXIzY2Frt27cL+/fuxZcsWl+crLS1FTk6OEkUlohpCs7LQZu1aBBcWoiw8HJemTbP1n3dDTHy8w5G3pRERyPn4Y7mKSm6IiYlBw4YN638gqCgvL094+OGHq38vKioSunbtKunYkpIS4dixY0JJSYlSxZPk2LFjml5fK7xvP7F1qyCEhAiCLZNv+wkJsW3X4jwqM+Lft6u6U9V0ULt27RAREYG///3vAIAvv/wS0dHRahaBiJyRK5fPLp26ofoEcqtXr8bLL7+MFStWoGnTpli6dKnaRSAiMXLm8r2ZMI5Uo3oQaN++vaQ2ACLSQLt2jqdrNvAsmv6OI4aJ6C45pmcgXWEQIKK7/p3LL42IMH4u38/WEhbDRWWIqDazGTmdO6NHjx5al0Q59hHN9kbwf49oDp0/HzDyfTvANwEiMiZnT/oivaDarF2rZgl9At8EiMh4RJ70AdhSWyK9nUTXGDYwvgkQkfG4Gu8g0tupLDxc4YL5HgYBIjIeV+MdRHpBXZo2Tdly+SAGASIyHlcLy4uMaHZ3jiQjYBAgIuORMt6Bi9QAYBAgIiPi3EWSsXcQERkT5y6ShG8CRER+jEGAiMiPMQgQEfkxBgEi0h9O/iYbNgwTkb64mhKC3MI3ASLSF7mWwCQADAJEpDdyLoFJDAJEpDOupoQgtzAIEJG+cAlMWTEIEJG+cEoIWbF3EBHpD6eEkA3fBIiI/BiDABGRH2MQICLyYwwCRER+TDcNw4IgAADKyso0LglQWlqqdRE0wfv2L7xvY7DXmfY6tC6TIPaJj7l9+zZ++uknrYtBRKRLDzzwAO65555623UTBKqqqmC1WhEUFASTyaR1cYiIdEEQBJSXl6NJkyYICKjfAqCbIEBERPJjwzARkR9jECAi8mMMAkREfoxBgIjIjzEIEBH5MQYBIiI/xiBAROTHGATclJ2djeHDhyMhIQFJSUm4dOmS1kVS1EcffYRBgwZhwIABsFgsWhdHNWvWrMHgwYMxePBgLF++XOviqG7ZsmVISUnRuhiq+eKLLzB06FDExcXh9ddf17o46hLILbGxscKZM2cEQRCEXbt2CZMnT9a4RMq5cuWKEBsbK9y4cUOwWq3Ck08+KeTm5mpdLMV9/fXXwsiRI4XS0lKhrKxMePbZZ4XPPvtM62Kp5siRI0KvXr2El156SeuiqOLChQtC3759hYKCAqGsrEwYPXq08NVXX2ldLNXwTcANZWVlSE5ORufOnQEAUVFRKCgo0LhUyjly5Ah69+6NZs2aISQkBAMHDsTf/vY3rYuluJYtWyIlJQXBwcEICgpChw4dcPnyZa2LpYqbN2/irbfewuTJk7UuimoOHjyIQYMGISIiAkFBQXjrrbfQrVs3rYulGgYBNwQHByMhIQGAbS6jNWvWoH///hqXSjlXr15Fy5Ytq39v1aoVCgsLNSyROjp16oTu3bsDAM6fP4+srCz069dP20KpZNGiRZg1axbuvfderYuimry8PFRWVmLy5MlISEjAtm3bcN9992ldLNUwCIjIysrC73//+1o/f/7znwHY3gjmzJmDiooKTJo0SduCKqiqqqrWZH2CIPjV5H25ubkYP3485s2bh/vvv1/r4ihu165daN26Nfr06aN1UVRVWVmJb775Bm+88QZ27NiBkydPYu/evVoXSzW6WU9AbXFxcYiLi6u33Wq1YsqUKWjWrBnWr1+PoKAgDUqnjoiICBw7dqz6959//hmtWrXSsETqyc7OxsyZM7FgwQIMHjxY6+Ko4tNPP8XPP/+MhIQE3Lp1C0VFRXjjjTewYMECrYumqLCwMPTp0wfNmzcHAPTv3x8nT57E0KFDNS6ZSrRulNCbKVOmCAsXLhQqKyu1Lori7A3D165dE4qKioQhQ4YIJ06c0LpYirt8+bLQq1cv4ciRI1oXRTN79uzxm4bh48ePCwMHDhRu3bolVFRUCJMmTRJ27typdbFUwzcBN5w+fRqHDh1Cx44dkZiYCMCWJ3/33Xc1LpkywsPDMWvWLDz77LMoLy/H8OHD0bVrV62LpbhNmzahtLQUS5curd42atQojB49WsNSkVK6deuGCRMmYMyYMSgvL8ejjz6KYcOGaV0s1XA9ASIiP8aGYSIiP8YgQETkxxgEiIj8GIMAEZEfYxAgIvJjDAJEAH744Qf06NEDp06dqt52/fp19O/fH1999ZXX51+1ahX27dvn9XmI5MYuokT/tn37dqSnp2Pv3r1o0qQJxo8fjz59+mDKlClaF41IMQwCRDXMnTsXRUVFaNeuHS5evIjVq1fXmy+pqqoKb7zxBk6cOAGr1QpBEPD666/joYcewrhx4xAdHY158+bhyJEjSElJQUZGBlauXIlOnTrhueeewzvvvIODBw8iKCgIoaGhWLJkid9Mx0G+h+kgohpeeeUV5Obm4sCBA1i2bJnDCfNOnDiBq1evYseOHfj000+RmJiId999FwEBAVixYgUyMzPx+eefIyUlBX/5y18QFhZWfWxBQQE2b96MPXv2ICMjA48++ihOnjyp5i0S1cJpI4hq+N///V9YrVaUlpbihx9+wO9+97t6+zz00EO47777sH37dly8eBFHjx5FkyZNANimEXnttdcwdepUzJgxAz179qx1bHh4ODp37ozExMTq2Wn9bdZO8i0MAkT/dv36dcyYMQPz589HaWkpXnzxRezduxfbtm3DF198AQB4/PHH0a1bN6SlpWHcuHF44okn0L59e+zfv7/6POfOnUNYWJjDJ/yAgABs3boVp06dqp6++LHHHsO8efNUu0+imhgEiGCbU37WrFmIjY1FfHw8AODYsWOYNWsWNm/ejOTk5Op909LSEBsbizFjxqCkpATvvvsuKisrAQAnT57EBx98gD179lQfm5SUVH3sjz/+iNmzZ2Pnzp3o2rUrwsLC2GuINMU2ASIAy5cvR3FxMV566aXqbYsWLcKtW7fw5ptv1tp31KhR+Pbbb/Hkk08iMTERv/71r5Gfn4/bt2/jxRdfxMKFCxEeHo6lS5di3bp1OH36dPWxnTt3RlxcHIYNG4ahQ4diz549mD9/vmr3SVQXewcREfkxvgkQEfkxBgEiIj/GIEBE5McYBIiI/BiDABGRH2MQICLyYwwCRER+jEGAiMiP/T+VbOn6KAjnwQAAAABJRU5ErkJggg==\n",
      "text/plain": [
       "<Figure size 432x288 with 1 Axes>"
      ]
     },
     "metadata": {},
     "output_type": "display_data"
    }
   ],
   "source": [
    "import numpy as np\n",
    "import matplotlib.pyplot as plt\n",
    "\n",
    "# Generate some example data with inliers and outliers\n",
    "np.random.seed(0)\n",
    "inliers_x = np.random.normal(0, 1, 100)\n",
    "inliers_y = np.random.normal(0, 1, 100)\n",
    "\n",
    "outliers_x = np.random.normal(5, 1, 20)\n",
    "outliers_y = np.random.normal(-5, 1, 20)\n",
    "\n",
    "# Create a scatter plot to visualize the data\n",
    "plt.scatter(inliers_x, inliers_y, label='Inliers', color='blue')\n",
    "plt.scatter(outliers_x, outliers_y, label='Outliers', color='red')\n",
    "\n",
    "# Add labels and legend\n",
    "plt.xlabel('X-axis')\n",
    "plt.ylabel('Y-axis')\n",
    "plt.legend()\n",
    "\n",
    "# Show the plot\n",
    "plt.title('Inliers and Outliers')\n",
    "plt.show()\n"
   ]
  },
  {
   "cell_type": "markdown",
   "metadata": {},
   "source": [
    "#### 96. You roll a biassed coin (p(head)=0.8) five times. What’s the probability of getting three or more heads? "
   ]
  },
  {
   "cell_type": "markdown",
   "metadata": {},
   "source": [
    "To calculate the probability of getting three or more heads when rolling a biased coin with $P(\\text{head}) = 0.8$ five times, you can use the binomial probability formula. The binomial formula calculates the probability of getting exactly $(k)$ successes (heads in this case) in $(n)$ trials.\n",
    "\n",
    "The probability of getting $(k)$ heads in $(n)$ trials with a biased coin is given by:\n",
    "\n",
    "$$P(X = k) = \\binom{n}{k} \\cdot p(\\text{head})^k \\cdot (1 - p(\\text{head}))^{n - k}$$\n",
    "\n",
    "In this case, $(n = 5)$ (5 coin tosses), $(p(\\text{head}) = 0.8)$ (probability of getting heads), and you want to find $P(X \\geq 3)$, which means the probability of getting 3 or more heads. To find this probability, you'll calculate the probabilities of getting 3, 4, and 5 heads separately and then sum them up.\n",
    "\n",
    "1. Probability of getting exactly 3 heads:\n",
    "$$P(X = 3) = \\binom{5}{3} \\cdot (0.8)^3 \\cdot (0.2)^2$$\n",
    "\n",
    "2. Probability of getting exactly 4 heads:\n",
    "$$P(X = 4) = \\binom{5}{4} \\cdot (0.8)^4 \\cdot (0.2)^1$$\n",
    "\n",
    "3. Probability of getting exactly 5 heads:\n",
    "$$P(X = 5) = \\binom{5}{5} \\cdot (0.8)^5 \\cdot (0.2)^0$$\n",
    "\n",
    "Now, calculate each of these probabilities and sum them up:\n",
    "\n",
    "$$P(X \\geq 3) = P(X = 3) + P(X = 4) + P(X = 5)$$\n",
    "\n",
    "Calculate each term:\n",
    "\n",
    "$$P(X = 3) = \\binom{5}{3} \\cdot (0.8)^3 \\cdot (0.2)^2 \\approx 0.0512$$\n",
    "\n",
    "$$P(X = 4) = \\binom{5}{4} \\cdot (0.8)^4 \\cdot (0.2)^1 \\approx 0.4096$$\n",
    "\n",
    "$$P(X = 5) = \\binom{5}{5} \\cdot (0.8)^5 \\cdot (0.2)^0 \\approx 0.32768$$\n",
    "\n",
    "Now, sum these probabilities:\n",
    "\n",
    "$$P(X \\geq 3) \\approx 0.0512 + 0.4096 + 0.32768 \\approx 0.78848$$\n",
    "\n",
    "So, the probability of getting three or more heads when rolling the biased coin five times is approximately $(0.78848) or (78.848\\%).$"
   ]
  },
  {
   "cell_type": "markdown",
   "metadata": {},
   "source": [
    "#### 97.Infection rates at a hospital above a 1 infection per 100 person-days at risk are considered high. A hospital had 10 infections over the last 1787 person-days at risk. Give the p-value of the correct one-sided test of whether the hospital is below the standard. "
   ]
  },
  {
   "cell_type": "markdown",
   "metadata": {},
   "source": [
    "To find the p-value for the one-sided test of whether the hospital is below the standard of 1 infection per 100 person-days at risk, you can use the Poisson distribution. The Poisson distribution is commonly used to model the number of events (infections, in this case) occurring in a fixed interval of time or space.\n",
    "\n",
    "The Poisson distribution has a probability mass function given by:\n",
    "\n",
    "$$P(X = k) = \\frac{e^{-\\lambda} \\cdot \\lambda^k}{k!}$$\n",
    "\n",
    "Where:\n",
    "- $(X)$ is the random variable representing the number of infections.\n",
    "- $(k)$ is the number of infections (in this case, 10 infections).\n",
    "- $(\\lambda)$ is the expected or average number of infections over the given person-days at risk.\n",
    "\n",
    "To find the p-value for this one-sided test, we want to find the probability of observing 10 or fewer infections when the expected rate is 1 infection per 100 person-days at risk. First, we need to calculate the expected number of infections $(\\lambda)$ over the 1787 person-days at risk:\n",
    "\n",
    "$$\\lambda = \\text{(Expected rate)} \\times \\text{(Person-days at risk)} = 0.01 \\times 1787 = 17.87$$\n",
    "\n",
    "Now, we can calculate the cumulative probability of observing 10 or fewer infections using the Poisson distribution:\n",
    "\n",
    "$$P(X \\leq 10) = \\sum_{k=0}^{10} \\frac{e^{-17.87} \\cdot 17.87^k}{k!}$$\n",
    "\n",
    "\n",
    "\n",
    "When you calculate this, you'll find that the p-value is approximately $(0.0000)$ (rounded to four decimal places).\n",
    "\n",
    "Since the p-value is extremely small (close to zero), you have strong evidence to reject the null hypothesis. In this context, rejecting the null hypothesis means that the hospital's infection rate is significantly below the standard of 1 infection per 100 person-days at risk."
   ]
  },
  {
   "cell_type": "code",
   "execution_count": 88,
   "metadata": {},
   "outputs": [
    {
     "name": "stdout",
     "output_type": "stream",
     "text": [
      "The p-value is approximately 0.0324\n"
     ]
    }
   ],
   "source": [
    "from scipy.stats import poisson\n",
    "\n",
    "# Define lambda\n",
    "lmbda = 17.87\n",
    "\n",
    "# Calculate the cumulative probability of X <= 10\n",
    "p_value = poisson.cdf(10, lmbda)\n",
    "\n",
    "print(f\"The p-value is approximately {p_value:.4f}\")\n"
   ]
  },
  {
   "cell_type": "markdown",
   "metadata": {},
   "source": [
    "#### 98.In a population of interest, a sample of 9 men yielded a sample average brain volume of 1,100cc and a standard deviation of 30cc. What is a 95% Student’s T confidence interval for the mean brain volume in this new population?\n",
    " "
   ]
  },
  {
   "cell_type": "markdown",
   "metadata": {},
   "source": [
    "To calculate a 95% Student's t-confidence interval for the mean brain volume in the new population, you can use the formula for the confidence interval:\n",
    "\n",
    "$$CI = \\bar{x} \\pm t \\left(\\frac{s}{\\sqrt{n}}\\right)$$\n",
    "\n",
    "Where:\n",
    "- $(\\bar{x})$ is the sample mean (1,100cc).\n",
    "- $(t)$ is the critical value from the t-distribution for a 95% confidence level with $(n - 1)$ degrees of freedom.\n",
    "- $(s)$ is the sample standard deviation (30cc).\n",
    "- $(n)$ is the sample size (9).\n",
    "\n",
    "First, find the critical value $(t)$ for a 95% confidence level with $(n - 1)$ degrees of freedom. Since you have 9 men in the sample, degrees of freedom $(df)$ will be $(n - 1 = 8)$. You can find $(t)$ using a t-table or a calculator:\n",
    "\n",
    "For a 95% confidence level and $(df = 8)$, $(t \\approx 2.306)$.\n",
    "\n",
    "Now, you can calculate the confidence interval:\n",
    "\n",
    "$$CI = 1,100 \\pm 2.306 \\left(\\frac{30}{\\sqrt{9}}\\right)$$\n",
    "\n",
    "Simplify the calculation:\n",
    "\n",
    "$$CI = 1,100 \\pm 2.306 \\left(\\frac{30}{3}\\right)$$\n",
    "\n",
    "$$CI = 1,100 \\pm 2.306 \\cdot 10$$\n",
    "\n",
    "Now, calculate the upper and lower bounds of the confidence interval:\n",
    "\n",
    "* Lower bound: $(1,100 - 23.06 = 1,076.94)cc$\n",
    "* Upper bound: $(1,100 + 23.06 = 1,123.06)cc$\n",
    "\n",
    "So, the 95% Student's t-confidence interval for the mean brain volume in the new population is approximately $(1,076.94 \\text{ cc}, 1,123.06 \\text{ cc})$. This means you can be 95% confident that the true population mean brain volume falls within this interval."
   ]
  },
  {
   "cell_type": "markdown",
   "metadata": {},
   "source": [
    "#### 99.What Chi-square test? "
   ]
  },
  {
   "cell_type": "markdown",
   "metadata": {},
   "source": [
    "The Chi-square test is a statistical hypothesis test used to determine whether there is a significant association between categorical variables. It is a non-parametric test, which means it doesn't make assumptions about the distribution of the data. The Chi-square test comes in different variations, including the Chi-square test of independence and the Chi-square goodness-of-fit test, each serving specific purposes:\n",
    "\n",
    "1. **Chi-square Test of Independence**:\n",
    "   - **Purpose**: This test is used to determine if there is a significant association or relationship between two categorical variables. It assesses whether the observed frequencies of these variables are independent or whether they are related.\n",
    "   - **Example**: You might use this test to examine if there is a relationship between gender (male or female) and the preference for a particular type of beverage (e.g., coffee, tea, or juice).\n",
    "\n",
    "2. **Chi-square Goodness-of-Fit Test**:\n",
    "   - **Purpose**: This test is used to compare the observed frequencies of a categorical variable to the expected frequencies based on a hypothesized distribution or expected proportions. It determines if the observed data fits a specific theoretical distribution.\n",
    "   - **Example**: You might use this test to check if the observed distribution of blood types in a sample matches the expected distribution based on population-level proportions.\n",
    "\n",
    "The Chi-square test involves the calculation of a Chi-square statistic $(\\chi^2)$ based on the observed and expected frequencies of the categorical data. The formula for the Chi-square statistic is:\n",
    "\n",
    "$$\\chi^2 = \\sum \\frac{(O - E)^2}{E}$$\n",
    "\n",
    "Where:\n",
    "- $(\\chi^2$) is the Chi-square statistic.\n",
    "- $(O)$ represents the observed frequency for a category.\n",
    "- $(E)$ represents the expected frequency for that category.\n",
    "\n",
    "After calculating the Chi-square statistic, you compare it to the critical Chi-square value from a Chi-square distribution table to determine whether the observed differences are statistically significant. If the Chi-square statistic is greater than the critical value, you reject the null hypothesis, indicating that there is a significant relationship (for the Chi-square test of independence) or a significant lack of fit (for the Chi-square goodness-of-fit test).\n",
    "\n",
    "In summary, the Chi-square test is a valuable tool for analyzing categorical data and making inferences about the relationships between categorical variables or the goodness of fit of observed data to expected distributions. It is widely used in fields such as social sciences, biology, and market research."
   ]
  },
  {
   "cell_type": "markdown",
   "metadata": {},
   "source": [
    "#### 100. What is the ANOVA test? "
   ]
  },
  {
   "cell_type": "markdown",
   "metadata": {},
   "source": [
    "Here's a table summarizing the ANOVA test:\n",
    "\n",
    "| Aspect               | Description                                                                                   |\n",
    "|----------------------|:-----------------------------------------------------------------------------------------------:|\n",
    "| Full Name            | Analysis of Variance (ANOVA)                                                                  |\n",
    "| Purpose              | ANOVA is a statistical hypothesis test used to determine whether there are statistically significant differences between the means of three or more independent groups or treatments. It assesses group differences by comparing variance between groups to variance within groups. |\n",
    "| Types                | - One-Way ANOVA: Used for one independent variable with three or more levels (groups). - Two-Way ANOVA: Extends to two independent variables, assessing their main effects and interactions. - Multivariate Analysis of Variance (MANOVA): Handles multiple dependent variables and independent variables. |\n",
    "| Null Hypothesis      | $(H_0)$: There are no significant differences between the group means. |\n",
    "| Alternative Hypothesis | $(H_1)$: At least one group mean is significantly different from the others. |\n",
    "| Test Statistic       | The F-statistic, which follows an F-distribution. It quantifies the ratio of between-group variance to within-group variance. |\n",
    "| Significance Level   | Typically, a significance level $(\\alpha)$ is set at 0.05. |\n",
    "| Calculation          | ANOVA calculates the F-statistic and compares it to critical values from the F-distribution or calculates a p-value. |\n",
    "| Decision             | If the p-value is less than the significance level, reject the null hypothesis, indicating significant group differences. Otherwise, fail to reject the null hypothesis. |\n",
    "| Use Cases           | Commonly used in experimental research, social sciences, economics, manufacturing, and other fields to compare the means of multiple groups and assess the impact of factors or treatments. |\n",
    "| Post-hoc Tests       | If ANOVA shows significant differences, post-hoc tests (e.g., Tukey's HSD, Bonferroni) can be used to identify which specific group means differ significantly. |\n",
    "| Extensions           | Repeated Measures ANOVA: Used when the same subjects are used for each treatment. Mixed-Design ANOVA: Combines aspects of one-way and two-way ANOVA, considering both between-group and within-group factors. |\n",
    "\n",
    "ANOVA is a versatile statistical test that helps researchers determine whether differences observed among groups are likely due to real effects or just random variability. It is a powerful tool for analyzing and comparing means across multiple groups and is widely used in scientific research and data analysis."
   ]
  },
  {
   "cell_type": "markdown",
   "metadata": {},
   "source": [
    "#### 101.How to calculate p-value using a manual method? "
   ]
  },
  {
   "cell_type": "markdown",
   "metadata": {},
   "source": [
    "Calculating the p-value manually for a statistical test, such as a t-test or chi-square test, involves comparing your test statistic to the appropriate distribution (e.g., t-distribution or chi-square distribution) to determine the probability of obtaining a test statistic as extreme as, or more extreme than, the one you observed. Here, I'll provide an example of calculating the p-value for a one-sample t-test manually.\n",
    "\n",
    "**Example: One-Sample t-Test**\n",
    "\n",
    "Suppose you have a sample of 10 students, and you want to test if their average exam score is significantly different from a population mean score of 75. Here are the steps to manually calculate the p-value for this one-sample t-test:\n",
    "\n",
    "1. **Collect Data**:\n",
    "   - Sample Size $(n)$: 10\n",
    "   - Sample Mean $(\\bar{x}$): 72\n",
    "   - Population Mean $(\\mu)$: 75\n",
    "   - Sample Standard Deviation $(s)$: 8 (assuming you have this data)\n",
    "\n",
    "2. **Set Up Hypotheses**:\n",
    "   - Null Hypothesis $(H_0)$: The population mean is equal to 75 $(\\mu = 75)$.\n",
    "   - Alternative Hypothesis $(H_1)$: The population mean is not equal to 75 $(\\mu \\neq 75)$.\n",
    "\n",
    "3. **Calculate the t-Statistic**:\n",
    "   - The t-statistic is calculated as:\n",
    "     $$t = \\frac{(\\bar{x} - \\mu)}{(s/\\sqrt{n})}$$\n",
    "     Substituting the values from the example:\n",
    "     $$t = \\frac{(72 - 75)}{(8/\\sqrt{10})} \\approx -1.5$$\n",
    "\n",
    "4. **Determine Degrees of Freedom**:\n",
    "   - For a one-sample t-test, degrees of freedom $(df)$ is (n - 1), so $df = 10 - 1 = 9$.\n",
    "\n",
    "5. **Find the Critical t-Value**:\n",
    "   - Based on your chosen significance level (e.g., 0.05 for a 95% confidence interval) and degrees of freedom, find the critical t-value from a t-table or use a calculator.\n",
    "   - For a two-tailed test with $\\alpha = 0.05$ and $(df = 9)$, the critical t-values are approximately -2.262 and 2.262 (you need both values for the two tails).\n",
    "\n",
    "6. **Calculate the p-Value**:\n",
    "   - For a two-tailed test, calculate the probability of observing a t-statistic as extreme as -1.5 or more extreme in either tail of the t-distribution. You'll use a t-table or calculator to find this probability.\n",
    "   - For this example, you're looking for $P(T \\leq -1.5) + P(T \\geq 1.5)$, where $(T)$ follows a t-distribution with $(df = 9)$.\n",
    "   - Use a t-table or a calculator to find these probabilities. For -1.5 and $(df = 9)$, $P(T \\leq -1.5)$ approx 0.0865. Similarly, $P(T \\geq 1.5) \\approx 0.0865$.\n",
    "   - So, the p-value is approximately $(2 \\times 0.0865 = 0.173$).\n",
    "\n",
    "7. **Make a Decision**:\n",
    "   - Compare the calculated p-value (0.173) to your chosen significance level (e.g., 0.05). If the p-value is less than or equal to the significance level, reject the null hypothesis. Otherwise, fail to reject the null hypothesis.\n",
    "\n",
    "In this example, the p-value is greater than 0.05, so you would fail to reject the null hypothesis. This suggests that there is not enough evidence to conclude that the average exam score of the sample is significantly different from the population mean score of 75 at the 0.05 significance level."
   ]
  },
  {
   "cell_type": "markdown",
   "metadata": {},
   "source": [
    "#### 102.What do we mean by – making a decision based on comparing p-value with significance level?What is the goal of A/B testing?\n",
    "\n",
    " "
   ]
  },
  {
   "cell_type": "markdown",
   "metadata": {},
   "source": [
    "Making a decision based on comparing a p-value with a significance level is a fundamental concept in statistical hypothesis testing. This process is commonly used in scientific research, particularly in fields like medicine, psychology, economics, and more, to determine whether there is enough evidence to support a particular hypothesis or claim.\n",
    "\n",
    "Here's a breakdown of the key terms and the decision-making process involved:\n",
    "\n",
    "1. **Hypothesis**: In hypothesis testing, you start with two hypotheses:\n",
    "   - **Null Hypothesis (H0)**: This is the default hypothesis that there is no significant effect, difference, or relationship in the data. It represents the status quo or the absence of an effect.\n",
    "   - **Alternative Hypothesis (Ha)**: This is the hypothesis you want to test, which typically posits the presence of a specific effect, difference, or relationship in the data.\n",
    "\n",
    "2. **Significance Level (α)**: This is the predetermined threshold that you set before conducting the statistical test. It represents the probability of making a Type I error, which is the error of incorrectly rejecting the null hypothesis when it is true. Common significance levels include 0.05 (5%) and 0.01 (1%).\n",
    "\n",
    "3. **P-value**: The p-value is a statistical measure that quantifies the evidence against the null hypothesis. It represents the probability of obtaining the observed data or more extreme data (in favor of the alternative hypothesis) assuming that the null hypothesis is true. A smaller p-value indicates stronger evidence against the null hypothesis.\n",
    "\n",
    "Here's how the decision-making process works:\n",
    "\n",
    "- If the p-value is less than or equal to the chosen significance level (α), typically denoted as p ≤ α, then you reject the null hypothesis (H0). This suggests that there is enough evidence to support the alternative hypothesis (Ha), indicating a significant effect, difference, or relationship in the data.\n",
    "\n",
    "- If the p-value is greater than the significance level (p > α), you fail to reject the null hypothesis (H0). In this case, there is insufficient evidence to conclude that the null hypothesis is false. It does not necessarily mean that the null hypothesis is true; it simply means you do not have enough evidence to reject it.\n",
    "\n",
    "In summary, when you compare the p-value to the significance level, you are essentially making a decision about whether the observed data provides enough evidence to support a particular hypothesis. If the p-value is small (usually less than the chosen significance level), you reject the null hypothesis in favor of the alternative hypothesis. If the p-value is large, you do not reject the null hypothesis due to insufficient evidence. This approach helps researchers draw conclusions based on the statistical analysis of their data while controlling the risk of making Type I errors."
   ]
  },
  {
   "cell_type": "markdown",
   "metadata": {},
   "source": [
    "Creating a table to summarize the goals of A/B testing:\n",
    "\n",
    "| Goal of A/B Testing                                            | Description                                                                                                      |\n",
    "|:---------------------------------------------------------------:|:------------------------------------------------------------------------------------------------------------------:|\n",
    "| 1. Optimizing Performance                                      | Improve the performance of digital assets or strategies by identifying versions that yield better outcomes.       |\n",
    "| 2. Data-Driven Decision-Making                                | Make informed decisions based on empirical evidence rather than relying on assumptions or intuition.            |\n",
    "| 3. Identifying Effective Changes                               | Determine which specific variations or changes resonate best with the audience and lead to improved results.     |\n",
    "| 4. Continuous Improvement                                      | Iteratively refine and enhance digital assets or strategies by building upon successful A/B test findings.     |\n",
    "| 5. Reducing Risk                                               | Minimize the risk associated with making significant changes by testing them with a subset of users or traffic.  |\n",
    "| 6. Enhancing User Experience                                   | Improve user experience elements such as page load times, navigation, and content presentation.                 |\n",
    "| 7. Maximizing ROI                                              | Optimize return on investment (ROI) by identifying the most effective marketing strategies and assets.          |\n",
    "| 8. Validating Hypotheses                                       | Test hypotheses and validate assumptions, such as the impact of changing button colors or product descriptions. |\n",
    "\n",
    "A/B testing serves these multiple goals in various domains, helping organizations make data-driven decisions, improve user experiences, and maximize the effectiveness of their digital assets and strategies."
   ]
  },
  {
   "cell_type": "markdown",
   "metadata": {},
   "source": [
    "#### 103.What is the difference between a box plot and a histogram "
   ]
  },
  {
   "cell_type": "markdown",
   "metadata": {},
   "source": [
    "Here's a table summarizing the key differences between a box plot and a histogram:\n",
    "\n",
    "| Aspect                   | Box Plot                                       | Histogram                                   |\n",
    "|:--------------------------:|:-----------------------------------------------:|:---------------------------------------------:|\n",
    "| **Visual Representation** | A box plot represents data using a box and whisker plot, which consists of a box (containing the interquartile range) and whiskers (indicating the range of the data). | A histogram represents data as a bar chart, where the x-axis represents the data range, and the y-axis represents the frequency or count of data points in each interval (bin). |\n",
    "| **Data Distribution**    | Provides a summary of the distribution's central tendency (median), spread (interquartile range), and potential outliers. | Shows the shape and frequency of data distribution, making it suitable for exploring the underlying data distribution. |\n",
    "| **Data Type**            | Typically used for comparing distributions of numerical data, especially when comparing multiple groups or variables. | Primarily used for visualizing the distribution of a single numerical variable. |\n",
    "| **Use Cases**            | - Comparing distributions between groups or categories. - Identifying outliers. - Visualizing the spread and skewness of data. | - Visualizing the shape and spread of a single variable's distribution. - Identifying modes (peaks), skewness, and central tendency. |\n",
    "| **Bins/Intervals**       | Not divided into bins or intervals; it represents the data as a whole with summary statistics. | Divides the data into discrete intervals (bins) along the x-axis, with each bar representing the count or frequency within a bin. |\n",
    "| **Data Loss**            | May hide the detailed distribution within each group or category, as it focuses on summary statistics. | Provides a detailed view of the distribution but may not show the overall characteristics as clearly as a box plot. |\n",
    "| **Outliers**             | Clearly indicates potential outliers as individual data points beyond the whiskers. | Outliers may not be as visually apparent, but they can be identified by examining data points that fall outside the bin boundaries. |\n",
    "| **Multimodal Data**      | Effective for identifying multimodal data by showing multiple peaks or clusters. | Can also reveal multiple modes but may require more careful examination. |\n",
    "| **Data Summary**         | Provides a concise summary of the distribution's key statistics: median, quartiles, potential outliers. | Does not provide summary statistics but offers a more detailed view of the distribution's shape. |\n",
    "| **Matplotlib Function**  | Commonly created using libraries like Matplotlib, Seaborn, or ggplot2 (R). | Commonly created using libraries like Matplotlib, Seaborn, or ggplot2 (R). |\n",
    "\n",
    "In summary, both box plots and histograms are valuable tools for visualizing and understanding data distributions, but they serve different purposes. Box plots focus on summarizing central tendency, spread, and outliers, making them useful for comparing distributions. Histograms, on the other hand, provide a detailed view of the data's shape and frequency, making them suitable for exploring the distribution of a single variable. The choice between the two depends on the specific goals of data analysis and visualization."
   ]
  },
  {
   "cell_type": "markdown",
   "metadata": {},
   "source": [
    "#### 104. A jar has 1000 coins, of which 999 are fair and 1 is double headed. Pick a coin at random, and toss it 10 times. Given that you see 10 heads, what is the probability that the next toss of that coin is also a head? "
   ]
  },
  {
   "cell_type": "markdown",
   "metadata": {},
   "source": [
    "This problem can be solved using Bayes' theorem. Let's define some events:\n",
    "\n",
    "* A: The coin selected is the double-headed coin.\n",
    "* B: 10 heads are observed in a row.\n",
    "\n",
    "We want to find the probability that the next toss of the coin is also a head, which can be represented as P(A|B). We can use Bayes' theorem to calculate this:\n",
    "\n",
    "$$P(A|B) = P(B|A) * P(A) / P(B)$$\n",
    "\n",
    "1. P(B|A): This is the probability of getting 10 heads in a row if the coin is double-headed. Since the double-headed coin always gives heads, this probability is 1.\n",
    "\n",
    "2. P(A): This is the probability of selecting the double-headed coin. Since there is only 1 double-headed coin out of 1000, P(A) = 1/1000.\n",
    "\n",
    "3. P(B): This is the probability of getting 10 heads in a row regardless of the type of coin. We can calculate this using the law of total probability:\n",
    "\n",
    "$$P(B) = P(B|A) * P(A) + P(B|not A) * P(not A)$$\n",
    "\n",
    "- P(B|not A): This is the probability of getting 10 heads in a row if the coin is not the double-headed coin, which is (1/2)^10 since there are two possible outcomes (heads or tails) for a fair coin, and the tosses are independent.\n",
    "\n",
    "- P(not A): This is the probability of not selecting the double-headed coin, which is 999/1000.\n",
    "\n",
    "Now, we can calculate P(B):\n",
    "\n",
    "$$P(B) = (1/1) * (1/1000) + (1/2)^10 * (999/1000)$$\n",
    "\n",
    "Now, we can use Bayes' theorem to find P(A|B):\n",
    "\n",
    "$$P(A|B) = (1) * (1/1000) / [(1/1) * (1/1000) + (1/2)^10 * (999/1000)]$$\n",
    "\n",
    "Calculating the values:\n",
    "\n",
    "$$P(A|B) = (1/1000) / [(1/1000) + (1/1024) * (999/1000)]$$\n",
    "\n",
    "Now, let's calculate this probability:\n",
    "\n",
    "P(A|B) ≈ (1/1000) / [(1/1000) + (999/1024)] ≈ (1/1000) / [(1024/1000) + (999/1024)] ≈ (1/1000) / (2.048 + 0.975) ≈ (1/1000) / 3.023 ≈ 0.3303\n",
    "\n",
    "So, the probability that the next toss of that coin is also a head, given that 10 heads have been observed, is approximately 0.3303 or about 33.03%."
   ]
  },
  {
   "cell_type": "markdown",
   "metadata": {},
   "source": [
    "#### 105. What is a confidence interval and how do you interpret it? "
   ]
  },
  {
   "cell_type": "markdown",
   "metadata": {},
   "source": [
    "A confidence interval is a statistical concept used to estimate a range of values within which a population parameter is likely to fall, with a certain level of confidence. It's a way to express the precision and uncertainty of a statistical estimate. Confidence intervals are typically used for estimating population means, proportions, variances, or other parameters.\n",
    "\n",
    "Here's how to interpret a confidence interval in the context of a table:\n",
    "\n",
    "1. **Point Estimate**: In a table with confidence intervals, you'll often see a \"point estimate\" or \"sample estimate\" displayed alongside each confidence interval. This point estimate is typically the result of a statistical analysis of sample data. For example, if you're estimating the average income of a population, the point estimate might be the sample mean income.\n",
    "\n",
    "2. **Confidence Level**: The table will specify the confidence level associated with each confidence interval. Common confidence levels include 90%, 95%, and 99%. This percentage indicates how confident you are that the true population parameter falls within the given interval. For example, a 95% confidence level means that you are 95% confident that the true population parameter falls within the interval.\n",
    "\n",
    "3. **Confidence Interval**: The table will present the actual confidence interval itself, which consists of two values: a lower bound and an upper bound. These bounds represent the range within which the true population parameter is likely to lie.\n",
    "\n",
    "4. **Interpretation**: When interpreting a confidence interval from a table, you can say something like, \"At a [confidence level]% confidence level, the estimated population [parameter] is between [lower bound] and [upper bound].\" For instance, if you have a table displaying a 95% confidence interval for average income as $40,000 to $45,000, you would interpret it as, \"At a 95% confidence level, the estimated population average income is between $40,000 and $45,000.\"\n",
    "\n",
    "5. **Wider vs. Narrower Intervals**: In the context of the table, you can also compare the widths of different confidence intervals. A wider interval suggests more uncertainty and less precision in the estimate, while a narrower interval indicates a more precise estimate. The width of the interval is influenced by factors such as sample size and data variability.\n",
    "\n",
    "In summary, a confidence interval in a table provides a range of values within which we believe the true population parameter is likely to be, based on the sample data and a specified level of confidence. It allows you to assess the precision and reliability of the estimate and is a common tool in statistics for making inferences about populations based on sample data."
   ]
  },
  {
   "cell_type": "markdown",
   "metadata": {},
   "source": [
    "#### 106. How do you stay up-to-date with the new and upcoming concepts in statistics? "
   ]
  },
  {
   "cell_type": "markdown",
   "metadata": {},
   "source": [
    "Staying up-to-date with new and upcoming concepts in statistics, as in any field, is crucial to maintaining a fresh and relevant understanding of the subject. Here are some strategies you can use to stay current in statistics:\n",
    "\n",
    "1. **Academic Courses and Workshops**: Enroll in academic courses, workshops, or online classes in statistics. Many universities and online platforms offer courses that cover the latest developments in the field.\n",
    "\n",
    "2. **Books and Publications**: Read books, research papers, and publications authored by statisticians and researchers in the field. Academic journals, such as the Journal of the American Statistical Association and the Journal of Statistical Software, are excellent sources for cutting-edge research.\n",
    "\n",
    "3. **Online Resources**: Explore online resources such as blogs, forums, and websites dedicated to statistics and data science. Websites like Cross Validated (part of Stack Exchange) and Towards Data Science (on Medium) often feature discussions on new statistical concepts.\n",
    "\n",
    "4. **Professional Organizations**: Join statistical and data science professional organizations like the American Statistical Association (ASA) or the International Biometric Society. These organizations often provide access to conferences, workshops, and publications that cover the latest developments in the field.\n",
    "\n",
    "5. **Webinars and Podcasts**: Attend webinars and listen to podcasts hosted by statisticians and data scientists. These platforms often feature discussions on emerging statistical concepts and their practical applications.\n",
    "\n",
    "6. **Networking**: Engage with professionals in the field by attending conferences, seminars, and meetups. Networking can provide you with valuable insights into current trends and opportunities for collaboration.\n",
    "\n",
    "7. **Online Courses and MOOCs**: Many Massive Open Online Courses (MOOCs) platforms like Coursera, edX, and Udacity offer courses on statistics and data science. These courses are often taught by experts and can help you stay current.\n",
    "\n",
    "8. **Data Science Competitions**: Participate in data science competitions on platforms like Kaggle. These competitions often involve cutting-edge techniques and provide a hands-on way to learn and apply new concepts.\n",
    "\n",
    "9. **Blogs and Social Media**: Follow influential statisticians, data scientists, and organizations on platforms like Twitter and LinkedIn. Many experts share their insights, research findings, and links to relevant articles and resources.\n",
    "\n",
    "10. **Peer Learning**: Collaborate with colleagues or peers in the field. Discussing and solving real-world problems together can help you learn and apply new statistical concepts.\n",
    "\n",
    "11. **Online Courses and Tutorials**: Explore online courses and tutorials on platforms like YouTube and GitHub. Many experts and educators create video tutorials and code repositories that explain and demonstrate new statistical methods.\n",
    "\n",
    "12. **Stay Curious**: Cultivate a curious mindset and a willingness to learn. Be open to exploring new statistical techniques and concepts, even if they initially seem complex.\n",
    "\n",
    "Remember that statistics is a rapidly evolving field, and staying current requires continuous learning and exploration. By using a combination of these strategies, you can stay informed about the latest developments and trends in statistics and apply them effectively in your work or research."
   ]
  },
  {
   "cell_type": "markdown",
   "metadata": {},
   "source": [
    "#### 107. What is correlation? "
   ]
  },
  {
   "cell_type": "markdown",
   "metadata": {},
   "source": [
    "Correlation is a statistical concept that measures the degree to which two or more variables are related or associated with each other. It quantifies the strength and direction of the linear relationship between variables. In simpler terms, it helps us understand whether and how changes in one variable are associated with changes in another.\n",
    "\n",
    "Key points about correlation:\n",
    "\n",
    "1. **Strength of Relationship**: Correlation coefficients indicate the strength of the relationship between variables. The correlation coefficient is typically denoted by the symbol \"r\" and ranges from -1 to 1.\n",
    "   - An r value of 1 indicates a perfect positive correlation, meaning that as one variable increases, the other variable also increases linearly.\n",
    "   - An r value of -1 indicates a perfect negative correlation, meaning that as one variable increases, the other variable decreases linearly.\n",
    "   - An r value of 0 indicates no linear correlation, implying that there is no systematic linear relationship between the variables.\n",
    "\n",
    "2. **Direction of Relationship**: The sign of the correlation coefficient (+ or -) indicates the direction of the relationship:\n",
    "   - Positive correlation: When one variable increases, the other tends to increase as well.\n",
    "   - Negative correlation: When one variable increases, the other tends to decrease.\n",
    "\n",
    "3. **Scatterplots**: Correlation is often visualized using scatterplots, where each data point represents a pair of values from the two variables. The pattern of points in the scatterplot can help you assess the nature of the relationship.\n",
    "\n",
    "4. **Correlation Coefficients**: There are different methods to calculate correlation coefficients, with the most common being the Pearson correlation coefficient for continuous data. Other methods like Spearman's rank correlation and Kendall's tau are used for non-linear relationships or ordinal data.\n",
    "\n",
    "5. **Limitations**: Correlation measures the strength of linear relationships but does not imply causation. Even if two variables are correlated, it does not necessarily mean that one causes the other. Additionally, correlation may not capture complex non-linear relationships.\n",
    "\n",
    "Correlation is widely used in fields such as statistics, economics, social sciences, finance, and data analysis to explore and quantify relationships between variables. It helps researchers, analysts, and data scientists understand how changes in one variable may be associated with changes in another and can be a valuable tool for making predictions and drawing insights from data."
   ]
  },
  {
   "cell_type": "markdown",
   "metadata": {},
   "source": [
    "#### 108. What types of variables are used for Pearson’s correlation coefficient? "
   ]
  },
  {
   "cell_type": "markdown",
   "metadata": {},
   "source": [
    "Pearson's correlation coefficient, denoted as \"r,\" is used to measure the linear relationship between two continuous variables. Here's a table summarizing the types of variables that are appropriate for Pearson's correlation:\n",
    "\n",
    "| Type of Variable          | Description                                            |\n",
    "|:---------------------------:|:--------------------------------------------------------:|\n",
    "| Continuous Variables     | Variables that can take any real number value within a range and can be measured with a high degree of precision. Examples include age, height, weight, and income.                             |\n",
    "| Interval Data            | A type of continuous data where the intervals between values are equal and meaningful, but there is no true zero point. Examples include temperature measured in degrees Celsius or Fahrenheit. |\n",
    "| Ratio Data               | A type of continuous data with a true zero point, where a value of zero represents the absence of the measured attribute. Examples include height measured in centimeters, income in dollars, and weight in kilograms. |\n",
    "| Bivariate Data          | Pearson's correlation specifically examines the relationship between two variables, assessing how changes in one variable correspond to changes in another. It's not designed for relationships involving more than two variables. |\n",
    "| Linear Relationships   | Pearson's correlation is most appropriate when the relationship between the two variables is linear. This means that when you plot the data on a scatterplot, the points roughly form a straight line. If the relationship is nonlinear, other correlation coefficients may be more suitable. |\n",
    "\n",
    "Remember that Pearson's correlation measures the strength and direction of linear relationships between continuous variables. If you have categorical variables, ordinal data, or non-linear relationships, you may need to use different correlation measures or statistical techniques to assess the associations between those variables."
   ]
  },
  {
   "cell_type": "markdown",
   "metadata": {},
   "source": [
    "#### 109. In an observation, there is a high correlation between the time a person sleeps and the amount of productive work he does. What can be inferred from this? "
   ]
  },
  {
   "cell_type": "markdown",
   "metadata": {},
   "source": [
    "A high correlation between the time a person sleeps and the amount of productive work they do suggests a strong statistical relationship between these two variables. In particular, it indicates that there is a significant association between the amount of sleep a person gets and their level of productivity. Here are some potential inferences that can be made from this high correlation:\n",
    "\n",
    "1. **Positive Relationship**: A high positive correlation suggests that as the amount of sleep a person gets increases, their productivity tends to increase as well. In other words, individuals who sleep more hours on average tend to be more productive.\n",
    "\n",
    "2. **Predictive Value**: The correlation indicates that sleep can be a predictor of productivity. If someone consistently gets a certain amount of sleep, you can use the correlation to make a reasonable estimate of their likely productivity level.\n",
    "\n",
    "3. **Health and Well-being**: Adequate sleep is known to be important for overall health and well-being. The correlation suggests that individuals who prioritize their sleep and get sufficient rest are more likely to be productive, which aligns with the idea that good health contributes to better performance.\n",
    "\n",
    "4. **Potential for Intervention**: If there is a strong correlation, it may imply that improving sleep habits could lead to increased productivity. This information can be valuable for individuals and organizations looking to enhance performance.\n",
    "\n",
    "5. **Cautions**: While a high correlation suggests a relationship, it does not establish causation. It's important to recognize that other factors may be at play. For example, individuals who prioritize their work and are highly motivated may be more likely to both get adequate sleep and be productive.\n",
    "\n",
    "6. **Individual Variation**: While there is a strong overall correlation, there will still be individual variation. Some people may be naturally more productive with less sleep, while others may need more rest to perform at their best.\n",
    "\n",
    "In practice, it's essential to interpret a high correlation cautiously and consider additional factors and research to gain a more comprehensive understanding of the relationship. Additionally, the specific context and population being studied can influence the interpretation and implications of the correlation."
   ]
  },
  {
   "cell_type": "markdown",
   "metadata": {},
   "source": [
    "#### 110. What is the meaning of covariance? "
   ]
  },
  {
   "cell_type": "markdown",
   "metadata": {},
   "source": [
    "Covariance is a statistical measure that quantifies the degree to which two random variables change together. When presented in a table, it typically involves calculating the covariance between two variables. Here's a table summarizing the meaning of covariance:\n",
    "\n",
    "| Covariance   | Interpretation                           |\n",
    "|:--------------:|:-----------------------------------------:|\n",
    "| Positive     | When the covariance is positive, it indicates that as one variable tends to have values above its mean, the other variable also tends to have values above its mean. They move in the same direction. However, the strength of this relationship is not quantified by covariance alone, and it can vary. |\n",
    "| Negative     | A negative covariance indicates that as one variable tends to have values above its mean, the other variable tends to have values below its mean. They move in opposite directions. |\n",
    "| Zero         | When the covariance is close to zero, it suggests that there is little to no linear relationship between the variables. However, zero covariance does not necessarily mean there is no relationship; it only means there is no linear relationship. |\n",
    "| Units        | The units of covariance are the product of the units of the two variables. This can make it challenging to interpret the magnitude of covariance, especially if the variables are measured in different units. |\n",
    "| Independence | It's important to distinguish between independence and covariance. Two variables can be independent (not related at all) and still have a covariance of zero. However, if the covariance is not zero, it indicates some degree of association between the variables. |\n",
    "| Covariance Matrix | In multivariate statistics, a covariance matrix is used to represent the covariances between multiple variables. The diagonal elements of this matrix represent the variances of the individual variables. |\n",
    "\n",
    "In summary, covariance is a statistical measure that tells us whether and how two variables change together. Positive covariance indicates they move in the same direction, negative covariance indicates they move in opposite directions, and zero covariance suggests little to no linear relationship. Covariance can be useful for understanding associations between variables, but it has limitations, such as sensitivity to units of measurement, and it doesn't provide a standardized measure of the strength of the relationship."
   ]
  },
  {
   "cell_type": "markdown",
   "metadata": {},
   "source": [
    "#### 111. What does autocorrelation mean? "
   ]
  },
  {
   "cell_type": "markdown",
   "metadata": {},
   "source": [
    "Autocorrelation, when presented in a table, typically involves calculating and displaying correlation coefficients between a time series variable and its own past values at different lags (time intervals). Here's a table summarizing the meaning of autocorrelation:\n",
    "\n",
    "| Term                | Definition                                 |\n",
    "|:---------------------:|:--------------------------------------------:|\n",
    "| Autocorrelation     | Autocorrelation measures the correlation between a time series variable's current value and its past values at different lags. It assesses the degree of similarity or dependence between observations within the same time series. |\n",
    "| Lags                | Lags, denoted as \"k,\" represent the time intervals used to calculate autocorrelation. A lag of 1 compares the current observation with the previous one, a lag of 2 compares it with the one two time periods ago, and so on. |\n",
    "| Positive Autocorrelation | Positive autocorrelation occurs when a current observation is positively correlated with past observations. It suggests that if the series has been increasing, it is likely to continue increasing. |\n",
    "| Negative Autocorrelation | Negative autocorrelation occurs when a current observation is negatively correlated with past observations. This implies that if the series has been increasing, it is likely to decrease, and vice versa. |\n",
    "| No Autocorrelation | When autocorrelation is near zero or statistically insignificant at all lags, it indicates that the current observation is independent of its past values, and there is no significant serial correlation in the data. |\n",
    "| Time Series Analysis | Autocorrelation is a crucial concept in time series analysis and forecasting. It helps identify patterns, seasonality, and trends in time series data and informs the selection of time series models like ARIMA (AutoRegressive Integrated Moving Average). |\n",
    "| Statistical Tests   | Various statistical tests, such as the Durbin-Watson test and Ljung-Box test, are used to formally assess the presence and significance of autocorrelation. These tests determine whether observed autocorrelation is statistically different from what would be expected under the assumption of no autocorrelation. |\n",
    "\n",
    "In summary, autocorrelation measures the correlation between a time series variable and its own past values at various lags. It is a fundamental concept in time series analysis, helping analysts understand temporal dependencies and patterns within the data."
   ]
  },
  {
   "cell_type": "markdown",
   "metadata": {},
   "source": [
    "#### 112. What types of variables are used for Pearson’s correlation coefficient? "
   ]
  },
  {
   "cell_type": "markdown",
   "metadata": {},
   "source": [
    "Certainly! Here's a table summarizing the types of variables that are suitable for Pearson's correlation coefficient, along with examples for each type:\n",
    "\n",
    "| Variable Types          | Description                                | Examples                                      |\n",
    "|:-------------------------:|:--------------------------------------------:|:-----------------------------------------------:|\n",
    "| Continuous Variables    | Numeric variables that can take any real number value within a range. They are measured with precision. | Age, Height, Weight, Temperature, Income     |\n",
    "| Interval Data          | Continuous data with equal and meaningful intervals between values but no true zero point. | Temperature in degrees Celsius or Fahrenheit |\n",
    "| Ratio Data             | Continuous data with a true zero point, where zero represents the absence of the measured attribute. | Height in centimeters, Income in dollars, Weight in kilograms |\n",
    "| Bivariate Data         | Pearson's correlation assesses the linear relationship between two variables. | Exam scores and study time, Age and savings   |\n",
    "| Linear Relationships   | Pearson's correlation is appropriate when the relationship between variables is linear, forming a straight-line pattern on a scatterplot. | Example 1: Height and shoe size; Example 2: Temperature and ice cream sales |\n",
    "\n",
    "Example 1 (Continuous Variables):\n",
    "- Variables: Height (in inches) and Weight (in pounds)\n",
    "- Explanation: You want to examine whether there's a linear relationship between a person's height and weight. Both height and weight are continuous variables.\n",
    "\n",
    "Example 2 (Interval Data):\n",
    "- Variables: Temperature (in degrees Celsius) and Ice Cream Sales (in units)\n",
    "- Explanation: You want to determine if there is a linear relationship between temperature and ice cream sales. Temperature is interval data because it has equal intervals, but it lacks a true zero point.\n",
    "\n",
    "Example 3 (Ratio Data):\n",
    "- Variables: Income (in dollars) and Savings (in dollars)\n",
    "- Explanation: You want to assess whether there's a linear relationship between a person's income and their savings. Both income and savings are ratio data because they have a true zero point.\n",
    "\n",
    "Example 4 (Linear Relationships):\n",
    "- Variables: Age (in years) and Years of Education\n",
    "- Explanation: You want to explore if there's a linear relationship between a person's age and the number of years they have spent in education. The relationship is expected to be linear, as more years of education generally correspond to an increase in age.\n",
    "\n",
    "In each example, Pearson's correlation coefficient (r) can be calculated to measure the strength and direction of the linear relationship between the two variables."
   ]
  },
  {
   "cell_type": "markdown",
   "metadata": {},
   "source": [
    "#### 113.How will you determine the test for the continuous data? "
   ]
  },
  {
   "cell_type": "markdown",
   "metadata": {},
   "source": [
    "Determining the appropriate statistical test for continuous data depends on various factors, including your research question, the nature of your data, and your analysis goals. Here's a table summarizing the steps and considerations to help you choose the right test for continuous data:\n",
    "\n",
    "| Steps and Considerations | Description |\n",
    "|:--------------------------:|:-------------:|\n",
    "| 1. Define Your Research Question | Clearly state your research question and objectives. Understanding what you want to investigate or test is the starting point for selecting a statistical test. |\n",
    "| 2. Characterize Your Data | Examine the characteristics of your continuous data, including whether it's univariate or multivariate, whether you're comparing groups or conditions, whether you have paired data, and whether the data is normally distributed. |\n",
    "| 3. Determine the Analysis Goals | Identify your specific analysis goals, such as comparing means, medians, testing associations, or conducting regression analysis. |\n",
    "| 4. Select the Appropriate Test | Based on your research question, data characteristics, and analysis goals, choose the most suitable statistical test from the following options: |\n",
    "|   - Comparing Means (Two Groups) | - Student's t-test: For comparing means of two independent groups. - Paired t-test: For comparing means of paired or related samples (e.g., before-and-after measurements). |\n",
    "|   - Comparing Means (More Than Two Groups) | - Analysis of Variance (ANOVA): For comparing means of three or more independent groups. |\n",
    "|   - Comparing Medians or Non-Normal Data | - Mann-Whitney U test: For comparing two independent groups when data is not normally distributed. - Wilcoxon signed-rank test: For comparing paired samples when data is not normally distributed. - Kruskal-Wallis test: For comparing three or more independent groups when data is not normally distributed. |\n",
    "|   - Testing Associations or Correlations | - Pearson's correlation coefficient: For examining linear relationships between two continuous variables when data is approximately normally distributed. - Spearman's rank correlation: For examining non-linear relationships or when data is not normally distributed. |\n",
    "|   - Regression Analysis | - Linear regression: For modeling a linear relationship between variables. - Multiple regression: For modeling relationships when you have multiple predictor variables. |\n",
    "| 5. Check Assumptions | Ensure that the assumptions associated with your chosen test (e.g., homogeneity of variances, normality, independence) are met. |\n",
    "| 6. Perform the Test | Conduct the statistical test using your data and interpret the results within the context of your research question. |\n",
    "| 7. Report and Communicate Findings | Clearly communicate the results of your analysis, including effect sizes and p-values, and draw conclusions based on your findings. |\n",
    "\n",
    "Choosing the right statistical test for your continuous data is crucial for obtaining valid and meaningful results. Carefully consider the nature of your data and research objectives when making your selection. Consulting with a statistician or data analyst can also be valuable, especially for complex analyses or when you have uncertainties about which test to use."
   ]
  },
  {
   "cell_type": "markdown",
   "metadata": {},
   "source": [
    "#### 114. What can be the reason for non normality of the data? "
   ]
  },
  {
   "cell_type": "markdown",
   "metadata": {},
   "source": [
    "Non-normality in data can occur for various reasons, and it's important to understand these reasons to appropriately analyze and interpret the data. Here's an example of each common reason for non-normality:\n",
    "\n",
    "1. **Skewness**:\n",
    "\n",
    "   Example: Income Data\n",
    "   - Explanation: Income data often exhibits positive skewness because most people earn a moderate income, but a few individuals or households earn exceptionally high incomes. The tail of the distribution is skewed to the right.\n",
    "   - Visual: When you plot income data, you may observe a long right tail, indicating positive skewness.\n",
    "\n",
    "2. **Kurtosis**:\n",
    "\n",
    "   Example: Investment Returns\n",
    "   - Explanation: Investment returns can have high kurtosis due to heavy tails. Sudden market fluctuations can lead to extreme positive or negative returns, resulting in a leptokurtic (high kurtosis) distribution.\n",
    "   - Visual: A histogram of investment returns may show a distribution with fat tails.\n",
    "\n",
    "3. **Outliers**:\n",
    "\n",
    "   Example: Exam Scores\n",
    "   - Explanation: In a dataset of exam scores, an outlier caused by a data entry error or exceptional student performance can distort the distribution and make it appear non-normal.\n",
    "   - Visual: A single extremely high or low score can stand out in the data distribution.\n",
    "\n",
    "4. **Sample Size**:\n",
    "\n",
    "   Example: Survey Responses\n",
    "   - Explanation: In a small survey with a limited number of respondents, random variability can result in a non-normal distribution, even if the population distribution is normal.\n",
    "   - Visual: The histogram of survey responses may exhibit irregularities due to the small sample size.\n",
    "\n",
    "5. **Data Transformation**:\n",
    "\n",
    "   Example: Reaction Times\n",
    "   - Explanation: Reaction time data often follows an exponential distribution. Applying a logarithmic transformation to this data can make it more normally distributed.\n",
    "   - Visual: After transformation, the histogram of reaction times may resemble a normal distribution.\n",
    "\n",
    "6. **Mixed Populations**:\n",
    "\n",
    "   Example: Customer Purchase Amounts\n",
    "   - Explanation: If you combine purchase amounts from two customer segments (e.g., retail and wholesale), each with its own distribution, the resulting dataset may show bimodal or multimodal characteristics.\n",
    "   - Visual: A histogram may reveal multiple peaks representing the different segments.\n",
    "\n",
    "7. **Biased Sampling**:\n",
    "\n",
    "   Example: Online Reviews\n",
    "   - Explanation: If you collect reviews only from highly satisfied customers (positive bias) or from dissatisfied customers (negative bias), the distribution of ratings may not be normal.\n",
    "   - Visual: Ratings may cluster at one extreme end (positive bias) or another (negative bias).\n",
    "\n",
    "8. **Categorical Data**:\n",
    "\n",
    "   Example: Gender Distribution\n",
    "   - Explanation: Gender, a categorical variable, cannot follow a normal distribution. When analyzing the distribution of genders, you will have discrete categories (e.g., male, female).\n",
    "   - Visual: A bar chart or pie chart can display the distribution of genders.\n",
    "\n",
    "9. **Skewed Data Sources**:\n",
    "\n",
    "   Example: Hospital Stay Lengths\n",
    "   - Explanation: Hospital stay lengths are often right-skewed because most patients have relatively short stays, while a few patients may have exceptionally long stays due to severe medical conditions.\n",
    "   - Visual: The distribution of hospital stay lengths may have a long right tail.\n",
    "\n",
    "10. **Measurement Errors**:\n",
    "\n",
    "    Example: Temperature Readings\n",
    "    - Explanation: Errors in temperature readings can lead to non-normality in the data distribution, especially if there are systematic measurement errors.\n",
    "    - Visual: Data points may deviate from a normal distribution due to measurement inaccuracies.\n",
    "\n",
    "11. **Underlying Process**:\n",
    "\n",
    "    Example: Random Coin Flips\n",
    "    - Explanation: The outcome of random coin flips, which follows a binomial distribution, is inherently non-normal. It can take on only two discrete values (heads or tails).\n",
    "    - Visual: A histogram of the results will show discrete bars at the two possible outcomes.\n",
    "\n",
    "Understanding the specific reason for non-normality in your data is essential for selecting appropriate statistical methods and drawing valid conclusions from your analysis."
   ]
  },
  {
   "cell_type": "markdown",
   "metadata": {},
   "source": [
    "#### 115. why is there no such thing like 3 samples t- test?? why t-test failed with 3 samples"
   ]
  },
  {
   "cell_type": "markdown",
   "metadata": {},
   "source": [
    "There is actually a statistical test for comparing the means of three or more independent samples, and it's called the Analysis of Variance (ANOVA) test. ANOVA is an extension of the t-test, which is used for comparing the means of two independent samples. ANOVA allows you to assess whether there are statistically significant differences among the means of three or more groups.\n",
    "\n",
    "The reason why you don't typically hear about a \"three-sample t-test\" is because it's not the appropriate statistical test for this scenario. Here's why:\n",
    "\n",
    "1. **Number of Groups**: A t-test is specifically designed for comparing the means of two groups (two-sample t-test). It assesses whether there is a significant difference between the means of these two groups. When you have three or more groups to compare, using multiple t-tests between each pair of groups would increase the likelihood of Type I errors (false positives). ANOVA is designed to address this by examining all groups simultaneously.\n",
    "\n",
    "2. **Familywise Error Rate**: When conducting multiple t-tests, the probability of making a Type I error (incorrectly concluding there is a significant difference) accumulates with each test. This problem is known as the familywise error rate. ANOVA uses a single test to control this error rate effectively.\n",
    "\n",
    "3. **Efficiency**: ANOVA is more efficient than conducting multiple t-tests because it uses the variability within and between groups to make a more robust assessment of group differences.\n",
    "\n",
    "In summary, the t-test is appropriate for comparing two independent groups, while ANOVA is the appropriate statistical test when you have three or more independent groups to compare. ANOVA provides a more comprehensive analysis and is better suited to control for the familywise error rate when dealing with multiple group comparisons."
   ]
  }
 ],
 "metadata": {
  "kernelspec": {
   "display_name": "Python 3",
   "language": "python",
   "name": "python3"
  },
  "language_info": {
   "codemirror_mode": {
    "name": "ipython",
    "version": 3
   },
   "file_extension": ".py",
   "mimetype": "text/x-python",
   "name": "python",
   "nbconvert_exporter": "python",
   "pygments_lexer": "ipython3",
   "version": "3.8.5"
  }
 },
 "nbformat": 4,
 "nbformat_minor": 4
}
